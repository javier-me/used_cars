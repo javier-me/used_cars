{
 "cells": [
  {
   "cell_type": "markdown",
   "id": "27c15ff8",
   "metadata": {},
   "source": [
    "# Price Prediction of Used Cars"
   ]
  },
  {
   "cell_type": "code",
   "execution_count": 231,
   "id": "405ab3f1",
   "metadata": {},
   "outputs": [],
   "source": [
    "import os\n",
    "import re\n",
    "import numpy as np\n",
    "import pandas as pd\n",
    "import matplotlib.pyplot as plt\n",
    "%matplotlib inline\n",
    "from math import isnan\n",
    "import sklearn as sk\n",
    "from sklearn.preprocessing import OneHotEncoder\n",
    "from sklearn.model_selection import train_test_split\n",
    "from sklearn.linear_model import LinearRegression"
   ]
  },
  {
   "cell_type": "markdown",
   "id": "634b894f",
   "metadata": {},
   "source": [
    "### Data Exploration"
   ]
  },
  {
   "cell_type": "code",
   "execution_count": 232,
   "id": "2b94bd2a",
   "metadata": {},
   "outputs": [],
   "source": [
    "df = pd.read_csv('USA_cars_datasets.csv', index_col=0)"
   ]
  },
  {
   "cell_type": "code",
   "execution_count": 233,
   "id": "50336c72",
   "metadata": {},
   "outputs": [
    {
     "name": "stdout",
     "output_type": "stream",
     "text": [
      "shape: (2499, 12)\n"
     ]
    },
    {
     "data": {
      "text/html": [
       "<div>\n",
       "<style scoped>\n",
       "    .dataframe tbody tr th:only-of-type {\n",
       "        vertical-align: middle;\n",
       "    }\n",
       "\n",
       "    .dataframe tbody tr th {\n",
       "        vertical-align: top;\n",
       "    }\n",
       "\n",
       "    .dataframe thead th {\n",
       "        text-align: right;\n",
       "    }\n",
       "</style>\n",
       "<table border=\"1\" class=\"dataframe\">\n",
       "  <thead>\n",
       "    <tr style=\"text-align: right;\">\n",
       "      <th></th>\n",
       "      <th>price</th>\n",
       "      <th>brand</th>\n",
       "      <th>model</th>\n",
       "      <th>year</th>\n",
       "      <th>title_status</th>\n",
       "      <th>mileage</th>\n",
       "      <th>color</th>\n",
       "      <th>vin</th>\n",
       "      <th>lot</th>\n",
       "      <th>state</th>\n",
       "      <th>country</th>\n",
       "      <th>condition</th>\n",
       "    </tr>\n",
       "  </thead>\n",
       "  <tbody>\n",
       "    <tr>\n",
       "      <th>0</th>\n",
       "      <td>6300</td>\n",
       "      <td>toyota</td>\n",
       "      <td>cruiser</td>\n",
       "      <td>2008</td>\n",
       "      <td>clean vehicle</td>\n",
       "      <td>274117.0</td>\n",
       "      <td>black</td>\n",
       "      <td>jtezu11f88k007763</td>\n",
       "      <td>159348797</td>\n",
       "      <td>new jersey</td>\n",
       "      <td>usa</td>\n",
       "      <td>10 days left</td>\n",
       "    </tr>\n",
       "    <tr>\n",
       "      <th>1</th>\n",
       "      <td>2899</td>\n",
       "      <td>ford</td>\n",
       "      <td>se</td>\n",
       "      <td>2011</td>\n",
       "      <td>clean vehicle</td>\n",
       "      <td>190552.0</td>\n",
       "      <td>silver</td>\n",
       "      <td>2fmdk3gc4bbb02217</td>\n",
       "      <td>166951262</td>\n",
       "      <td>tennessee</td>\n",
       "      <td>usa</td>\n",
       "      <td>6 days left</td>\n",
       "    </tr>\n",
       "    <tr>\n",
       "      <th>2</th>\n",
       "      <td>5350</td>\n",
       "      <td>dodge</td>\n",
       "      <td>mpv</td>\n",
       "      <td>2018</td>\n",
       "      <td>clean vehicle</td>\n",
       "      <td>39590.0</td>\n",
       "      <td>silver</td>\n",
       "      <td>3c4pdcgg5jt346413</td>\n",
       "      <td>167655728</td>\n",
       "      <td>georgia</td>\n",
       "      <td>usa</td>\n",
       "      <td>2 days left</td>\n",
       "    </tr>\n",
       "    <tr>\n",
       "      <th>3</th>\n",
       "      <td>25000</td>\n",
       "      <td>ford</td>\n",
       "      <td>door</td>\n",
       "      <td>2014</td>\n",
       "      <td>clean vehicle</td>\n",
       "      <td>64146.0</td>\n",
       "      <td>blue</td>\n",
       "      <td>1ftfw1et4efc23745</td>\n",
       "      <td>167753855</td>\n",
       "      <td>virginia</td>\n",
       "      <td>usa</td>\n",
       "      <td>22 hours left</td>\n",
       "    </tr>\n",
       "    <tr>\n",
       "      <th>4</th>\n",
       "      <td>27700</td>\n",
       "      <td>chevrolet</td>\n",
       "      <td>1500</td>\n",
       "      <td>2018</td>\n",
       "      <td>clean vehicle</td>\n",
       "      <td>6654.0</td>\n",
       "      <td>red</td>\n",
       "      <td>3gcpcrec2jg473991</td>\n",
       "      <td>167763266</td>\n",
       "      <td>florida</td>\n",
       "      <td>usa</td>\n",
       "      <td>22 hours left</td>\n",
       "    </tr>\n",
       "  </tbody>\n",
       "</table>\n",
       "</div>"
      ],
      "text/plain": [
       "   price      brand    model  year   title_status   mileage   color  \\\n",
       "0   6300     toyota  cruiser  2008  clean vehicle  274117.0   black   \n",
       "1   2899       ford       se  2011  clean vehicle  190552.0  silver   \n",
       "2   5350      dodge      mpv  2018  clean vehicle   39590.0  silver   \n",
       "3  25000       ford     door  2014  clean vehicle   64146.0    blue   \n",
       "4  27700  chevrolet     1500  2018  clean vehicle    6654.0     red   \n",
       "\n",
       "                   vin        lot       state country      condition  \n",
       "0    jtezu11f88k007763  159348797  new jersey     usa   10 days left  \n",
       "1    2fmdk3gc4bbb02217  166951262   tennessee     usa    6 days left  \n",
       "2    3c4pdcgg5jt346413  167655728     georgia     usa    2 days left  \n",
       "3    1ftfw1et4efc23745  167753855    virginia     usa  22 hours left  \n",
       "4    3gcpcrec2jg473991  167763266     florida     usa  22 hours left  "
      ]
     },
     "execution_count": 233,
     "metadata": {},
     "output_type": "execute_result"
    }
   ],
   "source": [
    "print(f'shape: {df.shape}')\n",
    "df.head()"
   ]
  },
  {
   "cell_type": "code",
   "execution_count": 234,
   "id": "e5e1c6d6",
   "metadata": {},
   "outputs": [
    {
     "data": {
      "text/plain": [
       "price           0\n",
       "brand           0\n",
       "model           0\n",
       "year            0\n",
       "title_status    0\n",
       "mileage         0\n",
       "color           0\n",
       "vin             0\n",
       "lot             0\n",
       "state           0\n",
       "country         0\n",
       "condition       0\n",
       "dtype: int64"
      ]
     },
     "execution_count": 234,
     "metadata": {},
     "output_type": "execute_result"
    }
   ],
   "source": [
    "df.isnull().sum()"
   ]
  },
  {
   "cell_type": "code",
   "execution_count": 235,
   "id": "7ed55bfa",
   "metadata": {},
   "outputs": [
    {
     "data": {
      "text/html": [
       "<div>\n",
       "<style scoped>\n",
       "    .dataframe tbody tr th:only-of-type {\n",
       "        vertical-align: middle;\n",
       "    }\n",
       "\n",
       "    .dataframe tbody tr th {\n",
       "        vertical-align: top;\n",
       "    }\n",
       "\n",
       "    .dataframe thead th {\n",
       "        text-align: right;\n",
       "    }\n",
       "</style>\n",
       "<table border=\"1\" class=\"dataframe\">\n",
       "  <thead>\n",
       "    <tr style=\"text-align: right;\">\n",
       "      <th></th>\n",
       "      <th>price</th>\n",
       "      <th>year</th>\n",
       "      <th>mileage</th>\n",
       "      <th>lot</th>\n",
       "    </tr>\n",
       "  </thead>\n",
       "  <tbody>\n",
       "    <tr>\n",
       "      <th>count</th>\n",
       "      <td>2499.000000</td>\n",
       "      <td>2499.000000</td>\n",
       "      <td>2.499000e+03</td>\n",
       "      <td>2.499000e+03</td>\n",
       "    </tr>\n",
       "    <tr>\n",
       "      <th>mean</th>\n",
       "      <td>18767.671469</td>\n",
       "      <td>2016.714286</td>\n",
       "      <td>5.229869e+04</td>\n",
       "      <td>1.676914e+08</td>\n",
       "    </tr>\n",
       "    <tr>\n",
       "      <th>std</th>\n",
       "      <td>12116.094936</td>\n",
       "      <td>3.442656</td>\n",
       "      <td>5.970552e+04</td>\n",
       "      <td>2.038772e+05</td>\n",
       "    </tr>\n",
       "    <tr>\n",
       "      <th>min</th>\n",
       "      <td>0.000000</td>\n",
       "      <td>1973.000000</td>\n",
       "      <td>0.000000e+00</td>\n",
       "      <td>1.593488e+08</td>\n",
       "    </tr>\n",
       "    <tr>\n",
       "      <th>25%</th>\n",
       "      <td>10200.000000</td>\n",
       "      <td>2016.000000</td>\n",
       "      <td>2.146650e+04</td>\n",
       "      <td>1.676253e+08</td>\n",
       "    </tr>\n",
       "    <tr>\n",
       "      <th>50%</th>\n",
       "      <td>16900.000000</td>\n",
       "      <td>2018.000000</td>\n",
       "      <td>3.536500e+04</td>\n",
       "      <td>1.677451e+08</td>\n",
       "    </tr>\n",
       "    <tr>\n",
       "      <th>75%</th>\n",
       "      <td>25555.500000</td>\n",
       "      <td>2019.000000</td>\n",
       "      <td>6.347250e+04</td>\n",
       "      <td>1.677798e+08</td>\n",
       "    </tr>\n",
       "    <tr>\n",
       "      <th>max</th>\n",
       "      <td>84900.000000</td>\n",
       "      <td>2020.000000</td>\n",
       "      <td>1.017936e+06</td>\n",
       "      <td>1.678055e+08</td>\n",
       "    </tr>\n",
       "  </tbody>\n",
       "</table>\n",
       "</div>"
      ],
      "text/plain": [
       "              price         year       mileage           lot\n",
       "count   2499.000000  2499.000000  2.499000e+03  2.499000e+03\n",
       "mean   18767.671469  2016.714286  5.229869e+04  1.676914e+08\n",
       "std    12116.094936     3.442656  5.970552e+04  2.038772e+05\n",
       "min        0.000000  1973.000000  0.000000e+00  1.593488e+08\n",
       "25%    10200.000000  2016.000000  2.146650e+04  1.676253e+08\n",
       "50%    16900.000000  2018.000000  3.536500e+04  1.677451e+08\n",
       "75%    25555.500000  2019.000000  6.347250e+04  1.677798e+08\n",
       "max    84900.000000  2020.000000  1.017936e+06  1.678055e+08"
      ]
     },
     "execution_count": 235,
     "metadata": {},
     "output_type": "execute_result"
    }
   ],
   "source": [
    "df.describe()"
   ]
  },
  {
   "cell_type": "markdown",
   "id": "aa6e42eb",
   "metadata": {},
   "source": [
    "* The numeric variables are price, mileage and year. Lot doesn't tell as a lot and is not really numeric, as it's a rather random number set by the car producing company.\n",
    "* There are some entries with price 0. We'll investigate that and the lower end and get rid of them if they are not useful"
   ]
  },
  {
   "cell_type": "code",
   "execution_count": 236,
   "id": "a997c760",
   "metadata": {},
   "outputs": [
    {
     "name": "stdout",
     "output_type": "stream",
     "text": [
      "(43, 12) observations with price 0\n",
      "14 brands: ['dodge' 'ford' 'mazda' 'chevrolet' 'honda' 'gmc' 'heartland' 'cadillac'\n",
      " 'buick' 'kia' 'audi' 'bmw' 'lincoln' 'peterbilt']\n"
     ]
    }
   ],
   "source": [
    "print(f'{df[df.price==0].shape} observations with price 0',\n",
    "      f'{len(df[df.price==0].brand.unique())} brands: {df[df.price==0].brand.unique()}',\n",
    "     sep='\\n')"
   ]
  },
  {
   "cell_type": "code",
   "execution_count": 253,
   "id": "6119e46a",
   "metadata": {},
   "outputs": [
    {
     "data": {
      "text/html": [
       "<div>\n",
       "<style scoped>\n",
       "    .dataframe tbody tr th:only-of-type {\n",
       "        vertical-align: middle;\n",
       "    }\n",
       "\n",
       "    .dataframe tbody tr th {\n",
       "        vertical-align: top;\n",
       "    }\n",
       "\n",
       "    .dataframe thead th {\n",
       "        text-align: right;\n",
       "    }\n",
       "</style>\n",
       "<table border=\"1\" class=\"dataframe\">\n",
       "  <thead>\n",
       "    <tr style=\"text-align: right;\">\n",
       "      <th></th>\n",
       "      <th>price</th>\n",
       "      <th>brand</th>\n",
       "      <th>model</th>\n",
       "      <th>year</th>\n",
       "      <th>title_status</th>\n",
       "      <th>mileage</th>\n",
       "      <th>color</th>\n",
       "      <th>vin</th>\n",
       "      <th>lot</th>\n",
       "      <th>state</th>\n",
       "      <th>country</th>\n",
       "      <th>condition</th>\n",
       "    </tr>\n",
       "  </thead>\n",
       "  <tbody>\n",
       "    <tr>\n",
       "      <th>141</th>\n",
       "      <td>0</td>\n",
       "      <td>dodge</td>\n",
       "      <td>van</td>\n",
       "      <td>2008</td>\n",
       "      <td>salvage insurance</td>\n",
       "      <td>177948.0</td>\n",
       "      <td>orange</td>\n",
       "      <td>2d8hn44h88r669549</td>\n",
       "      <td>167756157</td>\n",
       "      <td>utah</td>\n",
       "      <td>usa</td>\n",
       "      <td>2 days left</td>\n",
       "    </tr>\n",
       "    <tr>\n",
       "      <th>144</th>\n",
       "      <td>0</td>\n",
       "      <td>dodge</td>\n",
       "      <td>door</td>\n",
       "      <td>2014</td>\n",
       "      <td>salvage insurance</td>\n",
       "      <td>123660.0</td>\n",
       "      <td>silver</td>\n",
       "      <td>1c3cdzab0en111068</td>\n",
       "      <td>167756167</td>\n",
       "      <td>utah</td>\n",
       "      <td>usa</td>\n",
       "      <td>2 days left</td>\n",
       "    </tr>\n",
       "    <tr>\n",
       "      <th>196</th>\n",
       "      <td>0</td>\n",
       "      <td>ford</td>\n",
       "      <td>mpv</td>\n",
       "      <td>2017</td>\n",
       "      <td>clean vehicle</td>\n",
       "      <td>76858.0</td>\n",
       "      <td>white</td>\n",
       "      <td>1fbax2cv0hkb32599</td>\n",
       "      <td>167656523</td>\n",
       "      <td>texas</td>\n",
       "      <td>usa</td>\n",
       "      <td>2 days left</td>\n",
       "    </tr>\n",
       "    <tr>\n",
       "      <th>285</th>\n",
       "      <td>0</td>\n",
       "      <td>ford</td>\n",
       "      <td>door</td>\n",
       "      <td>2000</td>\n",
       "      <td>salvage insurance</td>\n",
       "      <td>124969.0</td>\n",
       "      <td>black</td>\n",
       "      <td>1fafp34p7yw270338</td>\n",
       "      <td>167251902</td>\n",
       "      <td>oklahoma</td>\n",
       "      <td>usa</td>\n",
       "      <td>17 hours left</td>\n",
       "    </tr>\n",
       "    <tr>\n",
       "      <th>290</th>\n",
       "      <td>0</td>\n",
       "      <td>mazda</td>\n",
       "      <td>door</td>\n",
       "      <td>2009</td>\n",
       "      <td>salvage insurance</td>\n",
       "      <td>117541.0</td>\n",
       "      <td>gray</td>\n",
       "      <td>jm3er293590215768</td>\n",
       "      <td>167543177</td>\n",
       "      <td>indiana</td>\n",
       "      <td>usa</td>\n",
       "      <td>16 hours left</td>\n",
       "    </tr>\n",
       "    <tr>\n",
       "      <th>293</th>\n",
       "      <td>0</td>\n",
       "      <td>chevrolet</td>\n",
       "      <td>pickup</td>\n",
       "      <td>1998</td>\n",
       "      <td>salvage insurance</td>\n",
       "      <td>258631.0</td>\n",
       "      <td>gray</td>\n",
       "      <td>1gccs1445wk226994</td>\n",
       "      <td>167417659</td>\n",
       "      <td>texas</td>\n",
       "      <td>usa</td>\n",
       "      <td>17 hours left</td>\n",
       "    </tr>\n",
       "    <tr>\n",
       "      <th>297</th>\n",
       "      <td>0</td>\n",
       "      <td>honda</td>\n",
       "      <td>door</td>\n",
       "      <td>2003</td>\n",
       "      <td>salvage insurance</td>\n",
       "      <td>152608.0</td>\n",
       "      <td>white</td>\n",
       "      <td>1hgcm56363a030975</td>\n",
       "      <td>167552893</td>\n",
       "      <td>arkansas</td>\n",
       "      <td>usa</td>\n",
       "      <td>17 hours left</td>\n",
       "    </tr>\n",
       "    <tr>\n",
       "      <th>305</th>\n",
       "      <td>0</td>\n",
       "      <td>ford</td>\n",
       "      <td>door</td>\n",
       "      <td>2003</td>\n",
       "      <td>salvage insurance</td>\n",
       "      <td>246065.0</td>\n",
       "      <td>gold</td>\n",
       "      <td>1fafp55u03a242094</td>\n",
       "      <td>167610324</td>\n",
       "      <td>kansas</td>\n",
       "      <td>usa</td>\n",
       "      <td>8 days left</td>\n",
       "    </tr>\n",
       "    <tr>\n",
       "      <th>309</th>\n",
       "      <td>0</td>\n",
       "      <td>chevrolet</td>\n",
       "      <td>door</td>\n",
       "      <td>2004</td>\n",
       "      <td>salvage insurance</td>\n",
       "      <td>0.0</td>\n",
       "      <td>maroon</td>\n",
       "      <td>3gnek12t74g240524</td>\n",
       "      <td>167418651</td>\n",
       "      <td>wyoming</td>\n",
       "      <td>usa</td>\n",
       "      <td>18 hours left</td>\n",
       "    </tr>\n",
       "    <tr>\n",
       "      <th>310</th>\n",
       "      <td>0</td>\n",
       "      <td>chevrolet</td>\n",
       "      <td>door</td>\n",
       "      <td>2003</td>\n",
       "      <td>salvage insurance</td>\n",
       "      <td>194673.0</td>\n",
       "      <td>gray</td>\n",
       "      <td>1gndt13s632267445</td>\n",
       "      <td>167650636</td>\n",
       "      <td>texas</td>\n",
       "      <td>usa</td>\n",
       "      <td>18 hours left</td>\n",
       "    </tr>\n",
       "    <tr>\n",
       "      <th>313</th>\n",
       "      <td>0</td>\n",
       "      <td>ford</td>\n",
       "      <td>van</td>\n",
       "      <td>1998</td>\n",
       "      <td>salvage insurance</td>\n",
       "      <td>186855.0</td>\n",
       "      <td>blue</td>\n",
       "      <td>2fmda5143wba16791</td>\n",
       "      <td>167359170</td>\n",
       "      <td>california</td>\n",
       "      <td>usa</td>\n",
       "      <td>19 hours left</td>\n",
       "    </tr>\n",
       "    <tr>\n",
       "      <th>314</th>\n",
       "      <td>0</td>\n",
       "      <td>ford</td>\n",
       "      <td>door</td>\n",
       "      <td>2013</td>\n",
       "      <td>salvage insurance</td>\n",
       "      <td>94004.0</td>\n",
       "      <td>black</td>\n",
       "      <td>3fa6p0h74dr270819</td>\n",
       "      <td>167610728</td>\n",
       "      <td>minnesota</td>\n",
       "      <td>usa</td>\n",
       "      <td>17 hours left</td>\n",
       "    </tr>\n",
       "    <tr>\n",
       "      <th>318</th>\n",
       "      <td>0</td>\n",
       "      <td>chevrolet</td>\n",
       "      <td>door</td>\n",
       "      <td>2009</td>\n",
       "      <td>salvage insurance</td>\n",
       "      <td>117059.0</td>\n",
       "      <td>black</td>\n",
       "      <td>kl1td66e39b645208</td>\n",
       "      <td>167418694</td>\n",
       "      <td>colorado</td>\n",
       "      <td>usa</td>\n",
       "      <td>18 hours left</td>\n",
       "    </tr>\n",
       "    <tr>\n",
       "      <th>322</th>\n",
       "      <td>0</td>\n",
       "      <td>ford</td>\n",
       "      <td>chassis</td>\n",
       "      <td>1994</td>\n",
       "      <td>salvage insurance</td>\n",
       "      <td>0.0</td>\n",
       "      <td>green</td>\n",
       "      <td>1fdee14n7rha47894</td>\n",
       "      <td>167359174</td>\n",
       "      <td>california</td>\n",
       "      <td>usa</td>\n",
       "      <td>19 hours left</td>\n",
       "    </tr>\n",
       "    <tr>\n",
       "      <th>323</th>\n",
       "      <td>0</td>\n",
       "      <td>ford</td>\n",
       "      <td>door</td>\n",
       "      <td>1997</td>\n",
       "      <td>salvage insurance</td>\n",
       "      <td>203297.0</td>\n",
       "      <td>green</td>\n",
       "      <td>1fmdu35p7vub38059</td>\n",
       "      <td>167610731</td>\n",
       "      <td>minnesota</td>\n",
       "      <td>usa</td>\n",
       "      <td>17 hours left</td>\n",
       "    </tr>\n",
       "    <tr>\n",
       "      <th>330</th>\n",
       "      <td>0</td>\n",
       "      <td>ford</td>\n",
       "      <td>door</td>\n",
       "      <td>1996</td>\n",
       "      <td>salvage insurance</td>\n",
       "      <td>296860.0</td>\n",
       "      <td>green</td>\n",
       "      <td>1falp62w5th144314</td>\n",
       "      <td>167359712</td>\n",
       "      <td>california</td>\n",
       "      <td>usa</td>\n",
       "      <td>19 hours left</td>\n",
       "    </tr>\n",
       "    <tr>\n",
       "      <th>331</th>\n",
       "      <td>0</td>\n",
       "      <td>ford</td>\n",
       "      <td>door</td>\n",
       "      <td>2006</td>\n",
       "      <td>salvage insurance</td>\n",
       "      <td>203158.0</td>\n",
       "      <td>red</td>\n",
       "      <td>1fmzk04136ga07119</td>\n",
       "      <td>167610991</td>\n",
       "      <td>illinois</td>\n",
       "      <td>usa</td>\n",
       "      <td>17 hours left</td>\n",
       "    </tr>\n",
       "    <tr>\n",
       "      <th>339</th>\n",
       "      <td>0</td>\n",
       "      <td>ford</td>\n",
       "      <td>door</td>\n",
       "      <td>2002</td>\n",
       "      <td>salvage insurance</td>\n",
       "      <td>214800.0</td>\n",
       "      <td>black</td>\n",
       "      <td>3fafp37372r151014</td>\n",
       "      <td>167360232</td>\n",
       "      <td>south carolina</td>\n",
       "      <td>usa</td>\n",
       "      <td>2 days left</td>\n",
       "    </tr>\n",
       "    <tr>\n",
       "      <th>344</th>\n",
       "      <td>0</td>\n",
       "      <td>chevrolet</td>\n",
       "      <td>door</td>\n",
       "      <td>2010</td>\n",
       "      <td>salvage insurance</td>\n",
       "      <td>137422.0</td>\n",
       "      <td>red</td>\n",
       "      <td>2cnflnew5a6355858</td>\n",
       "      <td>167650683</td>\n",
       "      <td>colorado</td>\n",
       "      <td>usa</td>\n",
       "      <td>18 hours left</td>\n",
       "    </tr>\n",
       "    <tr>\n",
       "      <th>347</th>\n",
       "      <td>0</td>\n",
       "      <td>gmc</td>\n",
       "      <td>door</td>\n",
       "      <td>2004</td>\n",
       "      <td>salvage insurance</td>\n",
       "      <td>235348.0</td>\n",
       "      <td>gold</td>\n",
       "      <td>1gket16s646227597</td>\n",
       "      <td>167360322</td>\n",
       "      <td>south carolina</td>\n",
       "      <td>usa</td>\n",
       "      <td>2 days left</td>\n",
       "    </tr>\n",
       "    <tr>\n",
       "      <th>349</th>\n",
       "      <td>0</td>\n",
       "      <td>heartland</td>\n",
       "      <td>sundance</td>\n",
       "      <td>2009</td>\n",
       "      <td>clean vehicle</td>\n",
       "      <td>1.0</td>\n",
       "      <td>white</td>\n",
       "      <td>5sfgf29269e031344</td>\n",
       "      <td>167266321</td>\n",
       "      <td>pennsylvania</td>\n",
       "      <td>usa</td>\n",
       "      <td>7 days left</td>\n",
       "    </tr>\n",
       "    <tr>\n",
       "      <th>351</th>\n",
       "      <td>0</td>\n",
       "      <td>chevrolet</td>\n",
       "      <td>door</td>\n",
       "      <td>2008</td>\n",
       "      <td>salvage insurance</td>\n",
       "      <td>159266.0</td>\n",
       "      <td>gray</td>\n",
       "      <td>2g1wb58kx81220813</td>\n",
       "      <td>167650796</td>\n",
       "      <td>california</td>\n",
       "      <td>usa</td>\n",
       "      <td>19 hours left</td>\n",
       "    </tr>\n",
       "    <tr>\n",
       "      <th>354</th>\n",
       "      <td>0</td>\n",
       "      <td>ford</td>\n",
       "      <td>pickup</td>\n",
       "      <td>2009</td>\n",
       "      <td>salvage insurance</td>\n",
       "      <td>180364.0</td>\n",
       "      <td>blue</td>\n",
       "      <td>1ftyr10d19pa60391</td>\n",
       "      <td>167360535</td>\n",
       "      <td>tennessee</td>\n",
       "      <td>usa</td>\n",
       "      <td>2 days left</td>\n",
       "    </tr>\n",
       "    <tr>\n",
       "      <th>355</th>\n",
       "      <td>0</td>\n",
       "      <td>ford</td>\n",
       "      <td>door</td>\n",
       "      <td>2009</td>\n",
       "      <td>salvage insurance</td>\n",
       "      <td>184889.0</td>\n",
       "      <td>black</td>\n",
       "      <td>1fahp35n09w109143</td>\n",
       "      <td>167611047</td>\n",
       "      <td>illinois</td>\n",
       "      <td>usa</td>\n",
       "      <td>17 hours left</td>\n",
       "    </tr>\n",
       "    <tr>\n",
       "      <th>370</th>\n",
       "      <td>0</td>\n",
       "      <td>ford</td>\n",
       "      <td>door</td>\n",
       "      <td>1997</td>\n",
       "      <td>salvage insurance</td>\n",
       "      <td>146912.0</td>\n",
       "      <td>green</td>\n",
       "      <td>1ftdf18w8vna61251</td>\n",
       "      <td>167362449</td>\n",
       "      <td>wisconsin</td>\n",
       "      <td>usa</td>\n",
       "      <td>2 days left</td>\n",
       "    </tr>\n",
       "    <tr>\n",
       "      <th>371</th>\n",
       "      <td>0</td>\n",
       "      <td>ford</td>\n",
       "      <td>door</td>\n",
       "      <td>1998</td>\n",
       "      <td>salvage insurance</td>\n",
       "      <td>131367.0</td>\n",
       "      <td>white</td>\n",
       "      <td>1ftrf18l7wka62471</td>\n",
       "      <td>167611301</td>\n",
       "      <td>illinois</td>\n",
       "      <td>usa</td>\n",
       "      <td>17 hours left</td>\n",
       "    </tr>\n",
       "    <tr>\n",
       "      <th>391</th>\n",
       "      <td>0</td>\n",
       "      <td>cadillac</td>\n",
       "      <td>coupe</td>\n",
       "      <td>2000</td>\n",
       "      <td>salvage insurance</td>\n",
       "      <td>105169.0</td>\n",
       "      <td>white</td>\n",
       "      <td>1g6el12y9yu148063</td>\n",
       "      <td>167651218</td>\n",
       "      <td>virginia</td>\n",
       "      <td>usa</td>\n",
       "      <td>9 days left</td>\n",
       "    </tr>\n",
       "    <tr>\n",
       "      <th>400</th>\n",
       "      <td>0</td>\n",
       "      <td>buick</td>\n",
       "      <td>door</td>\n",
       "      <td>2006</td>\n",
       "      <td>salvage insurance</td>\n",
       "      <td>137464.0</td>\n",
       "      <td>blue</td>\n",
       "      <td>2g4wc582961163677</td>\n",
       "      <td>167651221</td>\n",
       "      <td>virginia</td>\n",
       "      <td>usa</td>\n",
       "      <td>9 days left</td>\n",
       "    </tr>\n",
       "    <tr>\n",
       "      <th>410</th>\n",
       "      <td>0</td>\n",
       "      <td>chevrolet</td>\n",
       "      <td>door</td>\n",
       "      <td>1995</td>\n",
       "      <td>salvage insurance</td>\n",
       "      <td>274706.0</td>\n",
       "      <td>green</td>\n",
       "      <td>2gcec19h8s1195266</td>\n",
       "      <td>167425634</td>\n",
       "      <td>arizona</td>\n",
       "      <td>usa</td>\n",
       "      <td>2 days left</td>\n",
       "    </tr>\n",
       "    <tr>\n",
       "      <th>419</th>\n",
       "      <td>0</td>\n",
       "      <td>kia</td>\n",
       "      <td>wagon</td>\n",
       "      <td>2008</td>\n",
       "      <td>salvage insurance</td>\n",
       "      <td>148463.0</td>\n",
       "      <td>silver</td>\n",
       "      <td>knafg525787197602</td>\n",
       "      <td>167247592</td>\n",
       "      <td>indiana</td>\n",
       "      <td>usa</td>\n",
       "      <td>16 hours left</td>\n",
       "    </tr>\n",
       "    <tr>\n",
       "      <th>420</th>\n",
       "      <td>0</td>\n",
       "      <td>audi</td>\n",
       "      <td>door</td>\n",
       "      <td>2005</td>\n",
       "      <td>salvage insurance</td>\n",
       "      <td>181896.0</td>\n",
       "      <td>black</td>\n",
       "      <td>waudg74f05n113751</td>\n",
       "      <td>167419563</td>\n",
       "      <td>california</td>\n",
       "      <td>usa</td>\n",
       "      <td>19 hours left</td>\n",
       "    </tr>\n",
       "    <tr>\n",
       "      <th>421</th>\n",
       "      <td>0</td>\n",
       "      <td>bmw</td>\n",
       "      <td>door</td>\n",
       "      <td>2000</td>\n",
       "      <td>salvage insurance</td>\n",
       "      <td>216657.0</td>\n",
       "      <td>gray</td>\n",
       "      <td>wbaam3346yfp77118</td>\n",
       "      <td>167425906</td>\n",
       "      <td>utah</td>\n",
       "      <td>usa</td>\n",
       "      <td>2 days left</td>\n",
       "    </tr>\n",
       "    <tr>\n",
       "      <th>435</th>\n",
       "      <td>0</td>\n",
       "      <td>ford</td>\n",
       "      <td>door</td>\n",
       "      <td>2004</td>\n",
       "      <td>salvage insurance</td>\n",
       "      <td>167011.0</td>\n",
       "      <td>red</td>\n",
       "      <td>1fmfu18l84lb61201</td>\n",
       "      <td>167601555</td>\n",
       "      <td>maryland</td>\n",
       "      <td>usa</td>\n",
       "      <td>16 hours left</td>\n",
       "    </tr>\n",
       "    <tr>\n",
       "      <th>443</th>\n",
       "      <td>0</td>\n",
       "      <td>chevrolet</td>\n",
       "      <td>coupe</td>\n",
       "      <td>2008</td>\n",
       "      <td>salvage insurance</td>\n",
       "      <td>270080.0</td>\n",
       "      <td>yellow</td>\n",
       "      <td>1g1al18f187245041</td>\n",
       "      <td>167650422</td>\n",
       "      <td>illinois</td>\n",
       "      <td>usa</td>\n",
       "      <td>17 hours left</td>\n",
       "    </tr>\n",
       "    <tr>\n",
       "      <th>455</th>\n",
       "      <td>0</td>\n",
       "      <td>chevrolet</td>\n",
       "      <td>door</td>\n",
       "      <td>2006</td>\n",
       "      <td>salvage insurance</td>\n",
       "      <td>268040.0</td>\n",
       "      <td>silver</td>\n",
       "      <td>1g1zt53f46f254868</td>\n",
       "      <td>167650486</td>\n",
       "      <td>texas</td>\n",
       "      <td>usa</td>\n",
       "      <td>17 hours left</td>\n",
       "    </tr>\n",
       "    <tr>\n",
       "      <th>496</th>\n",
       "      <td>0</td>\n",
       "      <td>ford</td>\n",
       "      <td>pickup</td>\n",
       "      <td>1996</td>\n",
       "      <td>salvage insurance</td>\n",
       "      <td>252588.0</td>\n",
       "      <td>red</td>\n",
       "      <td>1ftef15n0tlc14455</td>\n",
       "      <td>167357804</td>\n",
       "      <td>oklahoma</td>\n",
       "      <td>usa</td>\n",
       "      <td>17 hours left</td>\n",
       "    </tr>\n",
       "    <tr>\n",
       "      <th>506</th>\n",
       "      <td>0</td>\n",
       "      <td>chevrolet</td>\n",
       "      <td>door</td>\n",
       "      <td>2012</td>\n",
       "      <td>salvage insurance</td>\n",
       "      <td>134938.0</td>\n",
       "      <td>orange</td>\n",
       "      <td>1g1jc5sh7c4114661</td>\n",
       "      <td>167650604</td>\n",
       "      <td>oklahoma</td>\n",
       "      <td>usa</td>\n",
       "      <td>17 hours left</td>\n",
       "    </tr>\n",
       "    <tr>\n",
       "      <th>510</th>\n",
       "      <td>0</td>\n",
       "      <td>ford</td>\n",
       "      <td>door</td>\n",
       "      <td>2010</td>\n",
       "      <td>salvage insurance</td>\n",
       "      <td>86841.0</td>\n",
       "      <td>silver</td>\n",
       "      <td>3fahp0ga3ar366961</td>\n",
       "      <td>167357806</td>\n",
       "      <td>oklahoma</td>\n",
       "      <td>usa</td>\n",
       "      <td>17 hours left</td>\n",
       "    </tr>\n",
       "    <tr>\n",
       "      <th>514</th>\n",
       "      <td>0</td>\n",
       "      <td>lincoln</td>\n",
       "      <td>door</td>\n",
       "      <td>2005</td>\n",
       "      <td>salvage insurance</td>\n",
       "      <td>89705.0</td>\n",
       "      <td>green</td>\n",
       "      <td>1lnhm87a25y619997</td>\n",
       "      <td>167154617</td>\n",
       "      <td>minnesota</td>\n",
       "      <td>usa</td>\n",
       "      <td>17 hours left</td>\n",
       "    </tr>\n",
       "    <tr>\n",
       "      <th>516</th>\n",
       "      <td>0</td>\n",
       "      <td>peterbilt</td>\n",
       "      <td>truck</td>\n",
       "      <td>2009</td>\n",
       "      <td>salvage insurance</td>\n",
       "      <td>982486.0</td>\n",
       "      <td>blue</td>\n",
       "      <td>1xp7d49x09d784257</td>\n",
       "      <td>167529788</td>\n",
       "      <td>florida</td>\n",
       "      <td>usa</td>\n",
       "      <td>17 hours left</td>\n",
       "    </tr>\n",
       "    <tr>\n",
       "      <th>522</th>\n",
       "      <td>0</td>\n",
       "      <td>ford</td>\n",
       "      <td>door</td>\n",
       "      <td>2008</td>\n",
       "      <td>salvage insurance</td>\n",
       "      <td>145483.0</td>\n",
       "      <td>red</td>\n",
       "      <td>1fmcu03128kc80487</td>\n",
       "      <td>167357813</td>\n",
       "      <td>oklahoma</td>\n",
       "      <td>usa</td>\n",
       "      <td>17 hours left</td>\n",
       "    </tr>\n",
       "    <tr>\n",
       "      <th>530</th>\n",
       "      <td>0</td>\n",
       "      <td>chevrolet</td>\n",
       "      <td>door</td>\n",
       "      <td>2003</td>\n",
       "      <td>salvage insurance</td>\n",
       "      <td>194673.0</td>\n",
       "      <td>gray</td>\n",
       "      <td>1gndt13s632267445</td>\n",
       "      <td>167650636</td>\n",
       "      <td>texas</td>\n",
       "      <td>usa</td>\n",
       "      <td>17 hours left</td>\n",
       "    </tr>\n",
       "    <tr>\n",
       "      <th>545</th>\n",
       "      <td>0</td>\n",
       "      <td>gmc</td>\n",
       "      <td>door</td>\n",
       "      <td>1993</td>\n",
       "      <td>salvage insurance</td>\n",
       "      <td>0.0</td>\n",
       "      <td>light blue</td>\n",
       "      <td>1gkfk16k5pj701631</td>\n",
       "      <td>167358601</td>\n",
       "      <td>colorado</td>\n",
       "      <td>usa</td>\n",
       "      <td>18 hours left</td>\n",
       "    </tr>\n",
       "  </tbody>\n",
       "</table>\n",
       "</div>"
      ],
      "text/plain": [
       "     price      brand     model  year       title_status   mileage  \\\n",
       "141      0      dodge       van  2008  salvage insurance  177948.0   \n",
       "144      0      dodge      door  2014  salvage insurance  123660.0   \n",
       "196      0       ford       mpv  2017      clean vehicle   76858.0   \n",
       "285      0       ford      door  2000  salvage insurance  124969.0   \n",
       "290      0      mazda      door  2009  salvage insurance  117541.0   \n",
       "293      0  chevrolet    pickup  1998  salvage insurance  258631.0   \n",
       "297      0      honda      door  2003  salvage insurance  152608.0   \n",
       "305      0       ford      door  2003  salvage insurance  246065.0   \n",
       "309      0  chevrolet      door  2004  salvage insurance       0.0   \n",
       "310      0  chevrolet      door  2003  salvage insurance  194673.0   \n",
       "313      0       ford       van  1998  salvage insurance  186855.0   \n",
       "314      0       ford      door  2013  salvage insurance   94004.0   \n",
       "318      0  chevrolet      door  2009  salvage insurance  117059.0   \n",
       "322      0       ford   chassis  1994  salvage insurance       0.0   \n",
       "323      0       ford      door  1997  salvage insurance  203297.0   \n",
       "330      0       ford      door  1996  salvage insurance  296860.0   \n",
       "331      0       ford      door  2006  salvage insurance  203158.0   \n",
       "339      0       ford      door  2002  salvage insurance  214800.0   \n",
       "344      0  chevrolet      door  2010  salvage insurance  137422.0   \n",
       "347      0        gmc      door  2004  salvage insurance  235348.0   \n",
       "349      0  heartland  sundance  2009      clean vehicle       1.0   \n",
       "351      0  chevrolet      door  2008  salvage insurance  159266.0   \n",
       "354      0       ford    pickup  2009  salvage insurance  180364.0   \n",
       "355      0       ford      door  2009  salvage insurance  184889.0   \n",
       "370      0       ford      door  1997  salvage insurance  146912.0   \n",
       "371      0       ford      door  1998  salvage insurance  131367.0   \n",
       "391      0   cadillac     coupe  2000  salvage insurance  105169.0   \n",
       "400      0      buick      door  2006  salvage insurance  137464.0   \n",
       "410      0  chevrolet      door  1995  salvage insurance  274706.0   \n",
       "419      0        kia     wagon  2008  salvage insurance  148463.0   \n",
       "420      0       audi      door  2005  salvage insurance  181896.0   \n",
       "421      0        bmw      door  2000  salvage insurance  216657.0   \n",
       "435      0       ford      door  2004  salvage insurance  167011.0   \n",
       "443      0  chevrolet     coupe  2008  salvage insurance  270080.0   \n",
       "455      0  chevrolet      door  2006  salvage insurance  268040.0   \n",
       "496      0       ford    pickup  1996  salvage insurance  252588.0   \n",
       "506      0  chevrolet      door  2012  salvage insurance  134938.0   \n",
       "510      0       ford      door  2010  salvage insurance   86841.0   \n",
       "514      0    lincoln      door  2005  salvage insurance   89705.0   \n",
       "516      0  peterbilt     truck  2009  salvage insurance  982486.0   \n",
       "522      0       ford      door  2008  salvage insurance  145483.0   \n",
       "530      0  chevrolet      door  2003  salvage insurance  194673.0   \n",
       "545      0        gmc      door  1993  salvage insurance       0.0   \n",
       "\n",
       "          color                  vin        lot           state country  \\\n",
       "141      orange    2d8hn44h88r669549  167756157            utah     usa   \n",
       "144      silver    1c3cdzab0en111068  167756167            utah     usa   \n",
       "196       white    1fbax2cv0hkb32599  167656523           texas     usa   \n",
       "285       black    1fafp34p7yw270338  167251902        oklahoma     usa   \n",
       "290        gray    jm3er293590215768  167543177         indiana     usa   \n",
       "293        gray    1gccs1445wk226994  167417659           texas     usa   \n",
       "297       white    1hgcm56363a030975  167552893        arkansas     usa   \n",
       "305        gold    1fafp55u03a242094  167610324          kansas     usa   \n",
       "309      maroon    3gnek12t74g240524  167418651         wyoming     usa   \n",
       "310        gray    1gndt13s632267445  167650636           texas     usa   \n",
       "313        blue    2fmda5143wba16791  167359170      california     usa   \n",
       "314       black    3fa6p0h74dr270819  167610728       minnesota     usa   \n",
       "318       black    kl1td66e39b645208  167418694        colorado     usa   \n",
       "322       green    1fdee14n7rha47894  167359174      california     usa   \n",
       "323       green    1fmdu35p7vub38059  167610731       minnesota     usa   \n",
       "330       green    1falp62w5th144314  167359712      california     usa   \n",
       "331         red    1fmzk04136ga07119  167610991        illinois     usa   \n",
       "339       black    3fafp37372r151014  167360232  south carolina     usa   \n",
       "344         red    2cnflnew5a6355858  167650683        colorado     usa   \n",
       "347        gold    1gket16s646227597  167360322  south carolina     usa   \n",
       "349       white    5sfgf29269e031344  167266321    pennsylvania     usa   \n",
       "351        gray    2g1wb58kx81220813  167650796      california     usa   \n",
       "354        blue    1ftyr10d19pa60391  167360535       tennessee     usa   \n",
       "355       black    1fahp35n09w109143  167611047        illinois     usa   \n",
       "370       green    1ftdf18w8vna61251  167362449       wisconsin     usa   \n",
       "371       white    1ftrf18l7wka62471  167611301        illinois     usa   \n",
       "391       white    1g6el12y9yu148063  167651218        virginia     usa   \n",
       "400        blue    2g4wc582961163677  167651221        virginia     usa   \n",
       "410       green    2gcec19h8s1195266  167425634         arizona     usa   \n",
       "419      silver    knafg525787197602  167247592         indiana     usa   \n",
       "420       black    waudg74f05n113751  167419563      california     usa   \n",
       "421        gray    wbaam3346yfp77118  167425906            utah     usa   \n",
       "435         red    1fmfu18l84lb61201  167601555        maryland     usa   \n",
       "443      yellow    1g1al18f187245041  167650422        illinois     usa   \n",
       "455      silver    1g1zt53f46f254868  167650486           texas     usa   \n",
       "496         red    1ftef15n0tlc14455  167357804        oklahoma     usa   \n",
       "506      orange    1g1jc5sh7c4114661  167650604        oklahoma     usa   \n",
       "510      silver    3fahp0ga3ar366961  167357806        oklahoma     usa   \n",
       "514       green    1lnhm87a25y619997  167154617       minnesota     usa   \n",
       "516        blue    1xp7d49x09d784257  167529788         florida     usa   \n",
       "522         red    1fmcu03128kc80487  167357813        oklahoma     usa   \n",
       "530        gray    1gndt13s632267445  167650636           texas     usa   \n",
       "545  light blue    1gkfk16k5pj701631  167358601        colorado     usa   \n",
       "\n",
       "         condition  \n",
       "141    2 days left  \n",
       "144    2 days left  \n",
       "196    2 days left  \n",
       "285  17 hours left  \n",
       "290  16 hours left  \n",
       "293  17 hours left  \n",
       "297  17 hours left  \n",
       "305    8 days left  \n",
       "309  18 hours left  \n",
       "310  18 hours left  \n",
       "313  19 hours left  \n",
       "314  17 hours left  \n",
       "318  18 hours left  \n",
       "322  19 hours left  \n",
       "323  17 hours left  \n",
       "330  19 hours left  \n",
       "331  17 hours left  \n",
       "339    2 days left  \n",
       "344  18 hours left  \n",
       "347    2 days left  \n",
       "349    7 days left  \n",
       "351  19 hours left  \n",
       "354    2 days left  \n",
       "355  17 hours left  \n",
       "370    2 days left  \n",
       "371  17 hours left  \n",
       "391    9 days left  \n",
       "400    9 days left  \n",
       "410    2 days left  \n",
       "419  16 hours left  \n",
       "420  19 hours left  \n",
       "421    2 days left  \n",
       "435  16 hours left  \n",
       "443  17 hours left  \n",
       "455  17 hours left  \n",
       "496  17 hours left  \n",
       "506  17 hours left  \n",
       "510  17 hours left  \n",
       "514  17 hours left  \n",
       "516  17 hours left  \n",
       "522  17 hours left  \n",
       "530  17 hours left  \n",
       "545  18 hours left  "
      ]
     },
     "execution_count": 253,
     "metadata": {},
     "output_type": "execute_result"
    }
   ],
   "source": [
    "df[(df.price == 0)]"
   ]
  },
  {
   "cell_type": "markdown",
   "id": "2ff8e133",
   "metadata": {},
   "source": [
    "* They are all salvage insurance, and there are many transaction for very small amoounts (below 1000). Maybe they actually got sold for 0, so we'll keep them\n",
    "* Also not quite clear where to do the cutoff because of the sales with small amounts (values like 25, 75, ...)"
   ]
  },
  {
   "cell_type": "code",
   "execution_count": 244,
   "id": "11105666",
   "metadata": {
    "scrolled": false
   },
   "outputs": [
    {
     "data": {
      "text/html": [
       "<div>\n",
       "<style scoped>\n",
       "    .dataframe tbody tr th:only-of-type {\n",
       "        vertical-align: middle;\n",
       "    }\n",
       "\n",
       "    .dataframe tbody tr th {\n",
       "        vertical-align: top;\n",
       "    }\n",
       "\n",
       "    .dataframe thead th {\n",
       "        text-align: right;\n",
       "    }\n",
       "</style>\n",
       "<table border=\"1\" class=\"dataframe\">\n",
       "  <thead>\n",
       "    <tr style=\"text-align: right;\">\n",
       "      <th></th>\n",
       "      <th>ford</th>\n",
       "      <th>chevrolet</th>\n",
       "      <th>dodge</th>\n",
       "      <th>gmc</th>\n",
       "      <th>mazda</th>\n",
       "      <th>honda</th>\n",
       "      <th>heartland</th>\n",
       "      <th>cadillac</th>\n",
       "      <th>buick</th>\n",
       "      <th>kia</th>\n",
       "      <th>audi</th>\n",
       "      <th>bmw</th>\n",
       "      <th>lincoln</th>\n",
       "      <th>peterbilt</th>\n",
       "    </tr>\n",
       "  </thead>\n",
       "  <tbody>\n",
       "    <tr>\n",
       "      <th>brand</th>\n",
       "      <td>18</td>\n",
       "      <td>11</td>\n",
       "      <td>2</td>\n",
       "      <td>2</td>\n",
       "      <td>1</td>\n",
       "      <td>1</td>\n",
       "      <td>1</td>\n",
       "      <td>1</td>\n",
       "      <td>1</td>\n",
       "      <td>1</td>\n",
       "      <td>1</td>\n",
       "      <td>1</td>\n",
       "      <td>1</td>\n",
       "      <td>1</td>\n",
       "    </tr>\n",
       "    <tr>\n",
       "      <th>Unnamed 0</th>\n",
       "      <td>1235</td>\n",
       "      <td>297</td>\n",
       "      <td>432</td>\n",
       "      <td>42</td>\n",
       "      <td>2</td>\n",
       "      <td>12</td>\n",
       "      <td>5</td>\n",
       "      <td>10</td>\n",
       "      <td>13</td>\n",
       "      <td>13</td>\n",
       "      <td>4</td>\n",
       "      <td>17</td>\n",
       "      <td>2</td>\n",
       "      <td>4</td>\n",
       "    </tr>\n",
       "  </tbody>\n",
       "</table>\n",
       "</div>"
      ],
      "text/plain": [
       "           ford  chevrolet  dodge  gmc  mazda  honda  heartland  cadillac  \\\n",
       "brand        18         11      2    2      1      1          1         1   \n",
       "Unnamed 0  1235        297    432   42      2     12          5        10   \n",
       "\n",
       "           buick  kia  audi  bmw  lincoln  peterbilt  \n",
       "brand          1    1     1    1        1          1  \n",
       "Unnamed 0     13   13     4   17        2          4  "
      ]
     },
     "execution_count": 244,
     "metadata": {},
     "output_type": "execute_result"
    }
   ],
   "source": [
    "pd.DataFrame([df[df.price==0].brand.value_counts(), df[df.brand.apply(lambda x: x in df[df.price==0].brand.unique())].groupby('brand', axis=0).apply(lambda x: len(x))])"
   ]
  },
  {
   "cell_type": "code",
   "execution_count": 254,
   "id": "b9f85c6f",
   "metadata": {},
   "outputs": [
    {
     "name": "stdout",
     "output_type": "stream",
     "text": [
      "column brand, 28 unique values\n",
      "column model, 127 unique values\n",
      "column title_status, 2 unique values\n",
      "column color, 49 unique values\n",
      "column vin, 2495 unique values\n",
      "column state, 44 unique values\n",
      "column country, 2 unique values\n",
      "column condition, 47 unique values\n"
     ]
    }
   ],
   "source": [
    "for col in [categorical for categorical in df.columns if categorical not in df.describe().columns]:\n",
    "    print(f'column {col}, {len(df[col].unique())} unique values')"
   ]
  },
  {
   "cell_type": "markdown",
   "id": "616b7836",
   "metadata": {},
   "source": [
    "We can get rid of the variable vin, as it is almost unique for each entry, and judging from the table above it is something similar to a serial number."
   ]
  },
  {
   "cell_type": "code",
   "execution_count": 255,
   "id": "998d532b",
   "metadata": {},
   "outputs": [
    {
     "data": {
      "text/plain": [
       "2495"
      ]
     },
     "execution_count": 255,
     "metadata": {},
     "output_type": "execute_result"
    }
   ],
   "source": [
    "len(df.lot.unique())"
   ]
  },
  {
   "cell_type": "markdown",
   "id": "299f6b67",
   "metadata": {},
   "source": [
    "* As thought, lot is not a useful variable, so we'll get rid of it as well.\n",
    "\n",
    "* Regarding the categorical variables, most have a lot of categories, and only title_status and condition seem easily ordinable. The rest should be one-hot encoded in order for the to be fed into the regression, although that will heavily increase the number of variables.\n",
    "\n",
    "* Wit a regression with variable selection (LASSO) we might find out that some of these categories are only important when they take certain variables (i.e., only certain brands of cars)"
   ]
  },
  {
   "cell_type": "code",
   "execution_count": 256,
   "id": "bc0de7f4",
   "metadata": {},
   "outputs": [],
   "source": [
    "df.drop(['vin', 'lot'], axis=1, inplace=True)"
   ]
  },
  {
   "cell_type": "markdown",
   "id": "63eb0bac",
   "metadata": {},
   "source": [
    "#### Categorical Variables"
   ]
  },
  {
   "cell_type": "code",
   "execution_count": 257,
   "id": "0b31733d",
   "metadata": {},
   "outputs": [
    {
     "data": {
      "text/plain": [
       "array(['clean vehicle', 'salvage insurance'], dtype=object)"
      ]
     },
     "execution_count": 257,
     "metadata": {},
     "output_type": "execute_result"
    }
   ],
   "source": [
    "df.title_status.unique()"
   ]
  },
  {
   "cell_type": "code",
   "execution_count": 258,
   "id": "e4458e05",
   "metadata": {
    "scrolled": true
   },
   "outputs": [
    {
     "data": {
      "text/plain": [
       "array(['10 days left', '6 days left', '2 days left', '22 hours left',\n",
       "       '20 hours left', '19 hours left', '3 days left', '21 hours left',\n",
       "       '17 hours left', '2 hours left', '3 hours left', '34 minutes',\n",
       "       '16 hours left', '18 hours left', '1 days left', '32 minutes',\n",
       "       '14 hours left', '5 hours left', '4 days left', '9 days left',\n",
       "       '23 hours left', '8 days left', '7 days left', '5 days left',\n",
       "       '9 minutes', '1 minutes', '7 hours left', '16 minutes',\n",
       "       '6 hours left', '1 hours left', 'Listing Expired', '13 days left',\n",
       "       '24 hours left', '15 hours left', '53 minutes', '27 minutes',\n",
       "       '12 days left', '15 days left', '30 minutes', '29 minutes',\n",
       "       '28 minutes', '48 minutes', '11 days left', '4 hours left',\n",
       "       '47 minutes', '12 hours left', '36 minutes'], dtype=object)"
      ]
     },
     "execution_count": 258,
     "metadata": {},
     "output_type": "execute_result"
    }
   ],
   "source": [
    "df.condition.unique()"
   ]
  },
  {
   "cell_type": "markdown",
   "id": "a702d0b1",
   "metadata": {},
   "source": [
    "* title_status is not quite ordinable\n",
    "* condition can be turned into a numeric variable, we'll choose the unit as minutes"
   ]
  },
  {
   "cell_type": "code",
   "execution_count": 259,
   "id": "24f9b4db",
   "metadata": {},
   "outputs": [
    {
     "data": {
      "text/plain": [
       "ford               0.494198\n",
       "dodge              0.172869\n",
       "nissan             0.124850\n",
       "chevrolet          0.118848\n",
       "gmc                0.016807\n",
       "jeep               0.012005\n",
       "chrysler           0.007203\n",
       "bmw                0.006803\n",
       "hyundai            0.006002\n",
       "kia                0.005202\n",
       "buick              0.005202\n",
       "infiniti           0.004802\n",
       "honda              0.004802\n",
       "cadillac           0.004002\n",
       "mercedes-benz      0.004002\n",
       "heartland          0.002001\n",
       "land               0.001601\n",
       "peterbilt          0.001601\n",
       "audi               0.001601\n",
       "acura              0.001200\n",
       "lincoln            0.000800\n",
       "lexus              0.000800\n",
       "mazda              0.000800\n",
       "maserati           0.000400\n",
       "toyota             0.000400\n",
       "harley-davidson    0.000400\n",
       "jaguar             0.000400\n",
       "ram                0.000400\n",
       "Name: brand, dtype: float64"
      ]
     },
     "execution_count": 259,
     "metadata": {},
     "output_type": "execute_result"
    }
   ],
   "source": [
    "brand_freq = df.brand.value_counts().apply(lambda x: x / df.shape[0])\n",
    "brand_freq"
   ]
  },
  {
   "cell_type": "markdown",
   "id": "6bebe517",
   "metadata": {},
   "source": [
    "## Reformat Variables"
   ]
  },
  {
   "cell_type": "markdown",
   "id": "33cb2318",
   "metadata": {},
   "source": [
    "#### Condition"
   ]
  },
  {
   "cell_type": "markdown",
   "id": "140fc294",
   "metadata": {},
   "source": [
    "We'll begin by converting the condition variable into a numerical one, measured in minutes, as mentioned above."
   ]
  },
  {
   "cell_type": "code",
   "execution_count": 260,
   "id": "199e12ec",
   "metadata": {},
   "outputs": [],
   "source": [
    "def convert_condition(string):\n",
    "    convert = ''\n",
    "    min_count = 0\n",
    "\n",
    "    for i, e in enumerate(string):\n",
    "        try:\n",
    "            int(e)\n",
    "\n",
    "        except ValueError:\n",
    "            if (i == len(string)-1):\n",
    "                break\n",
    "            if convert != '':                \n",
    "                if string[i+1] == 'd':\n",
    "                    min_count += (int(convert) * 24 * 60)\n",
    "                elif string[i+1] == 'h':\n",
    "                    min_count += (int(convert) * 60)\n",
    "                elif string[i+1] == 'm':\n",
    "                    min_count += (int(convert))\n",
    "            convert = ''\n",
    "\n",
    "        else:\n",
    "            convert = convert + e\n",
    "            \n",
    "    return min_count"
   ]
  },
  {
   "cell_type": "code",
   "execution_count": 261,
   "id": "b2b8c7ac",
   "metadata": {},
   "outputs": [],
   "source": [
    "df['condition'] = df['condition'].apply(convert_condition)"
   ]
  },
  {
   "cell_type": "markdown",
   "id": "fe28012b",
   "metadata": {},
   "source": [
    "#### Title Status"
   ]
  },
  {
   "cell_type": "code",
   "execution_count": 262,
   "id": "c04c523d",
   "metadata": {},
   "outputs": [
    {
     "data": {
      "text/plain": [
       "array(['clean vehicle', 'salvage insurance'], dtype=object)"
      ]
     },
     "execution_count": 262,
     "metadata": {},
     "output_type": "execute_result"
    }
   ],
   "source": [
    "df.title_status.unique()"
   ]
  },
  {
   "cell_type": "code",
   "execution_count": 263,
   "id": "df115108",
   "metadata": {},
   "outputs": [],
   "source": [
    "df.loc[df.loc[:, 'title_status'] == 'clean vehicle', 'title_status'] = 1\n",
    "df.loc[df.loc[:, 'title_status'] == 'salvage insurance', 'title_status'] = 0\n",
    "df.title_status = pd.to_numeric(df.title_status)"
   ]
  },
  {
   "cell_type": "markdown",
   "id": "a4e1f603",
   "metadata": {},
   "source": [
    "#### Country"
   ]
  },
  {
   "cell_type": "code",
   "execution_count": 278,
   "id": "c8403ca3",
   "metadata": {
    "scrolled": true
   },
   "outputs": [
    {
     "data": {
      "text/plain": [
       "array([' usa', ' canada'], dtype=object)"
      ]
     },
     "execution_count": 278,
     "metadata": {},
     "output_type": "execute_result"
    }
   ],
   "source": [
    "df.country.unique()"
   ]
  },
  {
   "cell_type": "markdown",
   "id": "5d7835fd",
   "metadata": {},
   "source": [
    "Since there's only 2 countries and (almost) all US states we can make one single variable out of both we call region, with US states and Canada in it."
   ]
  },
  {
   "cell_type": "code",
   "execution_count": 279,
   "id": "80cc85a4",
   "metadata": {
    "scrolled": true
   },
   "outputs": [
    {
     "data": {
      "text/plain": [
       " usa       0.997199\n",
       " canada    0.002801\n",
       "Name: country, dtype: float64"
      ]
     },
     "execution_count": 279,
     "metadata": {},
     "output_type": "execute_result"
    }
   ],
   "source": [
    "country_freq = df.country.value_counts().apply(lambda x: x / df.shape[0])\n",
    "country_freq"
   ]
  },
  {
   "cell_type": "code",
   "execution_count": 280,
   "id": "44c7a533",
   "metadata": {},
   "outputs": [
    {
     "data": {
      "text/plain": [
       "33"
      ]
     },
     "execution_count": 280,
     "metadata": {},
     "output_type": "execute_result"
    }
   ],
   "source": [
    "state_freq = df.state.value_counts().apply(lambda x: x / df.shape[0])\n",
    "sum(state_freq > country_freq[1])"
   ]
  },
  {
   "cell_type": "code",
   "execution_count": 281,
   "id": "8b2b2ed2",
   "metadata": {
    "scrolled": true
   },
   "outputs": [
    {
     "data": {
      "text/html": [
       "<div>\n",
       "<style scoped>\n",
       "    .dataframe tbody tr th:only-of-type {\n",
       "        vertical-align: middle;\n",
       "    }\n",
       "\n",
       "    .dataframe tbody tr th {\n",
       "        vertical-align: top;\n",
       "    }\n",
       "\n",
       "    .dataframe thead th {\n",
       "        text-align: right;\n",
       "    }\n",
       "</style>\n",
       "<table border=\"1\" class=\"dataframe\">\n",
       "  <thead>\n",
       "    <tr style=\"text-align: right;\">\n",
       "      <th></th>\n",
       "      <th>price</th>\n",
       "      <th>brand</th>\n",
       "      <th>model</th>\n",
       "      <th>year</th>\n",
       "      <th>title_status</th>\n",
       "      <th>mileage</th>\n",
       "      <th>color</th>\n",
       "      <th>state</th>\n",
       "      <th>country</th>\n",
       "      <th>condition</th>\n",
       "    </tr>\n",
       "  </thead>\n",
       "  <tbody>\n",
       "    <tr>\n",
       "      <th>261</th>\n",
       "      <td>33000</td>\n",
       "      <td>chevrolet</td>\n",
       "      <td>1500</td>\n",
       "      <td>2018</td>\n",
       "      <td>1</td>\n",
       "      <td>52521.0</td>\n",
       "      <td>white</td>\n",
       "      <td>ontario</td>\n",
       "      <td>canada</td>\n",
       "      <td>14400</td>\n",
       "    </tr>\n",
       "    <tr>\n",
       "      <th>813</th>\n",
       "      <td>30000</td>\n",
       "      <td>dodge</td>\n",
       "      <td>charger</td>\n",
       "      <td>2019</td>\n",
       "      <td>1</td>\n",
       "      <td>43294.0</td>\n",
       "      <td>white</td>\n",
       "      <td>ontario</td>\n",
       "      <td>canada</td>\n",
       "      <td>14400</td>\n",
       "    </tr>\n",
       "    <tr>\n",
       "      <th>814</th>\n",
       "      <td>30000</td>\n",
       "      <td>dodge</td>\n",
       "      <td>charger</td>\n",
       "      <td>2019</td>\n",
       "      <td>1</td>\n",
       "      <td>54309.0</td>\n",
       "      <td>orange</td>\n",
       "      <td>ontario</td>\n",
       "      <td>canada</td>\n",
       "      <td>14400</td>\n",
       "    </tr>\n",
       "    <tr>\n",
       "      <th>815</th>\n",
       "      <td>30000</td>\n",
       "      <td>dodge</td>\n",
       "      <td>charger</td>\n",
       "      <td>2019</td>\n",
       "      <td>1</td>\n",
       "      <td>52822.0</td>\n",
       "      <td>white</td>\n",
       "      <td>ontario</td>\n",
       "      <td>canada</td>\n",
       "      <td>14400</td>\n",
       "    </tr>\n",
       "    <tr>\n",
       "      <th>816</th>\n",
       "      <td>30000</td>\n",
       "      <td>dodge</td>\n",
       "      <td>charger</td>\n",
       "      <td>2019</td>\n",
       "      <td>1</td>\n",
       "      <td>45554.0</td>\n",
       "      <td>white</td>\n",
       "      <td>ontario</td>\n",
       "      <td>canada</td>\n",
       "      <td>14400</td>\n",
       "    </tr>\n",
       "    <tr>\n",
       "      <th>817</th>\n",
       "      <td>30000</td>\n",
       "      <td>dodge</td>\n",
       "      <td>charger</td>\n",
       "      <td>2019</td>\n",
       "      <td>1</td>\n",
       "      <td>37538.0</td>\n",
       "      <td>white</td>\n",
       "      <td>ontario</td>\n",
       "      <td>canada</td>\n",
       "      <td>14400</td>\n",
       "    </tr>\n",
       "    <tr>\n",
       "      <th>818</th>\n",
       "      <td>29500</td>\n",
       "      <td>dodge</td>\n",
       "      <td>charger</td>\n",
       "      <td>2019</td>\n",
       "      <td>1</td>\n",
       "      <td>35153.0</td>\n",
       "      <td>red</td>\n",
       "      <td>ontario</td>\n",
       "      <td>canada</td>\n",
       "      <td>14400</td>\n",
       "    </tr>\n",
       "  </tbody>\n",
       "</table>\n",
       "</div>"
      ],
      "text/plain": [
       "     price      brand    model  year  title_status  mileage   color    state  \\\n",
       "261  33000  chevrolet     1500  2018             1  52521.0   white  ontario   \n",
       "813  30000      dodge  charger  2019             1  43294.0   white  ontario   \n",
       "814  30000      dodge  charger  2019             1  54309.0  orange  ontario   \n",
       "815  30000      dodge  charger  2019             1  52822.0   white  ontario   \n",
       "816  30000      dodge  charger  2019             1  45554.0   white  ontario   \n",
       "817  30000      dodge  charger  2019             1  37538.0   white  ontario   \n",
       "818  29500      dodge  charger  2019             1  35153.0     red  ontario   \n",
       "\n",
       "     country  condition  \n",
       "261   canada      14400  \n",
       "813   canada      14400  \n",
       "814   canada      14400  \n",
       "815   canada      14400  \n",
       "816   canada      14400  \n",
       "817   canada      14400  \n",
       "818   canada      14400  "
      ]
     },
     "execution_count": 281,
     "metadata": {},
     "output_type": "execute_result"
    }
   ],
   "source": [
    "df[df.country==' canada']"
   ]
  },
  {
   "cell_type": "markdown",
   "id": "a71b885a",
   "metadata": {},
   "source": [
    "Canada would be on the position 33 end of regions. Because all Canadian transactions happened in the sate of Ontario we can just get rid of the country column and leave Ontario"
   ]
  },
  {
   "cell_type": "code",
   "execution_count": 282,
   "id": "ecfb116c",
   "metadata": {},
   "outputs": [],
   "source": [
    "df.drop(columns='country', inplace=True)"
   ]
  },
  {
   "cell_type": "markdown",
   "id": "8ce1a03b",
   "metadata": {},
   "source": [
    "* We are left over with categorical variables brand, model, color and state.\n",
    "* There are 3 options:\n",
    "    - One-hot Encoding\n",
    "    - Number Encoding. This one imposes an arbitrary order in them, but they say it still performs well with random forests so it might be worth a try\n",
    "    - Factor encoding in R, and run a forest there\n"
   ]
  },
  {
   "cell_type": "markdown",
   "id": "9e3dd3f8",
   "metadata": {},
   "source": [
    "### Brand and Model"
   ]
  },
  {
   "cell_type": "code",
   "execution_count": 283,
   "id": "870de3b4",
   "metadata": {},
   "outputs": [],
   "source": [
    "df['brand_model'] = df.brand + '_' + df.model"
   ]
  },
  {
   "cell_type": "code",
   "execution_count": 284,
   "id": "14299d0a",
   "metadata": {},
   "outputs": [
    {
     "data": {
      "text/plain": [
       "127"
      ]
     },
     "execution_count": 284,
     "metadata": {},
     "output_type": "execute_result"
    }
   ],
   "source": [
    "len(df.model.unique())"
   ]
  },
  {
   "cell_type": "code",
   "execution_count": 285,
   "id": "36e41cb9",
   "metadata": {},
   "outputs": [
    {
     "data": {
      "text/plain": [
       "180"
      ]
     },
     "execution_count": 285,
     "metadata": {},
     "output_type": "execute_result"
    }
   ],
   "source": [
    "len(df.brand_model.unique())"
   ]
  },
  {
   "cell_type": "markdown",
   "id": "00679b82",
   "metadata": {},
   "source": [
    "* We have more caregories when joining brand and model than with model separately\n",
    "* It should be the same amount unless there are models from different brands with the same name"
   ]
  },
  {
   "cell_type": "code",
   "execution_count": 286,
   "id": "8622d120",
   "metadata": {},
   "outputs": [
    {
     "name": "stdout",
     "output_type": "stream",
     "text": [
      "These 13:\n",
      " {'door', 'doors', 'pk', 'sport', 'cargo', 'pickup', 'wagon', '1500', 'cutaway', 'mpv', 'van', 'coupe', 'cab'}\n"
     ]
    }
   ],
   "source": [
    "repeated = set()\n",
    "non_repeated = set()\n",
    "for l in df.sort_values('brand', axis=0).groupby('brand', axis=0)['model'].unique():\n",
    "    for i in l:\n",
    "        if i not in non_repeated:\n",
    "            non_repeated.add(i)\n",
    "        else:\n",
    "            repeated.add(i)\n",
    "print(f'These {len(repeated)}:\\n', repeated)"
   ]
  },
  {
   "cell_type": "code",
   "execution_count": 287,
   "id": "5ec20d8c",
   "metadata": {},
   "outputs": [],
   "source": [
    "df.drop(columns=['brand', 'model'], inplace=True)"
   ]
  },
  {
   "cell_type": "code",
   "execution_count": 288,
   "id": "d1b65673",
   "metadata": {},
   "outputs": [
    {
     "data": {
      "text/plain": [
       "Index(['price', 'year', 'title_status', 'mileage', 'color', 'state',\n",
       "       'condition', 'brand_model'],\n",
       "      dtype='object')"
      ]
     },
     "execution_count": 288,
     "metadata": {},
     "output_type": "execute_result"
    }
   ],
   "source": [
    "df.columns"
   ]
  },
  {
   "cell_type": "markdown",
   "id": "e910f65a",
   "metadata": {},
   "source": [
    "## Reduction of Categorical Variables"
   ]
  },
  {
   "cell_type": "markdown",
   "id": "5338b35d",
   "metadata": {},
   "source": [
    "### Decision Trees\n",
    "* Regression Tree\n",
    "* Random Forest\n",
    "* Bagging\n",
    "* Boosting"
   ]
  },
  {
   "cell_type": "code",
   "execution_count": 289,
   "id": "b6d40a87",
   "metadata": {},
   "outputs": [],
   "source": [
    "from sklearn.model_selection import train_test_split\n",
    "from sklearn import preprocessing\n",
    "from sklearn.tree import DecisionTreeRegressor\n",
    "from sklearn.ensemble import RandomForestRegressor\n",
    "from sklearn.ensemble import GradientBoostingRegressor\n",
    "from sklearn.ensemble import BaggingRegressor\n",
    "from sklearn import tree"
   ]
  },
  {
   "cell_type": "code",
   "execution_count": 290,
   "id": "0adc538b",
   "metadata": {
    "scrolled": true
   },
   "outputs": [
    {
     "name": "stdout",
     "output_type": "stream",
     "text": [
      "color 49\n",
      "state 44\n",
      "brand_model 180\n"
     ]
    }
   ],
   "source": [
    "for i in ['color', 'state', 'brand_model']:\n",
    "    print(i, len(df[i].unique()))  "
   ]
  },
  {
   "cell_type": "markdown",
   "id": "f38d0566",
   "metadata": {},
   "source": [
    "We'll try the 4 kinds of imported trees with label encoding and one-hot encoding"
   ]
  },
  {
   "cell_type": "markdown",
   "id": "303ab5fc",
   "metadata": {},
   "source": [
    "### Variable Encoding"
   ]
  },
  {
   "cell_type": "code",
   "execution_count": 291,
   "id": "5aae1699",
   "metadata": {},
   "outputs": [],
   "source": [
    "df_le = df.copy()\n",
    "df_oh = df.copy()"
   ]
  },
  {
   "cell_type": "markdown",
   "id": "a1f3b9a8",
   "metadata": {},
   "source": [
    "#### Label Encoding"
   ]
  },
  {
   "cell_type": "code",
   "execution_count": 292,
   "id": "fb084532",
   "metadata": {},
   "outputs": [],
   "source": [
    "le = preprocessing.LabelEncoder()\n",
    "\n",
    "df_le.brand_model = le.fit_transform(df_le.brand_model)\n",
    "df_le.state = le.fit_transform(df_le.state)\n",
    "df_le.color = le.fit_transform(df_le.color)"
   ]
  },
  {
   "cell_type": "markdown",
   "id": "b535f29c",
   "metadata": {},
   "source": [
    "#### One-hot Encoding"
   ]
  },
  {
   "cell_type": "code",
   "execution_count": 293,
   "id": "6b807bdf",
   "metadata": {},
   "outputs": [],
   "source": [
    "ohe = preprocessing.OneHotEncoder()\n",
    "\n",
    "ohe.fit(df_oh.brand_model.unique().reshape(-1, 1))\n",
    "df_oh = df_oh.join(pd.DataFrame.sparse.from_spmatrix(ohe.transform(np.asarray(df_oh.brand_model).reshape(-1, 1)), columns=ohe.categories_), on=None, how='outer')\n",
    "df_oh.drop(columns=['brand_model'], inplace=True)\n",
    "\n",
    "ohe.fit(df_oh.state.unique().reshape(-1, 1))\n",
    "df_oh = df_oh.join(pd.DataFrame.sparse.from_spmatrix(ohe.transform(np.asarray(df_oh.state).reshape(-1, 1)), columns=ohe.categories_), on=None, how='outer')\n",
    "df_oh.drop(columns=['state'], inplace=True)\n",
    "\n",
    "ohe.fit(df_oh.color.unique().reshape(-1, 1))\n",
    "df_oh = df_oh.join(pd.DataFrame.sparse.from_spmatrix(ohe.transform(np.asarray(df_oh.color).reshape(-1, 1)), columns=ohe.categories_), on=None, how='outer')\n",
    "df_oh.drop(columns=['color'], inplace=True)"
   ]
  },
  {
   "cell_type": "markdown",
   "id": "1d98067f",
   "metadata": {},
   "source": [
    "### Trees with Label Encoding"
   ]
  },
  {
   "cell_type": "code",
   "execution_count": 590,
   "id": "681ee182",
   "metadata": {},
   "outputs": [],
   "source": [
    "from sklearn.model_selection import cross_val_score\n",
    "from sklearn.model_selection import KFold\n",
    "from sklearn.model_selection import StratifiedKFold\n"
   ]
  },
  {
   "cell_type": "code",
   "execution_count": 591,
   "id": "709212cf",
   "metadata": {},
   "outputs": [],
   "source": [
    "X_train, X_test, y_train, y_test = train_test_split(df_le.loc[:, df_le.columns != 'price'], df_le.price, test_size=0.25)"
   ]
  },
  {
   "cell_type": "code",
   "execution_count": 592,
   "id": "2d7d5678",
   "metadata": {},
   "outputs": [],
   "source": [
    "shuffle_5 = KFold(n_splits=5, shuffle=True)\n",
    "strat_shuffle_5 = StratifiedKFold(n_splits=5, shuffle=True)"
   ]
  },
  {
   "cell_type": "markdown",
   "id": "11193809",
   "metadata": {},
   "source": [
    "#### Regression Tree"
   ]
  },
  {
   "cell_type": "code",
   "execution_count": 596,
   "id": "26b570ae",
   "metadata": {},
   "outputs": [
    {
     "name": "stdout",
     "output_type": "stream",
     "text": [
      "scores: [0.56178017 0.49522481 0.5023004  0.51857677 0.48450612]\n",
      "average 0.5124776533297548\n",
      "std: 0.02702436424970803\n"
     ]
    }
   ],
   "source": [
    "regression_tree = DecisionTreeRegressor(random_state=0, min_samples_leaf=20)\n",
    "reg_tree_scores = cross_val_score(regression_tree, df_le.loc[:, df_le.columns != 'price'], df_le.price, cv=shuffle_5)\n",
    "print(f\"scores: {reg_tree_scores}\",\n",
    "      f\"average {np.mean(reg_tree_scores)}\",\n",
    "      f\"std: {np.std(reg_tree_scores)}\",\n",
    "      sep='\\n') "
   ]
  },
  {
   "cell_type": "code",
   "execution_count": 597,
   "id": "374a11d6",
   "metadata": {},
   "outputs": [
    {
     "data": {
      "text/plain": [
       "0.520147918262903"
      ]
     },
     "execution_count": 597,
     "metadata": {},
     "output_type": "execute_result"
    }
   ],
   "source": [
    "regression_tree = DecisionTreeRegressor(random_state=0, min_samples_leaf=20)\n",
    "regression_tree.fit(X_train, y_train)\n",
    "regression_tree.score(X_test, y_test)"
   ]
  },
  {
   "cell_type": "code",
   "execution_count": 598,
   "id": "32e48f15",
   "metadata": {
    "scrolled": true
   },
   "outputs": [
    {
     "name": "stdout",
     "output_type": "stream",
     "text": [
      "MSE: 467719514.3792\n",
      "Squared MSE: 21626.823954968513\n",
      "MAE: 18119.832\n",
      "performs 12 splits\n",
      "Ends with 73 leaves\n"
     ]
    }
   ],
   "source": [
    "reg_pred = regression_tree.apply(X_test)\n",
    "print(f'MSE: {sum((reg_pred - y_test)**2) / len(y_test)}',\n",
    "     f'Squared MSE: {np.sqrt(sum((reg_pred - y_test)**2) / len(y_test))}',\n",
    "     f'MAE: {sum(abs(reg_pred - y_test)) / len(y_test)}',\n",
    "     f'performs {regression_tree.get_depth()} splits',\n",
    "      f'Ends with {regression_tree.get_n_leaves()} leaves', sep='\\n')"
   ]
  },
  {
   "cell_type": "code",
   "execution_count": 599,
   "id": "806cc0f4",
   "metadata": {},
   "outputs": [
    {
     "data": {
      "text/plain": [
       "145"
      ]
     },
     "execution_count": 599,
     "metadata": {},
     "output_type": "execute_result"
    }
   ],
   "source": [
    "regression_tree.tree_.node_count"
   ]
  },
  {
   "cell_type": "code",
   "execution_count": 600,
   "id": "f47f5023",
   "metadata": {
    "scrolled": true
   },
   "outputs": [
    {
     "data": {
      "text/plain": [
       "73"
      ]
     },
     "execution_count": 600,
     "metadata": {},
     "output_type": "execute_result"
    }
   ],
   "source": [
    "regression_tree.get_n_leaves()"
   ]
  },
  {
   "cell_type": "code",
   "execution_count": 601,
   "id": "d63cdd9c",
   "metadata": {
    "collapsed": true
   },
   "outputs": [
    {
     "name": "stdout",
     "output_type": "stream",
     "text": [
      "Help on class Tree in module sklearn.tree._tree:\n",
      "\n",
      "class Tree(builtins.object)\n",
      " |  Array-based representation of a binary decision tree.\n",
      " |  \n",
      " |  The binary tree is represented as a number of parallel arrays. The i-th\n",
      " |  element of each array holds information about the node `i`. Node 0 is the\n",
      " |  tree's root. You can find a detailed description of all arrays in\n",
      " |  `_tree.pxd`. NOTE: Some of the arrays only apply to either leaves or split\n",
      " |  nodes, resp. In this case the values of nodes of the other type are\n",
      " |  arbitrary!\n",
      " |  \n",
      " |  Attributes\n",
      " |  ----------\n",
      " |  node_count : int\n",
      " |      The number of nodes (internal nodes + leaves) in the tree.\n",
      " |  \n",
      " |  capacity : int\n",
      " |      The current capacity (i.e., size) of the arrays, which is at least as\n",
      " |      great as `node_count`.\n",
      " |  \n",
      " |  max_depth : int\n",
      " |      The depth of the tree, i.e. the maximum depth of its leaves.\n",
      " |  \n",
      " |  children_left : array of int, shape [node_count]\n",
      " |      children_left[i] holds the node id of the left child of node i.\n",
      " |      For leaves, children_left[i] == TREE_LEAF. Otherwise,\n",
      " |      children_left[i] > i. This child handles the case where\n",
      " |      X[:, feature[i]] <= threshold[i].\n",
      " |  \n",
      " |  children_right : array of int, shape [node_count]\n",
      " |      children_right[i] holds the node id of the right child of node i.\n",
      " |      For leaves, children_right[i] == TREE_LEAF. Otherwise,\n",
      " |      children_right[i] > i. This child handles the case where\n",
      " |      X[:, feature[i]] > threshold[i].\n",
      " |  \n",
      " |  feature : array of int, shape [node_count]\n",
      " |      feature[i] holds the feature to split on, for the internal node i.\n",
      " |  \n",
      " |  threshold : array of double, shape [node_count]\n",
      " |      threshold[i] holds the threshold for the internal node i.\n",
      " |  \n",
      " |  value : array of double, shape [node_count, n_outputs, max_n_classes]\n",
      " |      Contains the constant prediction value of each node.\n",
      " |  \n",
      " |  impurity : array of double, shape [node_count]\n",
      " |      impurity[i] holds the impurity (i.e., the value of the splitting\n",
      " |      criterion) at node i.\n",
      " |  \n",
      " |  n_node_samples : array of int, shape [node_count]\n",
      " |      n_node_samples[i] holds the number of training samples reaching node i.\n",
      " |  \n",
      " |  weighted_n_node_samples : array of int, shape [node_count]\n",
      " |      weighted_n_node_samples[i] holds the weighted number of training samples\n",
      " |      reaching node i.\n",
      " |  \n",
      " |  Methods defined here:\n",
      " |  \n",
      " |  __getstate__(...)\n",
      " |      Getstate re-implementation, for pickling.\n",
      " |  \n",
      " |  __reduce__(...)\n",
      " |      Reduce re-implementation, for pickling.\n",
      " |  \n",
      " |  __setstate__(...)\n",
      " |      Setstate re-implementation, for unpickling.\n",
      " |  \n",
      " |  apply(...)\n",
      " |      Finds the terminal region (=leaf node) for each sample in X.\n",
      " |  \n",
      " |  compute_feature_importances(...)\n",
      " |      Computes the importance of each feature (aka variable).\n",
      " |  \n",
      " |  compute_partial_dependence(...)\n",
      " |      Partial dependence of the response on the ``target_feature`` set.\n",
      " |      \n",
      " |      For each sample in ``X`` a tree traversal is performed.\n",
      " |      Each traversal starts from the root with weight 1.0.\n",
      " |      \n",
      " |      At each non-leaf node that splits on a target feature, either\n",
      " |      the left child or the right child is visited based on the feature\n",
      " |      value of the current sample, and the weight is not modified.\n",
      " |      At each non-leaf node that splits on a complementary feature,\n",
      " |      both children are visited and the weight is multiplied by the fraction\n",
      " |      of training samples which went to each child.\n",
      " |      \n",
      " |      At each leaf, the value of the node is multiplied by the current\n",
      " |      weight (weights sum to 1 for all visited terminal nodes).\n",
      " |      \n",
      " |      Parameters\n",
      " |      ----------\n",
      " |      X : view on 2d ndarray, shape (n_samples, n_target_features)\n",
      " |          The grid points on which the partial dependence should be\n",
      " |          evaluated.\n",
      " |      target_features : view on 1d ndarray, shape (n_target_features)\n",
      " |          The set of target features for which the partial dependence\n",
      " |          should be evaluated.\n",
      " |      out : view on 1d ndarray, shape (n_samples)\n",
      " |          The value of the partial dependence function on each grid\n",
      " |          point.\n",
      " |  \n",
      " |  decision_path(...)\n",
      " |      Finds the decision path (=node) for each sample in X.\n",
      " |  \n",
      " |  predict(...)\n",
      " |      Predict target for X.\n",
      " |  \n",
      " |  ----------------------------------------------------------------------\n",
      " |  Static methods defined here:\n",
      " |  \n",
      " |  __new__(*args, **kwargs) from builtins.type\n",
      " |      Create and return a new object.  See help(type) for accurate signature.\n",
      " |  \n",
      " |  ----------------------------------------------------------------------\n",
      " |  Data descriptors defined here:\n",
      " |  \n",
      " |  capacity\n",
      " |  \n",
      " |  children_left\n",
      " |  \n",
      " |  children_right\n",
      " |  \n",
      " |  feature\n",
      " |  \n",
      " |  impurity\n",
      " |  \n",
      " |  max_depth\n",
      " |  \n",
      " |  max_n_classes\n",
      " |  \n",
      " |  n_classes\n",
      " |  \n",
      " |  n_features\n",
      " |  \n",
      " |  n_leaves\n",
      " |  \n",
      " |  n_node_samples\n",
      " |  \n",
      " |  n_outputs\n",
      " |  \n",
      " |  node_count\n",
      " |  \n",
      " |  threshold\n",
      " |  \n",
      " |  value\n",
      " |  \n",
      " |  weighted_n_node_samples\n",
      " |  \n",
      " |  ----------------------------------------------------------------------\n",
      " |  Data and other attributes defined here:\n",
      " |  \n",
      " |  __pyx_vtable__ = <capsule object NULL>\n",
      "\n"
     ]
    }
   ],
   "source": [
    "help(tree._tree.Tree)"
   ]
  },
  {
   "cell_type": "markdown",
   "id": "fcff4005",
   "metadata": {},
   "source": [
    "#### Random Forest Regressor"
   ]
  },
  {
   "cell_type": "code",
   "execution_count": 606,
   "id": "f287586c",
   "metadata": {
    "scrolled": true
   },
   "outputs": [
    {
     "name": "stdout",
     "output_type": "stream",
     "text": [
      "scores: [0.64583656 0.67661684 0.638459   0.72869513 0.66885956]\n",
      "average 0.6716934192529874\n",
      "std: 0.03179487304708608\n"
     ]
    }
   ],
   "source": [
    "r_forest = RandomForestRegressor(random_state=0)\n",
    "random_forest_scores = cross_val_score(r_forest, df_le.loc[:, df_le.columns != 'price'], df_le.price, cv=shuffle_5)\n",
    "print(f\"scores: {random_forest_scores}\",\n",
    "      f\"average {np.mean(random_forest_scores)}\",\n",
    "      f\"std: {np.std(random_forest_scores)}\",\n",
    "      sep='\\n') "
   ]
  },
  {
   "cell_type": "code",
   "execution_count": 608,
   "id": "bad732c7",
   "metadata": {
    "scrolled": true
   },
   "outputs": [
    {
     "data": {
      "text/plain": [
       "0.6758106250577346"
      ]
     },
     "execution_count": 608,
     "metadata": {},
     "output_type": "execute_result"
    }
   ],
   "source": [
    "r_forest = RandomForestRegressor()\n",
    "r_forest.fit(X_train, y_train)\n",
    "r_forest.score(X_test, y_test)\n"
   ]
  },
  {
   "cell_type": "code",
   "execution_count": 618,
   "id": "e780e076",
   "metadata": {},
   "outputs": [
    {
     "name": "stdout",
     "output_type": "stream",
     "text": [
      "MSE: 437194001.2132698\n",
      "Squared MSE: 20909.18461378324\n",
      "MAE: 17163.887199999994\n"
     ]
    }
   ],
   "source": [
    "rforest_pred = r_forest.apply(X_test)\n",
    "\n",
    "print(f'MSE: {sum((rforest_pred.mean(1) - y_test)**2) / len(y_test)}',\n",
    "     f'Squared MSE: {np.sqrt(sum((rforest_pred.mean(1) - y_test)**2) / len(y_test))}',\n",
    "     f'MAE: {sum(abs(rforest_pred.mean(1) - y_test)) / len(y_test)}',\n",
    "      sep='\\n')\n"
   ]
  },
  {
   "cell_type": "markdown",
   "id": "6ee0fd61",
   "metadata": {},
   "source": [
    "Can't assign leaves with this model as with the normal tree regressor. If we categorize the prize then we can make a classification for brand_model and use a random forest"
   ]
  },
  {
   "cell_type": "markdown",
   "id": "f90920e0",
   "metadata": {},
   "source": [
    "#### Gradient Boosting Regressor"
   ]
  },
  {
   "cell_type": "code",
   "execution_count": 620,
   "id": "06b82a89",
   "metadata": {
    "scrolled": true
   },
   "outputs": [
    {
     "name": "stdout",
     "output_type": "stream",
     "text": [
      "scores: [0.61719242 0.56566624 0.58919783 0.65807284 0.57455646]\n",
      "average 0.6009371584806287\n",
      "std: 0.03348584944622055\n"
     ]
    }
   ],
   "source": [
    "g_boost = GradientBoostingRegressor(random_state=0)\n",
    "g_boost_scores_le2 = cross_val_score(g_boost, df_le.loc[:, df_le.columns != 'price'], df_le.price, cv=shuffle_5)\n",
    "print(f\"scores: {g_boost_scores_le2}\",\n",
    "      f\"average {np.mean(g_boost_scores_le2)}\",\n",
    "      f\"std: {np.std(g_boost_scores_le2)}\",\n",
    "      sep='\\n') "
   ]
  },
  {
   "cell_type": "markdown",
   "id": "87361717",
   "metadata": {},
   "source": [
    "When using values for min_samples per leaf, 20 samples per leaf didn't change anything, so the number that it actually uses must be around that. Higher numbers decreased performance"
   ]
  },
  {
   "cell_type": "code",
   "execution_count": 621,
   "id": "d1b197e0",
   "metadata": {},
   "outputs": [
    {
     "data": {
      "text/plain": [
       "0.6123927162610854"
      ]
     },
     "execution_count": 621,
     "metadata": {},
     "output_type": "execute_result"
    }
   ],
   "source": [
    "g_boost = GradientBoostingRegressor()\n",
    "g_boost.fit(X_train, y_train)\n",
    "g_boost.score(X_test, y_test)"
   ]
  },
  {
   "cell_type": "code",
   "execution_count": 622,
   "id": "d12b3734",
   "metadata": {},
   "outputs": [
    {
     "name": "stdout",
     "output_type": "stream",
     "text": [
      "MSE: 469760418.6663953\n",
      "Squared MSE: 21673.957152915\n",
      "MAE: 18182.532303999997\n"
     ]
    }
   ],
   "source": [
    "g_boost_pred = g_boost.apply(X_test).mean(1)\n",
    "print(f'MSE: {sum((g_boost_pred - y_test)**2) / len(y_test)}',\n",
    "     f'Squared MSE: {np.sqrt(sum(((g_boost_pred) - y_test)**2) / len(y_test))}',\n",
    "     f'MAE: {sum(abs(g_boost_pred - y_test)) / len(y_test)}', sep='\\n')"
   ]
  },
  {
   "cell_type": "markdown",
   "id": "50625f8b",
   "metadata": {},
   "source": [
    "#### Bagging Regressor"
   ]
  },
  {
   "cell_type": "code",
   "execution_count": 623,
   "id": "5bb748f4",
   "metadata": {},
   "outputs": [
    {
     "data": {
      "text/plain": [
       "array([0.61203179, 0.65933363, 0.68638552, 0.62828165, 0.57384144])"
      ]
     },
     "execution_count": 623,
     "metadata": {},
     "output_type": "execute_result"
    }
   ],
   "source": [
    "bagging = BaggingRegressor(random_state=0)\n",
    "cross_val_score(bagging, df_le.loc[:, df_le.columns != 'price'], df_le.price, cv=shuffle_5)"
   ]
  },
  {
   "cell_type": "code",
   "execution_count": 624,
   "id": "2fccba94",
   "metadata": {},
   "outputs": [
    {
     "data": {
      "text/plain": [
       "0.6428474726996098"
      ]
     },
     "execution_count": 624,
     "metadata": {},
     "output_type": "execute_result"
    }
   ],
   "source": [
    "bagging = BaggingRegressor()\n",
    "bagging.fit(X_train, y_train)\n",
    "bagging.score(X_test, y_test)"
   ]
  },
  {
   "cell_type": "code",
   "execution_count": 625,
   "id": "b1a17b8a",
   "metadata": {},
   "outputs": [
    {
     "name": "stdout",
     "output_type": "stream",
     "text": [
      "MSE: 49702768.536928\n",
      "Squared MSE: 7050.019045146474\n",
      "MAE: 4635.219839999999\n"
     ]
    }
   ],
   "source": [
    "print(f'MSE: {sum((bagging.predict(X_test) - y_test)**2) / len(y_test)}',\n",
    "     f'Squared MSE: {np.sqrt(sum((bagging.predict(X_test) - y_test)**2) / len(y_test))}',\n",
    "     f'MAE: {sum(abs(bagging.predict(X_test) - y_test)) / len(y_test)}', sep='\\n')"
   ]
  },
  {
   "cell_type": "markdown",
   "id": "b26705b0",
   "metadata": {},
   "source": [
    "## Trees with One-Hot Encoding"
   ]
  },
  {
   "cell_type": "code",
   "execution_count": 626,
   "id": "25fa17db",
   "metadata": {},
   "outputs": [],
   "source": [
    "X_otrain, X_otest, y_otrain, y_otest = train_test_split(df_oh.loc[:, df_oh.columns != 'price'], df_oh.price, test_size=0.25)"
   ]
  },
  {
   "cell_type": "markdown",
   "id": "0abc6040",
   "metadata": {},
   "source": [
    "#### Regression Tree"
   ]
  },
  {
   "cell_type": "code",
   "execution_count": 628,
   "id": "c74c21f4",
   "metadata": {},
   "outputs": [
    {
     "name": "stderr",
     "output_type": "stream",
     "text": [
      "/Users/javiermazonechevarria/.pyenv/versions/3.8.9/envs/test1/lib/python3.8/site-packages/sklearn/utils/validation.py:572: UserWarning: pandas.DataFrame with sparse columns found.It will be converted to a dense numpy array.\n",
      "  warnings.warn(\n",
      "/Users/javiermazonechevarria/.pyenv/versions/3.8.9/envs/test1/lib/python3.8/site-packages/sklearn/utils/validation.py:572: UserWarning: pandas.DataFrame with sparse columns found.It will be converted to a dense numpy array.\n",
      "  warnings.warn(\n",
      "/Users/javiermazonechevarria/.pyenv/versions/3.8.9/envs/test1/lib/python3.8/site-packages/sklearn/utils/validation.py:572: UserWarning: pandas.DataFrame with sparse columns found.It will be converted to a dense numpy array.\n",
      "  warnings.warn(\n",
      "/Users/javiermazonechevarria/.pyenv/versions/3.8.9/envs/test1/lib/python3.8/site-packages/sklearn/utils/validation.py:572: UserWarning: pandas.DataFrame with sparse columns found.It will be converted to a dense numpy array.\n",
      "  warnings.warn(\n",
      "/Users/javiermazonechevarria/.pyenv/versions/3.8.9/envs/test1/lib/python3.8/site-packages/sklearn/utils/validation.py:572: UserWarning: pandas.DataFrame with sparse columns found.It will be converted to a dense numpy array.\n",
      "  warnings.warn(\n",
      "/Users/javiermazonechevarria/.pyenv/versions/3.8.9/envs/test1/lib/python3.8/site-packages/sklearn/utils/validation.py:572: UserWarning: pandas.DataFrame with sparse columns found.It will be converted to a dense numpy array.\n",
      "  warnings.warn(\n",
      "/Users/javiermazonechevarria/.pyenv/versions/3.8.9/envs/test1/lib/python3.8/site-packages/sklearn/utils/validation.py:572: UserWarning: pandas.DataFrame with sparse columns found.It will be converted to a dense numpy array.\n",
      "  warnings.warn(\n",
      "/Users/javiermazonechevarria/.pyenv/versions/3.8.9/envs/test1/lib/python3.8/site-packages/sklearn/utils/validation.py:572: UserWarning: pandas.DataFrame with sparse columns found.It will be converted to a dense numpy array.\n",
      "  warnings.warn(\n",
      "/Users/javiermazonechevarria/.pyenv/versions/3.8.9/envs/test1/lib/python3.8/site-packages/sklearn/utils/validation.py:572: UserWarning: pandas.DataFrame with sparse columns found.It will be converted to a dense numpy array.\n",
      "  warnings.warn(\n"
     ]
    },
    {
     "name": "stdout",
     "output_type": "stream",
     "text": [
      "scores: [0.414895   0.45694476 0.4303947  0.47386925 0.50379121]\n",
      "average 0.4559789826492304\n",
      "std: 0.031462525634026815\n"
     ]
    },
    {
     "name": "stderr",
     "output_type": "stream",
     "text": [
      "/Users/javiermazonechevarria/.pyenv/versions/3.8.9/envs/test1/lib/python3.8/site-packages/sklearn/utils/validation.py:572: UserWarning: pandas.DataFrame with sparse columns found.It will be converted to a dense numpy array.\n",
      "  warnings.warn(\n"
     ]
    }
   ],
   "source": [
    "regression_tree_oh = DecisionTreeRegressor(random_state=0)\n",
    "reg_tree_oh_scores = cross_val_score(regression_tree_oh, df_oh.loc[:, df_oh.columns != 'price'], df_oh.price, cv=shuffle_5)\n",
    "\n",
    "print(f\"scores: {reg_tree_oh_scores}\",\n",
    "      f\"average {np.mean(reg_tree_oh_scores)}\",\n",
    "      f\"std: {np.std(reg_tree_oh_scores)}\",\n",
    "      sep='\\n') \n"
   ]
  },
  {
   "cell_type": "code",
   "execution_count": 629,
   "id": "28259d5a",
   "metadata": {},
   "outputs": [
    {
     "name": "stderr",
     "output_type": "stream",
     "text": [
      "/Users/javiermazonechevarria/.pyenv/versions/3.8.9/envs/test1/lib/python3.8/site-packages/sklearn/utils/validation.py:572: UserWarning: pandas.DataFrame with sparse columns found.It will be converted to a dense numpy array.\n",
      "  warnings.warn(\n",
      "/Users/javiermazonechevarria/.pyenv/versions/3.8.9/envs/test1/lib/python3.8/site-packages/sklearn/utils/validation.py:572: UserWarning: pandas.DataFrame with sparse columns found.It will be converted to a dense numpy array.\n",
      "  warnings.warn(\n"
     ]
    },
    {
     "data": {
      "text/plain": [
       "0.42104007830207457"
      ]
     },
     "execution_count": 629,
     "metadata": {},
     "output_type": "execute_result"
    }
   ],
   "source": [
    "regression_tree_oh = DecisionTreeRegressor(random_state=0)\n",
    "regression_tree_oh.fit(X_otrain, y_otrain)\n",
    "regression_tree_oh.score(X_otest, y_otest)"
   ]
  },
  {
   "cell_type": "markdown",
   "id": "c7420f51",
   "metadata": {},
   "source": [
    "#### Random Forest Regressor"
   ]
  },
  {
   "cell_type": "code",
   "execution_count": 630,
   "id": "1a8b95ce",
   "metadata": {},
   "outputs": [
    {
     "name": "stderr",
     "output_type": "stream",
     "text": [
      "/Users/javiermazonechevarria/.pyenv/versions/3.8.9/envs/test1/lib/python3.8/site-packages/sklearn/utils/validation.py:572: UserWarning: pandas.DataFrame with sparse columns found.It will be converted to a dense numpy array.\n",
      "  warnings.warn(\n",
      "/Users/javiermazonechevarria/.pyenv/versions/3.8.9/envs/test1/lib/python3.8/site-packages/sklearn/utils/validation.py:572: UserWarning: pandas.DataFrame with sparse columns found.It will be converted to a dense numpy array.\n",
      "  warnings.warn(\n",
      "/Users/javiermazonechevarria/.pyenv/versions/3.8.9/envs/test1/lib/python3.8/site-packages/sklearn/utils/validation.py:572: UserWarning: pandas.DataFrame with sparse columns found.It will be converted to a dense numpy array.\n",
      "  warnings.warn(\n",
      "/Users/javiermazonechevarria/.pyenv/versions/3.8.9/envs/test1/lib/python3.8/site-packages/sklearn/utils/validation.py:572: UserWarning: pandas.DataFrame with sparse columns found.It will be converted to a dense numpy array.\n",
      "  warnings.warn(\n",
      "/Users/javiermazonechevarria/.pyenv/versions/3.8.9/envs/test1/lib/python3.8/site-packages/sklearn/utils/validation.py:572: UserWarning: pandas.DataFrame with sparse columns found.It will be converted to a dense numpy array.\n",
      "  warnings.warn(\n",
      "/Users/javiermazonechevarria/.pyenv/versions/3.8.9/envs/test1/lib/python3.8/site-packages/sklearn/utils/validation.py:572: UserWarning: pandas.DataFrame with sparse columns found.It will be converted to a dense numpy array.\n",
      "  warnings.warn(\n",
      "/Users/javiermazonechevarria/.pyenv/versions/3.8.9/envs/test1/lib/python3.8/site-packages/sklearn/utils/validation.py:572: UserWarning: pandas.DataFrame with sparse columns found.It will be converted to a dense numpy array.\n",
      "  warnings.warn(\n",
      "/Users/javiermazonechevarria/.pyenv/versions/3.8.9/envs/test1/lib/python3.8/site-packages/sklearn/utils/validation.py:572: UserWarning: pandas.DataFrame with sparse columns found.It will be converted to a dense numpy array.\n",
      "  warnings.warn(\n",
      "/Users/javiermazonechevarria/.pyenv/versions/3.8.9/envs/test1/lib/python3.8/site-packages/sklearn/utils/validation.py:572: UserWarning: pandas.DataFrame with sparse columns found.It will be converted to a dense numpy array.\n",
      "  warnings.warn(\n"
     ]
    },
    {
     "name": "stdout",
     "output_type": "stream",
     "text": [
      "scores: [0.63039805 0.67800809 0.6464352  0.73568807 0.6450471 ]\n",
      "average 0.6671153029429172\n",
      "std: 0.037639623178616737\n"
     ]
    },
    {
     "name": "stderr",
     "output_type": "stream",
     "text": [
      "/Users/javiermazonechevarria/.pyenv/versions/3.8.9/envs/test1/lib/python3.8/site-packages/sklearn/utils/validation.py:572: UserWarning: pandas.DataFrame with sparse columns found.It will be converted to a dense numpy array.\n",
      "  warnings.warn(\n"
     ]
    }
   ],
   "source": [
    "rabdom_forest_oh = RandomForestRegressor(random_state=0)\n",
    "rabdom_forest_oh_scores = cross_val_score(rabdom_forest_oh, df_oh.loc[:, df_oh.columns != 'price'], df_oh.price, cv=shuffle_5)\n",
    "print(f\"scores: {rabdom_forest_oh_scores}\",\n",
    "      f\"average {np.mean(rabdom_forest_oh_scores)}\",\n",
    "      f\"std: {np.std(rabdom_forest_oh_scores)}\",\n",
    "      sep='\\n')  "
   ]
  },
  {
   "cell_type": "code",
   "execution_count": 631,
   "id": "7cecb07d",
   "metadata": {},
   "outputs": [
    {
     "name": "stderr",
     "output_type": "stream",
     "text": [
      "/Users/javiermazonechevarria/.pyenv/versions/3.8.9/envs/test1/lib/python3.8/site-packages/sklearn/utils/validation.py:572: UserWarning: pandas.DataFrame with sparse columns found.It will be converted to a dense numpy array.\n",
      "  warnings.warn(\n",
      "/Users/javiermazonechevarria/.pyenv/versions/3.8.9/envs/test1/lib/python3.8/site-packages/sklearn/utils/validation.py:572: UserWarning: pandas.DataFrame with sparse columns found.It will be converted to a dense numpy array.\n",
      "  warnings.warn(\n"
     ]
    },
    {
     "data": {
      "text/plain": [
       "0.6824625708255794"
      ]
     },
     "execution_count": 631,
     "metadata": {},
     "output_type": "execute_result"
    }
   ],
   "source": [
    "rabdom_forest_oh = RandomForestRegressor(random_state=0)\n",
    "rabdom_forest_oh.fit(X_otrain, y_otrain)\n",
    "rabdom_forest_oh.score(X_otest, y_otest)"
   ]
  },
  {
   "cell_type": "markdown",
   "id": "bb2e8c68",
   "metadata": {},
   "source": [
    "#### Gradient Boosting Regressor"
   ]
  },
  {
   "cell_type": "code",
   "execution_count": 387,
   "id": "8caa6426",
   "metadata": {},
   "outputs": [
    {
     "name": "stderr",
     "output_type": "stream",
     "text": [
      "/Users/javiermazonechevarria/.pyenv/versions/3.8.9/envs/test1/lib/python3.8/site-packages/sklearn/model_selection/_split.py:666: UserWarning: The least populated class in y has only 1 members, which is less than n_splits=5.\n",
      "  warnings.warn((\"The least populated class in y has only %d\"\n",
      "/Users/javiermazonechevarria/.pyenv/versions/3.8.9/envs/test1/lib/python3.8/site-packages/sklearn/utils/validation.py:572: UserWarning: pandas.DataFrame with sparse columns found.It will be converted to a dense numpy array.\n",
      "  warnings.warn(\n",
      "/Users/javiermazonechevarria/.pyenv/versions/3.8.9/envs/test1/lib/python3.8/site-packages/sklearn/utils/validation.py:572: UserWarning: pandas.DataFrame with sparse columns found.It will be converted to a dense numpy array.\n",
      "  warnings.warn(\n",
      "/Users/javiermazonechevarria/.pyenv/versions/3.8.9/envs/test1/lib/python3.8/site-packages/sklearn/utils/validation.py:572: UserWarning: pandas.DataFrame with sparse columns found.It will be converted to a dense numpy array.\n",
      "  warnings.warn(\n",
      "/Users/javiermazonechevarria/.pyenv/versions/3.8.9/envs/test1/lib/python3.8/site-packages/sklearn/utils/validation.py:572: UserWarning: pandas.DataFrame with sparse columns found.It will be converted to a dense numpy array.\n",
      "  warnings.warn(\n",
      "/Users/javiermazonechevarria/.pyenv/versions/3.8.9/envs/test1/lib/python3.8/site-packages/sklearn/utils/validation.py:572: UserWarning: pandas.DataFrame with sparse columns found.It will be converted to a dense numpy array.\n",
      "  warnings.warn(\n",
      "/Users/javiermazonechevarria/.pyenv/versions/3.8.9/envs/test1/lib/python3.8/site-packages/sklearn/utils/validation.py:572: UserWarning: pandas.DataFrame with sparse columns found.It will be converted to a dense numpy array.\n",
      "  warnings.warn(\n",
      "/Users/javiermazonechevarria/.pyenv/versions/3.8.9/envs/test1/lib/python3.8/site-packages/sklearn/utils/validation.py:572: UserWarning: pandas.DataFrame with sparse columns found.It will be converted to a dense numpy array.\n",
      "  warnings.warn(\n",
      "/Users/javiermazonechevarria/.pyenv/versions/3.8.9/envs/test1/lib/python3.8/site-packages/sklearn/utils/validation.py:572: UserWarning: pandas.DataFrame with sparse columns found.It will be converted to a dense numpy array.\n",
      "  warnings.warn(\n",
      "/Users/javiermazonechevarria/.pyenv/versions/3.8.9/envs/test1/lib/python3.8/site-packages/sklearn/utils/validation.py:572: UserWarning: pandas.DataFrame with sparse columns found.It will be converted to a dense numpy array.\n",
      "  warnings.warn(\n"
     ]
    },
    {
     "name": "stdout",
     "output_type": "stream",
     "text": [
      "scores: [0.57522096 0.64409549 0.65792213 0.64912853 0.53694352]\n",
      "average 0.6126621261979638\n",
      "std: 0.047961383328935334\n"
     ]
    },
    {
     "name": "stderr",
     "output_type": "stream",
     "text": [
      "/Users/javiermazonechevarria/.pyenv/versions/3.8.9/envs/test1/lib/python3.8/site-packages/sklearn/utils/validation.py:572: UserWarning: pandas.DataFrame with sparse columns found.It will be converted to a dense numpy array.\n",
      "  warnings.warn(\n"
     ]
    }
   ],
   "source": [
    "gboosting_oh = GradientBoostingRegressor(random_state=0)\n",
    "gboosting_oh_scores = cross_val_score(gboosting_oh, df_oh.loc[:, df_oh.columns != 'price'], df_oh.price, cv=shuffle_5)\n",
    "print(f\"scores: {gboosting_oh_scores}\",\n",
    "      f\"average {np.mean(gboosting_oh_scores)}\",\n",
    "      f\"std: {np.std(gboosting_oh_scores)}\",\n",
    "      sep='\\n')"
   ]
  },
  {
   "cell_type": "code",
   "execution_count": 388,
   "id": "0d7a7505",
   "metadata": {},
   "outputs": [
    {
     "name": "stderr",
     "output_type": "stream",
     "text": [
      "/Users/javiermazonechevarria/.pyenv/versions/3.8.9/envs/test1/lib/python3.8/site-packages/sklearn/utils/validation.py:572: UserWarning: pandas.DataFrame with sparse columns found.It will be converted to a dense numpy array.\n",
      "  warnings.warn(\n",
      "/Users/javiermazonechevarria/.pyenv/versions/3.8.9/envs/test1/lib/python3.8/site-packages/sklearn/utils/validation.py:572: UserWarning: pandas.DataFrame with sparse columns found.It will be converted to a dense numpy array.\n",
      "  warnings.warn(\n"
     ]
    },
    {
     "data": {
      "text/plain": [
       "0.6489866349379433"
      ]
     },
     "execution_count": 388,
     "metadata": {},
     "output_type": "execute_result"
    }
   ],
   "source": [
    "gboosting_oh = GradientBoostingRegressor(random_state=0)\n",
    "gboosting_oh.fit(X_otrain, y_otrain)\n",
    "gboosting_oh.score(X_otest, y_otest)"
   ]
  },
  {
   "cell_type": "markdown",
   "id": "1d224e22",
   "metadata": {},
   "source": [
    "#### Bagging Regressor"
   ]
  },
  {
   "cell_type": "code",
   "execution_count": 389,
   "id": "a7163719",
   "metadata": {},
   "outputs": [
    {
     "name": "stderr",
     "output_type": "stream",
     "text": [
      "/Users/javiermazonechevarria/.pyenv/versions/3.8.9/envs/test1/lib/python3.8/site-packages/sklearn/model_selection/_split.py:666: UserWarning: The least populated class in y has only 1 members, which is less than n_splits=5.\n",
      "  warnings.warn((\"The least populated class in y has only %d\"\n",
      "/Users/javiermazonechevarria/.pyenv/versions/3.8.9/envs/test1/lib/python3.8/site-packages/sklearn/utils/validation.py:572: UserWarning: pandas.DataFrame with sparse columns found.It will be converted to a dense numpy array.\n",
      "  warnings.warn(\n",
      "/Users/javiermazonechevarria/.pyenv/versions/3.8.9/envs/test1/lib/python3.8/site-packages/sklearn/utils/validation.py:572: UserWarning: pandas.DataFrame with sparse columns found.It will be converted to a dense numpy array.\n",
      "  warnings.warn(\n",
      "/Users/javiermazonechevarria/.pyenv/versions/3.8.9/envs/test1/lib/python3.8/site-packages/sklearn/utils/validation.py:572: UserWarning: pandas.DataFrame with sparse columns found.It will be converted to a dense numpy array.\n",
      "  warnings.warn(\n",
      "/Users/javiermazonechevarria/.pyenv/versions/3.8.9/envs/test1/lib/python3.8/site-packages/sklearn/utils/validation.py:572: UserWarning: pandas.DataFrame with sparse columns found.It will be converted to a dense numpy array.\n",
      "  warnings.warn(\n",
      "/Users/javiermazonechevarria/.pyenv/versions/3.8.9/envs/test1/lib/python3.8/site-packages/sklearn/utils/validation.py:572: UserWarning: pandas.DataFrame with sparse columns found.It will be converted to a dense numpy array.\n",
      "  warnings.warn(\n",
      "/Users/javiermazonechevarria/.pyenv/versions/3.8.9/envs/test1/lib/python3.8/site-packages/sklearn/utils/validation.py:572: UserWarning: pandas.DataFrame with sparse columns found.It will be converted to a dense numpy array.\n",
      "  warnings.warn(\n",
      "/Users/javiermazonechevarria/.pyenv/versions/3.8.9/envs/test1/lib/python3.8/site-packages/sklearn/utils/validation.py:572: UserWarning: pandas.DataFrame with sparse columns found.It will be converted to a dense numpy array.\n",
      "  warnings.warn(\n",
      "/Users/javiermazonechevarria/.pyenv/versions/3.8.9/envs/test1/lib/python3.8/site-packages/sklearn/utils/validation.py:572: UserWarning: pandas.DataFrame with sparse columns found.It will be converted to a dense numpy array.\n",
      "  warnings.warn(\n",
      "/Users/javiermazonechevarria/.pyenv/versions/3.8.9/envs/test1/lib/python3.8/site-packages/sklearn/utils/validation.py:572: UserWarning: pandas.DataFrame with sparse columns found.It will be converted to a dense numpy array.\n",
      "  warnings.warn(\n"
     ]
    },
    {
     "name": "stdout",
     "output_type": "stream",
     "text": [
      "scores: [0.66563229 0.63142761 0.71510865 0.68739748 0.62967003]\n",
      "average 0.6658472119281347\n",
      "std: 0.032816602093166336\n"
     ]
    },
    {
     "name": "stderr",
     "output_type": "stream",
     "text": [
      "/Users/javiermazonechevarria/.pyenv/versions/3.8.9/envs/test1/lib/python3.8/site-packages/sklearn/utils/validation.py:572: UserWarning: pandas.DataFrame with sparse columns found.It will be converted to a dense numpy array.\n",
      "  warnings.warn(\n"
     ]
    }
   ],
   "source": [
    "bagging_oh = BaggingRegressor(random_state=0)\n",
    "bagging_scores = cross_val_score(bagging_oh, df_oh.loc[:, df_oh.columns != 'price'], df_oh.price, cv=shuffle_5)\n",
    "print(f\"scores: {bagging_scores}\",\n",
    "      f\"average {np.mean(bagging_scores)}\",\n",
    "      f\"std: {np.std(bagging_scores)}\",\n",
    "      sep='\\n')\n",
    "      "
   ]
  },
  {
   "cell_type": "code",
   "execution_count": 390,
   "id": "0406308a",
   "metadata": {},
   "outputs": [
    {
     "name": "stderr",
     "output_type": "stream",
     "text": [
      "/Users/javiermazonechevarria/.pyenv/versions/3.8.9/envs/test1/lib/python3.8/site-packages/sklearn/utils/validation.py:572: UserWarning: pandas.DataFrame with sparse columns found.It will be converted to a dense numpy array.\n",
      "  warnings.warn(\n",
      "/Users/javiermazonechevarria/.pyenv/versions/3.8.9/envs/test1/lib/python3.8/site-packages/sklearn/utils/validation.py:572: UserWarning: pandas.DataFrame with sparse columns found.It will be converted to a dense numpy array.\n",
      "  warnings.warn(\n"
     ]
    },
    {
     "data": {
      "text/plain": [
       "0.7150972545405895"
      ]
     },
     "execution_count": 390,
     "metadata": {},
     "output_type": "execute_result"
    }
   ],
   "source": [
    "bagging_oh = BaggingRegressor(random_state=0)\n",
    "bagging_oh.fit(X_otrain, y_otrain)\n",
    "bagging_oh.score(X_otest, y_otest)"
   ]
  },
  {
   "cell_type": "markdown",
   "id": "9fa1999c",
   "metadata": {},
   "source": [
    "* One hote Encoding Performs better than arbitrary encoding. Lets try to make a label encoding in which they are ordered by price\n",
    "* How do one-hot encoding and label encoding perform in terms of number of leaves? Do these classes automatically prune the trees?"
   ]
  },
  {
   "cell_type": "markdown",
   "id": "80f3b35c",
   "metadata": {},
   "source": [
    "## Discretizing output variable price and ordering categories by prize"
   ]
  },
  {
   "cell_type": "code",
   "execution_count": 552,
   "id": "313f7d33",
   "metadata": {},
   "outputs": [
    {
     "data": {
      "text/plain": [
       "(180,)"
      ]
     },
     "execution_count": 552,
     "metadata": {},
     "output_type": "execute_result"
    }
   ],
   "source": [
    "df.brand_model.unique().shape"
   ]
  },
  {
   "cell_type": "markdown",
   "id": "24e47f13",
   "metadata": {},
   "source": [
    "Since we have 180 different categories, we'll reduce them to one variable with 10 categories, each corresponding to on decile of the price distribution"
   ]
  },
  {
   "cell_type": "code",
   "execution_count": 396,
   "id": "ba4a9c9a",
   "metadata": {},
   "outputs": [],
   "source": [
    "df['price_range'] = pd.qcut(df.price, 10, labels=False)"
   ]
  },
  {
   "cell_type": "code",
   "execution_count": 546,
   "id": "4eaaaad7",
   "metadata": {
    "scrolled": true
   },
   "outputs": [
    {
     "data": {
      "text/html": [
       "<div>\n",
       "<style scoped>\n",
       "    .dataframe tbody tr th:only-of-type {\n",
       "        vertical-align: middle;\n",
       "    }\n",
       "\n",
       "    .dataframe tbody tr th {\n",
       "        vertical-align: top;\n",
       "    }\n",
       "\n",
       "    .dataframe thead th {\n",
       "        text-align: right;\n",
       "    }\n",
       "</style>\n",
       "<table border=\"1\" class=\"dataframe\">\n",
       "  <thead>\n",
       "    <tr style=\"text-align: right;\">\n",
       "      <th>price_range</th>\n",
       "      <th>0</th>\n",
       "      <th>1</th>\n",
       "      <th>2</th>\n",
       "      <th>3</th>\n",
       "      <th>4</th>\n",
       "      <th>5</th>\n",
       "      <th>6</th>\n",
       "      <th>7</th>\n",
       "      <th>8</th>\n",
       "      <th>9</th>\n",
       "    </tr>\n",
       "  </thead>\n",
       "  <tbody>\n",
       "    <tr>\n",
       "      <th>number of obs</th>\n",
       "      <td>252</td>\n",
       "      <td>250</td>\n",
       "      <td>248</td>\n",
       "      <td>257</td>\n",
       "      <td>249</td>\n",
       "      <td>243</td>\n",
       "      <td>251</td>\n",
       "      <td>249</td>\n",
       "      <td>250</td>\n",
       "      <td>250</td>\n",
       "    </tr>\n",
       "  </tbody>\n",
       "</table>\n",
       "</div>"
      ],
      "text/plain": [
       "price_range      0    1    2    3    4    5    6    7    8    9\n",
       "number of obs  252  250  248  257  249  243  251  249  250  250"
      ]
     },
     "execution_count": 546,
     "metadata": {},
     "output_type": "execute_result"
    }
   ],
   "source": [
    "df.groupby('price_range').apply(lambda x: len(x)).to_frame(name='number of obs').T"
   ]
  },
  {
   "cell_type": "code",
   "execution_count": 544,
   "id": "b67b9213",
   "metadata": {},
   "outputs": [
    {
     "data": {
      "text/plain": [
       "price_range\n",
       "0    [54, [ford_se, ford_door, dodge_van, dodge_doo...\n",
       "1    [56, [toyota_cruiser, dodge_mpv, chevrolet_pk,...\n",
       "2    [59, [dodge_coupe, ford_door, ford_mpv, ford_f...\n",
       "3    [49, [gmc_door, chevrolet_malibu, gmc_mpv, bui...\n",
       "4    [42, [buick_encore, chevrolet_door, mercedes-b...\n",
       "5    [59, [infiniti_q70, chevrolet_1500, chevrolet_...\n",
       "6    [46, [ford_door, kia_sorento, chrysler_pacific...\n",
       "7    [38, [ford_door, buick_enclave, buick_door, bm...\n",
       "8    [39, [chevrolet_1500, chevrolet_camaro, chrysl...\n",
       "9    [38, [ford_door, ford_srw, dodge_challenger, b...\n",
       "Name: brand_model, dtype: object"
      ]
     },
     "execution_count": 544,
     "metadata": {},
     "output_type": "execute_result"
    }
   ],
   "source": [
    "brand_groups = df.groupby('price_range').brand_model.apply(lambda x: [len(x.unique()), x.unique()])\n",
    "brand_groups"
   ]
  },
  {
   "cell_type": "code",
   "execution_count": 540,
   "id": "86c9231b",
   "metadata": {},
   "outputs": [
    {
     "name": "stdout",
     "output_type": "stream",
     "text": [
      "intersection of group 0 with group 1. 30 intersections: ['ford_wagon', 'honda_doors', 'dodge_van', 'gmc_door', 'ford_pk', 'ford_pickup', 'heartland_country', 'dodge_door', 'hyundai_door', 'nissan_door', 'chrysler_door', 'nissan_doors', 'ford_chassis', 'chevrolet_van', 'chevrolet_pickup', 'ford_mpv', 'ford_van', 'dodge_mpv', 'bmw_door', 'ford_fiesta', 'hyundai_doors', 'nissan_sentra', 'chevrolet_coupe', 'gmc_mpv', 'ford_door', 'chevrolet_door', 'nissan_mpv', 'jeep_door', 'ford_doors', 'honda_door']\n",
      "intersection of group 0 with group 2. 21 intersections: ['dodge_van', 'gmc_door', 'dodge_door', 'hyundai_door', 'chevrolet_sonic', 'nissan_door', 'nissan_doors', 'chevrolet_van', 'ford_mpv', 'ford_van', 'dodge_mpv', 'nissan_frontier', 'ford_fiesta', 'nissan_sentra', 'gmc_mpv', 'chevrolet_cruze', 'nissan_altima', 'nissan_note', 'ford_door', 'chevrolet_door', 'ford_doors']\n",
      "intersection of group 0 with group 3. 15 intersections: ['gmc_mpv', 'kia_door', 'chevrolet_van', 'nissan_altima', 'dodge_door', 'ford_van', 'ford_doors', 'buick_door', 'ford_door', 'gmc_door', 'chevrolet_door', 'nissan_door', 'nissan_doors', 'ford_chassis', 'nissan_sentra']\n",
      "intersection of group 0 with group 4. 7 intersections: ['nissan_altima', 'dodge_door', 'ford_door', 'nissan_frontier', 'bmw_door', 'chevrolet_door', 'ford_doors']\n",
      "intersection of group 0 with group 5. 10 intersections: ['ford_wagon', 'nissan_altima', 'dodge_door', 'ford_van', 'buick_door', 'nissan_frontier', 'ford_door', 'chevrolet_door', 'nissan_door', 'ford_doors']\n",
      "intersection of group 0 with group 6. 11 intersections: ['chevrolet_van', 'ford_wagon', 'dodge_door', 'ford_van', 'buick_door', 'dodge_van', 'nissan_frontier', 'ford_door', 'nissan_door', 'chevrolet_door', 'ford_doors']\n",
      "intersection of group 0 with group 7. 10 intersections: ['ford_wagon', 'ford_pickup', 'dodge_door', 'chrysler_van', 'ford_van', 'buick_door', 'ford_door', 'bmw_door', 'chevrolet_door', 'ford_doors']\n",
      "intersection of group 0 with group 8. 6 intersections: ['ford_wagon', 'dodge_door', 'ford_door', 'buick_door', 'chevrolet_door', 'ford_doors']\n",
      "intersection of group 0 with group 9. 4 intersections: ['chevrolet_door', 'ford_doors', 'ford_wagon', 'ford_door']\n",
      "intersection of group 1 with group 2. 28 intersections: ['dodge_journey', 'jeep_mpv', 'dodge_van', 'gmc_door', 'nissan_versa', 'chevrolet_trax', 'hyundai_door', 'dodge_door', 'chevrolet_colorado', 'nissan_door', 'nissan_doors', 'chevrolet_van', 'nissan_sedan', 'ford_mpv', 'ford_van', 'ford_f-150', 'dodge_mpv', 'ford_focus', 'ford_fiesta', 'nissan_rogue', 'nissan_sentra', 'dodge_doors', 'gmc_mpv', 'ford_door', 'chevrolet_door', 'dodge_pickup', 'chevrolet_malibu', 'ford_doors']\n",
      "intersection of group 1 with group 3. 22 intersections: ['dodge_journey', 'gmc_door', 'chevrolet_trax', 'dodge_door', 'chevrolet_colorado', 'nissan_door', 'nissan_doors', 'ford_chassis', 'ford_cab', 'chevrolet_van', 'ford_van', 'ford_cutaway', 'ford_focus', 'nissan_rogue', 'nissan_sentra', 'dodge_doors', 'gmc_mpv', 'ford_door', 'chevrolet_door', 'dodge_pickup', 'chevrolet_malibu', 'ford_doors']\n",
      "intersection of group 1 with group 4. 14 intersections: ['dodge_journey', 'chevrolet_trax', 'ford_cab', 'dodge_door', 'ford_f-150', 'ford_cutaway', 'ford_door', 'bmw_door', 'chevrolet_colorado', 'chevrolet_door', 'chevrolet_malibu', 'nissan_rogue', 'ford_doors', 'dodge_doors']\n",
      "intersection of group 1 with group 5. 15 intersections: ['dodge_journey', 'chevrolet_trax', 'ford_wagon', 'dodge_door', 'ford_van', 'ford_cutaway', 'ford_f-150', 'ford_door', 'chevrolet_door', 'chevrolet_colorado', 'nissan_door', 'chevrolet_malibu', 'nissan_rogue', 'ford_doors', 'dodge_doors']\n",
      "intersection of group 1 with group 6. 14 intersections: ['chevrolet_trax', 'chevrolet_van', 'ford_wagon', 'dodge_door', 'ford_f-150', 'ford_van', 'ford_door', 'dodge_van', 'chevrolet_door', 'chevrolet_colorado', 'nissan_door', 'ford_doors', 'nissan_rogue', 'dodge_doors']\n",
      "intersection of group 1 with group 7. 13 intersections: ['dodge_journey', 'ford_cab', 'ford_wagon', 'ford_pickup', 'dodge_door', 'ford_f-150', 'ford_van', 'ford_door', 'bmw_door', 'chevrolet_colorado', 'chevrolet_door', 'ford_doors', 'dodge_doors']\n",
      "intersection of group 1 with group 8. 8 intersections: ['ford_wagon', 'chevrolet_cutaway', 'dodge_door', 'ford_f-150', 'ford_door', 'chevrolet_door', 'chevrolet_colorado', 'ford_doors']\n",
      "intersection of group 1 with group 9. 5 intersections: ['ford_wagon', 'ford_f-150', 'ford_door', 'chevrolet_door', 'ford_doors']\n",
      "intersection of group 2 with group 3. 31 intersections: ['dodge_journey', 'gmc_door', 'ford_fusion', 'chevrolet_trax', 'dodge_door', 'infiniti_mpv', 'chevrolet_impala', 'chevrolet_colorado', 'nissan_door', 'nissan_doors', 'chevrolet_equinox', 'chevrolet_van', 'ford_van', 'ford_focus', 'ford_bus', 'nissan_rogue', 'nissan_sentra', 'dodge_doors', 'gmc_mpv', 'chevrolet_1500', 'nissan_altima', 'ford_edge', 'ford_door', 'chevrolet_door', 'ford_escape', 'nissan_sport', 'dodge_pickup', 'ford_hybrid', 'chevrolet_malibu', 'ford_doors', 'dodge_caravan']\n",
      "intersection of group 2 with group 4. 21 intersections: ['dodge_journey', 'ford_fusion', 'chevrolet_trax', 'dodge_door', 'infiniti_mpv', 'chevrolet_impala', 'chevrolet_colorado', 'chevrolet_equinox', 'ford_f-150', 'nissan_frontier', 'nissan_rogue', 'dodge_doors', 'nissan_altima', 'ford_door', 'chevrolet_door', 'ford_escape', 'nissan_sport', 'ford_hybrid', 'chevrolet_malibu', 'ford_doors', 'dodge_caravan']\n",
      "intersection of group 2 with group 5. 26 intersections: ['dodge_journey', 'ford_drw', 'ford_fusion', 'chevrolet_trax', 'dodge_door', 'chevrolet_impala', 'chevrolet_colorado', 'nissan_door', 'chevrolet_equinox', 'ford_f-150', 'ford_van', 'nissan_frontier', 'nissan_rogue', 'dodge_doors', 'chevrolet_1500', 'nissan_altima', 'ford_edge', 'ford_door', 'chevrolet_door', 'ford_escape', 'nissan_sport', 'honda_van', 'chevrolet_malibu', 'ford_hybrid', 'ford_doors', 'dodge_caravan']\n",
      "intersection of group 2 with group 6. 18 intersections: ['chevrolet_trax', 'chevrolet_1500', 'dodge_caravan', 'chevrolet_van', 'dodge_door', 'ford_f-150', 'ford_van', 'ford_edge', 'ford_door', 'dodge_van', 'nissan_frontier', 'chevrolet_colorado', 'nissan_door', 'chevrolet_door', 'ford_doors', 'nissan_rogue', 'dodge_doors', 'ford_fusion']\n",
      "intersection of group 2 with group 7. 13 intersections: ['dodge_journey', 'chevrolet_1500', 'ford_f-150', 'dodge_door', 'ford_van', 'ford_edge', 'ford_door', 'chevrolet_impala', 'chevrolet_door', 'chevrolet_colorado', 'ford_escape', 'ford_doors', 'dodge_doors']\n",
      "intersection of group 2 with group 8. 8 intersections: ['chevrolet_1500', 'dodge_door', 'ford_f-150', 'ford_edge', 'ford_door', 'chevrolet_door', 'chevrolet_colorado', 'ford_doors']\n",
      "intersection of group 2 with group 9. 7 intersections: ['chevrolet_1500', 'ford_f-150', 'ford_door', 'chevrolet_door', 'chevrolet_3500', 'ford_drw', 'ford_doors']\n",
      "intersection of group 3 with group 4. 27 intersections: ['dodge_journey', 'ford_ecosport', 'ford_fusion', 'chevrolet_trax', 'nissan_pathfinder', 'dodge_door', 'infiniti_mpv', 'chevrolet_impala', 'chevrolet_colorado', 'chevrolet_equinox', 'ford_cab', 'kia_sorento', 'ford_cutaway', 'nissan_rogue', 'dodge_doors', 'nissan_altima', 'ford_taurus', 'ford_door', 'dodge_charger', 'chevrolet_door', 'ford_escape', 'nissan_sport', 'ford_hybrid', 'chevrolet_malibu', 'buick_encore', 'ford_doors', 'dodge_caravan']\n",
      "intersection of group 3 with group 5. 29 intersections: ['dodge_journey', 'nissan_maxima', 'ford_fusion', 'chevrolet_trax', 'nissan_pathfinder', 'dodge_door', 'buick_door', 'chevrolet_impala', 'chevrolet_colorado', 'nissan_door', 'chevrolet_equinox', 'ford_van', 'ford_cutaway', 'ford_explorer', 'nissan_rogue', 'dodge_doors', 'chevrolet_1500', 'nissan_altima', 'ford_taurus', 'ford_edge', 'ford_door', 'dodge_charger', 'chevrolet_door', 'ford_escape', 'nissan_sport', 'ford_hybrid', 'chevrolet_malibu', 'ford_doors', 'dodge_caravan']\n",
      "intersection of group 3 with group 6. 21 intersections: ['ford_fusion', 'chevrolet_trax', 'nissan_pathfinder', 'dodge_door', 'buick_door', 'chevrolet_colorado', 'nissan_door', 'kia_sorento', 'chevrolet_van', 'ford_van', 'ford_explorer', 'nissan_rogue', 'dodge_doors', 'chevrolet_1500', 'ford_taurus', 'ford_edge', 'ford_door', 'dodge_charger', 'chevrolet_door', 'ford_doors', 'dodge_caravan']\n",
      "intersection of group 3 with group 7. 17 intersections: ['dodge_journey', 'ford_cab', 'chevrolet_1500', 'dodge_door', 'ford_van', 'ford_edge', 'buick_door', 'chevrolet_impala', 'chevrolet_traverse', 'chevrolet_colorado', 'ford_door', 'dodge_charger', 'chevrolet_door', 'ford_escape', 'ford_explorer', 'ford_doors', 'dodge_doors']\n",
      "intersection of group 3 with group 8. 13 intersections: ['chevrolet_1500', 'nissan_pathfinder', 'dodge_door', 'ford_edge', 'buick_door', 'chevrolet_traverse', 'ford_door', 'chevrolet_colorado', 'chevrolet_door', 'dodge_charger', 'bmw_series', 'ford_explorer', 'ford_doors']\n",
      "intersection of group 3 with group 9. 8 intersections: ['chevrolet_1500', 'ford_door', 'chevrolet_traverse', 'chevrolet_door', 'dodge_charger', 'bmw_series', 'ford_explorer', 'ford_doors']\n",
      "intersection of group 4 with group 5. 30 intersections: ['dodge_journey', 'ford_expedition', 'ford_fusion', 'chevrolet_trax', 'nissan_pathfinder', 'dodge_door', 'chevrolet_impala', 'chevrolet_colorado', 'jeep_compass', 'ford_transit', 'ford_mustang', 'chevrolet_equinox', 'ford_f-150', 'ford_cutaway', 'nissan_frontier', 'nissan_murano', 'nissan_rogue', 'dodge_doors', 'nissan_altima', 'ford_taurus', 'ford_door', 'dodge_charger', 'chevrolet_door', 'ford_escape', 'ford_flex', 'nissan_sport', 'ford_hybrid', 'chevrolet_malibu', 'ford_doors', 'dodge_caravan']\n",
      "intersection of group 4 with group 6. 22 intersections: ['ford_expedition', 'ford_fusion', 'chevrolet_trax', 'nissan_pathfinder', 'dodge_door', 'chevrolet_colorado', 'ford_transit', 'ford_mustang', 'ford_srw', 'kia_sorento', 'ford_f-150', 'nissan_frontier', 'nissan_murano', 'nissan_rogue', 'dodge_doors', 'ford_taurus', 'ford_door', 'dodge_charger', 'chevrolet_door', 'ford_flex', 'ford_doors', 'dodge_caravan']\n",
      "intersection of group 4 with group 7. 17 intersections: ['dodge_journey', 'ford_cab', 'dodge_door', 'ford_f-150', 'ford_door', 'chevrolet_impala', 'bmw_door', 'chevrolet_colorado', 'nissan_murano', 'ford_transit', 'dodge_charger', 'chevrolet_door', 'ford_flex', 'ford_mustang', 'ford_escape', 'ford_doors', 'dodge_doors']\n",
      "intersection of group 4 with group 8. 12 intersections: ['nissan_pathfinder', 'dodge_door', 'ford_f-150', 'ford_door', 'dodge_charger', 'chevrolet_door', 'chevrolet_colorado', 'ford_flex', 'ford_transit', 'ford_mustang', 'ford_doors', 'ford_srw']\n",
      "intersection of group 4 with group 9. 9 intersections: ['ford_expedition', 'ford_f-150', 'ford_door', 'dodge_charger', 'chevrolet_door', 'ford_transit', 'ford_mustang', 'ford_doors', 'ford_srw']\n",
      "intersection of group 5 with group 6. 33 intersections: ['ford_wagon', 'ford_expedition', 'jeep_cherokee', 'ford_fusion', 'chevrolet_trax', 'nissan_pathfinder', 'dodge_door', 'buick_door', 'chevrolet_colorado', 'nissan_titan', 'ford_transit', 'nissan_door', 'ford_mustang', 'chevrolet_camaro', 'ford_f-150', 'ford_van', 'nissan_frontier', 'cadillac_door', 'nissan_murano', 'ford_explorer', 'nissan_rogue', 'dodge_doors', 'chevrolet_1500', 'ford_taurus', 'ford_edge', 'ford_door', 'dodge_durango', 'chevrolet_door', 'dodge_charger', 'ford_flex', 'dodge_challenger', 'ford_doors', 'dodge_caravan']\n",
      "intersection of group 5 with group 7. 27 intersections: ['dodge_journey', 'nissan_armada', 'ford_wagon', 'dodge_door', 'buick_door', 'chevrolet_impala', 'chevrolet_colorado', 'nissan_titan', 'ford_transit', 'ford_mustang', 'chevrolet_camaro', 'ford_f-150', 'ford_van', 'cadillac_door', 'nissan_murano', 'ford_explorer', 'dodge_doors', 'chevrolet_1500', 'ford_edge', 'ford_door', 'dodge_charger', 'chevrolet_door', 'dodge_challenger', 'ford_flex', 'dodge_durango', 'ford_escape', 'ford_doors']\n",
      "intersection of group 5 with group 8. 23 intersections: ['nissan_armada', 'ford_wagon', 'nissan_pathfinder', 'dodge_door', 'buick_door', 'chevrolet_colorado', 'nissan_titan', 'ford_transit', 'ford_mustang', 'chevrolet_camaro', 'ford_f-150', 'bmw_x3', 'ford_explorer', 'chevrolet_1500', 'chevrolet_2500', 'ford_edge', 'ford_door', 'dodge_durango', 'chevrolet_door', 'dodge_charger', 'ford_flex', 'dodge_challenger', 'ford_doors']\n",
      "intersection of group 5 with group 9. 17 intersections: ['chevrolet_1500', 'ford_wagon', 'chevrolet_2500', 'ford_expedition', 'ford_f-150', 'ford_explorer', 'ford_door', 'dodge_charger', 'chevrolet_door', 'cadillac_door', 'dodge_challenger', 'ford_transit', 'dodge_durango', 'ford_drw', 'ford_mustang', 'ford_doors', 'ford_max']\n",
      "intersection of group 6 with group 7. 25 intersections: ['ford_wagon', 'chevrolet_ld', 'dodge_door', 'buick_door', 'chevrolet_colorado', 'nissan_titan', 'ford_transit', 'ford_mustang', 'chevrolet_camaro', 'ford_f-150', 'ford_van', 'chrysler_pacifica', 'cadillac_door', 'nissan_murano', 'ford_explorer', 'dodge_doors', 'chevrolet_1500', 'ford_edge', 'ford_door', 'dodge_charger', 'chevrolet_door', 'dodge_challenger', 'ford_flex', 'dodge_durango', 'ford_doors']\n",
      "intersection of group 6 with group 8. 26 intersections: ['ford_wagon', 'ford_ranger', 'chevrolet_tahoe', 'chevrolet_ld', 'ford_el', 'nissan_pathfinder', 'dodge_door', 'buick_door', 'chevrolet_colorado', 'nissan_titan', 'ford_transit', 'ford_mustang', 'chevrolet_camaro', 'ford_srw', 'ford_f-150', 'chrysler_pacifica', 'ford_explorer', 'chevrolet_1500', 'ford_edge', 'ford_door', 'dodge_durango', 'chevrolet_door', 'dodge_charger', 'ford_flex', 'dodge_challenger', 'ford_doors']\n",
      "intersection of group 6 with group 9. 17 intersections: ['chevrolet_1500', 'ford_wagon', 'ford_expedition', 'ford_f-150', 'ford_explorer', 'ford_door', 'dodge_charger', 'chevrolet_door', 'cadillac_door', 'dodge_challenger', 'ford_transit', 'dodge_durango', 'ford_ranger', 'chevrolet_tahoe', 'ford_mustang', 'ford_doors', 'ford_srw']\n",
      "intersection of group 7 with group 8. 24 intersections: ['nissan_armada', 'ford_wagon', 'ford_f-650', 'chevrolet_ld', 'dodge_door', 'buick_door', 'chevrolet_colorado', 'nissan_titan', 'ford_transit', 'ford_mustang', 'chevrolet_camaro', 'ford_f-150', 'chrysler_pacifica', 'chevrolet_traverse', 'ford_explorer', 'chevrolet_1500', 'ford_edge', 'ford_door', 'dodge_charger', 'chevrolet_door', 'dodge_challenger', 'ford_flex', 'dodge_durango', 'ford_doors']\n",
      "intersection of group 7 with group 9. 16 intersections: ['chevrolet_1500', 'ford_wagon', 'ford_f-650', 'ford_f-150', 'ford_explorer', 'chevrolet_traverse', 'ford_door', 'chevrolet_door', 'cadillac_door', 'dodge_challenger', 'ford_transit', 'dodge_charger', 'dodge_durango', 'buick_enclave', 'ford_mustang', 'ford_doors']\n",
      "intersection of group 8 with group 9. 21 intersections: ['ford_wagon', 'ford_f-650', 'chevrolet_tahoe', 'bmw_series', 'ford_ranger', 'mercedes-benz_gle', 'ford_transit', 'ford_mustang', 'ford_srw', 'chevrolet_suburban', 'ford_f-150', 'chevrolet_traverse', 'ford_explorer', 'chevrolet_1500', 'chevrolet_2500', 'ford_door', 'dodge_charger', 'chevrolet_door', 'dodge_challenger', 'dodge_durango', 'ford_doors']\n"
     ]
    }
   ],
   "source": [
    "for i, e in enumerate(brand_groups):\n",
    "    n = i\n",
    "    while n < (len(brand_groups)-1):\n",
    "        n += 1\n",
    "        intersect = list(set(e[1]).intersection(set(brand_groups[n][1])))\n",
    "        print(f'intersection of group {i} with group {n}. {len(intersect)} intersections: {intersect}')"
   ]
  },
  {
   "cell_type": "markdown",
   "id": "6f902c29",
   "metadata": {},
   "source": [
    "there are intersections among groups, but the further away from each other the less. By using the random forest we hope to get subgroups of brand_models that are better separated"
   ]
  },
  {
   "cell_type": "code",
   "execution_count": 579,
   "id": "c10efcc3",
   "metadata": {},
   "outputs": [
    {
     "data": {
      "text/html": [
       "<div>\n",
       "<style scoped>\n",
       "    .dataframe tbody tr th:only-of-type {\n",
       "        vertical-align: middle;\n",
       "    }\n",
       "\n",
       "    .dataframe tbody tr th {\n",
       "        vertical-align: top;\n",
       "    }\n",
       "\n",
       "    .dataframe thead th {\n",
       "        text-align: right;\n",
       "    }\n",
       "</style>\n",
       "<table border=\"1\" class=\"dataframe\">\n",
       "  <thead>\n",
       "    <tr style=\"text-align: right;\">\n",
       "      <th></th>\n",
       "      <th>Summary Statistics per Decile</th>\n",
       "    </tr>\n",
       "    <tr>\n",
       "      <th>price_range</th>\n",
       "      <th></th>\n",
       "    </tr>\n",
       "  </thead>\n",
       "  <tbody>\n",
       "    <tr>\n",
       "      <th>0</th>\n",
       "      <td>[0, 68.75, 2000.0, 3307.5, 4140, 1925.1, 1510.1]</td>\n",
       "    </tr>\n",
       "    <tr>\n",
       "      <th>1</th>\n",
       "      <td>[4150, 5100.0, 6220.0, 7300.0, 8000, 6192.7, 1199.9]</td>\n",
       "    </tr>\n",
       "    <tr>\n",
       "      <th>2</th>\n",
       "      <td>[8020, 9170.0, 10247.5, 10917.5, 11600, 10013.5, 1014.8]</td>\n",
       "    </tr>\n",
       "    <tr>\n",
       "      <th>3</th>\n",
       "      <td>[11621, 12780.0, 13500.0, 13995.0, 14700, 13378.4, 821.8]</td>\n",
       "    </tr>\n",
       "    <tr>\n",
       "      <th>4</th>\n",
       "      <td>[14750, 15322.0, 15800.0, 16500.0, 16900, 15843.9, 613.7]</td>\n",
       "    </tr>\n",
       "    <tr>\n",
       "      <th>5</th>\n",
       "      <td>[16995, 17700.0, 18500.0, 19300.0, 20159, 18501.5, 931.7]</td>\n",
       "    </tr>\n",
       "    <tr>\n",
       "      <th>6</th>\n",
       "      <td>[20200, 21500.0, 22500.0, 23100.0, 23800, 22261.9, 1034.5]</td>\n",
       "    </tr>\n",
       "    <tr>\n",
       "      <th>7</th>\n",
       "      <td>[23900, 24800.0, 25600.0, 26500.0, 27500, 25641.4, 1043.5]</td>\n",
       "    </tr>\n",
       "    <tr>\n",
       "      <th>8</th>\n",
       "      <td>[27502, 28800.0, 30000.0, 31767.5, 33700, 30268.8, 1740.8]</td>\n",
       "    </tr>\n",
       "    <tr>\n",
       "      <th>9</th>\n",
       "      <td>[33800, 36525.0, 42150.0, 49000.0, 84900, 43859.5, 8673.6]</td>\n",
       "    </tr>\n",
       "  </tbody>\n",
       "</table>\n",
       "</div>"
      ],
      "text/plain": [
       "                                          Summary Statistics per Decile\n",
       "price_range                                                            \n",
       "0                      [0, 68.75, 2000.0, 3307.5, 4140, 1925.1, 1510.1]\n",
       "1                  [4150, 5100.0, 6220.0, 7300.0, 8000, 6192.7, 1199.9]\n",
       "2              [8020, 9170.0, 10247.5, 10917.5, 11600, 10013.5, 1014.8]\n",
       "3             [11621, 12780.0, 13500.0, 13995.0, 14700, 13378.4, 821.8]\n",
       "4             [14750, 15322.0, 15800.0, 16500.0, 16900, 15843.9, 613.7]\n",
       "5             [16995, 17700.0, 18500.0, 19300.0, 20159, 18501.5, 931.7]\n",
       "6            [20200, 21500.0, 22500.0, 23100.0, 23800, 22261.9, 1034.5]\n",
       "7            [23900, 24800.0, 25600.0, 26500.0, 27500, 25641.4, 1043.5]\n",
       "8            [27502, 28800.0, 30000.0, 31767.5, 33700, 30268.8, 1740.8]\n",
       "9            [33800, 36525.0, 42150.0, 49000.0, 84900, 43859.5, 8673.6]"
      ]
     },
     "execution_count": 579,
     "metadata": {},
     "output_type": "execute_result"
    }
   ],
   "source": [
    "pd.set_option('display.max_colwidth', 60)\n",
    "df.groupby('price_range').price.apply(lambda x: [np.min(x), np.percentile(x, 25), np.median(x),\n",
    "                                                 np.percentile(x, 75), np.max(x),\n",
    "                                                 round(np.mean(x), 1), round(np.std(x), 1)]).to_frame(name='Summary Statistics per Decile')"
   ]
  },
  {
   "cell_type": "markdown",
   "id": "4b3b9a9b",
   "metadata": {},
   "source": [
    "Same procedure again of label encoding and one-hot encoding"
   ]
  },
  {
   "cell_type": "markdown",
   "id": "4a544db5",
   "metadata": {},
   "source": [
    "### Categorization Label Encoding"
   ]
  },
  {
   "cell_type": "code",
   "execution_count": 726,
   "id": "afdea2cc",
   "metadata": {
    "scrolled": true
   },
   "outputs": [],
   "source": [
    "df_cat_le = df.copy()\n",
    "df_cat_le.drop(columns='price', inplace=True)"
   ]
  },
  {
   "cell_type": "code",
   "execution_count": 727,
   "id": "1707fa2c",
   "metadata": {},
   "outputs": [],
   "source": [
    "le = preprocessing.LabelEncoder()\n",
    "\n",
    "df_cat_le.brand_model = le.fit_transform(df_cat_le.brand_model)\n",
    "df_cat_le.state = le.fit_transform(df_cat_le.state)\n",
    "df_cat_le.color = le.fit_transform(df_cat_le.color)"
   ]
  },
  {
   "cell_type": "markdown",
   "id": "52b25c25",
   "metadata": {},
   "source": [
    "### Categorization One-hot Encoding"
   ]
  },
  {
   "cell_type": "code",
   "execution_count": 587,
   "id": "60a11354",
   "metadata": {},
   "outputs": [],
   "source": [
    "df_cat_oh = df.copy()\n",
    "df_cat_oh.drop(columns='price', inplace=True)"
   ]
  },
  {
   "cell_type": "code",
   "execution_count": 588,
   "id": "325124ea",
   "metadata": {},
   "outputs": [],
   "source": [
    "ohe = preprocessing.OneHotEncoder()\n",
    "\n",
    "ohe.fit(df_cat_oh.brand_model.unique().reshape(-1, 1))\n",
    "df_cat_oh = df_cat_oh.join(pd.DataFrame.sparse.from_spmatrix(ohe.transform(np.asarray(df_cat_oh.brand_model).reshape(-1, 1)), columns=ohe.categories_), on=None, how='outer')\n",
    "df_cat_oh.drop(columns=['brand_model'], inplace=True)\n",
    "\n",
    "ohe.fit(df_cat_oh.state.unique().reshape(-1, 1))\n",
    "df_cat_oh = df_cat_oh.join(pd.DataFrame.sparse.from_spmatrix(ohe.transform(np.asarray(df_cat_oh.state).reshape(-1, 1)), columns=ohe.categories_), on=None, how='outer')\n",
    "df_cat_oh.drop(columns=['state'], inplace=True)\n",
    "\n",
    "ohe.fit(df_cat_oh.color.unique().reshape(-1, 1))\n",
    "df_cat_oh = df_cat_oh.join(pd.DataFrame.sparse.from_spmatrix(ohe.transform(np.asarray(df_cat_oh.color).reshape(-1, 1)), columns=ohe.categories_), on=None, how='outer')\n",
    "df_cat_oh.drop(columns=['color'], inplace=True)"
   ]
  },
  {
   "cell_type": "markdown",
   "id": "9417e623",
   "metadata": {},
   "source": [
    "## Tree Classifiers"
   ]
  },
  {
   "cell_type": "code",
   "execution_count": 633,
   "id": "07ce5f76",
   "metadata": {},
   "outputs": [],
   "source": [
    "from sklearn.tree import DecisionTreeClassifier"
   ]
  },
  {
   "cell_type": "code",
   "execution_count": 728,
   "id": "9c4d41df",
   "metadata": {},
   "outputs": [],
   "source": [
    "Xclf_test, Xclf_train, yclf_test, yclf_train = train_test_split(df_cat_le.loc[:, df_cat_le.columns != 'price_range'], df_cat_le.price_range, test_size=0.25)"
   ]
  },
  {
   "cell_type": "code",
   "execution_count": 729,
   "id": "e1597a59",
   "metadata": {},
   "outputs": [
    {
     "name": "stdout",
     "output_type": "stream",
     "text": [
      "scores: [0.412      0.452      0.454      0.376      0.42084168]\n",
      "average 0.42296833667334666\n",
      "std: 0.028763356264032067\n"
     ]
    }
   ],
   "source": [
    "classification_tree = DecisionTreeClassifier(random_state=0)\n",
    "clf_tree_scores = cross_val_score(classification_tree, df_cat_le.loc[:, df_cat_le.columns != 'price_range'], df_cat_le.price_range, cv=strat_shuffle_5)\n",
    "print(f\"scores: {clf_tree_scores}\",\n",
    "      f\"average {np.mean(clf_tree_scores)}\",\n",
    "      f\"std: {np.std(clf_tree_scores)}\",\n",
    "      sep='\\n') "
   ]
  },
  {
   "cell_type": "code",
   "execution_count": 730,
   "id": "2970b905",
   "metadata": {},
   "outputs": [
    {
     "data": {
      "text/plain": [
       "DecisionTreeClassifier(random_state=0)"
      ]
     },
     "execution_count": 730,
     "metadata": {},
     "output_type": "execute_result"
    }
   ],
   "source": [
    "classification_tree.fit(Xclf_train, yclf_train)"
   ]
  },
  {
   "cell_type": "code",
   "execution_count": 731,
   "id": "02055894",
   "metadata": {},
   "outputs": [
    {
     "data": {
      "text/plain": [
       "0.3527214514407684"
      ]
     },
     "execution_count": 731,
     "metadata": {},
     "output_type": "execute_result"
    }
   ],
   "source": [
    "classification_tree.score(Xclf_test, yclf_test)"
   ]
  },
  {
   "cell_type": "code",
   "execution_count": 732,
   "id": "5426ed6e",
   "metadata": {},
   "outputs": [
    {
     "data": {
      "text/plain": [
       "326"
      ]
     },
     "execution_count": 732,
     "metadata": {},
     "output_type": "execute_result"
    }
   ],
   "source": [
    "classification_tree.get_n_leaves()"
   ]
  },
  {
   "cell_type": "code",
   "execution_count": 734,
   "id": "d978b066",
   "metadata": {},
   "outputs": [
    {
     "name": "stdout",
     "output_type": "stream",
     "text": [
      "scores: [0.412      0.434      0.442      0.442      0.45490982]\n",
      "average 0.4369819639278557\n",
      "std: 0.014175754039993764\n"
     ]
    }
   ],
   "source": [
    "clf_tree_scores = cross_val_score(classification_tree, df_cat_le.loc[:, df_cat_le.columns != 'price_range'], df_cat_le.price_range, cv=strat_shuffle_5)\n",
    "print(f\"scores: {clf_tree_scores}\",\n",
    "      f\"average {np.mean(clf_tree_scores)}\",\n",
    "      f\"std: {np.std(clf_tree_scores)}\",\n",
    "      sep='\\n') "
   ]
  },
  {
   "cell_type": "markdown",
   "id": "bcf0e40f",
   "metadata": {},
   "source": [
    "### Random Forest Classifier"
   ]
  },
  {
   "cell_type": "code",
   "execution_count": 640,
   "id": "90be966c",
   "metadata": {},
   "outputs": [],
   "source": [
    "from sklearn.ensemble import RandomForestClassifier"
   ]
  },
  {
   "cell_type": "code",
   "execution_count": 644,
   "id": "d831bd3e",
   "metadata": {},
   "outputs": [
    {
     "name": "stdout",
     "output_type": "stream",
     "text": [
      "scores: [0.414      0.37       0.37       0.422      0.41482966]\n",
      "average 0.39816593186372745\n",
      "std: 0.023165058885590575\n"
     ]
    }
   ],
   "source": [
    "classification_rforest = RandomForestClassifier(random_state=0, min_samples_leaf=20)\n",
    "clf_rforest_scores = cross_val_score(classification_rforest, df_cat_le.loc[:, df_cat_le.columns != 'price_range'], df_cat_le.price_range, cv=strat_shuffle_5)\n",
    "print(f\"scores: {clf_rforest_scores}\",\n",
    "      f\"average {np.mean(clf_rforest_scores)}\",\n",
    "      f\"std: {np.std(clf_rforest_scores)}\",\n",
    "      sep='\\n') "
   ]
  },
  {
   "cell_type": "markdown",
   "id": "3c2c14d4",
   "metadata": {},
   "source": [
    "### Bagging Classifier"
   ]
  },
  {
   "cell_type": "code",
   "execution_count": 645,
   "id": "4688a46c",
   "metadata": {},
   "outputs": [],
   "source": [
    "from sklearn.ensemble import BaggingClassifier"
   ]
  },
  {
   "cell_type": "code",
   "execution_count": 647,
   "id": "669d7798",
   "metadata": {},
   "outputs": [
    {
     "name": "stdout",
     "output_type": "stream",
     "text": [
      "scores: [0.464      0.434      0.48       0.512      0.46492986]\n",
      "average 0.4709859719438878\n",
      "std: 0.02536472203314635\n"
     ]
    }
   ],
   "source": [
    "classification_bagging = BaggingClassifier(random_state=0)\n",
    "clf_bagging_scores = cross_val_score(classification_bagging, df_cat_le.loc[:, df_cat_le.columns != 'price_range'], df_cat_le.price_range, cv=strat_shuffle_5)\n",
    "print(f\"scores: {clf_bagging_scores}\",\n",
    "      f\"average {np.mean(clf_bagging_scores)}\",\n",
    "      f\"std: {np.std(clf_bagging_scores)}\",\n",
    "      sep='\\n') "
   ]
  },
  {
   "cell_type": "markdown",
   "id": "48cfeaf8",
   "metadata": {},
   "source": [
    "### Boosting Classifier"
   ]
  },
  {
   "cell_type": "code",
   "execution_count": 649,
   "id": "84b0be31",
   "metadata": {},
   "outputs": [],
   "source": [
    "from sklearn.ensemble import GradientBoostingClassifier"
   ]
  },
  {
   "cell_type": "code",
   "execution_count": 650,
   "id": "ca9578bd",
   "metadata": {},
   "outputs": [
    {
     "name": "stdout",
     "output_type": "stream",
     "text": [
      "scores: [0.532      0.494      0.46       0.456      0.47895792]\n",
      "average 0.4841915831663327\n",
      "std: 0.027529035915601848\n"
     ]
    }
   ],
   "source": [
    "classification_boosting = GradientBoostingClassifier(random_state=0)\n",
    "clf_boosting_scores = cross_val_score(classification_boosting, df_cat_le.loc[:, df_cat_le.columns != 'price_range'], df_cat_le.price_range, cv=strat_shuffle_5)\n",
    "print(f\"scores: {clf_boosting_scores}\",\n",
    "      f\"average {np.mean(clf_boosting_scores)}\",\n",
    "      f\"std: {np.std(clf_boosting_scores)}\",\n",
    "      sep='\\n') "
   ]
  },
  {
   "cell_type": "markdown",
   "id": "194cc605",
   "metadata": {},
   "source": [
    "## Lasso with Leaves Results"
   ]
  },
  {
   "cell_type": "code",
   "execution_count": null,
   "id": "ce4bcc3a",
   "metadata": {},
   "outputs": [],
   "source": [
    "df_le['leaf'] = regression_tree.apply(df_le.loc[:, df_le.columns != 'price'])"
   ]
  },
  {
   "cell_type": "code",
   "execution_count": null,
   "id": "4efee44b",
   "metadata": {},
   "outputs": [],
   "source": [
    "df_cat_le['leaf'] = classification_tree.predict(df_cat_le.loc[:, df_cat_le.columns != 'price_range'])"
   ]
  },
  {
   "cell_type": "markdown",
   "id": "3c2d763e",
   "metadata": {},
   "source": [
    "* The Regression tree outputted 73 different leaves, so we have one value for each leaf\n",
    "* The Classification tree outputted several leaves as well, but we'll use it's variable prediction instead"
   ]
  },
  {
   "cell_type": "markdown",
   "id": "2f176301",
   "metadata": {},
   "source": [
    "### Lasso with regression results"
   ]
  },
  {
   "cell_type": "code",
   "execution_count": 746,
   "id": "f65c708a",
   "metadata": {},
   "outputs": [],
   "source": [
    "from sklearn.linear_model import LassoCV"
   ]
  },
  {
   "cell_type": "code",
   "execution_count": 764,
   "id": "7863d6bb",
   "metadata": {},
   "outputs": [],
   "source": [
    "variables = [i for i in df_le.columns if i != 'price']"
   ]
  },
  {
   "cell_type": "code",
   "execution_count": 782,
   "id": "edd897d8",
   "metadata": {},
   "outputs": [],
   "source": [
    "X_train, X_test, y_train, y_test = train_test_split(df_le[variables], df_le.price, train_size=0.8)"
   ]
  },
  {
   "cell_type": "code",
   "execution_count": 766,
   "id": "a959e142",
   "metadata": {
    "scrolled": true
   },
   "outputs": [
    {
     "name": "stderr",
     "output_type": "stream",
     "text": [
      "/Users/javiermazonechevarria/.pyenv/versions/3.8.9/envs/test1/lib/python3.8/site-packages/sklearn/linear_model/_coordinate_descent.py:526: UserWarning: Coordinate descent with alpha=0 may lead to unexpected results and is discouraged.\n",
      "  model = cd_fast.enet_coordinate_descent_gram(\n",
      "/Users/javiermazonechevarria/.pyenv/versions/3.8.9/envs/test1/lib/python3.8/site-packages/sklearn/linear_model/_coordinate_descent.py:526: ConvergenceWarning: Objective did not converge. You might want to increase the number of iterations. Duality gap: 77699900773.40909, tolerance: 22789978.54083715\n",
      "  model = cd_fast.enet_coordinate_descent_gram(\n",
      "/Users/javiermazonechevarria/.pyenv/versions/3.8.9/envs/test1/lib/python3.8/site-packages/sklearn/linear_model/_coordinate_descent.py:526: UserWarning: Coordinate descent with alpha=0 may lead to unexpected results and is discouraged.\n",
      "  model = cd_fast.enet_coordinate_descent_gram(\n",
      "/Users/javiermazonechevarria/.pyenv/versions/3.8.9/envs/test1/lib/python3.8/site-packages/sklearn/linear_model/_coordinate_descent.py:526: ConvergenceWarning: Objective did not converge. You might want to increase the number of iterations. Duality gap: 78509536301.78639, tolerance: 22782740.108000003\n",
      "  model = cd_fast.enet_coordinate_descent_gram(\n",
      "/Users/javiermazonechevarria/.pyenv/versions/3.8.9/envs/test1/lib/python3.8/site-packages/sklearn/linear_model/_coordinate_descent.py:526: UserWarning: Coordinate descent with alpha=0 may lead to unexpected results and is discouraged.\n",
      "  model = cd_fast.enet_coordinate_descent_gram(\n",
      "/Users/javiermazonechevarria/.pyenv/versions/3.8.9/envs/test1/lib/python3.8/site-packages/sklearn/linear_model/_coordinate_descent.py:526: UserWarning: Coordinate descent with alpha=0 may lead to unexpected results and is discouraged.\n",
      "  model = cd_fast.enet_coordinate_descent_gram(\n",
      "/Users/javiermazonechevarria/.pyenv/versions/3.8.9/envs/test1/lib/python3.8/site-packages/sklearn/linear_model/_coordinate_descent.py:526: ConvergenceWarning: Objective did not converge. You might want to increase the number of iterations. Duality gap: 79796940026.60039, tolerance: 23199555.762289435\n",
      "  model = cd_fast.enet_coordinate_descent_gram(\n",
      "/Users/javiermazonechevarria/.pyenv/versions/3.8.9/envs/test1/lib/python3.8/site-packages/sklearn/linear_model/_coordinate_descent.py:526: UserWarning: Coordinate descent with alpha=0 may lead to unexpected results and is discouraged.\n",
      "  model = cd_fast.enet_coordinate_descent_gram(\n",
      "/Users/javiermazonechevarria/.pyenv/versions/3.8.9/envs/test1/lib/python3.8/site-packages/sklearn/linear_model/_coordinate_descent.py:526: ConvergenceWarning: Objective did not converge. You might want to increase the number of iterations. Duality gap: 78916143070.97089, tolerance: 23041184.083934907\n",
      "  model = cd_fast.enet_coordinate_descent_gram(\n",
      "/Users/javiermazonechevarria/.pyenv/versions/3.8.9/envs/test1/lib/python3.8/site-packages/sklearn/linear_model/_coordinate_descent.py:1348: UserWarning: With alpha=0, this algorithm does not converge well. You are advised to use the LinearRegression estimator\n",
      "  model.fit(X, y)\n",
      "/Users/javiermazonechevarria/.pyenv/versions/3.8.9/envs/test1/lib/python3.8/site-packages/sklearn/linear_model/_coordinate_descent.py:530: UserWarning: Coordinate descent with no regularization may lead to unexpected results and is discouraged.\n",
      "  model = cd_fast.enet_coordinate_descent(\n",
      "/Users/javiermazonechevarria/.pyenv/versions/3.8.9/envs/test1/lib/python3.8/site-packages/sklearn/linear_model/_coordinate_descent.py:530: ConvergenceWarning: Objective did not converge. You might want to increase the number of iterations. Duality gap: 99169668110.1871, tolerance: 28833989.653989993\n",
      "  model = cd_fast.enet_coordinate_descent(\n"
     ]
    }
   ],
   "source": [
    "lassocv_model = LassoCV(alphas=np.arange(0, 5, 0.2), max_iter=5000, tol=0.0001, cv=shuffle_5, random_state=0).fit(X_train, y_train)\n",
    "print(f'best penalization term: {lassocv_model.alpha_}',\n",
    "      f'R^2: {lassocv_model.score(X_test, y_test)}',\n",
    "      f'MSE: {sum((lassocv_model.predict(X_test) - y_test)**2) / len(y_test)}',\n",
    "      f'MAE: {sum(abs(lassocv_model.predict(X_test) - y_test)) / len(y_test)}',\n",
    "      sep='\\n')"
   ]
  },
  {
   "cell_type": "code",
   "execution_count": 767,
   "id": "e1b543a6",
   "metadata": {
    "scrolled": true
   },
   "outputs": [
    {
     "name": "stdout",
     "output_type": "stream",
     "text": [
      "best penalization term: 0.0\n",
      "R^2: 0.3011170118053921\n",
      "MSE: 108667971.4303446\n",
      "MAE: 7629.322253893419\n"
     ]
    }
   ],
   "source": [
    "print(f'best penalization term: {lassocv_model.alpha_}',\n",
    "      f'R^2: {lassocv_model.score(X_test, y_test)}',\n",
    "      f'MSE: {sum((lassocv_model.predict(X_test) - y_test)**2) / len(y_test)}',\n",
    "      f'MAE: {sum(abs(lassocv_model.predict(X_test) - y_test)) / len(y_test)}',\n",
    "      sep='\\n')\n",
    "\n"
   ]
  },
  {
   "cell_type": "markdown",
   "id": "cc516a93",
   "metadata": {},
   "source": [
    "### Ridge with regression results"
   ]
  },
  {
   "cell_type": "code",
   "execution_count": 768,
   "id": "f4b53cde",
   "metadata": {},
   "outputs": [],
   "source": [
    "from sklearn.linear_model import RidgeCV"
   ]
  },
  {
   "cell_type": "code",
   "execution_count": 769,
   "id": "e8f67d9d",
   "metadata": {},
   "outputs": [],
   "source": [
    "ridgecv_model = RidgeCV(alphas=np.arange(0, 2, 0.1), cv=shuffle_5).fit(X_train, y_train)"
   ]
  },
  {
   "cell_type": "code",
   "execution_count": 770,
   "id": "f93137fe",
   "metadata": {},
   "outputs": [
    {
     "name": "stdout",
     "output_type": "stream",
     "text": [
      "best penalization term: 0.0\n",
      "R^2: 0.3011170118053891\n",
      "MSE: 108667971.43034501\n",
      "MAE: 7629.322253893426\n"
     ]
    }
   ],
   "source": [
    "print(f'best penalization term: {ridgecv_model.alpha_}',\n",
    "      f'R^2: {ridgecv_model.score(X_test, y_test)}',\n",
    "      f'MSE: {sum((ridgecv_model.predict(X_test) - y_test)**2) / len(y_test)}',\n",
    "      f'MAE: {sum(abs(ridgecv_model.predict(X_test) - y_test)) / len(y_test)}',\n",
    "      sep='\\n')"
   ]
  },
  {
   "cell_type": "markdown",
   "id": "2c679dad",
   "metadata": {},
   "source": [
    "### Lasso with classification results"
   ]
  },
  {
   "cell_type": "code",
   "execution_count": 754,
   "id": "ef12163e",
   "metadata": {},
   "outputs": [],
   "source": [
    "df_cat_le.drop(columns=['price_range'], inplace=True)\n",
    "df_cat_le['price'] = df.price"
   ]
  },
  {
   "cell_type": "code",
   "execution_count": 773,
   "id": "fa94385c",
   "metadata": {},
   "outputs": [],
   "source": [
    "variables = [i for i in df_cat_le.columns if i != 'price']"
   ]
  },
  {
   "cell_type": "code",
   "execution_count": 774,
   "id": "b6855847",
   "metadata": {},
   "outputs": [],
   "source": [
    "X_train, X_test, y_train, y_test = train_test_split(df_le[variables], df_le.price, train_size=0.8)"
   ]
  },
  {
   "cell_type": "code",
   "execution_count": 775,
   "id": "e4b4bc45",
   "metadata": {},
   "outputs": [
    {
     "name": "stderr",
     "output_type": "stream",
     "text": [
      "/Users/javiermazonechevarria/.pyenv/versions/3.8.9/envs/test1/lib/python3.8/site-packages/sklearn/linear_model/_coordinate_descent.py:526: UserWarning: Coordinate descent with alpha=0 may lead to unexpected results and is discouraged.\n",
      "  model = cd_fast.enet_coordinate_descent_gram(\n",
      "/Users/javiermazonechevarria/.pyenv/versions/3.8.9/envs/test1/lib/python3.8/site-packages/sklearn/linear_model/_coordinate_descent.py:526: UserWarning: Coordinate descent with alpha=0 may lead to unexpected results and is discouraged.\n",
      "  model = cd_fast.enet_coordinate_descent_gram(\n",
      "/Users/javiermazonechevarria/.pyenv/versions/3.8.9/envs/test1/lib/python3.8/site-packages/sklearn/linear_model/_coordinate_descent.py:526: UserWarning: Coordinate descent with alpha=0 may lead to unexpected results and is discouraged.\n",
      "  model = cd_fast.enet_coordinate_descent_gram(\n",
      "/Users/javiermazonechevarria/.pyenv/versions/3.8.9/envs/test1/lib/python3.8/site-packages/sklearn/linear_model/_coordinate_descent.py:526: ConvergenceWarning: Objective did not converge. You might want to increase the number of iterations. Duality gap: 81055617543.248, tolerance: 23800100.19425441\n",
      "  model = cd_fast.enet_coordinate_descent_gram(\n",
      "/Users/javiermazonechevarria/.pyenv/versions/3.8.9/envs/test1/lib/python3.8/site-packages/sklearn/linear_model/_coordinate_descent.py:526: UserWarning: Coordinate descent with alpha=0 may lead to unexpected results and is discouraged.\n",
      "  model = cd_fast.enet_coordinate_descent_gram(\n",
      "/Users/javiermazonechevarria/.pyenv/versions/3.8.9/envs/test1/lib/python3.8/site-packages/sklearn/linear_model/_coordinate_descent.py:526: ConvergenceWarning: Objective did not converge. You might want to increase the number of iterations. Duality gap: 82590602143.23526, tolerance: 24089314.028531093\n",
      "  model = cd_fast.enet_coordinate_descent_gram(\n",
      "/Users/javiermazonechevarria/.pyenv/versions/3.8.9/envs/test1/lib/python3.8/site-packages/sklearn/linear_model/_coordinate_descent.py:526: UserWarning: Coordinate descent with alpha=0 may lead to unexpected results and is discouraged.\n",
      "  model = cd_fast.enet_coordinate_descent_gram(\n",
      "/Users/javiermazonechevarria/.pyenv/versions/3.8.9/envs/test1/lib/python3.8/site-packages/sklearn/linear_model/_coordinate_descent.py:526: ConvergenceWarning: Objective did not converge. You might want to increase the number of iterations. Duality gap: 80416381381.53802, tolerance: 23951513.62984376\n",
      "  model = cd_fast.enet_coordinate_descent_gram(\n",
      "/Users/javiermazonechevarria/.pyenv/versions/3.8.9/envs/test1/lib/python3.8/site-packages/sklearn/linear_model/_coordinate_descent.py:1348: UserWarning: With alpha=0, this algorithm does not converge well. You are advised to use the LinearRegression estimator\n",
      "  model.fit(X, y)\n",
      "/Users/javiermazonechevarria/.pyenv/versions/3.8.9/envs/test1/lib/python3.8/site-packages/sklearn/linear_model/_coordinate_descent.py:530: UserWarning: Coordinate descent with no regularization may lead to unexpected results and is discouraged.\n",
      "  model = cd_fast.enet_coordinate_descent(\n",
      "/Users/javiermazonechevarria/.pyenv/versions/3.8.9/envs/test1/lib/python3.8/site-packages/sklearn/linear_model/_coordinate_descent.py:530: ConvergenceWarning: Objective did not converge. You might want to increase the number of iterations. Duality gap: 101972462874.71577, tolerance: 29921950.240373697\n",
      "  model = cd_fast.enet_coordinate_descent(\n"
     ]
    }
   ],
   "source": [
    "lassocv_model = LassoCV(alphas=np.arange(0, 5, 0.2), max_iter=5000, tol=0.0001, cv=shuffle_5, random_state=0).fit(X_train, y_train)"
   ]
  },
  {
   "cell_type": "code",
   "execution_count": 776,
   "id": "dc2681bc",
   "metadata": {},
   "outputs": [
    {
     "name": "stdout",
     "output_type": "stream",
     "text": [
      "best penalization term: 0.0\n",
      "R^2: 0.26943699912702423\n",
      "MSE: 98432111.77381562\n",
      "MAE: 7604.414344255174\n"
     ]
    }
   ],
   "source": [
    "print(f'best penalization term: {lassocv_model.alpha_}',\n",
    "      f'R^2: {lassocv_model.score(X_test, y_test)}',\n",
    "      f'MSE: {sum((lassocv_model.predict(X_test) - y_test)**2) / len(y_test)}',\n",
    "      f'MAE: {sum(abs(lassocv_model.predict(X_test) - y_test)) / len(y_test)}',\n",
    "      sep='\\n')\n",
    "\n"
   ]
  },
  {
   "cell_type": "markdown",
   "id": "bd3a076f",
   "metadata": {},
   "source": [
    "### Ridge with classification results"
   ]
  },
  {
   "cell_type": "code",
   "execution_count": 777,
   "id": "99b8fca0",
   "metadata": {},
   "outputs": [],
   "source": [
    "ridgecv_model = RidgeCV(alphas=np.arange(0, 2, 0.1), cv=5).fit(X_train, y_train)"
   ]
  },
  {
   "cell_type": "code",
   "execution_count": 778,
   "id": "c973ea84",
   "metadata": {},
   "outputs": [
    {
     "name": "stdout",
     "output_type": "stream",
     "text": [
      "best penalization term: 0.0\n",
      "R^2: 0.2694369991270241\n",
      "MSE: 98432111.77381575\n",
      "MAE: 7604.414344255192\n"
     ]
    }
   ],
   "source": [
    "print(f'best penalization term: {ridgecv_model.alpha_}',\n",
    "      f'R^2: {ridgecv_model.score(X_test, y_test)}',\n",
    "      f'MSE: {sum((ridgecv_model.predict(X_test) - y_test)**2) / len(y_test)}',\n",
    "      f'MAE: {sum(abs(ridgecv_model.predict(X_test) - y_test)) / len(y_test)}',\n",
    "      sep='\\n')"
   ]
  },
  {
   "cell_type": "code",
   "execution_count": 779,
   "id": "d9ac36ce",
   "metadata": {},
   "outputs": [
    {
     "data": {
      "text/plain": [
       "Index(['year', 'title_status', 'mileage', 'color', 'state', 'condition', 'brand_model', 'leaf'], dtype='object')"
      ]
     },
     "execution_count": 779,
     "metadata": {},
     "output_type": "execute_result"
    }
   ],
   "source": [
    "\n",
    "X_train.columns"
   ]
  },
  {
   "cell_type": "code",
   "execution_count": null,
   "id": "ecf706e5",
   "metadata": {},
   "outputs": [],
   "source": []
  },
  {
   "cell_type": "markdown",
   "id": "8420d4ed",
   "metadata": {},
   "source": [
    "## K-Means"
   ]
  },
  {
   "cell_type": "code",
   "execution_count": 784,
   "id": "4d91551d",
   "metadata": {},
   "outputs": [],
   "source": [
    "from sklearn.cluster import KMeans"
   ]
  },
  {
   "cell_type": "code",
   "execution_count": 786,
   "id": "41aaae32",
   "metadata": {},
   "outputs": [],
   "source": [
    "df_cluster = df_le.drop(columns=['leaf', 'brand_model'])\n",
    "df_cluster['brand_model'] = df.brand_model"
   ]
  },
  {
   "cell_type": "code",
   "execution_count": 792,
   "id": "34e7d4d6",
   "metadata": {},
   "outputs": [
    {
     "data": {
      "text/html": [
       "<div>\n",
       "<style scoped>\n",
       "    .dataframe tbody tr th:only-of-type {\n",
       "        vertical-align: middle;\n",
       "    }\n",
       "\n",
       "    .dataframe tbody tr th {\n",
       "        vertical-align: top;\n",
       "    }\n",
       "\n",
       "    .dataframe thead th {\n",
       "        text-align: right;\n",
       "    }\n",
       "</style>\n",
       "<table border=\"1\" class=\"dataframe\">\n",
       "  <thead>\n",
       "    <tr style=\"text-align: right;\">\n",
       "      <th></th>\n",
       "      <th>price</th>\n",
       "      <th>year</th>\n",
       "      <th>title_status</th>\n",
       "      <th>mileage</th>\n",
       "      <th>color</th>\n",
       "      <th>state</th>\n",
       "      <th>condition</th>\n",
       "      <th>brand_model</th>\n",
       "    </tr>\n",
       "  </thead>\n",
       "  <tbody>\n",
       "    <tr>\n",
       "      <th>0</th>\n",
       "      <td>6300</td>\n",
       "      <td>2008</td>\n",
       "      <td>1</td>\n",
       "      <td>274117.0</td>\n",
       "      <td>2</td>\n",
       "      <td>24</td>\n",
       "      <td>14400</td>\n",
       "      <td>toyota_cruiser</td>\n",
       "    </tr>\n",
       "    <tr>\n",
       "      <th>1</th>\n",
       "      <td>2899</td>\n",
       "      <td>2011</td>\n",
       "      <td>1</td>\n",
       "      <td>190552.0</td>\n",
       "      <td>39</td>\n",
       "      <td>35</td>\n",
       "      <td>8640</td>\n",
       "      <td>ford_se</td>\n",
       "    </tr>\n",
       "    <tr>\n",
       "      <th>2</th>\n",
       "      <td>5350</td>\n",
       "      <td>2018</td>\n",
       "      <td>1</td>\n",
       "      <td>39590.0</td>\n",
       "      <td>39</td>\n",
       "      <td>7</td>\n",
       "      <td>2880</td>\n",
       "      <td>dodge_mpv</td>\n",
       "    </tr>\n",
       "    <tr>\n",
       "      <th>3</th>\n",
       "      <td>25000</td>\n",
       "      <td>2014</td>\n",
       "      <td>1</td>\n",
       "      <td>64146.0</td>\n",
       "      <td>4</td>\n",
       "      <td>39</td>\n",
       "      <td>1320</td>\n",
       "      <td>ford_door</td>\n",
       "    </tr>\n",
       "    <tr>\n",
       "      <th>4</th>\n",
       "      <td>27700</td>\n",
       "      <td>2018</td>\n",
       "      <td>1</td>\n",
       "      <td>6654.0</td>\n",
       "      <td>34</td>\n",
       "      <td>6</td>\n",
       "      <td>1320</td>\n",
       "      <td>chevrolet_1500</td>\n",
       "    </tr>\n",
       "  </tbody>\n",
       "</table>\n",
       "</div>"
      ],
      "text/plain": [
       "   price  year  title_status   mileage  color  state  condition     brand_model\n",
       "0   6300  2008             1  274117.0      2     24      14400  toyota_cruiser\n",
       "1   2899  2011             1  190552.0     39     35       8640         ford_se\n",
       "2   5350  2018             1   39590.0     39      7       2880       dodge_mpv\n",
       "3  25000  2014             1   64146.0      4     39       1320       ford_door\n",
       "4  27700  2018             1    6654.0     34      6       1320  chevrolet_1500"
      ]
     },
     "execution_count": 792,
     "metadata": {},
     "output_type": "execute_result"
    }
   ],
   "source": [
    "df_cluster.head()"
   ]
  },
  {
   "cell_type": "code",
   "execution_count": 790,
   "id": "8bb28777",
   "metadata": {},
   "outputs": [
    {
     "data": {
      "text/plain": [
       "Index(['price', 'year', 'title_status', 'mileage', 'color', 'state', 'condition', 'brand_model'], dtype='object')"
      ]
     },
     "execution_count": 790,
     "metadata": {},
     "output_type": "execute_result"
    }
   ],
   "source": [
    "df_cluster.columns"
   ]
  },
  {
   "cell_type": "code",
   "execution_count": 796,
   "id": "132c7a8c",
   "metadata": {},
   "outputs": [
    {
     "data": {
      "text/html": [
       "<div>\n",
       "<style scoped>\n",
       "    .dataframe tbody tr th:only-of-type {\n",
       "        vertical-align: middle;\n",
       "    }\n",
       "\n",
       "    .dataframe tbody tr th {\n",
       "        vertical-align: top;\n",
       "    }\n",
       "\n",
       "    .dataframe thead th {\n",
       "        text-align: right;\n",
       "    }\n",
       "</style>\n",
       "<table border=\"1\" class=\"dataframe\">\n",
       "  <thead>\n",
       "    <tr style=\"text-align: right;\">\n",
       "      <th></th>\n",
       "      <th>price</th>\n",
       "      <th>year</th>\n",
       "      <th>title_status</th>\n",
       "      <th>mileage</th>\n",
       "      <th>color</th>\n",
       "      <th>state</th>\n",
       "      <th>condition</th>\n",
       "    </tr>\n",
       "  </thead>\n",
       "  <tbody>\n",
       "    <tr>\n",
       "      <th>0</th>\n",
       "      <td>6300</td>\n",
       "      <td>2008</td>\n",
       "      <td>1</td>\n",
       "      <td>274117.0</td>\n",
       "      <td>2</td>\n",
       "      <td>24</td>\n",
       "      <td>14400</td>\n",
       "    </tr>\n",
       "    <tr>\n",
       "      <th>1</th>\n",
       "      <td>2899</td>\n",
       "      <td>2011</td>\n",
       "      <td>1</td>\n",
       "      <td>190552.0</td>\n",
       "      <td>39</td>\n",
       "      <td>35</td>\n",
       "      <td>8640</td>\n",
       "    </tr>\n",
       "    <tr>\n",
       "      <th>2</th>\n",
       "      <td>5350</td>\n",
       "      <td>2018</td>\n",
       "      <td>1</td>\n",
       "      <td>39590.0</td>\n",
       "      <td>39</td>\n",
       "      <td>7</td>\n",
       "      <td>2880</td>\n",
       "    </tr>\n",
       "    <tr>\n",
       "      <th>3</th>\n",
       "      <td>25000</td>\n",
       "      <td>2014</td>\n",
       "      <td>1</td>\n",
       "      <td>64146.0</td>\n",
       "      <td>4</td>\n",
       "      <td>39</td>\n",
       "      <td>1320</td>\n",
       "    </tr>\n",
       "    <tr>\n",
       "      <th>4</th>\n",
       "      <td>27700</td>\n",
       "      <td>2018</td>\n",
       "      <td>1</td>\n",
       "      <td>6654.0</td>\n",
       "      <td>34</td>\n",
       "      <td>6</td>\n",
       "      <td>1320</td>\n",
       "    </tr>\n",
       "    <tr>\n",
       "      <th>...</th>\n",
       "      <td>...</td>\n",
       "      <td>...</td>\n",
       "      <td>...</td>\n",
       "      <td>...</td>\n",
       "      <td>...</td>\n",
       "      <td>...</td>\n",
       "      <td>...</td>\n",
       "    </tr>\n",
       "    <tr>\n",
       "      <th>2494</th>\n",
       "      <td>7800</td>\n",
       "      <td>2019</td>\n",
       "      <td>1</td>\n",
       "      <td>23609.0</td>\n",
       "      <td>34</td>\n",
       "      <td>3</td>\n",
       "      <td>1440</td>\n",
       "    </tr>\n",
       "    <tr>\n",
       "      <th>2495</th>\n",
       "      <td>9200</td>\n",
       "      <td>2018</td>\n",
       "      <td>1</td>\n",
       "      <td>34553.0</td>\n",
       "      <td>39</td>\n",
       "      <td>6</td>\n",
       "      <td>1260</td>\n",
       "    </tr>\n",
       "    <tr>\n",
       "      <th>2496</th>\n",
       "      <td>9200</td>\n",
       "      <td>2018</td>\n",
       "      <td>1</td>\n",
       "      <td>31594.0</td>\n",
       "      <td>39</td>\n",
       "      <td>6</td>\n",
       "      <td>1260</td>\n",
       "    </tr>\n",
       "    <tr>\n",
       "      <th>2497</th>\n",
       "      <td>9200</td>\n",
       "      <td>2018</td>\n",
       "      <td>1</td>\n",
       "      <td>32557.0</td>\n",
       "      <td>2</td>\n",
       "      <td>6</td>\n",
       "      <td>2880</td>\n",
       "    </tr>\n",
       "    <tr>\n",
       "      <th>2498</th>\n",
       "      <td>9200</td>\n",
       "      <td>2018</td>\n",
       "      <td>1</td>\n",
       "      <td>31371.0</td>\n",
       "      <td>39</td>\n",
       "      <td>6</td>\n",
       "      <td>1260</td>\n",
       "    </tr>\n",
       "  </tbody>\n",
       "</table>\n",
       "<p>2499 rows × 7 columns</p>\n",
       "</div>"
      ],
      "text/plain": [
       "      price  year  title_status   mileage  color  state  condition\n",
       "0      6300  2008             1  274117.0      2     24      14400\n",
       "1      2899  2011             1  190552.0     39     35       8640\n",
       "2      5350  2018             1   39590.0     39      7       2880\n",
       "3     25000  2014             1   64146.0      4     39       1320\n",
       "4     27700  2018             1    6654.0     34      6       1320\n",
       "...     ...   ...           ...       ...    ...    ...        ...\n",
       "2494   7800  2019             1   23609.0     34      3       1440\n",
       "2495   9200  2018             1   34553.0     39      6       1260\n",
       "2496   9200  2018             1   31594.0     39      6       1260\n",
       "2497   9200  2018             1   32557.0      2      6       2880\n",
       "2498   9200  2018             1   31371.0     39      6       1260\n",
       "\n",
       "[2499 rows x 7 columns]"
      ]
     },
     "execution_count": 796,
     "metadata": {},
     "output_type": "execute_result"
    }
   ],
   "source": [
    "df_cluster[['price', 'year', 'title_status', 'mileage', 'color', 'state', 'condition']]"
   ]
  },
  {
   "cell_type": "code",
   "execution_count": 798,
   "id": "33699c56",
   "metadata": {},
   "outputs": [
    {
     "data": {
      "text/plain": [
       "array([ 7, 14,  0, ..., 12,  0, 12], dtype=int32)"
      ]
     },
     "execution_count": 798,
     "metadata": {},
     "output_type": "execute_result"
    }
   ],
   "source": [
    "clusters = KMeans(n_clusters=15)\n",
    "clusters.fit_predict(df_cluster[['price', 'year', 'title_status', 'mileage', 'color', 'state', 'condition']])"
   ]
  },
  {
   "cell_type": "code",
   "execution_count": 799,
   "id": "f8a2674b",
   "metadata": {},
   "outputs": [],
   "source": [
    "df_cluster['cluster'] = clusters.fit_predict(df_cluster[['price', 'year', 'title_status', 'mileage', 'color', 'state', 'condition']])"
   ]
  },
  {
   "cell_type": "code",
   "execution_count": 800,
   "id": "12903f1e",
   "metadata": {},
   "outputs": [
    {
     "data": {
      "text/html": [
       "<div>\n",
       "<style scoped>\n",
       "    .dataframe tbody tr th:only-of-type {\n",
       "        vertical-align: middle;\n",
       "    }\n",
       "\n",
       "    .dataframe tbody tr th {\n",
       "        vertical-align: top;\n",
       "    }\n",
       "\n",
       "    .dataframe thead th {\n",
       "        text-align: right;\n",
       "    }\n",
       "</style>\n",
       "<table border=\"1\" class=\"dataframe\">\n",
       "  <thead>\n",
       "    <tr style=\"text-align: right;\">\n",
       "      <th></th>\n",
       "      <th>price</th>\n",
       "      <th>year</th>\n",
       "      <th>title_status</th>\n",
       "      <th>mileage</th>\n",
       "      <th>color</th>\n",
       "      <th>state</th>\n",
       "      <th>condition</th>\n",
       "      <th>brand_model</th>\n",
       "      <th>cluster</th>\n",
       "    </tr>\n",
       "  </thead>\n",
       "  <tbody>\n",
       "    <tr>\n",
       "      <th>0</th>\n",
       "      <td>6300</td>\n",
       "      <td>2008</td>\n",
       "      <td>1</td>\n",
       "      <td>274117.0</td>\n",
       "      <td>2</td>\n",
       "      <td>24</td>\n",
       "      <td>14400</td>\n",
       "      <td>toyota_cruiser</td>\n",
       "      <td>10</td>\n",
       "    </tr>\n",
       "    <tr>\n",
       "      <th>1</th>\n",
       "      <td>2899</td>\n",
       "      <td>2011</td>\n",
       "      <td>1</td>\n",
       "      <td>190552.0</td>\n",
       "      <td>39</td>\n",
       "      <td>35</td>\n",
       "      <td>8640</td>\n",
       "      <td>ford_se</td>\n",
       "      <td>13</td>\n",
       "    </tr>\n",
       "    <tr>\n",
       "      <th>2</th>\n",
       "      <td>5350</td>\n",
       "      <td>2018</td>\n",
       "      <td>1</td>\n",
       "      <td>39590.0</td>\n",
       "      <td>39</td>\n",
       "      <td>7</td>\n",
       "      <td>2880</td>\n",
       "      <td>dodge_mpv</td>\n",
       "      <td>12</td>\n",
       "    </tr>\n",
       "    <tr>\n",
       "      <th>3</th>\n",
       "      <td>25000</td>\n",
       "      <td>2014</td>\n",
       "      <td>1</td>\n",
       "      <td>64146.0</td>\n",
       "      <td>4</td>\n",
       "      <td>39</td>\n",
       "      <td>1320</td>\n",
       "      <td>ford_door</td>\n",
       "      <td>7</td>\n",
       "    </tr>\n",
       "    <tr>\n",
       "      <th>4</th>\n",
       "      <td>27700</td>\n",
       "      <td>2018</td>\n",
       "      <td>1</td>\n",
       "      <td>6654.0</td>\n",
       "      <td>34</td>\n",
       "      <td>6</td>\n",
       "      <td>1320</td>\n",
       "      <td>chevrolet_1500</td>\n",
       "      <td>4</td>\n",
       "    </tr>\n",
       "    <tr>\n",
       "      <th>...</th>\n",
       "      <td>...</td>\n",
       "      <td>...</td>\n",
       "      <td>...</td>\n",
       "      <td>...</td>\n",
       "      <td>...</td>\n",
       "      <td>...</td>\n",
       "      <td>...</td>\n",
       "      <td>...</td>\n",
       "      <td>...</td>\n",
       "    </tr>\n",
       "    <tr>\n",
       "      <th>2494</th>\n",
       "      <td>7800</td>\n",
       "      <td>2019</td>\n",
       "      <td>1</td>\n",
       "      <td>23609.0</td>\n",
       "      <td>34</td>\n",
       "      <td>3</td>\n",
       "      <td>1440</td>\n",
       "      <td>nissan_versa</td>\n",
       "      <td>6</td>\n",
       "    </tr>\n",
       "    <tr>\n",
       "      <th>2495</th>\n",
       "      <td>9200</td>\n",
       "      <td>2018</td>\n",
       "      <td>1</td>\n",
       "      <td>34553.0</td>\n",
       "      <td>39</td>\n",
       "      <td>6</td>\n",
       "      <td>1260</td>\n",
       "      <td>nissan_versa</td>\n",
       "      <td>6</td>\n",
       "    </tr>\n",
       "    <tr>\n",
       "      <th>2496</th>\n",
       "      <td>9200</td>\n",
       "      <td>2018</td>\n",
       "      <td>1</td>\n",
       "      <td>31594.0</td>\n",
       "      <td>39</td>\n",
       "      <td>6</td>\n",
       "      <td>1260</td>\n",
       "      <td>nissan_versa</td>\n",
       "      <td>6</td>\n",
       "    </tr>\n",
       "    <tr>\n",
       "      <th>2497</th>\n",
       "      <td>9200</td>\n",
       "      <td>2018</td>\n",
       "      <td>1</td>\n",
       "      <td>32557.0</td>\n",
       "      <td>2</td>\n",
       "      <td>6</td>\n",
       "      <td>2880</td>\n",
       "      <td>nissan_versa</td>\n",
       "      <td>6</td>\n",
       "    </tr>\n",
       "    <tr>\n",
       "      <th>2498</th>\n",
       "      <td>9200</td>\n",
       "      <td>2018</td>\n",
       "      <td>1</td>\n",
       "      <td>31371.0</td>\n",
       "      <td>39</td>\n",
       "      <td>6</td>\n",
       "      <td>1260</td>\n",
       "      <td>nissan_versa</td>\n",
       "      <td>6</td>\n",
       "    </tr>\n",
       "  </tbody>\n",
       "</table>\n",
       "<p>2499 rows × 9 columns</p>\n",
       "</div>"
      ],
      "text/plain": [
       "      price  year  title_status   mileage  color  state  condition     brand_model  cluster\n",
       "0      6300  2008             1  274117.0      2     24      14400  toyota_cruiser       10\n",
       "1      2899  2011             1  190552.0     39     35       8640         ford_se       13\n",
       "2      5350  2018             1   39590.0     39      7       2880       dodge_mpv       12\n",
       "3     25000  2014             1   64146.0      4     39       1320       ford_door        7\n",
       "4     27700  2018             1    6654.0     34      6       1320  chevrolet_1500        4\n",
       "...     ...   ...           ...       ...    ...    ...        ...             ...      ...\n",
       "2494   7800  2019             1   23609.0     34      3       1440    nissan_versa        6\n",
       "2495   9200  2018             1   34553.0     39      6       1260    nissan_versa        6\n",
       "2496   9200  2018             1   31594.0     39      6       1260    nissan_versa        6\n",
       "2497   9200  2018             1   32557.0      2      6       2880    nissan_versa        6\n",
       "2498   9200  2018             1   31371.0     39      6       1260    nissan_versa        6\n",
       "\n",
       "[2499 rows x 9 columns]"
      ]
     },
     "execution_count": 800,
     "metadata": {},
     "output_type": "execute_result"
    }
   ],
   "source": [
    "df_cluster"
   ]
  },
  {
   "cell_type": "code",
   "execution_count": 805,
   "id": "4f7e8a9e",
   "metadata": {},
   "outputs": [
    {
     "data": {
      "text/html": [
       "<div>\n",
       "<style scoped>\n",
       "    .dataframe tbody tr th:only-of-type {\n",
       "        vertical-align: middle;\n",
       "    }\n",
       "\n",
       "    .dataframe tbody tr th {\n",
       "        vertical-align: top;\n",
       "    }\n",
       "\n",
       "    .dataframe thead th {\n",
       "        text-align: right;\n",
       "    }\n",
       "</style>\n",
       "<table border=\"1\" class=\"dataframe\">\n",
       "  <thead>\n",
       "    <tr style=\"text-align: right;\">\n",
       "      <th></th>\n",
       "      <th>year</th>\n",
       "      <th>title_status</th>\n",
       "      <th>mileage</th>\n",
       "      <th>color</th>\n",
       "      <th>state</th>\n",
       "      <th>condition</th>\n",
       "      <th>cluster</th>\n",
       "    </tr>\n",
       "  </thead>\n",
       "  <tbody>\n",
       "    <tr>\n",
       "      <th>0</th>\n",
       "      <td>2008</td>\n",
       "      <td>1</td>\n",
       "      <td>274117.0</td>\n",
       "      <td>2</td>\n",
       "      <td>24</td>\n",
       "      <td>14400</td>\n",
       "      <td>10</td>\n",
       "    </tr>\n",
       "    <tr>\n",
       "      <th>1</th>\n",
       "      <td>2011</td>\n",
       "      <td>1</td>\n",
       "      <td>190552.0</td>\n",
       "      <td>39</td>\n",
       "      <td>35</td>\n",
       "      <td>8640</td>\n",
       "      <td>13</td>\n",
       "    </tr>\n",
       "    <tr>\n",
       "      <th>2</th>\n",
       "      <td>2018</td>\n",
       "      <td>1</td>\n",
       "      <td>39590.0</td>\n",
       "      <td>39</td>\n",
       "      <td>7</td>\n",
       "      <td>2880</td>\n",
       "      <td>12</td>\n",
       "    </tr>\n",
       "    <tr>\n",
       "      <th>3</th>\n",
       "      <td>2014</td>\n",
       "      <td>1</td>\n",
       "      <td>64146.0</td>\n",
       "      <td>4</td>\n",
       "      <td>39</td>\n",
       "      <td>1320</td>\n",
       "      <td>7</td>\n",
       "    </tr>\n",
       "    <tr>\n",
       "      <th>4</th>\n",
       "      <td>2018</td>\n",
       "      <td>1</td>\n",
       "      <td>6654.0</td>\n",
       "      <td>34</td>\n",
       "      <td>6</td>\n",
       "      <td>1320</td>\n",
       "      <td>4</td>\n",
       "    </tr>\n",
       "    <tr>\n",
       "      <th>...</th>\n",
       "      <td>...</td>\n",
       "      <td>...</td>\n",
       "      <td>...</td>\n",
       "      <td>...</td>\n",
       "      <td>...</td>\n",
       "      <td>...</td>\n",
       "      <td>...</td>\n",
       "    </tr>\n",
       "    <tr>\n",
       "      <th>2494</th>\n",
       "      <td>2019</td>\n",
       "      <td>1</td>\n",
       "      <td>23609.0</td>\n",
       "      <td>34</td>\n",
       "      <td>3</td>\n",
       "      <td>1440</td>\n",
       "      <td>6</td>\n",
       "    </tr>\n",
       "    <tr>\n",
       "      <th>2495</th>\n",
       "      <td>2018</td>\n",
       "      <td>1</td>\n",
       "      <td>34553.0</td>\n",
       "      <td>39</td>\n",
       "      <td>6</td>\n",
       "      <td>1260</td>\n",
       "      <td>6</td>\n",
       "    </tr>\n",
       "    <tr>\n",
       "      <th>2496</th>\n",
       "      <td>2018</td>\n",
       "      <td>1</td>\n",
       "      <td>31594.0</td>\n",
       "      <td>39</td>\n",
       "      <td>6</td>\n",
       "      <td>1260</td>\n",
       "      <td>6</td>\n",
       "    </tr>\n",
       "    <tr>\n",
       "      <th>2497</th>\n",
       "      <td>2018</td>\n",
       "      <td>1</td>\n",
       "      <td>32557.0</td>\n",
       "      <td>2</td>\n",
       "      <td>6</td>\n",
       "      <td>2880</td>\n",
       "      <td>6</td>\n",
       "    </tr>\n",
       "    <tr>\n",
       "      <th>2498</th>\n",
       "      <td>2018</td>\n",
       "      <td>1</td>\n",
       "      <td>31371.0</td>\n",
       "      <td>39</td>\n",
       "      <td>6</td>\n",
       "      <td>1260</td>\n",
       "      <td>6</td>\n",
       "    </tr>\n",
       "  </tbody>\n",
       "</table>\n",
       "<p>2499 rows × 7 columns</p>\n",
       "</div>"
      ],
      "text/plain": [
       "      year  title_status   mileage  color  state  condition  cluster\n",
       "0     2008             1  274117.0      2     24      14400       10\n",
       "1     2011             1  190552.0     39     35       8640       13\n",
       "2     2018             1   39590.0     39      7       2880       12\n",
       "3     2014             1   64146.0      4     39       1320        7\n",
       "4     2018             1    6654.0     34      6       1320        4\n",
       "...    ...           ...       ...    ...    ...        ...      ...\n",
       "2494  2019             1   23609.0     34      3       1440        6\n",
       "2495  2018             1   34553.0     39      6       1260        6\n",
       "2496  2018             1   31594.0     39      6       1260        6\n",
       "2497  2018             1   32557.0      2      6       2880        6\n",
       "2498  2018             1   31371.0     39      6       1260        6\n",
       "\n",
       "[2499 rows x 7 columns]"
      ]
     },
     "execution_count": 805,
     "metadata": {},
     "output_type": "execute_result"
    }
   ],
   "source": [
    "df_cluster.loc[:, (df_cluster.columns != 'price') & (df_cluster.columns != 'brand_model')]"
   ]
  },
  {
   "cell_type": "code",
   "execution_count": 826,
   "id": "62136df9",
   "metadata": {
    "scrolled": true
   },
   "outputs": [
    {
     "data": {
      "text/html": [
       "<div>\n",
       "<style scoped>\n",
       "    .dataframe tbody tr th:only-of-type {\n",
       "        vertical-align: middle;\n",
       "    }\n",
       "\n",
       "    .dataframe tbody tr th {\n",
       "        vertical-align: top;\n",
       "    }\n",
       "\n",
       "    .dataframe thead th {\n",
       "        text-align: right;\n",
       "    }\n",
       "</style>\n",
       "<table border=\"1\" class=\"dataframe\">\n",
       "  <thead>\n",
       "    <tr style=\"text-align: right;\">\n",
       "      <th></th>\n",
       "      <th>Summary Statistics per Decile</th>\n",
       "    </tr>\n",
       "    <tr>\n",
       "      <th>cluster</th>\n",
       "      <th></th>\n",
       "    </tr>\n",
       "  </thead>\n",
       "  <tbody>\n",
       "    <tr>\n",
       "      <th>0</th>\n",
       "      <td>[20000, 25300.0, 29800.0, 36300.0, 55000, 31547.1, 7708.4]</td>\n",
       "    </tr>\n",
       "    <tr>\n",
       "      <th>1</th>\n",
       "      <td>[0, 0.0, 575.0, 4625.0, 8600, 2398.5, 3201.7]</td>\n",
       "    </tr>\n",
       "    <tr>\n",
       "      <th>2</th>\n",
       "      <td>[0, 1285.0, 5000.0, 9750.0, 34000, 7251.9, 7757.9]</td>\n",
       "    </tr>\n",
       "    <tr>\n",
       "      <th>3</th>\n",
       "      <td>[0, 356.25, 750.0, 1568.75, 3200, 1175.0, 1224.1]</td>\n",
       "    </tr>\n",
       "    <tr>\n",
       "      <th>4</th>\n",
       "      <td>[0, 18577.75, 23400.0, 28000.0, 38200, 22854.8, 7323.0]</td>\n",
       "    </tr>\n",
       "    <tr>\n",
       "      <th>5</th>\n",
       "      <td>[0, 5125.0, 10420.0, 17350.0, 50200, 12646.5, 9706.3]</td>\n",
       "    </tr>\n",
       "    <tr>\n",
       "      <th>6</th>\n",
       "      <td>[500, 10400.0, 14700.0, 16700.0, 20802, 13463.5, 4627.6]</td>\n",
       "    </tr>\n",
       "    <tr>\n",
       "      <th>7</th>\n",
       "      <td>[0, 7500.0, 12700.0, 17450.0, 35300, 13265.0, 7602.0]</td>\n",
       "    </tr>\n",
       "    <tr>\n",
       "      <th>8</th>\n",
       "      <td>[36000, 44625.0, 48200.0, 54500.0, 84900, 49602.3, 8301.7]</td>\n",
       "    </tr>\n",
       "    <tr>\n",
       "      <th>9</th>\n",
       "      <td>[2000, 2000.0, 2000.0, 2000.0, 2000, 2000.0, 0.0]</td>\n",
       "    </tr>\n",
       "    <tr>\n",
       "      <th>10</th>\n",
       "      <td>[0, 25.0, 2725.0, 6300.0, 15700, 3885.6, 4936.2]</td>\n",
       "    </tr>\n",
       "    <tr>\n",
       "      <th>11</th>\n",
       "      <td>[20900, 24500.0, 26901.0, 31800.0, 45600, 28360.2, 5196.9]</td>\n",
       "    </tr>\n",
       "    <tr>\n",
       "      <th>12</th>\n",
       "      <td>[25, 10100.0, 13550.0, 16300.0, 22700, 12902.3, 4784.8]</td>\n",
       "    </tr>\n",
       "    <tr>\n",
       "      <th>13</th>\n",
       "      <td>[0, 25.0, 2200.0, 5800.0, 20300, 3915.9, 4849.8]</td>\n",
       "    </tr>\n",
       "    <tr>\n",
       "      <th>14</th>\n",
       "      <td>[0, 3500.0, 6000.0, 11200.0, 31700, 8194.9, 6595.7]</td>\n",
       "    </tr>\n",
       "  </tbody>\n",
       "</table>\n",
       "</div>"
      ],
      "text/plain": [
       "                                      Summary Statistics per Decile\n",
       "cluster                                                            \n",
       "0        [20000, 25300.0, 29800.0, 36300.0, 55000, 31547.1, 7708.4]\n",
       "1                     [0, 0.0, 575.0, 4625.0, 8600, 2398.5, 3201.7]\n",
       "2                [0, 1285.0, 5000.0, 9750.0, 34000, 7251.9, 7757.9]\n",
       "3                 [0, 356.25, 750.0, 1568.75, 3200, 1175.0, 1224.1]\n",
       "4           [0, 18577.75, 23400.0, 28000.0, 38200, 22854.8, 7323.0]\n",
       "5             [0, 5125.0, 10420.0, 17350.0, 50200, 12646.5, 9706.3]\n",
       "6          [500, 10400.0, 14700.0, 16700.0, 20802, 13463.5, 4627.6]\n",
       "7             [0, 7500.0, 12700.0, 17450.0, 35300, 13265.0, 7602.0]\n",
       "8        [36000, 44625.0, 48200.0, 54500.0, 84900, 49602.3, 8301.7]\n",
       "9                 [2000, 2000.0, 2000.0, 2000.0, 2000, 2000.0, 0.0]\n",
       "10                 [0, 25.0, 2725.0, 6300.0, 15700, 3885.6, 4936.2]\n",
       "11       [20900, 24500.0, 26901.0, 31800.0, 45600, 28360.2, 5196.9]\n",
       "12          [25, 10100.0, 13550.0, 16300.0, 22700, 12902.3, 4784.8]\n",
       "13                 [0, 25.0, 2200.0, 5800.0, 20300, 3915.9, 4849.8]\n",
       "14              [0, 3500.0, 6000.0, 11200.0, 31700, 8194.9, 6595.7]"
      ]
     },
     "execution_count": 826,
     "metadata": {},
     "output_type": "execute_result"
    }
   ],
   "source": [
    "df_cluster.groupby('cluster').price.apply(lambda x: [np.min(x), np.percentile(x, 25), np.median(x),\n",
    "                                                 np.percentile(x, 75), np.max(x),\n",
    "                                                 round(np.mean(x), 1), round(np.std(x), 1)]).to_frame(name='Summary Statistics per Decile')"
   ]
  },
  {
   "cell_type": "code",
   "execution_count": 825,
   "id": "0bf28aa0",
   "metadata": {},
   "outputs": [
    {
     "data": {
      "text/plain": [
       "{'whiskers': [<matplotlib.lines.Line2D at 0x1303245e0>,\n",
       "  <matplotlib.lines.Line2D at 0x130324970>,\n",
       "  <matplotlib.lines.Line2D at 0x130337f10>,\n",
       "  <matplotlib.lines.Line2D at 0x1301c82e0>,\n",
       "  <matplotlib.lines.Line2D at 0x1301d5880>,\n",
       "  <matplotlib.lines.Line2D at 0x1301d5c10>,\n",
       "  <matplotlib.lines.Line2D at 0x1301ec1f0>,\n",
       "  <matplotlib.lines.Line2D at 0x1301ec580>,\n",
       "  <matplotlib.lines.Line2D at 0x1301f3b50>,\n",
       "  <matplotlib.lines.Line2D at 0x1301f3ee0>,\n",
       "  <matplotlib.lines.Line2D at 0x13028b4c0>,\n",
       "  <matplotlib.lines.Line2D at 0x13028b850>,\n",
       "  <matplotlib.lines.Line2D at 0x13028fdf0>,\n",
       "  <matplotlib.lines.Line2D at 0x1302a31c0>,\n",
       "  <matplotlib.lines.Line2D at 0x1302b3760>,\n",
       "  <matplotlib.lines.Line2D at 0x1302b3af0>,\n",
       "  <matplotlib.lines.Line2D at 0x1302710d0>,\n",
       "  <matplotlib.lines.Line2D at 0x130271460>,\n",
       "  <matplotlib.lines.Line2D at 0x13024ca00>,\n",
       "  <matplotlib.lines.Line2D at 0x13024cd90>,\n",
       "  <matplotlib.lines.Line2D at 0x130260370>,\n",
       "  <matplotlib.lines.Line2D at 0x130260700>,\n",
       "  <matplotlib.lines.Line2D at 0x130274ca0>,\n",
       "  <matplotlib.lines.Line2D at 0x130281070>,\n",
       "  <matplotlib.lines.Line2D at 0x13038e4f0>,\n",
       "  <matplotlib.lines.Line2D at 0x13038e880>,\n",
       "  <matplotlib.lines.Line2D at 0x130398e20>,\n",
       "  <matplotlib.lines.Line2D at 0x1303a41f0>,\n",
       "  <matplotlib.lines.Line2D at 0x1303b2790>,\n",
       "  <matplotlib.lines.Line2D at 0x1303b2b20>],\n",
       " 'caps': [<matplotlib.lines.Line2D at 0x130324d00>,\n",
       "  <matplotlib.lines.Line2D at 0x1303370d0>,\n",
       "  <matplotlib.lines.Line2D at 0x1301c8670>,\n",
       "  <matplotlib.lines.Line2D at 0x1301c8a00>,\n",
       "  <matplotlib.lines.Line2D at 0x1301d5fa0>,\n",
       "  <matplotlib.lines.Line2D at 0x1301df370>,\n",
       "  <matplotlib.lines.Line2D at 0x1301ec910>,\n",
       "  <matplotlib.lines.Line2D at 0x1301ecca0>,\n",
       "  <matplotlib.lines.Line2D at 0x1302062b0>,\n",
       "  <matplotlib.lines.Line2D at 0x130206640>,\n",
       "  <matplotlib.lines.Line2D at 0x13028bbe0>,\n",
       "  <matplotlib.lines.Line2D at 0x13028bf70>,\n",
       "  <matplotlib.lines.Line2D at 0x1302a3550>,\n",
       "  <matplotlib.lines.Line2D at 0x1302a38e0>,\n",
       "  <matplotlib.lines.Line2D at 0x1302b3e80>,\n",
       "  <matplotlib.lines.Line2D at 0x1302bd250>,\n",
       "  <matplotlib.lines.Line2D at 0x1302717f0>,\n",
       "  <matplotlib.lines.Line2D at 0x130271b80>,\n",
       "  <matplotlib.lines.Line2D at 0x130255160>,\n",
       "  <matplotlib.lines.Line2D at 0x1302554f0>,\n",
       "  <matplotlib.lines.Line2D at 0x130260a90>,\n",
       "  <matplotlib.lines.Line2D at 0x130260e20>,\n",
       "  <matplotlib.lines.Line2D at 0x130281400>,\n",
       "  <matplotlib.lines.Line2D at 0x130281670>,\n",
       "  <matplotlib.lines.Line2D at 0x13038ec10>,\n",
       "  <matplotlib.lines.Line2D at 0x13038efa0>,\n",
       "  <matplotlib.lines.Line2D at 0x1303a4580>,\n",
       "  <matplotlib.lines.Line2D at 0x1303a4910>,\n",
       "  <matplotlib.lines.Line2D at 0x1303b2eb0>,\n",
       "  <matplotlib.lines.Line2D at 0x1303bc280>],\n",
       " 'boxes': [<matplotlib.lines.Line2D at 0x130324250>,\n",
       "  <matplotlib.lines.Line2D at 0x130337b80>,\n",
       "  <matplotlib.lines.Line2D at 0x1301d54f0>,\n",
       "  <matplotlib.lines.Line2D at 0x1301dfe20>,\n",
       "  <matplotlib.lines.Line2D at 0x1301f37c0>,\n",
       "  <matplotlib.lines.Line2D at 0x13028b130>,\n",
       "  <matplotlib.lines.Line2D at 0x13028fa60>,\n",
       "  <matplotlib.lines.Line2D at 0x1302b33d0>,\n",
       "  <matplotlib.lines.Line2D at 0x1302bdd00>,\n",
       "  <matplotlib.lines.Line2D at 0x13024c670>,\n",
       "  <matplotlib.lines.Line2D at 0x130255fa0>,\n",
       "  <matplotlib.lines.Line2D at 0x130274910>,\n",
       "  <matplotlib.lines.Line2D at 0x13038e160>,\n",
       "  <matplotlib.lines.Line2D at 0x130398a90>,\n",
       "  <matplotlib.lines.Line2D at 0x1303b2400>],\n",
       " 'medians': [<matplotlib.lines.Line2D at 0x130337460>,\n",
       "  <matplotlib.lines.Line2D at 0x1301c8d90>,\n",
       "  <matplotlib.lines.Line2D at 0x1301df700>,\n",
       "  <matplotlib.lines.Line2D at 0x1301f3070>,\n",
       "  <matplotlib.lines.Line2D at 0x1302069d0>,\n",
       "  <matplotlib.lines.Line2D at 0x13028f340>,\n",
       "  <matplotlib.lines.Line2D at 0x1302a3c70>,\n",
       "  <matplotlib.lines.Line2D at 0x1302bd5e0>,\n",
       "  <matplotlib.lines.Line2D at 0x130271f10>,\n",
       "  <matplotlib.lines.Line2D at 0x130255880>,\n",
       "  <matplotlib.lines.Line2D at 0x1302741f0>,\n",
       "  <matplotlib.lines.Line2D at 0x130281a00>,\n",
       "  <matplotlib.lines.Line2D at 0x130398370>,\n",
       "  <matplotlib.lines.Line2D at 0x1303a4ca0>,\n",
       "  <matplotlib.lines.Line2D at 0x1303bc610>],\n",
       " 'fliers': [<matplotlib.lines.Line2D at 0x1303377f0>,\n",
       "  <matplotlib.lines.Line2D at 0x1301d5160>,\n",
       "  <matplotlib.lines.Line2D at 0x1301dfa90>,\n",
       "  <matplotlib.lines.Line2D at 0x1301f3430>,\n",
       "  <matplotlib.lines.Line2D at 0x130206d60>,\n",
       "  <matplotlib.lines.Line2D at 0x13028f6d0>,\n",
       "  <matplotlib.lines.Line2D at 0x1302b3040>,\n",
       "  <matplotlib.lines.Line2D at 0x1302bd970>,\n",
       "  <matplotlib.lines.Line2D at 0x13024c2e0>,\n",
       "  <matplotlib.lines.Line2D at 0x130255c10>,\n",
       "  <matplotlib.lines.Line2D at 0x130274580>,\n",
       "  <matplotlib.lines.Line2D at 0x130281d90>,\n",
       "  <matplotlib.lines.Line2D at 0x130398700>,\n",
       "  <matplotlib.lines.Line2D at 0x1303b2070>,\n",
       "  <matplotlib.lines.Line2D at 0x1303bc9a0>],\n",
       " 'means': []}"
      ]
     },
     "execution_count": 825,
     "metadata": {},
     "output_type": "execute_result"
    },
    {
     "data": {
      "image/png": "[encoded data removed]",
      "text/plain": [
       "<Figure size 432x288 with 1 Axes>"
      ]
     },
     "metadata": {
      "needs_background": "light"
     },
     "output_type": "display_data"
    }
   ],
   "source": [
    "plt.boxplot(df_cluster.groupby('cluster').price.apply(lambda x: [np.min(x), np.percentile(x, 25), np.median(x),\n",
    "                                                 np.percentile(x, 75), np.max(x),\n",
    "                                                 round(np.mean(x), 1), round(np.std(x), 1)]).to_frame(name='Summary Statistics per Decile')['Summary Statistics per Decile'])"
   ]
  },
  {
   "cell_type": "code",
   "execution_count": 820,
   "id": "4111fc4c",
   "metadata": {},
   "outputs": [
    {
     "data": {
      "text/plain": [
       "<pandas.core.groupby.generic.SeriesGroupBy object at 0x12840d190>"
      ]
     },
     "execution_count": 820,
     "metadata": {},
     "output_type": "execute_result"
    }
   ],
   "source": [
    "df_cluster.groupby('cluster').price.apply(lambda x: [min(x), n])"
   ]
  },
  {
   "cell_type": "code",
   "execution_count": 817,
   "id": "b62b0590",
   "metadata": {},
   "outputs": [
    {
     "data": {
      "text/plain": [
       "<AxesSubplot:xlabel='cluster'>"
      ]
     },
     "execution_count": 817,
     "metadata": {},
     "output_type": "execute_result"
    },
    {
     "data": {
      "image/png": "[encoded data removed]",
      "text/plain": [
       "<Figure size 432x288 with 1 Axes>"
      ]
     },
     "metadata": {
      "needs_background": "light"
     },
     "output_type": "display_data"
    }
   ],
   "source": [
    "df_cluster.plot.bar(x='cluster', y='price')"
   ]
  },
  {
   "cell_type": "code",
   "execution_count": null,
   "id": "0690a36c",
   "metadata": {},
   "outputs": [],
   "source": []
  },
  {
   "cell_type": "code",
   "execution_count": 808,
   "id": "4fde020c",
   "metadata": {
    "scrolled": true
   },
   "outputs": [
    {
     "data": {
      "text/plain": [
       "0        6300\n",
       "1        2899\n",
       "2        5350\n",
       "3       25000\n",
       "4       27700\n",
       "        ...  \n",
       "2494     7800\n",
       "2495     9200\n",
       "2496     9200\n",
       "2497     9200\n",
       "2498     9200\n",
       "Name: price, Length: 2499, dtype: int64"
      ]
     },
     "execution_count": 808,
     "metadata": {},
     "output_type": "execute_result"
    }
   ],
   "source": [
    "df_cluster.price"
   ]
  },
  {
   "cell_type": "code",
   "execution_count": 807,
   "id": "ad97c0f2",
   "metadata": {
    "collapsed": true
   },
   "outputs": [
    {
     "name": "stderr",
     "output_type": "stream",
     "text": [
      "/Users/javiermazonechevarria/.pyenv/versions/3.8.9/envs/test1/lib/python3.8/site-packages/sklearn/linear_model/_coordinate_descent.py:526: UserWarning: Coordinate descent with alpha=0 may lead to unexpected results and is discouraged.\n",
      "  model = cd_fast.enet_coordinate_descent_gram(\n",
      "/Users/javiermazonechevarria/.pyenv/versions/3.8.9/envs/test1/lib/python3.8/site-packages/sklearn/linear_model/_coordinate_descent.py:526: UserWarning: Coordinate descent with alpha=0 may lead to unexpected results and is discouraged.\n",
      "  model = cd_fast.enet_coordinate_descent_gram(\n",
      "/Users/javiermazonechevarria/.pyenv/versions/3.8.9/envs/test1/lib/python3.8/site-packages/sklearn/linear_model/_coordinate_descent.py:526: UserWarning: Coordinate descent with alpha=0 may lead to unexpected results and is discouraged.\n",
      "  model = cd_fast.enet_coordinate_descent_gram(\n",
      "/Users/javiermazonechevarria/.pyenv/versions/3.8.9/envs/test1/lib/python3.8/site-packages/sklearn/linear_model/_coordinate_descent.py:526: UserWarning: Coordinate descent with alpha=0 may lead to unexpected results and is discouraged.\n",
      "  model = cd_fast.enet_coordinate_descent_gram(\n",
      "/Users/javiermazonechevarria/.pyenv/versions/3.8.9/envs/test1/lib/python3.8/site-packages/sklearn/linear_model/_coordinate_descent.py:526: ConvergenceWarning: Objective did not converge. You might want to increase the number of iterations. Duality gap: 113079625362.51318, tolerance: 29209638.60663353\n",
      "  model = cd_fast.enet_coordinate_descent_gram(\n",
      "/Users/javiermazonechevarria/.pyenv/versions/3.8.9/envs/test1/lib/python3.8/site-packages/sklearn/linear_model/_coordinate_descent.py:526: UserWarning: Coordinate descent with alpha=0 may lead to unexpected results and is discouraged.\n",
      "  model = cd_fast.enet_coordinate_descent_gram(\n",
      "/Users/javiermazonechevarria/.pyenv/versions/3.8.9/envs/test1/lib/python3.8/site-packages/sklearn/linear_model/_coordinate_descent.py:526: ConvergenceWarning: Objective did not converge. You might want to increase the number of iterations. Duality gap: 106551277097.85284, tolerance: 28592911.25015595\n",
      "  model = cd_fast.enet_coordinate_descent_gram(\n",
      "/Users/javiermazonechevarria/.pyenv/versions/3.8.9/envs/test1/lib/python3.8/site-packages/sklearn/linear_model/_coordinate_descent.py:1348: UserWarning: With alpha=0, this algorithm does not converge well. You are advised to use the LinearRegression estimator\n",
      "  model.fit(X, y)\n",
      "/Users/javiermazonechevarria/.pyenv/versions/3.8.9/envs/test1/lib/python3.8/site-packages/sklearn/linear_model/_coordinate_descent.py:530: UserWarning: Coordinate descent with no regularization may lead to unexpected results and is discouraged.\n",
      "  model = cd_fast.enet_coordinate_descent(\n",
      "/Users/javiermazonechevarria/.pyenv/versions/3.8.9/envs/test1/lib/python3.8/site-packages/sklearn/linear_model/_coordinate_descent.py:530: ConvergenceWarning: Objective did not converge. You might want to increase the number of iterations. Duality gap: 139038487329.0025, tolerance: 36670579.171127565\n",
      "  model = cd_fast.enet_coordinate_descent(\n"
     ]
    }
   ],
   "source": [
    "lassocv_model = LassoCV(alphas=np.arange(0, 5, 0.2), max_iter=5000, tol=0.0001, cv=shuffle_5, random_state=0).fit(df_cluster.loc[:, (df_cluster.columns != 'price') & (df_cluster.columns != 'brand_model')], df_cluster.price)"
   ]
  },
  {
   "cell_type": "code",
   "execution_count": 809,
   "id": "b6130d68",
   "metadata": {},
   "outputs": [],
   "source": [
    "X_train, X_test, y_train, y_test = train_test_split(df_cluster.loc[:, (df_cluster.columns != 'price') & (df_cluster.columns != 'brand_model')], df_cluster.price, train_size=0.8)"
   ]
  },
  {
   "cell_type": "code",
   "execution_count": 810,
   "id": "ce752852",
   "metadata": {},
   "outputs": [
    {
     "name": "stdout",
     "output_type": "stream",
     "text": [
      "best penalization term: 0.0\n",
      "R^2: 0.25007895306799166\n",
      "MSE: 102887162.25840181\n",
      "MAE: 7740.61589468863\n"
     ]
    },
    {
     "name": "stderr",
     "output_type": "stream",
     "text": [
      "/Users/javiermazonechevarria/.pyenv/versions/3.8.9/envs/test1/lib/python3.8/site-packages/sklearn/linear_model/_coordinate_descent.py:526: UserWarning: Coordinate descent with alpha=0 may lead to unexpected results and is discouraged.\n",
      "  model = cd_fast.enet_coordinate_descent_gram(\n",
      "/Users/javiermazonechevarria/.pyenv/versions/3.8.9/envs/test1/lib/python3.8/site-packages/sklearn/linear_model/_coordinate_descent.py:526: UserWarning: Coordinate descent with alpha=0 may lead to unexpected results and is discouraged.\n",
      "  model = cd_fast.enet_coordinate_descent_gram(\n",
      "/Users/javiermazonechevarria/.pyenv/versions/3.8.9/envs/test1/lib/python3.8/site-packages/sklearn/linear_model/_coordinate_descent.py:526: ConvergenceWarning: Objective did not converge. You might want to increase the number of iterations. Duality gap: 109998800139.20084, tolerance: 29133054.68193177\n",
      "  model = cd_fast.enet_coordinate_descent_gram(\n",
      "/Users/javiermazonechevarria/.pyenv/versions/3.8.9/envs/test1/lib/python3.8/site-packages/sklearn/linear_model/_coordinate_descent.py:526: UserWarning: Coordinate descent with alpha=0 may lead to unexpected results and is discouraged.\n",
      "  model = cd_fast.enet_coordinate_descent_gram(\n",
      "/Users/javiermazonechevarria/.pyenv/versions/3.8.9/envs/test1/lib/python3.8/site-packages/sklearn/linear_model/_coordinate_descent.py:526: ConvergenceWarning: Objective did not converge. You might want to increase the number of iterations. Duality gap: 114728663780.97665, tolerance: 29984432.585759364\n",
      "  model = cd_fast.enet_coordinate_descent_gram(\n",
      "/Users/javiermazonechevarria/.pyenv/versions/3.8.9/envs/test1/lib/python3.8/site-packages/sklearn/linear_model/_coordinate_descent.py:526: UserWarning: Coordinate descent with alpha=0 may lead to unexpected results and is discouraged.\n",
      "  model = cd_fast.enet_coordinate_descent_gram(\n",
      "/Users/javiermazonechevarria/.pyenv/versions/3.8.9/envs/test1/lib/python3.8/site-packages/sklearn/linear_model/_coordinate_descent.py:526: UserWarning: Coordinate descent with alpha=0 may lead to unexpected results and is discouraged.\n",
      "  model = cd_fast.enet_coordinate_descent_gram(\n",
      "/Users/javiermazonechevarria/.pyenv/versions/3.8.9/envs/test1/lib/python3.8/site-packages/sklearn/linear_model/_coordinate_descent.py:526: ConvergenceWarning: Objective did not converge. You might want to increase the number of iterations. Duality gap: 112984933762.99734, tolerance: 29650490.8076558\n",
      "  model = cd_fast.enet_coordinate_descent_gram(\n",
      "/Users/javiermazonechevarria/.pyenv/versions/3.8.9/envs/test1/lib/python3.8/site-packages/sklearn/linear_model/_coordinate_descent.py:1348: UserWarning: With alpha=0, this algorithm does not converge well. You are advised to use the LinearRegression estimator\n",
      "  model.fit(X, y)\n",
      "/Users/javiermazonechevarria/.pyenv/versions/3.8.9/envs/test1/lib/python3.8/site-packages/sklearn/linear_model/_coordinate_descent.py:530: UserWarning: Coordinate descent with no regularization may lead to unexpected results and is discouraged.\n",
      "  model = cd_fast.enet_coordinate_descent(\n",
      "/Users/javiermazonechevarria/.pyenv/versions/3.8.9/envs/test1/lib/python3.8/site-packages/sklearn/linear_model/_coordinate_descent.py:530: ConvergenceWarning: Objective did not converge. You might want to increase the number of iterations. Duality gap: 139038487329.0025, tolerance: 36670579.171127565\n",
      "  model = cd_fast.enet_coordinate_descent(\n"
     ]
    }
   ],
   "source": [
    "lassocv_model = LassoCV(alphas=np.arange(0, 5, 0.2), max_iter=5000, tol=0.0001, cv=shuffle_5, random_state=0).fit(df_cluster.loc[:, (df_cluster.columns != 'price') & (df_cluster.columns != 'brand_model')], df_cluster.price)\n",
    "print(f'best penalization term: {lassocv_model.alpha_}',\n",
    "      f'R^2: {lassocv_model.score(X_test, y_test)}',\n",
    "      f'MSE: {sum((lassocv_model.predict(X_test) - y_test)**2) / len(y_test)}',\n",
    "      f'MAE: {sum(abs(lassocv_model.predict(X_test) - y_test)) / len(y_test)}',\n",
    "      sep='\\n')"
   ]
  },
  {
   "cell_type": "markdown",
   "id": "ade39afc",
   "metadata": {},
   "source": [
    "## Polynomial Regression and Splines"
   ]
  },
  {
   "cell_type": "code",
   "execution_count": 811,
   "id": "09fb7e03",
   "metadata": {},
   "outputs": [],
   "source": [
    "from sklearn.preprocessing import PolynomialFeatures"
   ]
  },
  {
   "cell_type": "code",
   "execution_count": 814,
   "id": "6778da45",
   "metadata": {},
   "outputs": [
    {
     "data": {
      "text/plain": [
       "(2499, 7)"
      ]
     },
     "execution_count": 814,
     "metadata": {},
     "output_type": "execute_result"
    }
   ],
   "source": [
    "df_cluster.loc[:, (df_cluster.columns != 'price') & (df_cluster.columns != 'brand_model')].shape"
   ]
  },
  {
   "cell_type": "code",
   "execution_count": 828,
   "id": "caf0e760",
   "metadata": {
    "scrolled": true
   },
   "outputs": [
    {
     "data": {
      "text/html": [
       "<div>\n",
       "<style scoped>\n",
       "    .dataframe tbody tr th:only-of-type {\n",
       "        vertical-align: middle;\n",
       "    }\n",
       "\n",
       "    .dataframe tbody tr th {\n",
       "        vertical-align: top;\n",
       "    }\n",
       "\n",
       "    .dataframe thead th {\n",
       "        text-align: right;\n",
       "    }\n",
       "</style>\n",
       "<table border=\"1\" class=\"dataframe\">\n",
       "  <thead>\n",
       "    <tr style=\"text-align: right;\">\n",
       "      <th></th>\n",
       "      <th>year</th>\n",
       "      <th>title_status</th>\n",
       "      <th>mileage</th>\n",
       "      <th>color</th>\n",
       "      <th>state</th>\n",
       "      <th>condition</th>\n",
       "      <th>cluster</th>\n",
       "    </tr>\n",
       "  </thead>\n",
       "  <tbody>\n",
       "    <tr>\n",
       "      <th>0</th>\n",
       "      <td>2008</td>\n",
       "      <td>1</td>\n",
       "      <td>274117.0</td>\n",
       "      <td>2</td>\n",
       "      <td>24</td>\n",
       "      <td>14400</td>\n",
       "      <td>10</td>\n",
       "    </tr>\n",
       "    <tr>\n",
       "      <th>1</th>\n",
       "      <td>2011</td>\n",
       "      <td>1</td>\n",
       "      <td>190552.0</td>\n",
       "      <td>39</td>\n",
       "      <td>35</td>\n",
       "      <td>8640</td>\n",
       "      <td>13</td>\n",
       "    </tr>\n",
       "    <tr>\n",
       "      <th>2</th>\n",
       "      <td>2018</td>\n",
       "      <td>1</td>\n",
       "      <td>39590.0</td>\n",
       "      <td>39</td>\n",
       "      <td>7</td>\n",
       "      <td>2880</td>\n",
       "      <td>12</td>\n",
       "    </tr>\n",
       "    <tr>\n",
       "      <th>3</th>\n",
       "      <td>2014</td>\n",
       "      <td>1</td>\n",
       "      <td>64146.0</td>\n",
       "      <td>4</td>\n",
       "      <td>39</td>\n",
       "      <td>1320</td>\n",
       "      <td>7</td>\n",
       "    </tr>\n",
       "    <tr>\n",
       "      <th>4</th>\n",
       "      <td>2018</td>\n",
       "      <td>1</td>\n",
       "      <td>6654.0</td>\n",
       "      <td>34</td>\n",
       "      <td>6</td>\n",
       "      <td>1320</td>\n",
       "      <td>4</td>\n",
       "    </tr>\n",
       "    <tr>\n",
       "      <th>...</th>\n",
       "      <td>...</td>\n",
       "      <td>...</td>\n",
       "      <td>...</td>\n",
       "      <td>...</td>\n",
       "      <td>...</td>\n",
       "      <td>...</td>\n",
       "      <td>...</td>\n",
       "    </tr>\n",
       "    <tr>\n",
       "      <th>2494</th>\n",
       "      <td>2019</td>\n",
       "      <td>1</td>\n",
       "      <td>23609.0</td>\n",
       "      <td>34</td>\n",
       "      <td>3</td>\n",
       "      <td>1440</td>\n",
       "      <td>6</td>\n",
       "    </tr>\n",
       "    <tr>\n",
       "      <th>2495</th>\n",
       "      <td>2018</td>\n",
       "      <td>1</td>\n",
       "      <td>34553.0</td>\n",
       "      <td>39</td>\n",
       "      <td>6</td>\n",
       "      <td>1260</td>\n",
       "      <td>6</td>\n",
       "    </tr>\n",
       "    <tr>\n",
       "      <th>2496</th>\n",
       "      <td>2018</td>\n",
       "      <td>1</td>\n",
       "      <td>31594.0</td>\n",
       "      <td>39</td>\n",
       "      <td>6</td>\n",
       "      <td>1260</td>\n",
       "      <td>6</td>\n",
       "    </tr>\n",
       "    <tr>\n",
       "      <th>2497</th>\n",
       "      <td>2018</td>\n",
       "      <td>1</td>\n",
       "      <td>32557.0</td>\n",
       "      <td>2</td>\n",
       "      <td>6</td>\n",
       "      <td>2880</td>\n",
       "      <td>6</td>\n",
       "    </tr>\n",
       "    <tr>\n",
       "      <th>2498</th>\n",
       "      <td>2018</td>\n",
       "      <td>1</td>\n",
       "      <td>31371.0</td>\n",
       "      <td>39</td>\n",
       "      <td>6</td>\n",
       "      <td>1260</td>\n",
       "      <td>6</td>\n",
       "    </tr>\n",
       "  </tbody>\n",
       "</table>\n",
       "<p>2499 rows × 7 columns</p>\n",
       "</div>"
      ],
      "text/plain": [
       "      year  title_status   mileage  color  state  condition  cluster\n",
       "0     2008             1  274117.0      2     24      14400       10\n",
       "1     2011             1  190552.0     39     35       8640       13\n",
       "2     2018             1   39590.0     39      7       2880       12\n",
       "3     2014             1   64146.0      4     39       1320        7\n",
       "4     2018             1    6654.0     34      6       1320        4\n",
       "...    ...           ...       ...    ...    ...        ...      ...\n",
       "2494  2019             1   23609.0     34      3       1440        6\n",
       "2495  2018             1   34553.0     39      6       1260        6\n",
       "2496  2018             1   31594.0     39      6       1260        6\n",
       "2497  2018             1   32557.0      2      6       2880        6\n",
       "2498  2018             1   31371.0     39      6       1260        6\n",
       "\n",
       "[2499 rows x 7 columns]"
      ]
     },
     "execution_count": 828,
     "metadata": {},
     "output_type": "execute_result"
    }
   ],
   "source": [
    "df_cluster.loc[:, (df_cluster.columns != 'price') & (df_cluster.columns != 'brand_model')]"
   ]
  },
  {
   "cell_type": "code",
   "execution_count": 829,
   "id": "b482a8d6",
   "metadata": {},
   "outputs": [
    {
     "data": {
      "text/plain": [
       "(2499, 120)"
      ]
     },
     "execution_count": 829,
     "metadata": {},
     "output_type": "execute_result"
    }
   ],
   "source": [
    "poly = PolynomialFeatures(3)\n",
    "poly.fit_transform(df_cluster.loc[:, (df_cluster.columns != 'price') & (df_cluster.columns != 'brand_model')]).shape\n",
    "\n"
   ]
  },
  {
   "cell_type": "code",
   "execution_count": 834,
   "id": "b6493ba1",
   "metadata": {},
   "outputs": [
    {
     "ename": "ImportError",
     "evalue": "cannot import name 'SplineTransformer' from 'sklearn.preprocessing' (/Users/javiermazonechevarria/.pyenv/versions/3.8.9/envs/test1/lib/python3.8/site-packages/sklearn/preprocessing/__init__.py)",
     "output_type": "error",
     "traceback": [
      "\u001b[0;31m---------------------------------------------------------------------------\u001b[0m",
      "\u001b[0;31mImportError\u001b[0m                               Traceback (most recent call last)",
      "\u001b[0;32m/var/folders/d7/yfvx_qgn57dch5dhs851htmh0000gn/T/ipykernel_805/1463659137.py\u001b[0m in \u001b[0;36m<module>\u001b[0;34m\u001b[0m\n\u001b[0;32m----> 1\u001b[0;31m \u001b[0;32mfrom\u001b[0m \u001b[0msklearn\u001b[0m\u001b[0;34m.\u001b[0m\u001b[0mpreprocessing\u001b[0m \u001b[0;32mimport\u001b[0m \u001b[0mSplineTransformer\u001b[0m\u001b[0;34m\u001b[0m\u001b[0;34m\u001b[0m\u001b[0m\n\u001b[0m\u001b[1;32m      2\u001b[0m \u001b[0;32mfrom\u001b[0m \u001b[0msklearn\u001b[0m\u001b[0;34m.\u001b[0m\u001b[0mpipeline\u001b[0m \u001b[0;32mimport\u001b[0m \u001b[0mmake_pipeline\u001b[0m\u001b[0;34m\u001b[0m\u001b[0;34m\u001b[0m\u001b[0m\n",
      "\u001b[0;31mImportError\u001b[0m: cannot import name 'SplineTransformer' from 'sklearn.preprocessing' (/Users/javiermazonechevarria/.pyenv/versions/3.8.9/envs/test1/lib/python3.8/site-packages/sklearn/preprocessing/__init__.py)"
     ]
    }
   ],
   "source": [
    "from sklearn.preprocessing import SplineTransformer\n",
    "from sklearn.pipeline import make_pipeline"
   ]
  },
  {
   "cell_type": "code",
   "execution_count": 833,
   "id": "209aec61",
   "metadata": {},
   "outputs": [
    {
     "ename": "NameError",
     "evalue": "name 'SplineTransformer' is not defined",
     "output_type": "error",
     "traceback": [
      "\u001b[0;31m---------------------------------------------------------------------------\u001b[0m",
      "\u001b[0;31mNameError\u001b[0m                                 Traceback (most recent call last)",
      "\u001b[0;32m/var/folders/d7/yfvx_qgn57dch5dhs851htmh0000gn/T/ipykernel_805/330081386.py\u001b[0m in \u001b[0;36m<module>\u001b[0;34m\u001b[0m\n\u001b[0;32m----> 1\u001b[0;31m model = make_pipeline(SplineTransformer(n_knots=4, degree=3),\n\u001b[0m\u001b[1;32m      2\u001b[0m                       Ridge(alpha=1e-3))\n\u001b[1;32m      3\u001b[0m \u001b[0mmodel\u001b[0m\u001b[0;34m.\u001b[0m\u001b[0mfit\u001b[0m\u001b[0;34m(\u001b[0m\u001b[0mdf_cluster\u001b[0m\u001b[0;34m.\u001b[0m\u001b[0mloc\u001b[0m\u001b[0;34m[\u001b[0m\u001b[0;34m:\u001b[0m\u001b[0;34m,\u001b[0m \u001b[0;34m(\u001b[0m\u001b[0mdf_cluster\u001b[0m\u001b[0;34m.\u001b[0m\u001b[0mcolumns\u001b[0m \u001b[0;34m!=\u001b[0m \u001b[0;34m'price'\u001b[0m\u001b[0;34m)\u001b[0m \u001b[0;34m&\u001b[0m \u001b[0;34m(\u001b[0m\u001b[0mdf_cluster\u001b[0m\u001b[0;34m.\u001b[0m\u001b[0mcolumns\u001b[0m \u001b[0;34m!=\u001b[0m \u001b[0;34m'brand_model'\u001b[0m\u001b[0;34m)\u001b[0m\u001b[0;34m]\u001b[0m\u001b[0;34m,\u001b[0m \u001b[0mdf_cluster\u001b[0m\u001b[0;34m.\u001b[0m\u001b[0mprice\u001b[0m\u001b[0;34m)\u001b[0m\u001b[0;34m\u001b[0m\u001b[0;34m\u001b[0m\u001b[0m\n",
      "\u001b[0;31mNameError\u001b[0m: name 'SplineTransformer' is not defined"
     ]
    }
   ],
   "source": [
    "model = make_pipeline(SplineTransformer(n_knots=4, degree=3),\n",
    "                      Ridge(alpha=1e-3))\n",
    "model.fit(df_cluster.loc[:, (df_cluster.columns != 'price') & (df_cluster.columns != 'brand_model')], df_cluster.price)\n"
   ]
  },
  {
   "cell_type": "code",
   "execution_count": null,
   "id": "5913179d",
   "metadata": {},
   "outputs": [],
   "source": []
  }
 ],
 "metadata": {
  "kernelspec": {
   "display_name": "Python 3 (ipykernel)",
   "language": "python",
   "name": "python3"
  },
  "language_info": {
   "codemirror_mode": {
    "name": "ipython",
    "version": 3
   },
   "file_extension": ".py",
   "mimetype": "text/x-python",
   "name": "python",
   "nbconvert_exporter": "python",
   "pygments_lexer": "ipython3",
   "version": "3.8.9"
  }
 },
 "nbformat": 4,
 "nbformat_minor": 5
}
