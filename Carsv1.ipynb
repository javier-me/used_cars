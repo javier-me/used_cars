{
 "cells": [
  {
   "cell_type": "markdown",
   "id": "618693ee",
   "metadata": {},
   "source": [
    "# Price Prediction of Used Cars"
   ]
  },
  {
   "cell_type": "code",
   "execution_count": 1,
   "id": "a5e5af23",
   "metadata": {},
   "outputs": [],
   "source": [
    "import os\n",
    "import numpy as np\n",
    "import pandas as pd\n",
    "import matplotlib.pyplot as plt\n",
    "%matplotlib inline\n",
    "from math import isnan\n",
    "import sklearn as sk\n",
    "from sklearn.preprocessing import OneHotEncoder\n",
    "from sklearn.model_selection import train_test_split\n",
    "from sklearn.linear_model import LinearRegression\n"
   ]
  },
  {
   "cell_type": "markdown",
   "id": "397d9005",
   "metadata": {},
   "source": [
    "### Data Exploration"
   ]
  },
  {
   "cell_type": "code",
   "execution_count": 2,
   "id": "5eac3e4c",
   "metadata": {},
   "outputs": [],
   "source": [
    "df = pd.read_csv('USA_cars_datasets.csv', index_col=0)"
   ]
  },
  {
   "cell_type": "code",
   "execution_count": 3,
   "id": "303ff6c3",
   "metadata": {
    "scrolled": true
   },
   "outputs": [
    {
     "name": "stdout",
     "output_type": "stream",
     "text": [
      "shape: (2499, 12)\n"
     ]
    },
    {
     "data": {
      "text/html": [
       "<div>\n",
       "<style scoped>\n",
       "    .dataframe tbody tr th:only-of-type {\n",
       "        vertical-align: middle;\n",
       "    }\n",
       "\n",
       "    .dataframe tbody tr th {\n",
       "        vertical-align: top;\n",
       "    }\n",
       "\n",
       "    .dataframe thead th {\n",
       "        text-align: right;\n",
       "    }\n",
       "</style>\n",
       "<table border=\"1\" class=\"dataframe\">\n",
       "  <thead>\n",
       "    <tr style=\"text-align: right;\">\n",
       "      <th></th>\n",
       "      <th>price</th>\n",
       "      <th>brand</th>\n",
       "      <th>model</th>\n",
       "      <th>year</th>\n",
       "      <th>title_status</th>\n",
       "      <th>mileage</th>\n",
       "      <th>color</th>\n",
       "      <th>vin</th>\n",
       "      <th>lot</th>\n",
       "      <th>state</th>\n",
       "      <th>country</th>\n",
       "      <th>condition</th>\n",
       "    </tr>\n",
       "  </thead>\n",
       "  <tbody>\n",
       "    <tr>\n",
       "      <th>0</th>\n",
       "      <td>6300</td>\n",
       "      <td>toyota</td>\n",
       "      <td>cruiser</td>\n",
       "      <td>2008</td>\n",
       "      <td>clean vehicle</td>\n",
       "      <td>274117.0</td>\n",
       "      <td>black</td>\n",
       "      <td>jtezu11f88k007763</td>\n",
       "      <td>159348797</td>\n",
       "      <td>new jersey</td>\n",
       "      <td>usa</td>\n",
       "      <td>10 days left</td>\n",
       "    </tr>\n",
       "    <tr>\n",
       "      <th>1</th>\n",
       "      <td>2899</td>\n",
       "      <td>ford</td>\n",
       "      <td>se</td>\n",
       "      <td>2011</td>\n",
       "      <td>clean vehicle</td>\n",
       "      <td>190552.0</td>\n",
       "      <td>silver</td>\n",
       "      <td>2fmdk3gc4bbb02217</td>\n",
       "      <td>166951262</td>\n",
       "      <td>tennessee</td>\n",
       "      <td>usa</td>\n",
       "      <td>6 days left</td>\n",
       "    </tr>\n",
       "    <tr>\n",
       "      <th>2</th>\n",
       "      <td>5350</td>\n",
       "      <td>dodge</td>\n",
       "      <td>mpv</td>\n",
       "      <td>2018</td>\n",
       "      <td>clean vehicle</td>\n",
       "      <td>39590.0</td>\n",
       "      <td>silver</td>\n",
       "      <td>3c4pdcgg5jt346413</td>\n",
       "      <td>167655728</td>\n",
       "      <td>georgia</td>\n",
       "      <td>usa</td>\n",
       "      <td>2 days left</td>\n",
       "    </tr>\n",
       "    <tr>\n",
       "      <th>3</th>\n",
       "      <td>25000</td>\n",
       "      <td>ford</td>\n",
       "      <td>door</td>\n",
       "      <td>2014</td>\n",
       "      <td>clean vehicle</td>\n",
       "      <td>64146.0</td>\n",
       "      <td>blue</td>\n",
       "      <td>1ftfw1et4efc23745</td>\n",
       "      <td>167753855</td>\n",
       "      <td>virginia</td>\n",
       "      <td>usa</td>\n",
       "      <td>22 hours left</td>\n",
       "    </tr>\n",
       "    <tr>\n",
       "      <th>4</th>\n",
       "      <td>27700</td>\n",
       "      <td>chevrolet</td>\n",
       "      <td>1500</td>\n",
       "      <td>2018</td>\n",
       "      <td>clean vehicle</td>\n",
       "      <td>6654.0</td>\n",
       "      <td>red</td>\n",
       "      <td>3gcpcrec2jg473991</td>\n",
       "      <td>167763266</td>\n",
       "      <td>florida</td>\n",
       "      <td>usa</td>\n",
       "      <td>22 hours left</td>\n",
       "    </tr>\n",
       "  </tbody>\n",
       "</table>\n",
       "</div>"
      ],
      "text/plain": [
       "   price      brand    model  year   title_status   mileage   color  \\\n",
       "0   6300     toyota  cruiser  2008  clean vehicle  274117.0   black   \n",
       "1   2899       ford       se  2011  clean vehicle  190552.0  silver   \n",
       "2   5350      dodge      mpv  2018  clean vehicle   39590.0  silver   \n",
       "3  25000       ford     door  2014  clean vehicle   64146.0    blue   \n",
       "4  27700  chevrolet     1500  2018  clean vehicle    6654.0     red   \n",
       "\n",
       "                   vin        lot       state country      condition  \n",
       "0    jtezu11f88k007763  159348797  new jersey     usa   10 days left  \n",
       "1    2fmdk3gc4bbb02217  166951262   tennessee     usa    6 days left  \n",
       "2    3c4pdcgg5jt346413  167655728     georgia     usa    2 days left  \n",
       "3    1ftfw1et4efc23745  167753855    virginia     usa  22 hours left  \n",
       "4    3gcpcrec2jg473991  167763266     florida     usa  22 hours left  "
      ]
     },
     "execution_count": 3,
     "metadata": {},
     "output_type": "execute_result"
    }
   ],
   "source": [
    "print(f'shape: {df.shape}')\n",
    "df.head()\n"
   ]
  },
  {
   "cell_type": "code",
   "execution_count": 4,
   "id": "3e160a76",
   "metadata": {},
   "outputs": [
    {
     "data": {
      "text/plain": [
       "price           0\n",
       "brand           0\n",
       "model           0\n",
       "year            0\n",
       "title_status    0\n",
       "mileage         0\n",
       "color           0\n",
       "vin             0\n",
       "lot             0\n",
       "state           0\n",
       "country         0\n",
       "condition       0\n",
       "dtype: int64"
      ]
     },
     "execution_count": 4,
     "metadata": {},
     "output_type": "execute_result"
    }
   ],
   "source": [
    "df.isnull().sum()"
   ]
  },
  {
   "cell_type": "code",
   "execution_count": 5,
   "id": "58d4d1f2",
   "metadata": {},
   "outputs": [
    {
     "data": {
      "text/html": [
       "<div>\n",
       "<style scoped>\n",
       "    .dataframe tbody tr th:only-of-type {\n",
       "        vertical-align: middle;\n",
       "    }\n",
       "\n",
       "    .dataframe tbody tr th {\n",
       "        vertical-align: top;\n",
       "    }\n",
       "\n",
       "    .dataframe thead th {\n",
       "        text-align: right;\n",
       "    }\n",
       "</style>\n",
       "<table border=\"1\" class=\"dataframe\">\n",
       "  <thead>\n",
       "    <tr style=\"text-align: right;\">\n",
       "      <th></th>\n",
       "      <th>price</th>\n",
       "      <th>year</th>\n",
       "      <th>mileage</th>\n",
       "      <th>lot</th>\n",
       "    </tr>\n",
       "  </thead>\n",
       "  <tbody>\n",
       "    <tr>\n",
       "      <th>count</th>\n",
       "      <td>2499.000000</td>\n",
       "      <td>2499.000000</td>\n",
       "      <td>2.499000e+03</td>\n",
       "      <td>2.499000e+03</td>\n",
       "    </tr>\n",
       "    <tr>\n",
       "      <th>mean</th>\n",
       "      <td>18767.671469</td>\n",
       "      <td>2016.714286</td>\n",
       "      <td>5.229869e+04</td>\n",
       "      <td>1.676914e+08</td>\n",
       "    </tr>\n",
       "    <tr>\n",
       "      <th>std</th>\n",
       "      <td>12116.094936</td>\n",
       "      <td>3.442656</td>\n",
       "      <td>5.970552e+04</td>\n",
       "      <td>2.038772e+05</td>\n",
       "    </tr>\n",
       "    <tr>\n",
       "      <th>min</th>\n",
       "      <td>0.000000</td>\n",
       "      <td>1973.000000</td>\n",
       "      <td>0.000000e+00</td>\n",
       "      <td>1.593488e+08</td>\n",
       "    </tr>\n",
       "    <tr>\n",
       "      <th>25%</th>\n",
       "      <td>10200.000000</td>\n",
       "      <td>2016.000000</td>\n",
       "      <td>2.146650e+04</td>\n",
       "      <td>1.676253e+08</td>\n",
       "    </tr>\n",
       "    <tr>\n",
       "      <th>50%</th>\n",
       "      <td>16900.000000</td>\n",
       "      <td>2018.000000</td>\n",
       "      <td>3.536500e+04</td>\n",
       "      <td>1.677451e+08</td>\n",
       "    </tr>\n",
       "    <tr>\n",
       "      <th>75%</th>\n",
       "      <td>25555.500000</td>\n",
       "      <td>2019.000000</td>\n",
       "      <td>6.347250e+04</td>\n",
       "      <td>1.677798e+08</td>\n",
       "    </tr>\n",
       "    <tr>\n",
       "      <th>max</th>\n",
       "      <td>84900.000000</td>\n",
       "      <td>2020.000000</td>\n",
       "      <td>1.017936e+06</td>\n",
       "      <td>1.678055e+08</td>\n",
       "    </tr>\n",
       "  </tbody>\n",
       "</table>\n",
       "</div>"
      ],
      "text/plain": [
       "              price         year       mileage           lot\n",
       "count   2499.000000  2499.000000  2.499000e+03  2.499000e+03\n",
       "mean   18767.671469  2016.714286  5.229869e+04  1.676914e+08\n",
       "std    12116.094936     3.442656  5.970552e+04  2.038772e+05\n",
       "min        0.000000  1973.000000  0.000000e+00  1.593488e+08\n",
       "25%    10200.000000  2016.000000  2.146650e+04  1.676253e+08\n",
       "50%    16900.000000  2018.000000  3.536500e+04  1.677451e+08\n",
       "75%    25555.500000  2019.000000  6.347250e+04  1.677798e+08\n",
       "max    84900.000000  2020.000000  1.017936e+06  1.678055e+08"
      ]
     },
     "execution_count": 5,
     "metadata": {},
     "output_type": "execute_result"
    }
   ],
   "source": [
    "df.describe()"
   ]
  },
  {
   "cell_type": "markdown",
   "id": "6906f2b3",
   "metadata": {},
   "source": [
    "The numeric variables are price, mileage and year. Lot doesn't tell as a lot and is not really numeric, as it's a rather random number set by the car producing company."
   ]
  },
  {
   "cell_type": "code",
   "execution_count": 6,
   "id": "f83e770b",
   "metadata": {},
   "outputs": [
    {
     "name": "stdout",
     "output_type": "stream",
     "text": [
      "column brand, 28 unique values\n",
      "column model, 127 unique values\n",
      "column title_status, 2 unique values\n",
      "column color, 49 unique values\n",
      "column vin, 2495 unique values\n",
      "column state, 44 unique values\n",
      "column country, 2 unique values\n",
      "column condition, 47 unique values\n"
     ]
    }
   ],
   "source": [
    "for col in [categorical for categorical in df.columns if categorical not in df.describe().columns]:\n",
    "    print(f'column {col}, {len(df[col].unique())} unique values')"
   ]
  },
  {
   "cell_type": "markdown",
   "id": "fec489f3",
   "metadata": {},
   "source": [
    "We can get rid of the variable vin, as it is almost unique for each entry, and judging from the table above it is something similar to a serial number."
   ]
  },
  {
   "cell_type": "code",
   "execution_count": 7,
   "id": "326b6da3",
   "metadata": {},
   "outputs": [
    {
     "data": {
      "text/plain": [
       "2495"
      ]
     },
     "execution_count": 7,
     "metadata": {},
     "output_type": "execute_result"
    }
   ],
   "source": [
    "len(df.lot.unique())"
   ]
  },
  {
   "cell_type": "markdown",
   "id": "3f1afa1a",
   "metadata": {},
   "source": [
    "* As thought, lot is not a useful variable, so we'll get rid of it as well.\n",
    "\n",
    "* Regarding the categorical variables, most have a lot of categories, and only title_status and condition seem easily ordinable. The rest should be one-hot encoded in order for the to be fed into the regression, although that will heavily increase the number of variables.\n",
    "\n",
    "* Wit a regression with variable selection (LASSO) we might find out that some of these categories are only important when they take certain variables (i.e., only certain brands of cars)"
   ]
  },
  {
   "cell_type": "code",
   "execution_count": 8,
   "id": "718d7999",
   "metadata": {},
   "outputs": [],
   "source": [
    "df.drop(['vin', 'lot'], axis=1, inplace=True)"
   ]
  },
  {
   "cell_type": "code",
   "execution_count": 9,
   "id": "099ebd2b",
   "metadata": {},
   "outputs": [
    {
     "data": {
      "text/html": [
       "<div>\n",
       "<style scoped>\n",
       "    .dataframe tbody tr th:only-of-type {\n",
       "        vertical-align: middle;\n",
       "    }\n",
       "\n",
       "    .dataframe tbody tr th {\n",
       "        vertical-align: top;\n",
       "    }\n",
       "\n",
       "    .dataframe thead th {\n",
       "        text-align: right;\n",
       "    }\n",
       "</style>\n",
       "<table border=\"1\" class=\"dataframe\">\n",
       "  <thead>\n",
       "    <tr style=\"text-align: right;\">\n",
       "      <th></th>\n",
       "      <th>price</th>\n",
       "      <th>brand</th>\n",
       "      <th>model</th>\n",
       "      <th>year</th>\n",
       "      <th>title_status</th>\n",
       "      <th>mileage</th>\n",
       "      <th>color</th>\n",
       "      <th>state</th>\n",
       "      <th>country</th>\n",
       "      <th>condition</th>\n",
       "    </tr>\n",
       "  </thead>\n",
       "  <tbody>\n",
       "    <tr>\n",
       "      <th>0</th>\n",
       "      <td>6300</td>\n",
       "      <td>toyota</td>\n",
       "      <td>cruiser</td>\n",
       "      <td>2008</td>\n",
       "      <td>clean vehicle</td>\n",
       "      <td>274117.0</td>\n",
       "      <td>black</td>\n",
       "      <td>new jersey</td>\n",
       "      <td>usa</td>\n",
       "      <td>10 days left</td>\n",
       "    </tr>\n",
       "    <tr>\n",
       "      <th>1</th>\n",
       "      <td>2899</td>\n",
       "      <td>ford</td>\n",
       "      <td>se</td>\n",
       "      <td>2011</td>\n",
       "      <td>clean vehicle</td>\n",
       "      <td>190552.0</td>\n",
       "      <td>silver</td>\n",
       "      <td>tennessee</td>\n",
       "      <td>usa</td>\n",
       "      <td>6 days left</td>\n",
       "    </tr>\n",
       "    <tr>\n",
       "      <th>2</th>\n",
       "      <td>5350</td>\n",
       "      <td>dodge</td>\n",
       "      <td>mpv</td>\n",
       "      <td>2018</td>\n",
       "      <td>clean vehicle</td>\n",
       "      <td>39590.0</td>\n",
       "      <td>silver</td>\n",
       "      <td>georgia</td>\n",
       "      <td>usa</td>\n",
       "      <td>2 days left</td>\n",
       "    </tr>\n",
       "    <tr>\n",
       "      <th>3</th>\n",
       "      <td>25000</td>\n",
       "      <td>ford</td>\n",
       "      <td>door</td>\n",
       "      <td>2014</td>\n",
       "      <td>clean vehicle</td>\n",
       "      <td>64146.0</td>\n",
       "      <td>blue</td>\n",
       "      <td>virginia</td>\n",
       "      <td>usa</td>\n",
       "      <td>22 hours left</td>\n",
       "    </tr>\n",
       "    <tr>\n",
       "      <th>4</th>\n",
       "      <td>27700</td>\n",
       "      <td>chevrolet</td>\n",
       "      <td>1500</td>\n",
       "      <td>2018</td>\n",
       "      <td>clean vehicle</td>\n",
       "      <td>6654.0</td>\n",
       "      <td>red</td>\n",
       "      <td>florida</td>\n",
       "      <td>usa</td>\n",
       "      <td>22 hours left</td>\n",
       "    </tr>\n",
       "  </tbody>\n",
       "</table>\n",
       "</div>"
      ],
      "text/plain": [
       "   price      brand    model  year   title_status   mileage   color  \\\n",
       "0   6300     toyota  cruiser  2008  clean vehicle  274117.0   black   \n",
       "1   2899       ford       se  2011  clean vehicle  190552.0  silver   \n",
       "2   5350      dodge      mpv  2018  clean vehicle   39590.0  silver   \n",
       "3  25000       ford     door  2014  clean vehicle   64146.0    blue   \n",
       "4  27700  chevrolet     1500  2018  clean vehicle    6654.0     red   \n",
       "\n",
       "        state country      condition  \n",
       "0  new jersey     usa   10 days left  \n",
       "1   tennessee     usa    6 days left  \n",
       "2     georgia     usa    2 days left  \n",
       "3    virginia     usa  22 hours left  \n",
       "4     florida     usa  22 hours left  "
      ]
     },
     "execution_count": 9,
     "metadata": {},
     "output_type": "execute_result"
    }
   ],
   "source": [
    "df.head()"
   ]
  },
  {
   "cell_type": "markdown",
   "id": "a85f704b",
   "metadata": {},
   "source": [
    "#### Categorical Variables"
   ]
  },
  {
   "cell_type": "code",
   "execution_count": 10,
   "id": "faf14828",
   "metadata": {},
   "outputs": [
    {
     "data": {
      "text/plain": [
       "array(['clean vehicle', 'salvage insurance'], dtype=object)"
      ]
     },
     "execution_count": 10,
     "metadata": {},
     "output_type": "execute_result"
    }
   ],
   "source": [
    "df.title_status.unique()\n"
   ]
  },
  {
   "cell_type": "code",
   "execution_count": 11,
   "id": "dab6ac63",
   "metadata": {},
   "outputs": [
    {
     "data": {
      "text/plain": [
       "array(['10 days left', '6 days left', '2 days left', '22 hours left',\n",
       "       '20 hours left', '19 hours left', '3 days left', '21 hours left',\n",
       "       '17 hours left', '2 hours left', '3 hours left', '34 minutes',\n",
       "       '16 hours left', '18 hours left', '1 days left', '32 minutes',\n",
       "       '14 hours left', '5 hours left', '4 days left', '9 days left',\n",
       "       '23 hours left', '8 days left', '7 days left', '5 days left',\n",
       "       '9 minutes', '1 minutes', '7 hours left', '16 minutes',\n",
       "       '6 hours left', '1 hours left', 'Listing Expired', '13 days left',\n",
       "       '24 hours left', '15 hours left', '53 minutes', '27 minutes',\n",
       "       '12 days left', '15 days left', '30 minutes', '29 minutes',\n",
       "       '28 minutes', '48 minutes', '11 days left', '4 hours left',\n",
       "       '47 minutes', '12 hours left', '36 minutes'], dtype=object)"
      ]
     },
     "execution_count": 11,
     "metadata": {},
     "output_type": "execute_result"
    }
   ],
   "source": [
    "df.condition.unique()"
   ]
  },
  {
   "cell_type": "markdown",
   "id": "6894926e",
   "metadata": {},
   "source": [
    "* title_status is not quite ordinable\n",
    "* condition can be turned into a numeric variable, we'll choose the unit as minutes"
   ]
  },
  {
   "cell_type": "markdown",
   "id": "c9ae5a38",
   "metadata": {},
   "source": [
    "the variables brand and model can probably be grouped somehow, we'll investigate these next"
   ]
  },
  {
   "cell_type": "code",
   "execution_count": 12,
   "id": "c7320da8",
   "metadata": {},
   "outputs": [
    {
     "data": {
      "text/plain": [
       "ford               0.494198\n",
       "dodge              0.172869\n",
       "nissan             0.124850\n",
       "chevrolet          0.118848\n",
       "gmc                0.016807\n",
       "jeep               0.012005\n",
       "chrysler           0.007203\n",
       "bmw                0.006803\n",
       "hyundai            0.006002\n",
       "kia                0.005202\n",
       "buick              0.005202\n",
       "infiniti           0.004802\n",
       "honda              0.004802\n",
       "cadillac           0.004002\n",
       "mercedes-benz      0.004002\n",
       "heartland          0.002001\n",
       "land               0.001601\n",
       "peterbilt          0.001601\n",
       "audi               0.001601\n",
       "acura              0.001200\n",
       "lincoln            0.000800\n",
       "lexus              0.000800\n",
       "mazda              0.000800\n",
       "maserati           0.000400\n",
       "toyota             0.000400\n",
       "harley-davidson    0.000400\n",
       "jaguar             0.000400\n",
       "ram                0.000400\n",
       "Name: brand, dtype: float64"
      ]
     },
     "execution_count": 12,
     "metadata": {},
     "output_type": "execute_result"
    }
   ],
   "source": [
    "brand_freq = df.brand.value_counts().apply(lambda x: x / df.shape[0])\n",
    "brand_freq"
   ]
  },
  {
   "cell_type": "markdown",
   "id": "3def7c2d",
   "metadata": {},
   "source": [
    "Most brands barely appear. We could get rid of most of them, but there are some luxury brands that are very uncommon. Precisely luxury brands could have a substantial impact on the price."
   ]
  },
  {
   "cell_type": "markdown",
   "id": "6648dde4",
   "metadata": {},
   "source": [
    "## Reformat Variables"
   ]
  },
  {
   "cell_type": "markdown",
   "id": "cb2affa9",
   "metadata": {},
   "source": [
    "#### Condition"
   ]
  },
  {
   "cell_type": "markdown",
   "id": "921f7acf",
   "metadata": {},
   "source": [
    "We'll begin by converting the condition variable into a numerical one, measured in minutes, as mentioned above."
   ]
  },
  {
   "cell_type": "code",
   "execution_count": 13,
   "id": "b543b018",
   "metadata": {
    "scrolled": true
   },
   "outputs": [
    {
     "data": {
      "text/html": [
       "<div>\n",
       "<style scoped>\n",
       "    .dataframe tbody tr th:only-of-type {\n",
       "        vertical-align: middle;\n",
       "    }\n",
       "\n",
       "    .dataframe tbody tr th {\n",
       "        vertical-align: top;\n",
       "    }\n",
       "\n",
       "    .dataframe thead th {\n",
       "        text-align: right;\n",
       "    }\n",
       "</style>\n",
       "<table border=\"1\" class=\"dataframe\">\n",
       "  <thead>\n",
       "    <tr style=\"text-align: right;\">\n",
       "      <th></th>\n",
       "      <th>price</th>\n",
       "      <th>brand</th>\n",
       "      <th>model</th>\n",
       "      <th>year</th>\n",
       "      <th>title_status</th>\n",
       "      <th>mileage</th>\n",
       "      <th>color</th>\n",
       "      <th>state</th>\n",
       "      <th>country</th>\n",
       "      <th>condition</th>\n",
       "    </tr>\n",
       "  </thead>\n",
       "  <tbody>\n",
       "    <tr>\n",
       "      <th>0</th>\n",
       "      <td>6300</td>\n",
       "      <td>toyota</td>\n",
       "      <td>cruiser</td>\n",
       "      <td>2008</td>\n",
       "      <td>clean vehicle</td>\n",
       "      <td>274117.0</td>\n",
       "      <td>black</td>\n",
       "      <td>new jersey</td>\n",
       "      <td>usa</td>\n",
       "      <td>10 days left</td>\n",
       "    </tr>\n",
       "    <tr>\n",
       "      <th>1</th>\n",
       "      <td>2899</td>\n",
       "      <td>ford</td>\n",
       "      <td>se</td>\n",
       "      <td>2011</td>\n",
       "      <td>clean vehicle</td>\n",
       "      <td>190552.0</td>\n",
       "      <td>silver</td>\n",
       "      <td>tennessee</td>\n",
       "      <td>usa</td>\n",
       "      <td>6 days left</td>\n",
       "    </tr>\n",
       "    <tr>\n",
       "      <th>2</th>\n",
       "      <td>5350</td>\n",
       "      <td>dodge</td>\n",
       "      <td>mpv</td>\n",
       "      <td>2018</td>\n",
       "      <td>clean vehicle</td>\n",
       "      <td>39590.0</td>\n",
       "      <td>silver</td>\n",
       "      <td>georgia</td>\n",
       "      <td>usa</td>\n",
       "      <td>2 days left</td>\n",
       "    </tr>\n",
       "    <tr>\n",
       "      <th>3</th>\n",
       "      <td>25000</td>\n",
       "      <td>ford</td>\n",
       "      <td>door</td>\n",
       "      <td>2014</td>\n",
       "      <td>clean vehicle</td>\n",
       "      <td>64146.0</td>\n",
       "      <td>blue</td>\n",
       "      <td>virginia</td>\n",
       "      <td>usa</td>\n",
       "      <td>22 hours left</td>\n",
       "    </tr>\n",
       "    <tr>\n",
       "      <th>4</th>\n",
       "      <td>27700</td>\n",
       "      <td>chevrolet</td>\n",
       "      <td>1500</td>\n",
       "      <td>2018</td>\n",
       "      <td>clean vehicle</td>\n",
       "      <td>6654.0</td>\n",
       "      <td>red</td>\n",
       "      <td>florida</td>\n",
       "      <td>usa</td>\n",
       "      <td>22 hours left</td>\n",
       "    </tr>\n",
       "  </tbody>\n",
       "</table>\n",
       "</div>"
      ],
      "text/plain": [
       "   price      brand    model  year   title_status   mileage   color  \\\n",
       "0   6300     toyota  cruiser  2008  clean vehicle  274117.0   black   \n",
       "1   2899       ford       se  2011  clean vehicle  190552.0  silver   \n",
       "2   5350      dodge      mpv  2018  clean vehicle   39590.0  silver   \n",
       "3  25000       ford     door  2014  clean vehicle   64146.0    blue   \n",
       "4  27700  chevrolet     1500  2018  clean vehicle    6654.0     red   \n",
       "\n",
       "        state country      condition  \n",
       "0  new jersey     usa   10 days left  \n",
       "1   tennessee     usa    6 days left  \n",
       "2     georgia     usa    2 days left  \n",
       "3    virginia     usa  22 hours left  \n",
       "4     florida     usa  22 hours left  "
      ]
     },
     "execution_count": 13,
     "metadata": {},
     "output_type": "execute_result"
    }
   ],
   "source": [
    "df.head()"
   ]
  },
  {
   "cell_type": "code",
   "execution_count": 14,
   "id": "b2b40dfe",
   "metadata": {},
   "outputs": [],
   "source": [
    "def convert_condition(string):\n",
    "    convert = ''\n",
    "    min_count = 0\n",
    "\n",
    "    for i, e in enumerate(string):\n",
    "        try:\n",
    "            int(e)\n",
    "\n",
    "        except ValueError:\n",
    "            if (i == len(string)-1):\n",
    "                break\n",
    "            if convert != '':                \n",
    "                if string[i+1] == 'd':\n",
    "                    min_count += (int(convert) * 24 * 60)\n",
    "                elif string[i+1] == 'h':\n",
    "                    min_count += (int(convert) * 60)\n",
    "                elif string[i+1] == 'm':\n",
    "                    min_count += (int(convert))\n",
    "            convert = ''\n",
    "\n",
    "        else:\n",
    "            convert = convert + e\n",
    "            \n",
    "    return min_count\n"
   ]
  },
  {
   "cell_type": "code",
   "execution_count": 15,
   "id": "aa51882f",
   "metadata": {},
   "outputs": [],
   "source": [
    "df['condition'] = df['condition'].apply(convert_condition)"
   ]
  },
  {
   "cell_type": "markdown",
   "id": "d251b9c4",
   "metadata": {},
   "source": [
    "#### Title Status"
   ]
  },
  {
   "cell_type": "markdown",
   "id": "de16ecad",
   "metadata": {},
   "source": [
    "Formated as 0-1 binary variable"
   ]
  },
  {
   "cell_type": "code",
   "execution_count": 16,
   "id": "99dbc70d",
   "metadata": {},
   "outputs": [
    {
     "data": {
      "text/plain": [
       "array(['clean vehicle', 'salvage insurance'], dtype=object)"
      ]
     },
     "execution_count": 16,
     "metadata": {},
     "output_type": "execute_result"
    }
   ],
   "source": [
    "df.title_status.unique()"
   ]
  },
  {
   "cell_type": "code",
   "execution_count": 17,
   "id": "8ad1d806",
   "metadata": {},
   "outputs": [],
   "source": [
    "df.loc[df.loc[:, 'title_status'] == 'clean vehicle', 'title_status'] = 1\n",
    "df.loc[df.loc[:, 'title_status'] == 'salvage insurance', 'title_status'] = 0\n",
    "df.title_status = pd.to_numeric(df.title_status)"
   ]
  },
  {
   "cell_type": "code",
   "execution_count": 18,
   "id": "b52866fa",
   "metadata": {},
   "outputs": [
    {
     "data": {
      "text/html": [
       "<div>\n",
       "<style scoped>\n",
       "    .dataframe tbody tr th:only-of-type {\n",
       "        vertical-align: middle;\n",
       "    }\n",
       "\n",
       "    .dataframe tbody tr th {\n",
       "        vertical-align: top;\n",
       "    }\n",
       "\n",
       "    .dataframe thead th {\n",
       "        text-align: right;\n",
       "    }\n",
       "</style>\n",
       "<table border=\"1\" class=\"dataframe\">\n",
       "  <thead>\n",
       "    <tr style=\"text-align: right;\">\n",
       "      <th></th>\n",
       "      <th>price</th>\n",
       "      <th>brand</th>\n",
       "      <th>model</th>\n",
       "      <th>year</th>\n",
       "      <th>title_status</th>\n",
       "      <th>mileage</th>\n",
       "      <th>color</th>\n",
       "      <th>state</th>\n",
       "      <th>country</th>\n",
       "      <th>condition</th>\n",
       "    </tr>\n",
       "  </thead>\n",
       "  <tbody>\n",
       "    <tr>\n",
       "      <th>0</th>\n",
       "      <td>6300</td>\n",
       "      <td>toyota</td>\n",
       "      <td>cruiser</td>\n",
       "      <td>2008</td>\n",
       "      <td>1</td>\n",
       "      <td>274117.0</td>\n",
       "      <td>black</td>\n",
       "      <td>new jersey</td>\n",
       "      <td>usa</td>\n",
       "      <td>14400</td>\n",
       "    </tr>\n",
       "    <tr>\n",
       "      <th>1</th>\n",
       "      <td>2899</td>\n",
       "      <td>ford</td>\n",
       "      <td>se</td>\n",
       "      <td>2011</td>\n",
       "      <td>1</td>\n",
       "      <td>190552.0</td>\n",
       "      <td>silver</td>\n",
       "      <td>tennessee</td>\n",
       "      <td>usa</td>\n",
       "      <td>8640</td>\n",
       "    </tr>\n",
       "    <tr>\n",
       "      <th>2</th>\n",
       "      <td>5350</td>\n",
       "      <td>dodge</td>\n",
       "      <td>mpv</td>\n",
       "      <td>2018</td>\n",
       "      <td>1</td>\n",
       "      <td>39590.0</td>\n",
       "      <td>silver</td>\n",
       "      <td>georgia</td>\n",
       "      <td>usa</td>\n",
       "      <td>2880</td>\n",
       "    </tr>\n",
       "    <tr>\n",
       "      <th>3</th>\n",
       "      <td>25000</td>\n",
       "      <td>ford</td>\n",
       "      <td>door</td>\n",
       "      <td>2014</td>\n",
       "      <td>1</td>\n",
       "      <td>64146.0</td>\n",
       "      <td>blue</td>\n",
       "      <td>virginia</td>\n",
       "      <td>usa</td>\n",
       "      <td>1320</td>\n",
       "    </tr>\n",
       "    <tr>\n",
       "      <th>4</th>\n",
       "      <td>27700</td>\n",
       "      <td>chevrolet</td>\n",
       "      <td>1500</td>\n",
       "      <td>2018</td>\n",
       "      <td>1</td>\n",
       "      <td>6654.0</td>\n",
       "      <td>red</td>\n",
       "      <td>florida</td>\n",
       "      <td>usa</td>\n",
       "      <td>1320</td>\n",
       "    </tr>\n",
       "  </tbody>\n",
       "</table>\n",
       "</div>"
      ],
      "text/plain": [
       "   price      brand    model  year  title_status   mileage   color  \\\n",
       "0   6300     toyota  cruiser  2008             1  274117.0   black   \n",
       "1   2899       ford       se  2011             1  190552.0  silver   \n",
       "2   5350      dodge      mpv  2018             1   39590.0  silver   \n",
       "3  25000       ford     door  2014             1   64146.0    blue   \n",
       "4  27700  chevrolet     1500  2018             1    6654.0     red   \n",
       "\n",
       "        state country  condition  \n",
       "0  new jersey     usa      14400  \n",
       "1   tennessee     usa       8640  \n",
       "2     georgia     usa       2880  \n",
       "3    virginia     usa       1320  \n",
       "4     florida     usa       1320  "
      ]
     },
     "execution_count": 18,
     "metadata": {},
     "output_type": "execute_result"
    }
   ],
   "source": [
    "df.head()"
   ]
  },
  {
   "cell_type": "markdown",
   "id": "9ed25e6c",
   "metadata": {},
   "source": [
    "#### Country"
   ]
  },
  {
   "cell_type": "code",
   "execution_count": 19,
   "id": "1d5cf57b",
   "metadata": {},
   "outputs": [
    {
     "data": {
      "text/plain": [
       "array([' usa', ' canada'], dtype=object)"
      ]
     },
     "execution_count": 19,
     "metadata": {},
     "output_type": "execute_result"
    }
   ],
   "source": [
    "df.country.unique()"
   ]
  },
  {
   "cell_type": "code",
   "execution_count": 20,
   "id": "30c3aa4a",
   "metadata": {},
   "outputs": [],
   "source": [
    "df.loc[df.loc[:, 'country'] == ' canada', 'country'] = 1\n",
    "df.loc[df.loc[:, 'country'] == ' usa', 'country'] = 0\n",
    "df.country = pd.to_numeric(df.country)"
   ]
  },
  {
   "cell_type": "code",
   "execution_count": 21,
   "id": "d887d255",
   "metadata": {},
   "outputs": [
    {
     "data": {
      "text/html": [
       "<div>\n",
       "<style scoped>\n",
       "    .dataframe tbody tr th:only-of-type {\n",
       "        vertical-align: middle;\n",
       "    }\n",
       "\n",
       "    .dataframe tbody tr th {\n",
       "        vertical-align: top;\n",
       "    }\n",
       "\n",
       "    .dataframe thead th {\n",
       "        text-align: right;\n",
       "    }\n",
       "</style>\n",
       "<table border=\"1\" class=\"dataframe\">\n",
       "  <thead>\n",
       "    <tr style=\"text-align: right;\">\n",
       "      <th></th>\n",
       "      <th>price</th>\n",
       "      <th>brand</th>\n",
       "      <th>model</th>\n",
       "      <th>year</th>\n",
       "      <th>title_status</th>\n",
       "      <th>mileage</th>\n",
       "      <th>color</th>\n",
       "      <th>state</th>\n",
       "      <th>country</th>\n",
       "      <th>condition</th>\n",
       "    </tr>\n",
       "  </thead>\n",
       "  <tbody>\n",
       "    <tr>\n",
       "      <th>0</th>\n",
       "      <td>6300</td>\n",
       "      <td>toyota</td>\n",
       "      <td>cruiser</td>\n",
       "      <td>2008</td>\n",
       "      <td>1</td>\n",
       "      <td>274117.0</td>\n",
       "      <td>black</td>\n",
       "      <td>new jersey</td>\n",
       "      <td>0</td>\n",
       "      <td>14400</td>\n",
       "    </tr>\n",
       "    <tr>\n",
       "      <th>1</th>\n",
       "      <td>2899</td>\n",
       "      <td>ford</td>\n",
       "      <td>se</td>\n",
       "      <td>2011</td>\n",
       "      <td>1</td>\n",
       "      <td>190552.0</td>\n",
       "      <td>silver</td>\n",
       "      <td>tennessee</td>\n",
       "      <td>0</td>\n",
       "      <td>8640</td>\n",
       "    </tr>\n",
       "    <tr>\n",
       "      <th>2</th>\n",
       "      <td>5350</td>\n",
       "      <td>dodge</td>\n",
       "      <td>mpv</td>\n",
       "      <td>2018</td>\n",
       "      <td>1</td>\n",
       "      <td>39590.0</td>\n",
       "      <td>silver</td>\n",
       "      <td>georgia</td>\n",
       "      <td>0</td>\n",
       "      <td>2880</td>\n",
       "    </tr>\n",
       "    <tr>\n",
       "      <th>3</th>\n",
       "      <td>25000</td>\n",
       "      <td>ford</td>\n",
       "      <td>door</td>\n",
       "      <td>2014</td>\n",
       "      <td>1</td>\n",
       "      <td>64146.0</td>\n",
       "      <td>blue</td>\n",
       "      <td>virginia</td>\n",
       "      <td>0</td>\n",
       "      <td>1320</td>\n",
       "    </tr>\n",
       "    <tr>\n",
       "      <th>4</th>\n",
       "      <td>27700</td>\n",
       "      <td>chevrolet</td>\n",
       "      <td>1500</td>\n",
       "      <td>2018</td>\n",
       "      <td>1</td>\n",
       "      <td>6654.0</td>\n",
       "      <td>red</td>\n",
       "      <td>florida</td>\n",
       "      <td>0</td>\n",
       "      <td>1320</td>\n",
       "    </tr>\n",
       "  </tbody>\n",
       "</table>\n",
       "</div>"
      ],
      "text/plain": [
       "   price      brand    model  year  title_status   mileage   color  \\\n",
       "0   6300     toyota  cruiser  2008             1  274117.0   black   \n",
       "1   2899       ford       se  2011             1  190552.0  silver   \n",
       "2   5350      dodge      mpv  2018             1   39590.0  silver   \n",
       "3  25000       ford     door  2014             1   64146.0    blue   \n",
       "4  27700  chevrolet     1500  2018             1    6654.0     red   \n",
       "\n",
       "        state  country  condition  \n",
       "0  new jersey        0      14400  \n",
       "1   tennessee        0       8640  \n",
       "2     georgia        0       2880  \n",
       "3    virginia        0       1320  \n",
       "4     florida        0       1320  "
      ]
     },
     "execution_count": 21,
     "metadata": {},
     "output_type": "execute_result"
    }
   ],
   "source": [
    "df.head()"
   ]
  },
  {
   "cell_type": "markdown",
   "id": "16e8ad57",
   "metadata": {},
   "source": [
    "* We are left over with categorical variables brand, model, color and state.\n",
    "* They'll be one-hot encoded\n",
    "* We'll try a simple linear regression without them first, and then Lasso, Ridge and Elastic Net with them"
   ]
  },
  {
   "cell_type": "markdown",
   "id": "a998749d",
   "metadata": {},
   "source": [
    "#### Brand"
   ]
  },
  {
   "cell_type": "code",
   "execution_count": 35,
   "id": "922d3921",
   "metadata": {},
   "outputs": [],
   "source": [
    "enc = OneHotEncoder(sparse = False)"
   ]
  },
  {
   "cell_type": "code",
   "execution_count": 37,
   "id": "be110729",
   "metadata": {},
   "outputs": [
    {
     "data": {
      "text/plain": [
       "array([[0., 0., 0., ..., 0., 0., 1.],\n",
       "       [0., 0., 0., ..., 0., 0., 0.],\n",
       "       [0., 0., 0., ..., 0., 0., 0.],\n",
       "       ...,\n",
       "       [0., 0., 0., ..., 0., 0., 0.],\n",
       "       [0., 0., 0., ..., 0., 0., 0.],\n",
       "       [0., 0., 0., ..., 0., 0., 0.]])"
      ]
     },
     "execution_count": 37,
     "metadata": {},
     "output_type": "execute_result"
    }
   ],
   "source": [
    "enc.fit_transform(np.asarray(df['brand']).reshape(-1, 1))"
   ]
  },
  {
   "cell_type": "code",
   "execution_count": 22,
   "id": "9b3df26d",
   "metadata": {},
   "outputs": [
    {
     "name": "stdout",
     "output_type": "stream",
     "text": [
      "28 categories.\n",
      "Category columns by order: \n",
      "\n",
      "[array(['acura', 'audi', 'bmw', 'buick', 'cadillac', 'chevrolet',\n",
      "       'chrysler', 'dodge', 'ford', 'gmc', 'harley-davidson', 'heartland',\n",
      "       'honda', 'hyundai', 'infiniti', 'jaguar', 'jeep', 'kia', 'land',\n",
      "       'lexus', 'lincoln', 'maserati', 'mazda', 'mercedes-benz', 'nissan',\n",
      "       'peterbilt', 'ram', 'toyota'], dtype=object)]\n"
     ]
    }
   ],
   "source": [
    "enc = OneHotEncoder(sparse = False)\n",
    "enc_code = enc.fit_transform(np.asarray(df['brand']).reshape(-1, 1))\n",
    "enc_code\n",
    "print(\"{} categories.\\nCategory columns by order: \\n\\n{}\".format(len(enc.categories_[0]), enc.categories_))"
   ]
  },
  {
   "cell_type": "code",
   "execution_count": 23,
   "id": "cde0cee3",
   "metadata": {},
   "outputs": [],
   "source": [
    "code_df1 = pd.DataFrame(enc_code, columns = enc.categories_[0])"
   ]
  },
  {
   "cell_type": "code",
   "execution_count": 24,
   "id": "cefee294",
   "metadata": {},
   "outputs": [
    {
     "data": {
      "text/html": [
       "<div>\n",
       "<style scoped>\n",
       "    .dataframe tbody tr th:only-of-type {\n",
       "        vertical-align: middle;\n",
       "    }\n",
       "\n",
       "    .dataframe tbody tr th {\n",
       "        vertical-align: top;\n",
       "    }\n",
       "\n",
       "    .dataframe thead th {\n",
       "        text-align: right;\n",
       "    }\n",
       "</style>\n",
       "<table border=\"1\" class=\"dataframe\">\n",
       "  <thead>\n",
       "    <tr style=\"text-align: right;\">\n",
       "      <th></th>\n",
       "      <th>price</th>\n",
       "      <th>toyota</th>\n",
       "      <th>ram</th>\n",
       "      <th>peterbilt</th>\n",
       "      <th>nissan</th>\n",
       "      <th>mercedes-benz</th>\n",
       "      <th>mazda</th>\n",
       "      <th>maserati</th>\n",
       "      <th>lincoln</th>\n",
       "      <th>lexus</th>\n",
       "      <th>...</th>\n",
       "      <th>audi</th>\n",
       "      <th>acura</th>\n",
       "      <th>model</th>\n",
       "      <th>year</th>\n",
       "      <th>title_status</th>\n",
       "      <th>mileage</th>\n",
       "      <th>color</th>\n",
       "      <th>state</th>\n",
       "      <th>country</th>\n",
       "      <th>condition</th>\n",
       "    </tr>\n",
       "  </thead>\n",
       "  <tbody>\n",
       "    <tr>\n",
       "      <th>0</th>\n",
       "      <td>6300</td>\n",
       "      <td>1.0</td>\n",
       "      <td>0.0</td>\n",
       "      <td>0.0</td>\n",
       "      <td>0.0</td>\n",
       "      <td>0.0</td>\n",
       "      <td>0.0</td>\n",
       "      <td>0.0</td>\n",
       "      <td>0.0</td>\n",
       "      <td>0.0</td>\n",
       "      <td>...</td>\n",
       "      <td>0.0</td>\n",
       "      <td>0.0</td>\n",
       "      <td>cruiser</td>\n",
       "      <td>2008</td>\n",
       "      <td>1</td>\n",
       "      <td>274117.0</td>\n",
       "      <td>black</td>\n",
       "      <td>new jersey</td>\n",
       "      <td>0</td>\n",
       "      <td>14400</td>\n",
       "    </tr>\n",
       "    <tr>\n",
       "      <th>1</th>\n",
       "      <td>2899</td>\n",
       "      <td>0.0</td>\n",
       "      <td>0.0</td>\n",
       "      <td>0.0</td>\n",
       "      <td>0.0</td>\n",
       "      <td>0.0</td>\n",
       "      <td>0.0</td>\n",
       "      <td>0.0</td>\n",
       "      <td>0.0</td>\n",
       "      <td>0.0</td>\n",
       "      <td>...</td>\n",
       "      <td>0.0</td>\n",
       "      <td>0.0</td>\n",
       "      <td>se</td>\n",
       "      <td>2011</td>\n",
       "      <td>1</td>\n",
       "      <td>190552.0</td>\n",
       "      <td>silver</td>\n",
       "      <td>tennessee</td>\n",
       "      <td>0</td>\n",
       "      <td>8640</td>\n",
       "    </tr>\n",
       "    <tr>\n",
       "      <th>2</th>\n",
       "      <td>5350</td>\n",
       "      <td>0.0</td>\n",
       "      <td>0.0</td>\n",
       "      <td>0.0</td>\n",
       "      <td>0.0</td>\n",
       "      <td>0.0</td>\n",
       "      <td>0.0</td>\n",
       "      <td>0.0</td>\n",
       "      <td>0.0</td>\n",
       "      <td>0.0</td>\n",
       "      <td>...</td>\n",
       "      <td>0.0</td>\n",
       "      <td>0.0</td>\n",
       "      <td>mpv</td>\n",
       "      <td>2018</td>\n",
       "      <td>1</td>\n",
       "      <td>39590.0</td>\n",
       "      <td>silver</td>\n",
       "      <td>georgia</td>\n",
       "      <td>0</td>\n",
       "      <td>2880</td>\n",
       "    </tr>\n",
       "    <tr>\n",
       "      <th>3</th>\n",
       "      <td>25000</td>\n",
       "      <td>0.0</td>\n",
       "      <td>0.0</td>\n",
       "      <td>0.0</td>\n",
       "      <td>0.0</td>\n",
       "      <td>0.0</td>\n",
       "      <td>0.0</td>\n",
       "      <td>0.0</td>\n",
       "      <td>0.0</td>\n",
       "      <td>0.0</td>\n",
       "      <td>...</td>\n",
       "      <td>0.0</td>\n",
       "      <td>0.0</td>\n",
       "      <td>door</td>\n",
       "      <td>2014</td>\n",
       "      <td>1</td>\n",
       "      <td>64146.0</td>\n",
       "      <td>blue</td>\n",
       "      <td>virginia</td>\n",
       "      <td>0</td>\n",
       "      <td>1320</td>\n",
       "    </tr>\n",
       "    <tr>\n",
       "      <th>4</th>\n",
       "      <td>27700</td>\n",
       "      <td>0.0</td>\n",
       "      <td>0.0</td>\n",
       "      <td>0.0</td>\n",
       "      <td>0.0</td>\n",
       "      <td>0.0</td>\n",
       "      <td>0.0</td>\n",
       "      <td>0.0</td>\n",
       "      <td>0.0</td>\n",
       "      <td>0.0</td>\n",
       "      <td>...</td>\n",
       "      <td>0.0</td>\n",
       "      <td>0.0</td>\n",
       "      <td>1500</td>\n",
       "      <td>2018</td>\n",
       "      <td>1</td>\n",
       "      <td>6654.0</td>\n",
       "      <td>red</td>\n",
       "      <td>florida</td>\n",
       "      <td>0</td>\n",
       "      <td>1320</td>\n",
       "    </tr>\n",
       "  </tbody>\n",
       "</table>\n",
       "<p>5 rows × 37 columns</p>\n",
       "</div>"
      ],
      "text/plain": [
       "   price  toyota  ram  peterbilt  nissan  mercedes-benz  mazda  maserati  \\\n",
       "0   6300     1.0  0.0        0.0     0.0            0.0    0.0       0.0   \n",
       "1   2899     0.0  0.0        0.0     0.0            0.0    0.0       0.0   \n",
       "2   5350     0.0  0.0        0.0     0.0            0.0    0.0       0.0   \n",
       "3  25000     0.0  0.0        0.0     0.0            0.0    0.0       0.0   \n",
       "4  27700     0.0  0.0        0.0     0.0            0.0    0.0       0.0   \n",
       "\n",
       "   lincoln  lexus  ...  audi  acura    model  year  title_status   mileage  \\\n",
       "0      0.0    0.0  ...   0.0    0.0  cruiser  2008             1  274117.0   \n",
       "1      0.0    0.0  ...   0.0    0.0       se  2011             1  190552.0   \n",
       "2      0.0    0.0  ...   0.0    0.0      mpv  2018             1   39590.0   \n",
       "3      0.0    0.0  ...   0.0    0.0     door  2014             1   64146.0   \n",
       "4      0.0    0.0  ...   0.0    0.0     1500  2018             1    6654.0   \n",
       "\n",
       "    color       state  country  condition  \n",
       "0   black  new jersey        0      14400  \n",
       "1  silver   tennessee        0       8640  \n",
       "2  silver     georgia        0       2880  \n",
       "3    blue    virginia        0       1320  \n",
       "4     red     florida        0       1320  \n",
       "\n",
       "[5 rows x 37 columns]"
      ]
     },
     "execution_count": 24,
     "metadata": {},
     "output_type": "execute_result"
    }
   ],
   "source": [
    "df2 = df.copy()\n",
    "location = df.columns.get_loc('brand')\n",
    "\n",
    "for i in code_df1.columns:\n",
    "    df2.insert(location, column = i, value = code_df1[i].values)\n",
    "    \n",
    "df2.drop('brand', axis = 1, inplace = True)\n",
    "df2.head()"
   ]
  },
  {
   "cell_type": "code",
   "execution_count": 25,
   "id": "91193982",
   "metadata": {},
   "outputs": [
    {
     "data": {
      "text/plain": [
       "False"
      ]
     },
     "execution_count": 25,
     "metadata": {},
     "output_type": "execute_result"
    }
   ],
   "source": [
    "'brand' in df2.columns"
   ]
  },
  {
   "cell_type": "markdown",
   "id": "fe1ccb79",
   "metadata": {},
   "source": [
    "#### Model"
   ]
  },
  {
   "cell_type": "code",
   "execution_count": 26,
   "id": "13e9487d",
   "metadata": {},
   "outputs": [
    {
     "name": "stdout",
     "output_type": "stream",
     "text": [
      "127 categories.\n",
      "Category columns by order: \n",
      "\n",
      "[array(['1500', '2500', '2500hd', '300', '3500', '5', 'acadia', 'altima',\n",
      "       'armada', 'bus', 'cab', 'camaro', 'caravan', 'cargo', 'challenger',\n",
      "       'charger', 'chassis', 'cherokee', 'colorado', 'compass', 'connect',\n",
      "       'convertible', 'corvette', 'country', 'coupe', 'cruiser', 'cruze',\n",
      "       'cutaway', 'cx-3', 'd', 'dart', 'discovery', 'door', 'doors', 'dr',\n",
      "       'drw', 'durango', 'e-class', 'ecosport', 'edge', 'el', 'elantra',\n",
      "       'enclave', 'encore', 'energi', 'equinox', 'escape', 'esv',\n",
      "       'expedition', 'explorer', 'f-150', 'f-650', 'f-750', 'fiesta',\n",
      "       'flex', 'focus', 'forte', 'frontier', 'fusion', 'ghibli', 'glc',\n",
      "       'gle', 'gx', 'hybrid', 'impala', 'journey', 'juke', 'kicks', 'ld',\n",
      "       'limited', 'm', 'malibu', 'max', 'maxima', 'mdx', 'mpv', 'murano',\n",
      "       'mustang', 'nautilus', 'note', 'nvp', 'pacifica', 'passenger',\n",
      "       'pathfinder', 'pickup', 'pioneer', 'pk', 'q5', 'q70', 'ranger',\n",
      "       'road/street', 'rogue', 'se', 'sedan', 'sentra', 'series',\n",
      "       'sl-class', 'sonic', 'sorento', 'soul', 'spark', 'sport',\n",
      "       'sportage', 'srw', 'srx', 'suburban', 'sundance', 'suv', 'tahoe',\n",
      "       'taurus', 'titan', 'trail', 'transit', 'traverse', 'trax', 'truck',\n",
      "       'utility', 'van', 'vans', 'vehicl', 'versa', 'volt', 'wagon', 'x3',\n",
      "       'xd', 'xt5', 'xterra'], dtype=object)]\n"
     ]
    }
   ],
   "source": [
    "enc = OneHotEncoder(sparse = False)\n",
    "enc_code = enc.fit_transform(np.asarray(df['model']).reshape(-1, 1))\n",
    "enc_code\n",
    "print(\"{} categories.\\nCategory columns by order: \\n\\n{}\".format(len(enc.categories_[0]), enc.categories_))"
   ]
  },
  {
   "cell_type": "code",
   "execution_count": 27,
   "id": "13ec6541",
   "metadata": {},
   "outputs": [],
   "source": [
    "code_df1 = pd.DataFrame(enc_code, columns = enc.categories_[0])"
   ]
  },
  {
   "cell_type": "code",
   "execution_count": 28,
   "id": "c1221784",
   "metadata": {},
   "outputs": [],
   "source": [
    "code_df1.columns.get_loc('country')\n",
    "code_df1.rename(columns={\"country\": \"heartland_country\"}, inplace=True)"
   ]
  },
  {
   "cell_type": "code",
   "execution_count": 29,
   "id": "2c1cbac4",
   "metadata": {
    "scrolled": true
   },
   "outputs": [],
   "source": [
    "\n",
    "df2 = pd.concat([df2, code_df1], axis=1)#  pd.concat([df1, df4], axis=1)\n",
    "    \n",
    "df2.drop('model', axis = 1, inplace = True)\n"
   ]
  },
  {
   "cell_type": "code",
   "execution_count": 30,
   "id": "3501027c",
   "metadata": {},
   "outputs": [
    {
     "data": {
      "text/plain": [
       "(2499, 163)"
      ]
     },
     "execution_count": 30,
     "metadata": {},
     "output_type": "execute_result"
    }
   ],
   "source": [
    "df2.shape"
   ]
  },
  {
   "cell_type": "markdown",
   "id": "edc80053",
   "metadata": {},
   "source": [
    "#### Color"
   ]
  },
  {
   "cell_type": "code",
   "execution_count": 31,
   "id": "4405ca5d",
   "metadata": {},
   "outputs": [
    {
     "name": "stdout",
     "output_type": "stream",
     "text": [
      "49 categories.\n",
      "Category columns by order: \n",
      "\n",
      "[array(['beige', 'billet silver metallic clearcoat', 'black',\n",
      "       'black clearcoat', 'blue', 'bright white clearcoat', 'brown',\n",
      "       'burgundy', 'cayenne red', 'charcoal', 'color:',\n",
      "       'competition orange', 'dark blue', 'glacier white', 'gold', 'gray',\n",
      "       'green', 'guard', 'ingot silver', 'ingot silver metallic',\n",
      "       'jazz blue pearlcoat', 'kona blue metallic', 'light blue',\n",
      "       'lightning blue', 'magnetic metallic', 'maroon', 'morningsky blue',\n",
      "       'no_color', 'off-white', 'orange', 'oxford white', 'pearl white',\n",
      "       'phantom black', 'purple', 'red',\n",
      "       'royal crimson metallic tinted clearcoat', 'ruby red',\n",
      "       'ruby red metallic tinted clearcoat', 'shadow black', 'silver',\n",
      "       'super black', 'tan', 'toreador red', 'triple yellow tri-coat',\n",
      "       'turquoise', 'tuxedo black metallic', 'white',\n",
      "       'white platinum tri-coat metallic', 'yellow'], dtype=object)]\n"
     ]
    }
   ],
   "source": [
    "enc = OneHotEncoder(sparse = False)\n",
    "enc_code = enc.fit_transform(np.asarray(df['color']).reshape(-1, 1))\n",
    "enc_code\n",
    "print(\"{} categories.\\nCategory columns by order: \\n\\n{}\".format(len(enc.categories_[0]), enc.categories_))"
   ]
  },
  {
   "cell_type": "code",
   "execution_count": 32,
   "id": "9e222e63",
   "metadata": {},
   "outputs": [],
   "source": [
    "code_df1 = pd.DataFrame(enc_code, columns = enc.categories_[0])"
   ]
  },
  {
   "cell_type": "code",
   "execution_count": 33,
   "id": "549828b1",
   "metadata": {
    "scrolled": true
   },
   "outputs": [
    {
     "data": {
      "text/plain": [
       "(2499, 211)"
      ]
     },
     "execution_count": 33,
     "metadata": {},
     "output_type": "execute_result"
    }
   ],
   "source": [
    "df2 = pd.concat([df2, code_df1], axis=1)\n",
    "df2.drop('color', axis = 1, inplace = True)\n",
    "df2.shape"
   ]
  },
  {
   "cell_type": "markdown",
   "id": "99c709cb",
   "metadata": {},
   "source": [
    "#### State"
   ]
  },
  {
   "cell_type": "code",
   "execution_count": 34,
   "id": "8c1f3ed2",
   "metadata": {},
   "outputs": [
    {
     "name": "stdout",
     "output_type": "stream",
     "text": [
      "44 categories.\n",
      "Category columns by order: \n",
      "\n",
      "[array(['alabama', 'arizona', 'arkansas', 'california', 'colorado',\n",
      "       'connecticut', 'florida', 'georgia', 'idaho', 'illinois',\n",
      "       'indiana', 'kansas', 'kentucky', 'louisiana', 'maryland',\n",
      "       'massachusetts', 'michigan', 'minnesota', 'mississippi',\n",
      "       'missouri', 'montana', 'nebraska', 'nevada', 'new hampshire',\n",
      "       'new jersey', 'new mexico', 'new york', 'north carolina', 'ohio',\n",
      "       'oklahoma', 'ontario', 'oregon', 'pennsylvania', 'rhode island',\n",
      "       'south carolina', 'tennessee', 'texas', 'utah', 'vermont',\n",
      "       'virginia', 'washington', 'west virginia', 'wisconsin', 'wyoming'],\n",
      "      dtype=object)]\n"
     ]
    }
   ],
   "source": [
    "enc = OneHotEncoder(sparse = False)\n",
    "enc_code = enc.fit_transform(np.asarray(df['state']).reshape(-1, 1))\n",
    "enc_code\n",
    "print(\"{} categories.\\nCategory columns by order: \\n\\n{}\".format(len(enc.categories_[0]), enc.categories_))"
   ]
  },
  {
   "cell_type": "code",
   "execution_count": 35,
   "id": "2ba13e31",
   "metadata": {},
   "outputs": [],
   "source": [
    "code_df1 = pd.DataFrame(enc_code, columns = enc.categories_[0])"
   ]
  },
  {
   "cell_type": "code",
   "execution_count": 36,
   "id": "ca1fd13d",
   "metadata": {
    "scrolled": true
   },
   "outputs": [
    {
     "data": {
      "text/plain": [
       "(2499, 254)"
      ]
     },
     "execution_count": 36,
     "metadata": {},
     "output_type": "execute_result"
    }
   ],
   "source": [
    "df2 = pd.concat([df2, code_df1], axis=1)\n",
    "df2.drop('state', axis = 1, inplace = True)\n",
    "df2.shape"
   ]
  },
  {
   "cell_type": "markdown",
   "id": "790331cb",
   "metadata": {},
   "source": [
    "# Prediction"
   ]
  },
  {
   "cell_type": "markdown",
   "id": "5e50f3d8",
   "metadata": {},
   "source": [
    "* Note: When rerunning the notebook, results may change slightly (MSE, MAE values, etc.)"
   ]
  },
  {
   "cell_type": "markdown",
   "id": "2556202e",
   "metadata": {},
   "source": [
    "## Simple linear regression with small subset of variables"
   ]
  },
  {
   "cell_type": "code",
   "execution_count": 37,
   "id": "c6572872",
   "metadata": {},
   "outputs": [],
   "source": [
    "from sklearn.model_selection import cross_validate\n",
    "from sklearn.linear_model import LinearRegression\n",
    "from sklearn.model_selection import train_test_split"
   ]
  },
  {
   "cell_type": "code",
   "execution_count": 38,
   "id": "fef8290c",
   "metadata": {},
   "outputs": [],
   "source": [
    "variables = ['year', 'title_status', 'mileage', 'country', 'condition']\n"
   ]
  },
  {
   "cell_type": "code",
   "execution_count": 39,
   "id": "ee0c7da2",
   "metadata": {},
   "outputs": [],
   "source": [
    "X_train, X_test, y_train, y_test = train_test_split(df[variables], df.price, train_size=0.8)"
   ]
  },
  {
   "cell_type": "code",
   "execution_count": 40,
   "id": "7004e85f",
   "metadata": {},
   "outputs": [],
   "source": [
    "cv_results = cross_validate(LinearRegression(), X_train, y_train, cv=5, return_estimator=True)"
   ]
  },
  {
   "cell_type": "code",
   "execution_count": 41,
   "id": "e34a7625",
   "metadata": {},
   "outputs": [
    {
     "name": "stdout",
     "output_type": "stream",
     "text": [
      "R^2: 0.2296957159161409\n",
      "MSE: 117226857.71708679\n",
      "MAE: 8247.818577080747\n"
     ]
    }
   ],
   "source": [
    "print(f'R^2: {max(cv_results[\"test_score\"])}',\n",
    "      f'MSE: {sum((cv_results[\"estimator\"][np.argmax(cv_results[\"test_score\"])].predict(X_test) - y_test)**2) / len(y_test)}',\n",
    "      f'MAE: {sum(abs(cv_results[\"estimator\"][np.argmax(cv_results[\"test_score\"])].predict(X_test) - y_test)) / len(y_test)}',\n",
    "      sep='\\n')"
   ]
  },
  {
   "cell_type": "markdown",
   "id": "9d43479c",
   "metadata": {},
   "source": [
    "* The $R^2$ result we have is quite low\n",
    "* The MSE is extremely high, but the alternative MAE is lower\n",
    "* The output variable has a range of $[0, ~85000]$, a mean of ~18000, median of ~17000 and standard deviation of ~12000\n",
    "* Given the scale of the variable and the wide range, the MSE can take on large values easily, so the MAE might be a better measure\n",
    "* Still, the outputed MAE seems high"
   ]
  },
  {
   "cell_type": "markdown",
   "id": "a9d2cdfc",
   "metadata": {},
   "source": [
    "## Lasso"
   ]
  },
  {
   "cell_type": "code",
   "execution_count": null,
   "id": "9faa954f",
   "metadata": {},
   "outputs": [],
   "source": [
    "from sklearn.linear_model import LassoCV"
   ]
  },
  {
   "cell_type": "code",
   "execution_count": 43,
   "id": "9e0a9ccd",
   "metadata": {},
   "outputs": [],
   "source": [
    "variables = [i for i in df2.columns if i != 'price']"
   ]
  },
  {
   "cell_type": "code",
   "execution_count": 44,
   "id": "90762aa9",
   "metadata": {},
   "outputs": [],
   "source": [
    "X_train, X_test, y_train, y_test = train_test_split(df2[variables], df.price, train_size=0.8)"
   ]
  },
  {
   "cell_type": "code",
   "execution_count": 45,
   "id": "af89c09d",
   "metadata": {},
   "outputs": [],
   "source": [
    "lassocv_model = LassoCV(alphas=np.arange(1, 5, 0.2), max_iter=5000, tol=0.0001, cv=5, random_state=0).fit(X_train, y_train)"
   ]
  },
  {
   "cell_type": "code",
   "execution_count": 46,
   "id": "399cb23a",
   "metadata": {},
   "outputs": [
    {
     "name": "stdout",
     "output_type": "stream",
     "text": [
      "best penalization term: 3.7999999999999994\n",
      "R^2: 0.6578011213114658\n",
      "MSE: 50190444.05038542\n",
      "MAE: 4744.997833456841\n"
     ]
    }
   ],
   "source": [
    "print(f'best penalization term: {lassocv_model.alpha_}',\n",
    "      f'R^2: {lassocv_model.score(X_test, y_test)}',\n",
    "      f'MSE: {sum((lassocv_model.predict(X_test) - y_test)**2) / len(y_test)}',\n",
    "      f'MAE: {sum(abs(lassocv_model.predict(X_test) - y_test)) / len(y_test)}',\n",
    "      sep='\\n')\n"
   ]
  },
  {
   "cell_type": "markdown",
   "id": "079b5779",
   "metadata": {},
   "source": [
    "* With Lasso we get much better results for all measures\n",
    "* $R^2$ is considerably higher\n",
    "* We still get a high value for the MSE, probably attributable to the scale and spread of the data\n",
    "* The MAE is considerably lower, and a more acceptable vale given the scale of the price variable"
   ]
  },
  {
   "cell_type": "markdown",
   "id": "a321c3ab",
   "metadata": {},
   "source": [
    "### Ridge"
   ]
  },
  {
   "cell_type": "code",
   "execution_count": 47,
   "id": "06bef466",
   "metadata": {},
   "outputs": [],
   "source": [
    "from sklearn.linear_model import RidgeCV"
   ]
  },
  {
   "cell_type": "code",
   "execution_count": 48,
   "id": "7585df25",
   "metadata": {},
   "outputs": [],
   "source": [
    "ridgecv_model = RidgeCV(alphas=np.arange(0, 2, 0.1), cv=5).fit(X_train, y_train)"
   ]
  },
  {
   "cell_type": "code",
   "execution_count": 49,
   "id": "6f049485",
   "metadata": {},
   "outputs": [
    {
     "name": "stdout",
     "output_type": "stream",
     "text": [
      "best penalization term: 0.8\n",
      "R^2: 0.6649044869173508\n",
      "MSE: 49148590.624745995\n",
      "MAE: 4730.294654262457\n"
     ]
    }
   ],
   "source": [
    "print(f'best penalization term: {ridgecv_model.alpha_}',\n",
    "      f'R^2: {ridgecv_model.score(X_test, y_test)}',\n",
    "      f'MSE: {sum((ridgecv_model.predict(X_test) - y_test)**2) / len(y_test)}',\n",
    "      f'MAE: {sum(abs(ridgecv_model.predict(X_test) - y_test)) / len(y_test)}',\n",
    "      sep='\\n')"
   ]
  },
  {
   "cell_type": "markdown",
   "id": "9a6f65b4",
   "metadata": {},
   "source": [
    "* We get an improvement of the same scale as with Lasso. In previous runnings of the notebook, the results for ridge were slightly better, but by a very small difference"
   ]
  },
  {
   "cell_type": "markdown",
   "id": "3dbe0c8a",
   "metadata": {},
   "source": [
    "### Elastic Net"
   ]
  },
  {
   "cell_type": "code",
   "execution_count": 50,
   "id": "ff78d051",
   "metadata": {},
   "outputs": [],
   "source": [
    "from sklearn.linear_model import ElasticNetCV"
   ]
  },
  {
   "cell_type": "code",
   "execution_count": 51,
   "id": "e870cd73",
   "metadata": {},
   "outputs": [],
   "source": [
    "elasticnetcv_model = ElasticNetCV(l1_ratio=np.arange(0.15, 1, 0.15), alphas=np.arange(0.5, 3.6, 0.2), cv=5).fit(X_train, y_train)"
   ]
  },
  {
   "cell_type": "code",
   "execution_count": 52,
   "id": "86605996",
   "metadata": {},
   "outputs": [
    {
     "name": "stdout",
     "output_type": "stream",
     "text": [
      "best L1 penalizatoin term: 0.45\n",
      "best L2 penalizatoin term: 0.04999999999999999\n",
      "R^2: 0.47225167532518963\n",
      "MSE: 77405054.2298379\n",
      "MAE: 6397.481765293769\n"
     ]
    }
   ],
   "source": [
    "print(f'best L1 penalizatoin term: {elasticnetcv_model.alpha_*(elasticnetcv_model.l1_ratio_)}',\n",
    "      f'best L2 penalizatoin term: {elasticnetcv_model.alpha_*(1-elasticnetcv_model.l1_ratio_)}',\n",
    "      f'R^2: {elasticnetcv_model.score(X_test, y_test)}',\n",
    "      f'MSE: {sum((elasticnetcv_model.predict(X_test) - y_test)**2) / len(y_test)}',\n",
    "      f'MAE: {sum(abs(elasticnetcv_model.predict(X_test) - y_test)) / len(y_test)}',\n",
    "      sep='\\n')"
   ]
  },
  {
   "cell_type": "markdown",
   "id": "b642e45e",
   "metadata": {},
   "source": [
    "* When using both penalizations together the result is worse, as both MSE and MAE are higher, and $R^2$ is lower than with Lasso or Ridge standalone"
   ]
  },
  {
   "cell_type": "markdown",
   "id": "07667591",
   "metadata": {},
   "source": [
    "### Model comparison and variable selection\n"
   ]
  },
  {
   "cell_type": "markdown",
   "id": "5c93b66d",
   "metadata": {},
   "source": [
    "* Ridge and Lasso both provide the best results.\n",
    "* However, one advantage of Lasso is that it shrinks coefficients to 0, making the model simpler and allowing us to focus in the most important variables\n",
    "* For this reason, Lasso might be a preferrable model"
   ]
  },
  {
   "cell_type": "code",
   "execution_count": 53,
   "id": "0beae53c",
   "metadata": {},
   "outputs": [
    {
     "name": "stdout",
     "output_type": "stream",
     "text": [
      "Coefficients shrunk to 0 by Lasso: 87\n",
      "Coefficients shrunk to 0 by Ridge: 11\n",
      "Coefficients shrunk to 0 by Elastic Net: 17\n"
     ]
    }
   ],
   "source": [
    "print(f'Coefficients shrunk to 0 by Lasso: {sum(lassocv_model.coef_ == 0)}',\n",
    "      f'Coefficients shrunk to 0 by Ridge: {sum(ridgecv_model.coef_ == 0)}',\n",
    "      f'Coefficients shrunk to 0 by Elastic Net: {sum(elasticnetcv_model.coef_ == 0)}',\n",
    "      sep='\\n')\n",
    "    \n",
    "    "
   ]
  },
  {
   "cell_type": "markdown",
   "id": "5609d6bf",
   "metadata": {},
   "source": [
    "* In this case we see Ridge has also shrunken a few coefficients to $0$, perhaps because they are of no importance at all\n",
    "* However, Lasso has shrunken way more of the original predictors. In the different runs of the notebook it removed $~25-30\\%$ of the original $255$ predictors,  making the model considerably simpler"
   ]
  },
  {
   "cell_type": "markdown",
   "id": "995e2aa4",
   "metadata": {},
   "source": [
    "## Extra - Vehicle Brands"
   ]
  },
  {
   "cell_type": "markdown",
   "id": "ef12354f",
   "metadata": {},
   "source": [
    "* When exploring the data set the difference in brands and models was mentioned briefly\n",
    "* This probably has an important effect but due to lack of time it wasn't studied in detail\n",
    "* Trying to perform clustering might show subgroups of brands or models for which customers are willing to pay more\n",
    "* This could be for reducing dimensions, and feed cluster classification to the price regression instead of brand and model\n",
    "* If we look at the plots below, there are brands get consistently higher prices than others (e.g. Ford compared to Nissan)\n",
    "* Also, in the plot with the few sales of luxury vehicles, we see that they are on the higher end of prices across all years"
   ]
  },
  {
   "cell_type": "code",
   "execution_count": 54,
   "id": "96e6f1b1",
   "metadata": {},
   "outputs": [],
   "source": [
    "lux = {'audi', 'harley-davidson', 'jaguar', 'maserati', 'lexus', 'cadillac', 'mercedes-benz', 'bmw', 'acura'}"
   ]
  },
  {
   "cell_type": "code",
   "execution_count": 55,
   "id": "9822feec",
   "metadata": {},
   "outputs": [
    {
     "data": {
      "image/png": "[encoded data removed]",
      "text/plain": [
       "<Figure size 720x576 with 1 Axes>"
      ]
     },
     "metadata": {
      "needs_background": "light"
     },
     "output_type": "display_data"
    }
   ],
   "source": [
    "fig = plt.figure(figsize=(10, 8))\n",
    "\n",
    "groups = df[~df.brand.isin(lux)].groupby(\"brand\")\n",
    "for name, group in groups:\n",
    "    plt.plot(group[\"year\"], group[\"price\"], marker=\"o\", linestyle=\"\", label=name)\n",
    "\n",
    "plt.title('Price and Year of non-Luxury Vehicles')\n",
    "plt.yticks(range(0, 100000, 10000))\n",
    "plt.xticks(range(1970, 2025, 5))\n",
    "plt.legend(loc='upper center', bbox_to_anchor=(1.3, 1), shadow=True, ncol=2)\n",
    "\n",
    "plt.show()"
   ]
  },
  {
   "cell_type": "code",
   "execution_count": 56,
   "id": "ee0616ee",
   "metadata": {},
   "outputs": [
    {
     "data": {
      "image/png": "[encoded data removed]",
      "text/plain": [
       "<Figure size 720x576 with 1 Axes>"
      ]
     },
     "metadata": {
      "needs_background": "light"
     },
     "output_type": "display_data"
    }
   ],
   "source": [
    "fig = plt.figure(figsize=(10, 8))\n",
    "\n",
    "groups = df[df.brand.isin(lux)].groupby(\"brand\")\n",
    "for name, group in groups:\n",
    "    plt.plot(group[\"year\"], group[\"price\"], marker=\"o\", linestyle=\"\", label=name)\n",
    "\n",
    "plt.title('Price and Year of Luxury Vehicles')\n",
    "plt.yticks(range(0, 100000, 10000))\n",
    "plt.xticks(range(1990, 2025, 5))\n",
    "plt.legend(loc='upper center', bbox_to_anchor=(1.3, 1), shadow=True, ncol=2)\n",
    "\n",
    "plt.show()"
   ]
  },
  {
   "cell_type": "code",
   "execution_count": 57,
   "id": "f4716f0a",
   "metadata": {},
   "outputs": [
    {
     "data": {
      "image/png": "[encoded data removed]",
      "text/plain": [
       "<Figure size 720x576 with 1 Axes>"
      ]
     },
     "metadata": {
      "needs_background": "light"
     },
     "output_type": "display_data"
    }
   ],
   "source": [
    "exclude = list(lux)\n",
    "exclude.append('ford')\n",
    "exclude.append('nissan')\n",
    "fig = plt.figure(figsize=(10, 8))\n",
    "\n",
    "groups = df[~df.brand.isin(exclude)].groupby(\"brand\")\n",
    "for name, group in groups:\n",
    "    plt.plot(group[\"year\"], group[\"price\"], marker=\"o\", linestyle=\"\", label=name)\n",
    "\n",
    "plt.title('Price and Year of non-Luxury and less common Vehicles')\n",
    "plt.yticks(range(0, 100000, 10000))\n",
    "plt.xticks(range(1970, 2025, 5))\n",
    "plt.legend(loc='upper center', bbox_to_anchor=(1.3, 1), shadow=True, ncol=2)\n",
    "\n",
    "plt.show()"
   ]
  },
  {
   "cell_type": "code",
   "execution_count": null,
   "id": "88c3381b",
   "metadata": {},
   "outputs": [],
   "source": []
  }
 ],
 "metadata": {
  "kernelspec": {
   "display_name": "Python 3 (ipykernel)",
   "language": "python",
   "name": "python3"
  },
  "language_info": {
   "codemirror_mode": {
    "name": "ipython",
    "version": 3
   },
   "file_extension": ".py",
   "mimetype": "text/x-python",
   "name": "python",
   "nbconvert_exporter": "python",
   "pygments_lexer": "ipython3",
   "version": "3.8.9"
  }
 },
 "nbformat": 4,
 "nbformat_minor": 5
}
