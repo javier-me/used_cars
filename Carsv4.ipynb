{
 "cells": [
  {
   "cell_type": "markdown",
   "id": "27c15ff8",
   "metadata": {},
   "source": [
    "# Price Prediction of Used Cars"
   ]
  },
  {
   "cell_type": "code",
   "execution_count": 1,
   "id": "405ab3f1",
   "metadata": {},
   "outputs": [],
   "source": [
    "import os\n",
    "import re\n",
    "import numpy as np\n",
    "import pandas as pd\n",
    "import matplotlib.pyplot as plt\n",
    "%matplotlib inline\n",
    "from math import isnan\n",
    "import sklearn as sk\n",
    "from sklearn.preprocessing import OneHotEncoder\n",
    "from sklearn.model_selection import train_test_split\n",
    "from sklearn.linear_model import LinearRegression"
   ]
  },
  {
   "cell_type": "markdown",
   "id": "634b894f",
   "metadata": {},
   "source": [
    "### Data Exploration"
   ]
  },
  {
   "cell_type": "code",
   "execution_count": 2,
   "id": "2b94bd2a",
   "metadata": {},
   "outputs": [],
   "source": [
    "df = pd.read_csv('USA_cars_datasets.csv', index_col=0)"
   ]
  },
  {
   "cell_type": "code",
   "execution_count": 3,
   "id": "50336c72",
   "metadata": {},
   "outputs": [
    {
     "name": "stdout",
     "output_type": "stream",
     "text": [
      "shape: (2499, 12)\n"
     ]
    },
    {
     "data": {
      "text/html": [
       "<div>\n",
       "<style scoped>\n",
       "    .dataframe tbody tr th:only-of-type {\n",
       "        vertical-align: middle;\n",
       "    }\n",
       "\n",
       "    .dataframe tbody tr th {\n",
       "        vertical-align: top;\n",
       "    }\n",
       "\n",
       "    .dataframe thead th {\n",
       "        text-align: right;\n",
       "    }\n",
       "</style>\n",
       "<table border=\"1\" class=\"dataframe\">\n",
       "  <thead>\n",
       "    <tr style=\"text-align: right;\">\n",
       "      <th></th>\n",
       "      <th>price</th>\n",
       "      <th>brand</th>\n",
       "      <th>model</th>\n",
       "      <th>year</th>\n",
       "      <th>title_status</th>\n",
       "      <th>mileage</th>\n",
       "      <th>color</th>\n",
       "      <th>vin</th>\n",
       "      <th>lot</th>\n",
       "      <th>state</th>\n",
       "      <th>country</th>\n",
       "      <th>condition</th>\n",
       "    </tr>\n",
       "  </thead>\n",
       "  <tbody>\n",
       "    <tr>\n",
       "      <th>0</th>\n",
       "      <td>6300</td>\n",
       "      <td>toyota</td>\n",
       "      <td>cruiser</td>\n",
       "      <td>2008</td>\n",
       "      <td>clean vehicle</td>\n",
       "      <td>274117.0</td>\n",
       "      <td>black</td>\n",
       "      <td>jtezu11f88k007763</td>\n",
       "      <td>159348797</td>\n",
       "      <td>new jersey</td>\n",
       "      <td>usa</td>\n",
       "      <td>10 days left</td>\n",
       "    </tr>\n",
       "    <tr>\n",
       "      <th>1</th>\n",
       "      <td>2899</td>\n",
       "      <td>ford</td>\n",
       "      <td>se</td>\n",
       "      <td>2011</td>\n",
       "      <td>clean vehicle</td>\n",
       "      <td>190552.0</td>\n",
       "      <td>silver</td>\n",
       "      <td>2fmdk3gc4bbb02217</td>\n",
       "      <td>166951262</td>\n",
       "      <td>tennessee</td>\n",
       "      <td>usa</td>\n",
       "      <td>6 days left</td>\n",
       "    </tr>\n",
       "    <tr>\n",
       "      <th>2</th>\n",
       "      <td>5350</td>\n",
       "      <td>dodge</td>\n",
       "      <td>mpv</td>\n",
       "      <td>2018</td>\n",
       "      <td>clean vehicle</td>\n",
       "      <td>39590.0</td>\n",
       "      <td>silver</td>\n",
       "      <td>3c4pdcgg5jt346413</td>\n",
       "      <td>167655728</td>\n",
       "      <td>georgia</td>\n",
       "      <td>usa</td>\n",
       "      <td>2 days left</td>\n",
       "    </tr>\n",
       "    <tr>\n",
       "      <th>3</th>\n",
       "      <td>25000</td>\n",
       "      <td>ford</td>\n",
       "      <td>door</td>\n",
       "      <td>2014</td>\n",
       "      <td>clean vehicle</td>\n",
       "      <td>64146.0</td>\n",
       "      <td>blue</td>\n",
       "      <td>1ftfw1et4efc23745</td>\n",
       "      <td>167753855</td>\n",
       "      <td>virginia</td>\n",
       "      <td>usa</td>\n",
       "      <td>22 hours left</td>\n",
       "    </tr>\n",
       "    <tr>\n",
       "      <th>4</th>\n",
       "      <td>27700</td>\n",
       "      <td>chevrolet</td>\n",
       "      <td>1500</td>\n",
       "      <td>2018</td>\n",
       "      <td>clean vehicle</td>\n",
       "      <td>6654.0</td>\n",
       "      <td>red</td>\n",
       "      <td>3gcpcrec2jg473991</td>\n",
       "      <td>167763266</td>\n",
       "      <td>florida</td>\n",
       "      <td>usa</td>\n",
       "      <td>22 hours left</td>\n",
       "    </tr>\n",
       "  </tbody>\n",
       "</table>\n",
       "</div>"
      ],
      "text/plain": [
       "   price      brand    model  year   title_status   mileage   color  \\\n",
       "0   6300     toyota  cruiser  2008  clean vehicle  274117.0   black   \n",
       "1   2899       ford       se  2011  clean vehicle  190552.0  silver   \n",
       "2   5350      dodge      mpv  2018  clean vehicle   39590.0  silver   \n",
       "3  25000       ford     door  2014  clean vehicle   64146.0    blue   \n",
       "4  27700  chevrolet     1500  2018  clean vehicle    6654.0     red   \n",
       "\n",
       "                   vin        lot       state country      condition  \n",
       "0    jtezu11f88k007763  159348797  new jersey     usa   10 days left  \n",
       "1    2fmdk3gc4bbb02217  166951262   tennessee     usa    6 days left  \n",
       "2    3c4pdcgg5jt346413  167655728     georgia     usa    2 days left  \n",
       "3    1ftfw1et4efc23745  167753855    virginia     usa  22 hours left  \n",
       "4    3gcpcrec2jg473991  167763266     florida     usa  22 hours left  "
      ]
     },
     "execution_count": 3,
     "metadata": {},
     "output_type": "execute_result"
    }
   ],
   "source": [
    "print(f'shape: {df.shape}')\n",
    "df.head()"
   ]
  },
  {
   "cell_type": "code",
   "execution_count": 4,
   "id": "e5e1c6d6",
   "metadata": {},
   "outputs": [
    {
     "data": {
      "text/plain": [
       "price           0\n",
       "brand           0\n",
       "model           0\n",
       "year            0\n",
       "title_status    0\n",
       "mileage         0\n",
       "color           0\n",
       "vin             0\n",
       "lot             0\n",
       "state           0\n",
       "country         0\n",
       "condition       0\n",
       "dtype: int64"
      ]
     },
     "execution_count": 4,
     "metadata": {},
     "output_type": "execute_result"
    }
   ],
   "source": [
    "df.isnull().sum()"
   ]
  },
  {
   "cell_type": "code",
   "execution_count": 5,
   "id": "7ed55bfa",
   "metadata": {},
   "outputs": [
    {
     "data": {
      "text/html": [
       "<div>\n",
       "<style scoped>\n",
       "    .dataframe tbody tr th:only-of-type {\n",
       "        vertical-align: middle;\n",
       "    }\n",
       "\n",
       "    .dataframe tbody tr th {\n",
       "        vertical-align: top;\n",
       "    }\n",
       "\n",
       "    .dataframe thead th {\n",
       "        text-align: right;\n",
       "    }\n",
       "</style>\n",
       "<table border=\"1\" class=\"dataframe\">\n",
       "  <thead>\n",
       "    <tr style=\"text-align: right;\">\n",
       "      <th></th>\n",
       "      <th>price</th>\n",
       "      <th>year</th>\n",
       "      <th>mileage</th>\n",
       "      <th>lot</th>\n",
       "    </tr>\n",
       "  </thead>\n",
       "  <tbody>\n",
       "    <tr>\n",
       "      <th>count</th>\n",
       "      <td>2499.000000</td>\n",
       "      <td>2499.000000</td>\n",
       "      <td>2.499000e+03</td>\n",
       "      <td>2.499000e+03</td>\n",
       "    </tr>\n",
       "    <tr>\n",
       "      <th>mean</th>\n",
       "      <td>18767.671469</td>\n",
       "      <td>2016.714286</td>\n",
       "      <td>5.229869e+04</td>\n",
       "      <td>1.676914e+08</td>\n",
       "    </tr>\n",
       "    <tr>\n",
       "      <th>std</th>\n",
       "      <td>12116.094936</td>\n",
       "      <td>3.442656</td>\n",
       "      <td>5.970552e+04</td>\n",
       "      <td>2.038772e+05</td>\n",
       "    </tr>\n",
       "    <tr>\n",
       "      <th>min</th>\n",
       "      <td>0.000000</td>\n",
       "      <td>1973.000000</td>\n",
       "      <td>0.000000e+00</td>\n",
       "      <td>1.593488e+08</td>\n",
       "    </tr>\n",
       "    <tr>\n",
       "      <th>25%</th>\n",
       "      <td>10200.000000</td>\n",
       "      <td>2016.000000</td>\n",
       "      <td>2.146650e+04</td>\n",
       "      <td>1.676253e+08</td>\n",
       "    </tr>\n",
       "    <tr>\n",
       "      <th>50%</th>\n",
       "      <td>16900.000000</td>\n",
       "      <td>2018.000000</td>\n",
       "      <td>3.536500e+04</td>\n",
       "      <td>1.677451e+08</td>\n",
       "    </tr>\n",
       "    <tr>\n",
       "      <th>75%</th>\n",
       "      <td>25555.500000</td>\n",
       "      <td>2019.000000</td>\n",
       "      <td>6.347250e+04</td>\n",
       "      <td>1.677798e+08</td>\n",
       "    </tr>\n",
       "    <tr>\n",
       "      <th>max</th>\n",
       "      <td>84900.000000</td>\n",
       "      <td>2020.000000</td>\n",
       "      <td>1.017936e+06</td>\n",
       "      <td>1.678055e+08</td>\n",
       "    </tr>\n",
       "  </tbody>\n",
       "</table>\n",
       "</div>"
      ],
      "text/plain": [
       "              price         year       mileage           lot\n",
       "count   2499.000000  2499.000000  2.499000e+03  2.499000e+03\n",
       "mean   18767.671469  2016.714286  5.229869e+04  1.676914e+08\n",
       "std    12116.094936     3.442656  5.970552e+04  2.038772e+05\n",
       "min        0.000000  1973.000000  0.000000e+00  1.593488e+08\n",
       "25%    10200.000000  2016.000000  2.146650e+04  1.676253e+08\n",
       "50%    16900.000000  2018.000000  3.536500e+04  1.677451e+08\n",
       "75%    25555.500000  2019.000000  6.347250e+04  1.677798e+08\n",
       "max    84900.000000  2020.000000  1.017936e+06  1.678055e+08"
      ]
     },
     "execution_count": 5,
     "metadata": {},
     "output_type": "execute_result"
    }
   ],
   "source": [
    "df.describe()"
   ]
  },
  {
   "cell_type": "markdown",
   "id": "aa6e42eb",
   "metadata": {},
   "source": [
    "* The numeric variables are price, mileage and year. Lot doesn't tell as a lot and is not really numeric, as it's a rather random number set by the car producing company.\n",
    "* There are some entries with price 0. We'll investigate that and the lower end and get rid of them if they are not useful"
   ]
  },
  {
   "cell_type": "code",
   "execution_count": 6,
   "id": "a997c760",
   "metadata": {},
   "outputs": [
    {
     "name": "stdout",
     "output_type": "stream",
     "text": [
      "(43, 12) observations with price 0\n",
      "14 brands: ['dodge' 'ford' 'mazda' 'chevrolet' 'honda' 'gmc' 'heartland' 'cadillac'\n",
      " 'buick' 'kia' 'audi' 'bmw' 'lincoln' 'peterbilt']\n"
     ]
    }
   ],
   "source": [
    "print(f'{df[df.price==0].shape} observations with price 0',\n",
    "      f'{len(df[df.price==0].brand.unique())} brands: {df[df.price==0].brand.unique()}',\n",
    "     sep='\\n')"
   ]
  },
  {
   "cell_type": "code",
   "execution_count": 7,
   "id": "6119e46a",
   "metadata": {},
   "outputs": [
    {
     "data": {
      "text/html": [
       "<div>\n",
       "<style scoped>\n",
       "    .dataframe tbody tr th:only-of-type {\n",
       "        vertical-align: middle;\n",
       "    }\n",
       "\n",
       "    .dataframe tbody tr th {\n",
       "        vertical-align: top;\n",
       "    }\n",
       "\n",
       "    .dataframe thead th {\n",
       "        text-align: right;\n",
       "    }\n",
       "</style>\n",
       "<table border=\"1\" class=\"dataframe\">\n",
       "  <thead>\n",
       "    <tr style=\"text-align: right;\">\n",
       "      <th></th>\n",
       "      <th>price</th>\n",
       "      <th>brand</th>\n",
       "      <th>model</th>\n",
       "      <th>year</th>\n",
       "      <th>title_status</th>\n",
       "      <th>mileage</th>\n",
       "      <th>color</th>\n",
       "      <th>vin</th>\n",
       "      <th>lot</th>\n",
       "      <th>state</th>\n",
       "      <th>country</th>\n",
       "      <th>condition</th>\n",
       "    </tr>\n",
       "  </thead>\n",
       "  <tbody>\n",
       "    <tr>\n",
       "      <th>141</th>\n",
       "      <td>0</td>\n",
       "      <td>dodge</td>\n",
       "      <td>van</td>\n",
       "      <td>2008</td>\n",
       "      <td>salvage insurance</td>\n",
       "      <td>177948.0</td>\n",
       "      <td>orange</td>\n",
       "      <td>2d8hn44h88r669549</td>\n",
       "      <td>167756157</td>\n",
       "      <td>utah</td>\n",
       "      <td>usa</td>\n",
       "      <td>2 days left</td>\n",
       "    </tr>\n",
       "    <tr>\n",
       "      <th>144</th>\n",
       "      <td>0</td>\n",
       "      <td>dodge</td>\n",
       "      <td>door</td>\n",
       "      <td>2014</td>\n",
       "      <td>salvage insurance</td>\n",
       "      <td>123660.0</td>\n",
       "      <td>silver</td>\n",
       "      <td>1c3cdzab0en111068</td>\n",
       "      <td>167756167</td>\n",
       "      <td>utah</td>\n",
       "      <td>usa</td>\n",
       "      <td>2 days left</td>\n",
       "    </tr>\n",
       "    <tr>\n",
       "      <th>196</th>\n",
       "      <td>0</td>\n",
       "      <td>ford</td>\n",
       "      <td>mpv</td>\n",
       "      <td>2017</td>\n",
       "      <td>clean vehicle</td>\n",
       "      <td>76858.0</td>\n",
       "      <td>white</td>\n",
       "      <td>1fbax2cv0hkb32599</td>\n",
       "      <td>167656523</td>\n",
       "      <td>texas</td>\n",
       "      <td>usa</td>\n",
       "      <td>2 days left</td>\n",
       "    </tr>\n",
       "    <tr>\n",
       "      <th>285</th>\n",
       "      <td>0</td>\n",
       "      <td>ford</td>\n",
       "      <td>door</td>\n",
       "      <td>2000</td>\n",
       "      <td>salvage insurance</td>\n",
       "      <td>124969.0</td>\n",
       "      <td>black</td>\n",
       "      <td>1fafp34p7yw270338</td>\n",
       "      <td>167251902</td>\n",
       "      <td>oklahoma</td>\n",
       "      <td>usa</td>\n",
       "      <td>17 hours left</td>\n",
       "    </tr>\n",
       "    <tr>\n",
       "      <th>290</th>\n",
       "      <td>0</td>\n",
       "      <td>mazda</td>\n",
       "      <td>door</td>\n",
       "      <td>2009</td>\n",
       "      <td>salvage insurance</td>\n",
       "      <td>117541.0</td>\n",
       "      <td>gray</td>\n",
       "      <td>jm3er293590215768</td>\n",
       "      <td>167543177</td>\n",
       "      <td>indiana</td>\n",
       "      <td>usa</td>\n",
       "      <td>16 hours left</td>\n",
       "    </tr>\n",
       "    <tr>\n",
       "      <th>293</th>\n",
       "      <td>0</td>\n",
       "      <td>chevrolet</td>\n",
       "      <td>pickup</td>\n",
       "      <td>1998</td>\n",
       "      <td>salvage insurance</td>\n",
       "      <td>258631.0</td>\n",
       "      <td>gray</td>\n",
       "      <td>1gccs1445wk226994</td>\n",
       "      <td>167417659</td>\n",
       "      <td>texas</td>\n",
       "      <td>usa</td>\n",
       "      <td>17 hours left</td>\n",
       "    </tr>\n",
       "    <tr>\n",
       "      <th>297</th>\n",
       "      <td>0</td>\n",
       "      <td>honda</td>\n",
       "      <td>door</td>\n",
       "      <td>2003</td>\n",
       "      <td>salvage insurance</td>\n",
       "      <td>152608.0</td>\n",
       "      <td>white</td>\n",
       "      <td>1hgcm56363a030975</td>\n",
       "      <td>167552893</td>\n",
       "      <td>arkansas</td>\n",
       "      <td>usa</td>\n",
       "      <td>17 hours left</td>\n",
       "    </tr>\n",
       "    <tr>\n",
       "      <th>305</th>\n",
       "      <td>0</td>\n",
       "      <td>ford</td>\n",
       "      <td>door</td>\n",
       "      <td>2003</td>\n",
       "      <td>salvage insurance</td>\n",
       "      <td>246065.0</td>\n",
       "      <td>gold</td>\n",
       "      <td>1fafp55u03a242094</td>\n",
       "      <td>167610324</td>\n",
       "      <td>kansas</td>\n",
       "      <td>usa</td>\n",
       "      <td>8 days left</td>\n",
       "    </tr>\n",
       "    <tr>\n",
       "      <th>309</th>\n",
       "      <td>0</td>\n",
       "      <td>chevrolet</td>\n",
       "      <td>door</td>\n",
       "      <td>2004</td>\n",
       "      <td>salvage insurance</td>\n",
       "      <td>0.0</td>\n",
       "      <td>maroon</td>\n",
       "      <td>3gnek12t74g240524</td>\n",
       "      <td>167418651</td>\n",
       "      <td>wyoming</td>\n",
       "      <td>usa</td>\n",
       "      <td>18 hours left</td>\n",
       "    </tr>\n",
       "    <tr>\n",
       "      <th>310</th>\n",
       "      <td>0</td>\n",
       "      <td>chevrolet</td>\n",
       "      <td>door</td>\n",
       "      <td>2003</td>\n",
       "      <td>salvage insurance</td>\n",
       "      <td>194673.0</td>\n",
       "      <td>gray</td>\n",
       "      <td>1gndt13s632267445</td>\n",
       "      <td>167650636</td>\n",
       "      <td>texas</td>\n",
       "      <td>usa</td>\n",
       "      <td>18 hours left</td>\n",
       "    </tr>\n",
       "    <tr>\n",
       "      <th>313</th>\n",
       "      <td>0</td>\n",
       "      <td>ford</td>\n",
       "      <td>van</td>\n",
       "      <td>1998</td>\n",
       "      <td>salvage insurance</td>\n",
       "      <td>186855.0</td>\n",
       "      <td>blue</td>\n",
       "      <td>2fmda5143wba16791</td>\n",
       "      <td>167359170</td>\n",
       "      <td>california</td>\n",
       "      <td>usa</td>\n",
       "      <td>19 hours left</td>\n",
       "    </tr>\n",
       "    <tr>\n",
       "      <th>314</th>\n",
       "      <td>0</td>\n",
       "      <td>ford</td>\n",
       "      <td>door</td>\n",
       "      <td>2013</td>\n",
       "      <td>salvage insurance</td>\n",
       "      <td>94004.0</td>\n",
       "      <td>black</td>\n",
       "      <td>3fa6p0h74dr270819</td>\n",
       "      <td>167610728</td>\n",
       "      <td>minnesota</td>\n",
       "      <td>usa</td>\n",
       "      <td>17 hours left</td>\n",
       "    </tr>\n",
       "    <tr>\n",
       "      <th>318</th>\n",
       "      <td>0</td>\n",
       "      <td>chevrolet</td>\n",
       "      <td>door</td>\n",
       "      <td>2009</td>\n",
       "      <td>salvage insurance</td>\n",
       "      <td>117059.0</td>\n",
       "      <td>black</td>\n",
       "      <td>kl1td66e39b645208</td>\n",
       "      <td>167418694</td>\n",
       "      <td>colorado</td>\n",
       "      <td>usa</td>\n",
       "      <td>18 hours left</td>\n",
       "    </tr>\n",
       "    <tr>\n",
       "      <th>322</th>\n",
       "      <td>0</td>\n",
       "      <td>ford</td>\n",
       "      <td>chassis</td>\n",
       "      <td>1994</td>\n",
       "      <td>salvage insurance</td>\n",
       "      <td>0.0</td>\n",
       "      <td>green</td>\n",
       "      <td>1fdee14n7rha47894</td>\n",
       "      <td>167359174</td>\n",
       "      <td>california</td>\n",
       "      <td>usa</td>\n",
       "      <td>19 hours left</td>\n",
       "    </tr>\n",
       "    <tr>\n",
       "      <th>323</th>\n",
       "      <td>0</td>\n",
       "      <td>ford</td>\n",
       "      <td>door</td>\n",
       "      <td>1997</td>\n",
       "      <td>salvage insurance</td>\n",
       "      <td>203297.0</td>\n",
       "      <td>green</td>\n",
       "      <td>1fmdu35p7vub38059</td>\n",
       "      <td>167610731</td>\n",
       "      <td>minnesota</td>\n",
       "      <td>usa</td>\n",
       "      <td>17 hours left</td>\n",
       "    </tr>\n",
       "    <tr>\n",
       "      <th>330</th>\n",
       "      <td>0</td>\n",
       "      <td>ford</td>\n",
       "      <td>door</td>\n",
       "      <td>1996</td>\n",
       "      <td>salvage insurance</td>\n",
       "      <td>296860.0</td>\n",
       "      <td>green</td>\n",
       "      <td>1falp62w5th144314</td>\n",
       "      <td>167359712</td>\n",
       "      <td>california</td>\n",
       "      <td>usa</td>\n",
       "      <td>19 hours left</td>\n",
       "    </tr>\n",
       "    <tr>\n",
       "      <th>331</th>\n",
       "      <td>0</td>\n",
       "      <td>ford</td>\n",
       "      <td>door</td>\n",
       "      <td>2006</td>\n",
       "      <td>salvage insurance</td>\n",
       "      <td>203158.0</td>\n",
       "      <td>red</td>\n",
       "      <td>1fmzk04136ga07119</td>\n",
       "      <td>167610991</td>\n",
       "      <td>illinois</td>\n",
       "      <td>usa</td>\n",
       "      <td>17 hours left</td>\n",
       "    </tr>\n",
       "    <tr>\n",
       "      <th>339</th>\n",
       "      <td>0</td>\n",
       "      <td>ford</td>\n",
       "      <td>door</td>\n",
       "      <td>2002</td>\n",
       "      <td>salvage insurance</td>\n",
       "      <td>214800.0</td>\n",
       "      <td>black</td>\n",
       "      <td>3fafp37372r151014</td>\n",
       "      <td>167360232</td>\n",
       "      <td>south carolina</td>\n",
       "      <td>usa</td>\n",
       "      <td>2 days left</td>\n",
       "    </tr>\n",
       "    <tr>\n",
       "      <th>344</th>\n",
       "      <td>0</td>\n",
       "      <td>chevrolet</td>\n",
       "      <td>door</td>\n",
       "      <td>2010</td>\n",
       "      <td>salvage insurance</td>\n",
       "      <td>137422.0</td>\n",
       "      <td>red</td>\n",
       "      <td>2cnflnew5a6355858</td>\n",
       "      <td>167650683</td>\n",
       "      <td>colorado</td>\n",
       "      <td>usa</td>\n",
       "      <td>18 hours left</td>\n",
       "    </tr>\n",
       "    <tr>\n",
       "      <th>347</th>\n",
       "      <td>0</td>\n",
       "      <td>gmc</td>\n",
       "      <td>door</td>\n",
       "      <td>2004</td>\n",
       "      <td>salvage insurance</td>\n",
       "      <td>235348.0</td>\n",
       "      <td>gold</td>\n",
       "      <td>1gket16s646227597</td>\n",
       "      <td>167360322</td>\n",
       "      <td>south carolina</td>\n",
       "      <td>usa</td>\n",
       "      <td>2 days left</td>\n",
       "    </tr>\n",
       "    <tr>\n",
       "      <th>349</th>\n",
       "      <td>0</td>\n",
       "      <td>heartland</td>\n",
       "      <td>sundance</td>\n",
       "      <td>2009</td>\n",
       "      <td>clean vehicle</td>\n",
       "      <td>1.0</td>\n",
       "      <td>white</td>\n",
       "      <td>5sfgf29269e031344</td>\n",
       "      <td>167266321</td>\n",
       "      <td>pennsylvania</td>\n",
       "      <td>usa</td>\n",
       "      <td>7 days left</td>\n",
       "    </tr>\n",
       "    <tr>\n",
       "      <th>351</th>\n",
       "      <td>0</td>\n",
       "      <td>chevrolet</td>\n",
       "      <td>door</td>\n",
       "      <td>2008</td>\n",
       "      <td>salvage insurance</td>\n",
       "      <td>159266.0</td>\n",
       "      <td>gray</td>\n",
       "      <td>2g1wb58kx81220813</td>\n",
       "      <td>167650796</td>\n",
       "      <td>california</td>\n",
       "      <td>usa</td>\n",
       "      <td>19 hours left</td>\n",
       "    </tr>\n",
       "    <tr>\n",
       "      <th>354</th>\n",
       "      <td>0</td>\n",
       "      <td>ford</td>\n",
       "      <td>pickup</td>\n",
       "      <td>2009</td>\n",
       "      <td>salvage insurance</td>\n",
       "      <td>180364.0</td>\n",
       "      <td>blue</td>\n",
       "      <td>1ftyr10d19pa60391</td>\n",
       "      <td>167360535</td>\n",
       "      <td>tennessee</td>\n",
       "      <td>usa</td>\n",
       "      <td>2 days left</td>\n",
       "    </tr>\n",
       "    <tr>\n",
       "      <th>355</th>\n",
       "      <td>0</td>\n",
       "      <td>ford</td>\n",
       "      <td>door</td>\n",
       "      <td>2009</td>\n",
       "      <td>salvage insurance</td>\n",
       "      <td>184889.0</td>\n",
       "      <td>black</td>\n",
       "      <td>1fahp35n09w109143</td>\n",
       "      <td>167611047</td>\n",
       "      <td>illinois</td>\n",
       "      <td>usa</td>\n",
       "      <td>17 hours left</td>\n",
       "    </tr>\n",
       "    <tr>\n",
       "      <th>370</th>\n",
       "      <td>0</td>\n",
       "      <td>ford</td>\n",
       "      <td>door</td>\n",
       "      <td>1997</td>\n",
       "      <td>salvage insurance</td>\n",
       "      <td>146912.0</td>\n",
       "      <td>green</td>\n",
       "      <td>1ftdf18w8vna61251</td>\n",
       "      <td>167362449</td>\n",
       "      <td>wisconsin</td>\n",
       "      <td>usa</td>\n",
       "      <td>2 days left</td>\n",
       "    </tr>\n",
       "    <tr>\n",
       "      <th>371</th>\n",
       "      <td>0</td>\n",
       "      <td>ford</td>\n",
       "      <td>door</td>\n",
       "      <td>1998</td>\n",
       "      <td>salvage insurance</td>\n",
       "      <td>131367.0</td>\n",
       "      <td>white</td>\n",
       "      <td>1ftrf18l7wka62471</td>\n",
       "      <td>167611301</td>\n",
       "      <td>illinois</td>\n",
       "      <td>usa</td>\n",
       "      <td>17 hours left</td>\n",
       "    </tr>\n",
       "    <tr>\n",
       "      <th>391</th>\n",
       "      <td>0</td>\n",
       "      <td>cadillac</td>\n",
       "      <td>coupe</td>\n",
       "      <td>2000</td>\n",
       "      <td>salvage insurance</td>\n",
       "      <td>105169.0</td>\n",
       "      <td>white</td>\n",
       "      <td>1g6el12y9yu148063</td>\n",
       "      <td>167651218</td>\n",
       "      <td>virginia</td>\n",
       "      <td>usa</td>\n",
       "      <td>9 days left</td>\n",
       "    </tr>\n",
       "    <tr>\n",
       "      <th>400</th>\n",
       "      <td>0</td>\n",
       "      <td>buick</td>\n",
       "      <td>door</td>\n",
       "      <td>2006</td>\n",
       "      <td>salvage insurance</td>\n",
       "      <td>137464.0</td>\n",
       "      <td>blue</td>\n",
       "      <td>2g4wc582961163677</td>\n",
       "      <td>167651221</td>\n",
       "      <td>virginia</td>\n",
       "      <td>usa</td>\n",
       "      <td>9 days left</td>\n",
       "    </tr>\n",
       "    <tr>\n",
       "      <th>410</th>\n",
       "      <td>0</td>\n",
       "      <td>chevrolet</td>\n",
       "      <td>door</td>\n",
       "      <td>1995</td>\n",
       "      <td>salvage insurance</td>\n",
       "      <td>274706.0</td>\n",
       "      <td>green</td>\n",
       "      <td>2gcec19h8s1195266</td>\n",
       "      <td>167425634</td>\n",
       "      <td>arizona</td>\n",
       "      <td>usa</td>\n",
       "      <td>2 days left</td>\n",
       "    </tr>\n",
       "    <tr>\n",
       "      <th>419</th>\n",
       "      <td>0</td>\n",
       "      <td>kia</td>\n",
       "      <td>wagon</td>\n",
       "      <td>2008</td>\n",
       "      <td>salvage insurance</td>\n",
       "      <td>148463.0</td>\n",
       "      <td>silver</td>\n",
       "      <td>knafg525787197602</td>\n",
       "      <td>167247592</td>\n",
       "      <td>indiana</td>\n",
       "      <td>usa</td>\n",
       "      <td>16 hours left</td>\n",
       "    </tr>\n",
       "    <tr>\n",
       "      <th>420</th>\n",
       "      <td>0</td>\n",
       "      <td>audi</td>\n",
       "      <td>door</td>\n",
       "      <td>2005</td>\n",
       "      <td>salvage insurance</td>\n",
       "      <td>181896.0</td>\n",
       "      <td>black</td>\n",
       "      <td>waudg74f05n113751</td>\n",
       "      <td>167419563</td>\n",
       "      <td>california</td>\n",
       "      <td>usa</td>\n",
       "      <td>19 hours left</td>\n",
       "    </tr>\n",
       "    <tr>\n",
       "      <th>421</th>\n",
       "      <td>0</td>\n",
       "      <td>bmw</td>\n",
       "      <td>door</td>\n",
       "      <td>2000</td>\n",
       "      <td>salvage insurance</td>\n",
       "      <td>216657.0</td>\n",
       "      <td>gray</td>\n",
       "      <td>wbaam3346yfp77118</td>\n",
       "      <td>167425906</td>\n",
       "      <td>utah</td>\n",
       "      <td>usa</td>\n",
       "      <td>2 days left</td>\n",
       "    </tr>\n",
       "    <tr>\n",
       "      <th>435</th>\n",
       "      <td>0</td>\n",
       "      <td>ford</td>\n",
       "      <td>door</td>\n",
       "      <td>2004</td>\n",
       "      <td>salvage insurance</td>\n",
       "      <td>167011.0</td>\n",
       "      <td>red</td>\n",
       "      <td>1fmfu18l84lb61201</td>\n",
       "      <td>167601555</td>\n",
       "      <td>maryland</td>\n",
       "      <td>usa</td>\n",
       "      <td>16 hours left</td>\n",
       "    </tr>\n",
       "    <tr>\n",
       "      <th>443</th>\n",
       "      <td>0</td>\n",
       "      <td>chevrolet</td>\n",
       "      <td>coupe</td>\n",
       "      <td>2008</td>\n",
       "      <td>salvage insurance</td>\n",
       "      <td>270080.0</td>\n",
       "      <td>yellow</td>\n",
       "      <td>1g1al18f187245041</td>\n",
       "      <td>167650422</td>\n",
       "      <td>illinois</td>\n",
       "      <td>usa</td>\n",
       "      <td>17 hours left</td>\n",
       "    </tr>\n",
       "    <tr>\n",
       "      <th>455</th>\n",
       "      <td>0</td>\n",
       "      <td>chevrolet</td>\n",
       "      <td>door</td>\n",
       "      <td>2006</td>\n",
       "      <td>salvage insurance</td>\n",
       "      <td>268040.0</td>\n",
       "      <td>silver</td>\n",
       "      <td>1g1zt53f46f254868</td>\n",
       "      <td>167650486</td>\n",
       "      <td>texas</td>\n",
       "      <td>usa</td>\n",
       "      <td>17 hours left</td>\n",
       "    </tr>\n",
       "    <tr>\n",
       "      <th>496</th>\n",
       "      <td>0</td>\n",
       "      <td>ford</td>\n",
       "      <td>pickup</td>\n",
       "      <td>1996</td>\n",
       "      <td>salvage insurance</td>\n",
       "      <td>252588.0</td>\n",
       "      <td>red</td>\n",
       "      <td>1ftef15n0tlc14455</td>\n",
       "      <td>167357804</td>\n",
       "      <td>oklahoma</td>\n",
       "      <td>usa</td>\n",
       "      <td>17 hours left</td>\n",
       "    </tr>\n",
       "    <tr>\n",
       "      <th>506</th>\n",
       "      <td>0</td>\n",
       "      <td>chevrolet</td>\n",
       "      <td>door</td>\n",
       "      <td>2012</td>\n",
       "      <td>salvage insurance</td>\n",
       "      <td>134938.0</td>\n",
       "      <td>orange</td>\n",
       "      <td>1g1jc5sh7c4114661</td>\n",
       "      <td>167650604</td>\n",
       "      <td>oklahoma</td>\n",
       "      <td>usa</td>\n",
       "      <td>17 hours left</td>\n",
       "    </tr>\n",
       "    <tr>\n",
       "      <th>510</th>\n",
       "      <td>0</td>\n",
       "      <td>ford</td>\n",
       "      <td>door</td>\n",
       "      <td>2010</td>\n",
       "      <td>salvage insurance</td>\n",
       "      <td>86841.0</td>\n",
       "      <td>silver</td>\n",
       "      <td>3fahp0ga3ar366961</td>\n",
       "      <td>167357806</td>\n",
       "      <td>oklahoma</td>\n",
       "      <td>usa</td>\n",
       "      <td>17 hours left</td>\n",
       "    </tr>\n",
       "    <tr>\n",
       "      <th>514</th>\n",
       "      <td>0</td>\n",
       "      <td>lincoln</td>\n",
       "      <td>door</td>\n",
       "      <td>2005</td>\n",
       "      <td>salvage insurance</td>\n",
       "      <td>89705.0</td>\n",
       "      <td>green</td>\n",
       "      <td>1lnhm87a25y619997</td>\n",
       "      <td>167154617</td>\n",
       "      <td>minnesota</td>\n",
       "      <td>usa</td>\n",
       "      <td>17 hours left</td>\n",
       "    </tr>\n",
       "    <tr>\n",
       "      <th>516</th>\n",
       "      <td>0</td>\n",
       "      <td>peterbilt</td>\n",
       "      <td>truck</td>\n",
       "      <td>2009</td>\n",
       "      <td>salvage insurance</td>\n",
       "      <td>982486.0</td>\n",
       "      <td>blue</td>\n",
       "      <td>1xp7d49x09d784257</td>\n",
       "      <td>167529788</td>\n",
       "      <td>florida</td>\n",
       "      <td>usa</td>\n",
       "      <td>17 hours left</td>\n",
       "    </tr>\n",
       "    <tr>\n",
       "      <th>522</th>\n",
       "      <td>0</td>\n",
       "      <td>ford</td>\n",
       "      <td>door</td>\n",
       "      <td>2008</td>\n",
       "      <td>salvage insurance</td>\n",
       "      <td>145483.0</td>\n",
       "      <td>red</td>\n",
       "      <td>1fmcu03128kc80487</td>\n",
       "      <td>167357813</td>\n",
       "      <td>oklahoma</td>\n",
       "      <td>usa</td>\n",
       "      <td>17 hours left</td>\n",
       "    </tr>\n",
       "    <tr>\n",
       "      <th>530</th>\n",
       "      <td>0</td>\n",
       "      <td>chevrolet</td>\n",
       "      <td>door</td>\n",
       "      <td>2003</td>\n",
       "      <td>salvage insurance</td>\n",
       "      <td>194673.0</td>\n",
       "      <td>gray</td>\n",
       "      <td>1gndt13s632267445</td>\n",
       "      <td>167650636</td>\n",
       "      <td>texas</td>\n",
       "      <td>usa</td>\n",
       "      <td>17 hours left</td>\n",
       "    </tr>\n",
       "    <tr>\n",
       "      <th>545</th>\n",
       "      <td>0</td>\n",
       "      <td>gmc</td>\n",
       "      <td>door</td>\n",
       "      <td>1993</td>\n",
       "      <td>salvage insurance</td>\n",
       "      <td>0.0</td>\n",
       "      <td>light blue</td>\n",
       "      <td>1gkfk16k5pj701631</td>\n",
       "      <td>167358601</td>\n",
       "      <td>colorado</td>\n",
       "      <td>usa</td>\n",
       "      <td>18 hours left</td>\n",
       "    </tr>\n",
       "  </tbody>\n",
       "</table>\n",
       "</div>"
      ],
      "text/plain": [
       "     price      brand     model  year       title_status   mileage  \\\n",
       "141      0      dodge       van  2008  salvage insurance  177948.0   \n",
       "144      0      dodge      door  2014  salvage insurance  123660.0   \n",
       "196      0       ford       mpv  2017      clean vehicle   76858.0   \n",
       "285      0       ford      door  2000  salvage insurance  124969.0   \n",
       "290      0      mazda      door  2009  salvage insurance  117541.0   \n",
       "293      0  chevrolet    pickup  1998  salvage insurance  258631.0   \n",
       "297      0      honda      door  2003  salvage insurance  152608.0   \n",
       "305      0       ford      door  2003  salvage insurance  246065.0   \n",
       "309      0  chevrolet      door  2004  salvage insurance       0.0   \n",
       "310      0  chevrolet      door  2003  salvage insurance  194673.0   \n",
       "313      0       ford       van  1998  salvage insurance  186855.0   \n",
       "314      0       ford      door  2013  salvage insurance   94004.0   \n",
       "318      0  chevrolet      door  2009  salvage insurance  117059.0   \n",
       "322      0       ford   chassis  1994  salvage insurance       0.0   \n",
       "323      0       ford      door  1997  salvage insurance  203297.0   \n",
       "330      0       ford      door  1996  salvage insurance  296860.0   \n",
       "331      0       ford      door  2006  salvage insurance  203158.0   \n",
       "339      0       ford      door  2002  salvage insurance  214800.0   \n",
       "344      0  chevrolet      door  2010  salvage insurance  137422.0   \n",
       "347      0        gmc      door  2004  salvage insurance  235348.0   \n",
       "349      0  heartland  sundance  2009      clean vehicle       1.0   \n",
       "351      0  chevrolet      door  2008  salvage insurance  159266.0   \n",
       "354      0       ford    pickup  2009  salvage insurance  180364.0   \n",
       "355      0       ford      door  2009  salvage insurance  184889.0   \n",
       "370      0       ford      door  1997  salvage insurance  146912.0   \n",
       "371      0       ford      door  1998  salvage insurance  131367.0   \n",
       "391      0   cadillac     coupe  2000  salvage insurance  105169.0   \n",
       "400      0      buick      door  2006  salvage insurance  137464.0   \n",
       "410      0  chevrolet      door  1995  salvage insurance  274706.0   \n",
       "419      0        kia     wagon  2008  salvage insurance  148463.0   \n",
       "420      0       audi      door  2005  salvage insurance  181896.0   \n",
       "421      0        bmw      door  2000  salvage insurance  216657.0   \n",
       "435      0       ford      door  2004  salvage insurance  167011.0   \n",
       "443      0  chevrolet     coupe  2008  salvage insurance  270080.0   \n",
       "455      0  chevrolet      door  2006  salvage insurance  268040.0   \n",
       "496      0       ford    pickup  1996  salvage insurance  252588.0   \n",
       "506      0  chevrolet      door  2012  salvage insurance  134938.0   \n",
       "510      0       ford      door  2010  salvage insurance   86841.0   \n",
       "514      0    lincoln      door  2005  salvage insurance   89705.0   \n",
       "516      0  peterbilt     truck  2009  salvage insurance  982486.0   \n",
       "522      0       ford      door  2008  salvage insurance  145483.0   \n",
       "530      0  chevrolet      door  2003  salvage insurance  194673.0   \n",
       "545      0        gmc      door  1993  salvage insurance       0.0   \n",
       "\n",
       "          color                  vin        lot           state country  \\\n",
       "141      orange    2d8hn44h88r669549  167756157            utah     usa   \n",
       "144      silver    1c3cdzab0en111068  167756167            utah     usa   \n",
       "196       white    1fbax2cv0hkb32599  167656523           texas     usa   \n",
       "285       black    1fafp34p7yw270338  167251902        oklahoma     usa   \n",
       "290        gray    jm3er293590215768  167543177         indiana     usa   \n",
       "293        gray    1gccs1445wk226994  167417659           texas     usa   \n",
       "297       white    1hgcm56363a030975  167552893        arkansas     usa   \n",
       "305        gold    1fafp55u03a242094  167610324          kansas     usa   \n",
       "309      maroon    3gnek12t74g240524  167418651         wyoming     usa   \n",
       "310        gray    1gndt13s632267445  167650636           texas     usa   \n",
       "313        blue    2fmda5143wba16791  167359170      california     usa   \n",
       "314       black    3fa6p0h74dr270819  167610728       minnesota     usa   \n",
       "318       black    kl1td66e39b645208  167418694        colorado     usa   \n",
       "322       green    1fdee14n7rha47894  167359174      california     usa   \n",
       "323       green    1fmdu35p7vub38059  167610731       minnesota     usa   \n",
       "330       green    1falp62w5th144314  167359712      california     usa   \n",
       "331         red    1fmzk04136ga07119  167610991        illinois     usa   \n",
       "339       black    3fafp37372r151014  167360232  south carolina     usa   \n",
       "344         red    2cnflnew5a6355858  167650683        colorado     usa   \n",
       "347        gold    1gket16s646227597  167360322  south carolina     usa   \n",
       "349       white    5sfgf29269e031344  167266321    pennsylvania     usa   \n",
       "351        gray    2g1wb58kx81220813  167650796      california     usa   \n",
       "354        blue    1ftyr10d19pa60391  167360535       tennessee     usa   \n",
       "355       black    1fahp35n09w109143  167611047        illinois     usa   \n",
       "370       green    1ftdf18w8vna61251  167362449       wisconsin     usa   \n",
       "371       white    1ftrf18l7wka62471  167611301        illinois     usa   \n",
       "391       white    1g6el12y9yu148063  167651218        virginia     usa   \n",
       "400        blue    2g4wc582961163677  167651221        virginia     usa   \n",
       "410       green    2gcec19h8s1195266  167425634         arizona     usa   \n",
       "419      silver    knafg525787197602  167247592         indiana     usa   \n",
       "420       black    waudg74f05n113751  167419563      california     usa   \n",
       "421        gray    wbaam3346yfp77118  167425906            utah     usa   \n",
       "435         red    1fmfu18l84lb61201  167601555        maryland     usa   \n",
       "443      yellow    1g1al18f187245041  167650422        illinois     usa   \n",
       "455      silver    1g1zt53f46f254868  167650486           texas     usa   \n",
       "496         red    1ftef15n0tlc14455  167357804        oklahoma     usa   \n",
       "506      orange    1g1jc5sh7c4114661  167650604        oklahoma     usa   \n",
       "510      silver    3fahp0ga3ar366961  167357806        oklahoma     usa   \n",
       "514       green    1lnhm87a25y619997  167154617       minnesota     usa   \n",
       "516        blue    1xp7d49x09d784257  167529788         florida     usa   \n",
       "522         red    1fmcu03128kc80487  167357813        oklahoma     usa   \n",
       "530        gray    1gndt13s632267445  167650636           texas     usa   \n",
       "545  light blue    1gkfk16k5pj701631  167358601        colorado     usa   \n",
       "\n",
       "         condition  \n",
       "141    2 days left  \n",
       "144    2 days left  \n",
       "196    2 days left  \n",
       "285  17 hours left  \n",
       "290  16 hours left  \n",
       "293  17 hours left  \n",
       "297  17 hours left  \n",
       "305    8 days left  \n",
       "309  18 hours left  \n",
       "310  18 hours left  \n",
       "313  19 hours left  \n",
       "314  17 hours left  \n",
       "318  18 hours left  \n",
       "322  19 hours left  \n",
       "323  17 hours left  \n",
       "330  19 hours left  \n",
       "331  17 hours left  \n",
       "339    2 days left  \n",
       "344  18 hours left  \n",
       "347    2 days left  \n",
       "349    7 days left  \n",
       "351  19 hours left  \n",
       "354    2 days left  \n",
       "355  17 hours left  \n",
       "370    2 days left  \n",
       "371  17 hours left  \n",
       "391    9 days left  \n",
       "400    9 days left  \n",
       "410    2 days left  \n",
       "419  16 hours left  \n",
       "420  19 hours left  \n",
       "421    2 days left  \n",
       "435  16 hours left  \n",
       "443  17 hours left  \n",
       "455  17 hours left  \n",
       "496  17 hours left  \n",
       "506  17 hours left  \n",
       "510  17 hours left  \n",
       "514  17 hours left  \n",
       "516  17 hours left  \n",
       "522  17 hours left  \n",
       "530  17 hours left  \n",
       "545  18 hours left  "
      ]
     },
     "execution_count": 7,
     "metadata": {},
     "output_type": "execute_result"
    }
   ],
   "source": [
    "df[(df.price == 0)]"
   ]
  },
  {
   "cell_type": "markdown",
   "id": "2ff8e133",
   "metadata": {},
   "source": [
    "* They are all salvage insurance, and there are many transaction for very small amoounts (below 1000). Maybe they actually got sold for 0, so we'll keep them\n",
    "* Also not quite clear where to do the cutoff because of the sales with small amounts (values like 25, 75, ...)"
   ]
  },
  {
   "cell_type": "code",
   "execution_count": 8,
   "id": "11105666",
   "metadata": {
    "scrolled": false
   },
   "outputs": [
    {
     "data": {
      "text/html": [
       "<div>\n",
       "<style scoped>\n",
       "    .dataframe tbody tr th:only-of-type {\n",
       "        vertical-align: middle;\n",
       "    }\n",
       "\n",
       "    .dataframe tbody tr th {\n",
       "        vertical-align: top;\n",
       "    }\n",
       "\n",
       "    .dataframe thead th {\n",
       "        text-align: right;\n",
       "    }\n",
       "</style>\n",
       "<table border=\"1\" class=\"dataframe\">\n",
       "  <thead>\n",
       "    <tr style=\"text-align: right;\">\n",
       "      <th></th>\n",
       "      <th>ford</th>\n",
       "      <th>chevrolet</th>\n",
       "      <th>dodge</th>\n",
       "      <th>gmc</th>\n",
       "      <th>mazda</th>\n",
       "      <th>honda</th>\n",
       "      <th>heartland</th>\n",
       "      <th>cadillac</th>\n",
       "      <th>buick</th>\n",
       "      <th>kia</th>\n",
       "      <th>audi</th>\n",
       "      <th>bmw</th>\n",
       "      <th>lincoln</th>\n",
       "      <th>peterbilt</th>\n",
       "    </tr>\n",
       "  </thead>\n",
       "  <tbody>\n",
       "    <tr>\n",
       "      <th>brand</th>\n",
       "      <td>18</td>\n",
       "      <td>11</td>\n",
       "      <td>2</td>\n",
       "      <td>2</td>\n",
       "      <td>1</td>\n",
       "      <td>1</td>\n",
       "      <td>1</td>\n",
       "      <td>1</td>\n",
       "      <td>1</td>\n",
       "      <td>1</td>\n",
       "      <td>1</td>\n",
       "      <td>1</td>\n",
       "      <td>1</td>\n",
       "      <td>1</td>\n",
       "    </tr>\n",
       "    <tr>\n",
       "      <th>Unnamed 0</th>\n",
       "      <td>1235</td>\n",
       "      <td>297</td>\n",
       "      <td>432</td>\n",
       "      <td>42</td>\n",
       "      <td>2</td>\n",
       "      <td>12</td>\n",
       "      <td>5</td>\n",
       "      <td>10</td>\n",
       "      <td>13</td>\n",
       "      <td>13</td>\n",
       "      <td>4</td>\n",
       "      <td>17</td>\n",
       "      <td>2</td>\n",
       "      <td>4</td>\n",
       "    </tr>\n",
       "  </tbody>\n",
       "</table>\n",
       "</div>"
      ],
      "text/plain": [
       "           ford  chevrolet  dodge  gmc  mazda  honda  heartland  cadillac  \\\n",
       "brand        18         11      2    2      1      1          1         1   \n",
       "Unnamed 0  1235        297    432   42      2     12          5        10   \n",
       "\n",
       "           buick  kia  audi  bmw  lincoln  peterbilt  \n",
       "brand          1    1     1    1        1          1  \n",
       "Unnamed 0     13   13     4   17        2          4  "
      ]
     },
     "execution_count": 8,
     "metadata": {},
     "output_type": "execute_result"
    }
   ],
   "source": [
    "pd.DataFrame([df[df.price==0].brand.value_counts(), df[df.brand.apply(lambda x: x in df[df.price==0].brand.unique())].groupby('brand', axis=0).apply(lambda x: len(x))])"
   ]
  },
  {
   "cell_type": "code",
   "execution_count": 9,
   "id": "b9f85c6f",
   "metadata": {},
   "outputs": [
    {
     "name": "stdout",
     "output_type": "stream",
     "text": [
      "column brand, 28 unique values\n",
      "column model, 127 unique values\n",
      "column title_status, 2 unique values\n",
      "column color, 49 unique values\n",
      "column vin, 2495 unique values\n",
      "column state, 44 unique values\n",
      "column country, 2 unique values\n",
      "column condition, 47 unique values\n"
     ]
    }
   ],
   "source": [
    "for col in [categorical for categorical in df.columns if categorical not in df.describe().columns]:\n",
    "    print(f'column {col}, {len(df[col].unique())} unique values')"
   ]
  },
  {
   "cell_type": "markdown",
   "id": "616b7836",
   "metadata": {},
   "source": [
    "We can get rid of the variable vin, as it is almost unique for each entry, and judging from the table above it is something similar to a serial number."
   ]
  },
  {
   "cell_type": "code",
   "execution_count": 10,
   "id": "998d532b",
   "metadata": {},
   "outputs": [
    {
     "data": {
      "text/plain": [
       "2495"
      ]
     },
     "execution_count": 10,
     "metadata": {},
     "output_type": "execute_result"
    }
   ],
   "source": [
    "len(df.lot.unique())"
   ]
  },
  {
   "cell_type": "markdown",
   "id": "299f6b67",
   "metadata": {},
   "source": [
    "* As thought, lot is not a useful variable, so we'll get rid of it as well.\n",
    "\n",
    "* Regarding the categorical variables, most have a lot of categories, and only title_status and condition seem easily ordinable. The rest should be one-hot encoded in order for the to be fed into the regression, although that will heavily increase the number of variables.\n",
    "\n",
    "* Wit a regression with variable selection (LASSO) we might find out that some of these categories are only important when they take certain variables (i.e., only certain brands of cars)"
   ]
  },
  {
   "cell_type": "code",
   "execution_count": 11,
   "id": "bc0de7f4",
   "metadata": {},
   "outputs": [],
   "source": [
    "df.drop(['vin', 'lot'], axis=1, inplace=True)"
   ]
  },
  {
   "cell_type": "markdown",
   "id": "63eb0bac",
   "metadata": {},
   "source": [
    "#### Categorical Variables"
   ]
  },
  {
   "cell_type": "code",
   "execution_count": 12,
   "id": "0b31733d",
   "metadata": {},
   "outputs": [
    {
     "data": {
      "text/plain": [
       "array(['clean vehicle', 'salvage insurance'], dtype=object)"
      ]
     },
     "execution_count": 12,
     "metadata": {},
     "output_type": "execute_result"
    }
   ],
   "source": [
    "df.title_status.unique()"
   ]
  },
  {
   "cell_type": "code",
   "execution_count": 13,
   "id": "e4458e05",
   "metadata": {
    "scrolled": true
   },
   "outputs": [
    {
     "data": {
      "text/plain": [
       "array(['10 days left', '6 days left', '2 days left', '22 hours left',\n",
       "       '20 hours left', '19 hours left', '3 days left', '21 hours left',\n",
       "       '17 hours left', '2 hours left', '3 hours left', '34 minutes',\n",
       "       '16 hours left', '18 hours left', '1 days left', '32 minutes',\n",
       "       '14 hours left', '5 hours left', '4 days left', '9 days left',\n",
       "       '23 hours left', '8 days left', '7 days left', '5 days left',\n",
       "       '9 minutes', '1 minutes', '7 hours left', '16 minutes',\n",
       "       '6 hours left', '1 hours left', 'Listing Expired', '13 days left',\n",
       "       '24 hours left', '15 hours left', '53 minutes', '27 minutes',\n",
       "       '12 days left', '15 days left', '30 minutes', '29 minutes',\n",
       "       '28 minutes', '48 minutes', '11 days left', '4 hours left',\n",
       "       '47 minutes', '12 hours left', '36 minutes'], dtype=object)"
      ]
     },
     "execution_count": 13,
     "metadata": {},
     "output_type": "execute_result"
    }
   ],
   "source": [
    "df.condition.unique()"
   ]
  },
  {
   "cell_type": "markdown",
   "id": "a702d0b1",
   "metadata": {},
   "source": [
    "* title_status is not quite ordinable\n",
    "* condition can be turned into a numeric variable, we'll choose the unit as minutes"
   ]
  },
  {
   "cell_type": "code",
   "execution_count": 14,
   "id": "24f9b4db",
   "metadata": {},
   "outputs": [
    {
     "data": {
      "text/plain": [
       "ford               0.494198\n",
       "dodge              0.172869\n",
       "nissan             0.124850\n",
       "chevrolet          0.118848\n",
       "gmc                0.016807\n",
       "jeep               0.012005\n",
       "chrysler           0.007203\n",
       "bmw                0.006803\n",
       "hyundai            0.006002\n",
       "kia                0.005202\n",
       "buick              0.005202\n",
       "infiniti           0.004802\n",
       "honda              0.004802\n",
       "cadillac           0.004002\n",
       "mercedes-benz      0.004002\n",
       "heartland          0.002001\n",
       "land               0.001601\n",
       "peterbilt          0.001601\n",
       "audi               0.001601\n",
       "acura              0.001200\n",
       "lincoln            0.000800\n",
       "lexus              0.000800\n",
       "mazda              0.000800\n",
       "maserati           0.000400\n",
       "toyota             0.000400\n",
       "harley-davidson    0.000400\n",
       "jaguar             0.000400\n",
       "ram                0.000400\n",
       "Name: brand, dtype: float64"
      ]
     },
     "execution_count": 14,
     "metadata": {},
     "output_type": "execute_result"
    }
   ],
   "source": [
    "brand_freq = df.brand.value_counts().apply(lambda x: x / df.shape[0])\n",
    "brand_freq"
   ]
  },
  {
   "cell_type": "markdown",
   "id": "6bebe517",
   "metadata": {},
   "source": [
    "## Reformat Variables"
   ]
  },
  {
   "cell_type": "markdown",
   "id": "33cb2318",
   "metadata": {},
   "source": [
    "#### Condition"
   ]
  },
  {
   "cell_type": "markdown",
   "id": "140fc294",
   "metadata": {},
   "source": [
    "We'll begin by converting the condition variable into a numerical one, measured in minutes, as mentioned above."
   ]
  },
  {
   "cell_type": "code",
   "execution_count": 15,
   "id": "199e12ec",
   "metadata": {},
   "outputs": [],
   "source": [
    "def convert_condition(string):\n",
    "    convert = ''\n",
    "    min_count = 0\n",
    "\n",
    "    for i, e in enumerate(string):\n",
    "        try:\n",
    "            int(e)\n",
    "\n",
    "        except ValueError:\n",
    "            if (i == len(string)-1):\n",
    "                break\n",
    "            if convert != '':                \n",
    "                if string[i+1] == 'd':\n",
    "                    min_count += (int(convert) * 24 * 60)\n",
    "                elif string[i+1] == 'h':\n",
    "                    min_count += (int(convert) * 60)\n",
    "                elif string[i+1] == 'm':\n",
    "                    min_count += (int(convert))\n",
    "            convert = ''\n",
    "\n",
    "        else:\n",
    "            convert = convert + e\n",
    "            \n",
    "    return min_count"
   ]
  },
  {
   "cell_type": "code",
   "execution_count": 16,
   "id": "b2b8c7ac",
   "metadata": {},
   "outputs": [],
   "source": [
    "df['condition'] = df['condition'].apply(convert_condition)"
   ]
  },
  {
   "cell_type": "markdown",
   "id": "fe28012b",
   "metadata": {},
   "source": [
    "#### Title Status"
   ]
  },
  {
   "cell_type": "code",
   "execution_count": 17,
   "id": "c04c523d",
   "metadata": {},
   "outputs": [
    {
     "data": {
      "text/plain": [
       "array(['clean vehicle', 'salvage insurance'], dtype=object)"
      ]
     },
     "execution_count": 17,
     "metadata": {},
     "output_type": "execute_result"
    }
   ],
   "source": [
    "df.title_status.unique()"
   ]
  },
  {
   "cell_type": "code",
   "execution_count": 18,
   "id": "df115108",
   "metadata": {},
   "outputs": [],
   "source": [
    "df.loc[df.loc[:, 'title_status'] == 'clean vehicle', 'title_status'] = 1\n",
    "df.loc[df.loc[:, 'title_status'] == 'salvage insurance', 'title_status'] = 0\n",
    "df.title_status = pd.to_numeric(df.title_status)"
   ]
  },
  {
   "cell_type": "markdown",
   "id": "a4e1f603",
   "metadata": {},
   "source": [
    "#### Country"
   ]
  },
  {
   "cell_type": "code",
   "execution_count": 19,
   "id": "c8403ca3",
   "metadata": {
    "scrolled": true
   },
   "outputs": [
    {
     "data": {
      "text/plain": [
       "array([' usa', ' canada'], dtype=object)"
      ]
     },
     "execution_count": 19,
     "metadata": {},
     "output_type": "execute_result"
    }
   ],
   "source": [
    "df.country.unique()"
   ]
  },
  {
   "cell_type": "markdown",
   "id": "5d7835fd",
   "metadata": {},
   "source": [
    "Since there's only 2 countries and (almost) all US states we can make one single variable out of both we call region, with US states and Canada in it."
   ]
  },
  {
   "cell_type": "code",
   "execution_count": 20,
   "id": "80cc85a4",
   "metadata": {
    "scrolled": true
   },
   "outputs": [
    {
     "data": {
      "text/plain": [
       " usa       0.997199\n",
       " canada    0.002801\n",
       "Name: country, dtype: float64"
      ]
     },
     "execution_count": 20,
     "metadata": {},
     "output_type": "execute_result"
    }
   ],
   "source": [
    "country_freq = df.country.value_counts().apply(lambda x: x / df.shape[0])\n",
    "country_freq"
   ]
  },
  {
   "cell_type": "code",
   "execution_count": 21,
   "id": "44c7a533",
   "metadata": {},
   "outputs": [
    {
     "data": {
      "text/plain": [
       "33"
      ]
     },
     "execution_count": 21,
     "metadata": {},
     "output_type": "execute_result"
    }
   ],
   "source": [
    "state_freq = df.state.value_counts().apply(lambda x: x / df.shape[0])\n",
    "sum(state_freq > country_freq[1])"
   ]
  },
  {
   "cell_type": "code",
   "execution_count": 22,
   "id": "8b2b2ed2",
   "metadata": {
    "scrolled": true
   },
   "outputs": [
    {
     "data": {
      "text/html": [
       "<div>\n",
       "<style scoped>\n",
       "    .dataframe tbody tr th:only-of-type {\n",
       "        vertical-align: middle;\n",
       "    }\n",
       "\n",
       "    .dataframe tbody tr th {\n",
       "        vertical-align: top;\n",
       "    }\n",
       "\n",
       "    .dataframe thead th {\n",
       "        text-align: right;\n",
       "    }\n",
       "</style>\n",
       "<table border=\"1\" class=\"dataframe\">\n",
       "  <thead>\n",
       "    <tr style=\"text-align: right;\">\n",
       "      <th></th>\n",
       "      <th>price</th>\n",
       "      <th>brand</th>\n",
       "      <th>model</th>\n",
       "      <th>year</th>\n",
       "      <th>title_status</th>\n",
       "      <th>mileage</th>\n",
       "      <th>color</th>\n",
       "      <th>state</th>\n",
       "      <th>country</th>\n",
       "      <th>condition</th>\n",
       "    </tr>\n",
       "  </thead>\n",
       "  <tbody>\n",
       "    <tr>\n",
       "      <th>261</th>\n",
       "      <td>33000</td>\n",
       "      <td>chevrolet</td>\n",
       "      <td>1500</td>\n",
       "      <td>2018</td>\n",
       "      <td>1</td>\n",
       "      <td>52521.0</td>\n",
       "      <td>white</td>\n",
       "      <td>ontario</td>\n",
       "      <td>canada</td>\n",
       "      <td>14400</td>\n",
       "    </tr>\n",
       "    <tr>\n",
       "      <th>813</th>\n",
       "      <td>30000</td>\n",
       "      <td>dodge</td>\n",
       "      <td>charger</td>\n",
       "      <td>2019</td>\n",
       "      <td>1</td>\n",
       "      <td>43294.0</td>\n",
       "      <td>white</td>\n",
       "      <td>ontario</td>\n",
       "      <td>canada</td>\n",
       "      <td>14400</td>\n",
       "    </tr>\n",
       "    <tr>\n",
       "      <th>814</th>\n",
       "      <td>30000</td>\n",
       "      <td>dodge</td>\n",
       "      <td>charger</td>\n",
       "      <td>2019</td>\n",
       "      <td>1</td>\n",
       "      <td>54309.0</td>\n",
       "      <td>orange</td>\n",
       "      <td>ontario</td>\n",
       "      <td>canada</td>\n",
       "      <td>14400</td>\n",
       "    </tr>\n",
       "    <tr>\n",
       "      <th>815</th>\n",
       "      <td>30000</td>\n",
       "      <td>dodge</td>\n",
       "      <td>charger</td>\n",
       "      <td>2019</td>\n",
       "      <td>1</td>\n",
       "      <td>52822.0</td>\n",
       "      <td>white</td>\n",
       "      <td>ontario</td>\n",
       "      <td>canada</td>\n",
       "      <td>14400</td>\n",
       "    </tr>\n",
       "    <tr>\n",
       "      <th>816</th>\n",
       "      <td>30000</td>\n",
       "      <td>dodge</td>\n",
       "      <td>charger</td>\n",
       "      <td>2019</td>\n",
       "      <td>1</td>\n",
       "      <td>45554.0</td>\n",
       "      <td>white</td>\n",
       "      <td>ontario</td>\n",
       "      <td>canada</td>\n",
       "      <td>14400</td>\n",
       "    </tr>\n",
       "    <tr>\n",
       "      <th>817</th>\n",
       "      <td>30000</td>\n",
       "      <td>dodge</td>\n",
       "      <td>charger</td>\n",
       "      <td>2019</td>\n",
       "      <td>1</td>\n",
       "      <td>37538.0</td>\n",
       "      <td>white</td>\n",
       "      <td>ontario</td>\n",
       "      <td>canada</td>\n",
       "      <td>14400</td>\n",
       "    </tr>\n",
       "    <tr>\n",
       "      <th>818</th>\n",
       "      <td>29500</td>\n",
       "      <td>dodge</td>\n",
       "      <td>charger</td>\n",
       "      <td>2019</td>\n",
       "      <td>1</td>\n",
       "      <td>35153.0</td>\n",
       "      <td>red</td>\n",
       "      <td>ontario</td>\n",
       "      <td>canada</td>\n",
       "      <td>14400</td>\n",
       "    </tr>\n",
       "  </tbody>\n",
       "</table>\n",
       "</div>"
      ],
      "text/plain": [
       "     price      brand    model  year  title_status  mileage   color    state  \\\n",
       "261  33000  chevrolet     1500  2018             1  52521.0   white  ontario   \n",
       "813  30000      dodge  charger  2019             1  43294.0   white  ontario   \n",
       "814  30000      dodge  charger  2019             1  54309.0  orange  ontario   \n",
       "815  30000      dodge  charger  2019             1  52822.0   white  ontario   \n",
       "816  30000      dodge  charger  2019             1  45554.0   white  ontario   \n",
       "817  30000      dodge  charger  2019             1  37538.0   white  ontario   \n",
       "818  29500      dodge  charger  2019             1  35153.0     red  ontario   \n",
       "\n",
       "     country  condition  \n",
       "261   canada      14400  \n",
       "813   canada      14400  \n",
       "814   canada      14400  \n",
       "815   canada      14400  \n",
       "816   canada      14400  \n",
       "817   canada      14400  \n",
       "818   canada      14400  "
      ]
     },
     "execution_count": 22,
     "metadata": {},
     "output_type": "execute_result"
    }
   ],
   "source": [
    "df[df.country==' canada']"
   ]
  },
  {
   "cell_type": "markdown",
   "id": "a71b885a",
   "metadata": {},
   "source": [
    "Canada would be on the position 33 end of regions. Because all Canadian transactions happened in the sate of Ontario we can just get rid of the country column and leave Ontario"
   ]
  },
  {
   "cell_type": "code",
   "execution_count": 23,
   "id": "ecfb116c",
   "metadata": {},
   "outputs": [],
   "source": [
    "df.drop(columns='country', inplace=True)"
   ]
  },
  {
   "cell_type": "markdown",
   "id": "8ce1a03b",
   "metadata": {},
   "source": [
    "* We are left over with categorical variables brand, model, color and state.\n",
    "* There are 3 options:\n",
    "    - One-hot Encoding\n",
    "    - Number Encoding. This one imposes an arbitrary order in them, but they say it still performs well with random forests so it might be worth a try\n",
    "    - Factor encoding in R, and run a forest there\n"
   ]
  },
  {
   "cell_type": "markdown",
   "id": "9e3dd3f8",
   "metadata": {},
   "source": [
    "### Brand and Model"
   ]
  },
  {
   "cell_type": "code",
   "execution_count": 24,
   "id": "870de3b4",
   "metadata": {},
   "outputs": [],
   "source": [
    "df['brand_model'] = df.brand + '_' + df.model"
   ]
  },
  {
   "cell_type": "code",
   "execution_count": 25,
   "id": "14299d0a",
   "metadata": {},
   "outputs": [
    {
     "data": {
      "text/plain": [
       "127"
      ]
     },
     "execution_count": 25,
     "metadata": {},
     "output_type": "execute_result"
    }
   ],
   "source": [
    "len(df.model.unique())"
   ]
  },
  {
   "cell_type": "code",
   "execution_count": 26,
   "id": "36e41cb9",
   "metadata": {},
   "outputs": [
    {
     "data": {
      "text/plain": [
       "180"
      ]
     },
     "execution_count": 26,
     "metadata": {},
     "output_type": "execute_result"
    }
   ],
   "source": [
    "len(df.brand_model.unique())"
   ]
  },
  {
   "cell_type": "markdown",
   "id": "00679b82",
   "metadata": {},
   "source": [
    "* We have more caregories when joining brand and model than with model separately\n",
    "* It should be the same amount unless there are models from different brands with the same name"
   ]
  },
  {
   "cell_type": "code",
   "execution_count": 27,
   "id": "8622d120",
   "metadata": {},
   "outputs": [
    {
     "name": "stdout",
     "output_type": "stream",
     "text": [
      "These 13:\n",
      " {'van', 'doors', 'coupe', 'cab', 'pk', 'cutaway', 'mpv', '1500', 'cargo', 'pickup', 'sport', 'door', 'wagon'}\n"
     ]
    }
   ],
   "source": [
    "repeated = set()\n",
    "non_repeated = set()\n",
    "for l in df.sort_values('brand', axis=0).groupby('brand', axis=0)['model'].unique():\n",
    "    for i in l:\n",
    "        if i not in non_repeated:\n",
    "            non_repeated.add(i)\n",
    "        else:\n",
    "            repeated.add(i)\n",
    "print(f'These {len(repeated)}:\\n', repeated)"
   ]
  },
  {
   "cell_type": "code",
   "execution_count": 28,
   "id": "5ec20d8c",
   "metadata": {},
   "outputs": [],
   "source": [
    "df.drop(columns=['brand', 'model'], inplace=True)"
   ]
  },
  {
   "cell_type": "code",
   "execution_count": 29,
   "id": "d1b65673",
   "metadata": {},
   "outputs": [
    {
     "data": {
      "text/plain": [
       "Index(['price', 'year', 'title_status', 'mileage', 'color', 'state',\n",
       "       'condition', 'brand_model'],\n",
       "      dtype='object')"
      ]
     },
     "execution_count": 29,
     "metadata": {},
     "output_type": "execute_result"
    }
   ],
   "source": [
    "df.columns"
   ]
  },
  {
   "cell_type": "markdown",
   "id": "e910f65a",
   "metadata": {},
   "source": [
    "## Reduction of Categorical Variables"
   ]
  },
  {
   "cell_type": "markdown",
   "id": "5338b35d",
   "metadata": {},
   "source": [
    "### Decision Trees\n",
    "* Regression Tree\n",
    "* Random Forest\n",
    "* Bagging\n",
    "* Boosting"
   ]
  },
  {
   "cell_type": "code",
   "execution_count": 30,
   "id": "b6d40a87",
   "metadata": {},
   "outputs": [],
   "source": [
    "from sklearn.model_selection import train_test_split\n",
    "from sklearn import preprocessing\n",
    "from sklearn.tree import DecisionTreeRegressor\n",
    "from sklearn.ensemble import RandomForestRegressor\n",
    "from sklearn.ensemble import GradientBoostingRegressor\n",
    "from sklearn.ensemble import BaggingRegressor\n",
    "from sklearn import tree"
   ]
  },
  {
   "cell_type": "code",
   "execution_count": 31,
   "id": "0adc538b",
   "metadata": {
    "scrolled": true
   },
   "outputs": [
    {
     "name": "stdout",
     "output_type": "stream",
     "text": [
      "color 49\n",
      "state 44\n",
      "brand_model 180\n"
     ]
    }
   ],
   "source": [
    "for i in ['color', 'state', 'brand_model']:\n",
    "    print(i, len(df[i].unique()))  "
   ]
  },
  {
   "cell_type": "markdown",
   "id": "f38d0566",
   "metadata": {},
   "source": [
    "We'll try the 4 kinds of imported trees with label encoding and one-hot encoding"
   ]
  },
  {
   "cell_type": "markdown",
   "id": "303ab5fc",
   "metadata": {},
   "source": [
    "### Variable Encoding"
   ]
  },
  {
   "cell_type": "code",
   "execution_count": 32,
   "id": "5aae1699",
   "metadata": {},
   "outputs": [],
   "source": [
    "df_le = df.copy()\n",
    "df_oh = df.copy()"
   ]
  },
  {
   "cell_type": "markdown",
   "id": "a1f3b9a8",
   "metadata": {},
   "source": [
    "#### Label Encoding"
   ]
  },
  {
   "cell_type": "code",
   "execution_count": 33,
   "id": "fb084532",
   "metadata": {},
   "outputs": [],
   "source": [
    "le = preprocessing.LabelEncoder()\n",
    "\n",
    "df_le.brand_model = le.fit_transform(df_le.brand_model)\n",
    "df_le.state = le.fit_transform(df_le.state)\n",
    "df_le.color = le.fit_transform(df_le.color)"
   ]
  },
  {
   "cell_type": "markdown",
   "id": "b535f29c",
   "metadata": {},
   "source": [
    "#### One-hot Encoding"
   ]
  },
  {
   "cell_type": "code",
   "execution_count": 34,
   "id": "6b807bdf",
   "metadata": {},
   "outputs": [],
   "source": [
    "ohe = preprocessing.OneHotEncoder()\n",
    "\n",
    "ohe.fit(df_oh.brand_model.unique().reshape(-1, 1))\n",
    "df_oh = df_oh.join(pd.DataFrame.sparse.from_spmatrix(ohe.transform(np.asarray(df_oh.brand_model).reshape(-1, 1)), columns=ohe.categories_), on=None, how='outer')\n",
    "df_oh.drop(columns=['brand_model'], inplace=True)\n",
    "\n",
    "ohe.fit(df_oh.state.unique().reshape(-1, 1))\n",
    "df_oh = df_oh.join(pd.DataFrame.sparse.from_spmatrix(ohe.transform(np.asarray(df_oh.state).reshape(-1, 1)), columns=ohe.categories_), on=None, how='outer')\n",
    "df_oh.drop(columns=['state'], inplace=True)\n",
    "\n",
    "ohe.fit(df_oh.color.unique().reshape(-1, 1))\n",
    "df_oh = df_oh.join(pd.DataFrame.sparse.from_spmatrix(ohe.transform(np.asarray(df_oh.color).reshape(-1, 1)), columns=ohe.categories_), on=None, how='outer')\n",
    "df_oh.drop(columns=['color'], inplace=True)"
   ]
  },
  {
   "cell_type": "markdown",
   "id": "1d98067f",
   "metadata": {},
   "source": [
    "### Trees with Label Encoding"
   ]
  },
  {
   "cell_type": "code",
   "execution_count": 35,
   "id": "681ee182",
   "metadata": {},
   "outputs": [],
   "source": [
    "from sklearn.model_selection import cross_val_score\n",
    "from sklearn.model_selection import KFold\n",
    "from sklearn.model_selection import StratifiedKFold\n"
   ]
  },
  {
   "cell_type": "code",
   "execution_count": 36,
   "id": "709212cf",
   "metadata": {},
   "outputs": [],
   "source": [
    "X_train, X_test, y_train, y_test = train_test_split(df_le.loc[:, df_le.columns != 'price'], df_le.price, test_size=0.25)"
   ]
  },
  {
   "cell_type": "code",
   "execution_count": 37,
   "id": "2d7d5678",
   "metadata": {},
   "outputs": [],
   "source": [
    "shuffle_5 = KFold(n_splits=5, shuffle=True)\n",
    "strat_shuffle_5 = StratifiedKFold(n_splits=5, shuffle=True)"
   ]
  },
  {
   "cell_type": "markdown",
   "id": "11193809",
   "metadata": {},
   "source": [
    "#### Regression Tree"
   ]
  },
  {
   "cell_type": "code",
   "execution_count": 38,
   "id": "26b570ae",
   "metadata": {},
   "outputs": [
    {
     "name": "stdout",
     "output_type": "stream",
     "text": [
      "scores: [0.51442118 0.48375041 0.45918667 0.54359176 0.46121746]\n",
      "average 0.4924334977093701\n",
      "std: 0.03242164089755465\n"
     ]
    }
   ],
   "source": [
    "regression_tree = DecisionTreeRegressor(random_state=0, min_samples_leaf=20)\n",
    "reg_tree_scores = cross_val_score(regression_tree, df_le.loc[:, df_le.columns != 'price'], df_le.price, cv=shuffle_5)\n",
    "print(f\"scores: {reg_tree_scores}\",\n",
    "      f\"average {np.mean(reg_tree_scores)}\",\n",
    "      f\"std: {np.std(reg_tree_scores)}\",\n",
    "      sep='\\n') "
   ]
  },
  {
   "cell_type": "code",
   "execution_count": 39,
   "id": "374a11d6",
   "metadata": {},
   "outputs": [
    {
     "data": {
      "text/plain": [
       "0.42528488225817696"
      ]
     },
     "execution_count": 39,
     "metadata": {},
     "output_type": "execute_result"
    }
   ],
   "source": [
    "regression_tree = DecisionTreeRegressor(random_state=0, min_samples_leaf=20)\n",
    "regression_tree.fit(X_train, y_train)\n",
    "regression_tree.score(X_test, y_test)"
   ]
  },
  {
   "cell_type": "code",
   "execution_count": 40,
   "id": "32e48f15",
   "metadata": {
    "scrolled": true
   },
   "outputs": [
    {
     "name": "stdout",
     "output_type": "stream",
     "text": [
      "MSE: 478541203.1664\n",
      "Squared MSE: 21875.584635990876\n",
      "MAE: 18254.6576\n",
      "performs 11 splits\n",
      "Ends with 70 leaves\n"
     ]
    }
   ],
   "source": [
    "reg_pred = regression_tree.apply(X_test)\n",
    "print(f'MSE: {sum((reg_pred - y_test)**2) / len(y_test)}',\n",
    "     f'Squared MSE: {np.sqrt(sum((reg_pred - y_test)**2) / len(y_test))}',\n",
    "     f'MAE: {sum(abs(reg_pred - y_test)) / len(y_test)}',\n",
    "     f'performs {regression_tree.get_depth()} splits',\n",
    "      f'Ends with {regression_tree.get_n_leaves()} leaves', sep='\\n')"
   ]
  },
  {
   "cell_type": "code",
   "execution_count": 41,
   "id": "806cc0f4",
   "metadata": {},
   "outputs": [
    {
     "data": {
      "text/plain": [
       "139"
      ]
     },
     "execution_count": 41,
     "metadata": {},
     "output_type": "execute_result"
    }
   ],
   "source": [
    "regression_tree.tree_.node_count"
   ]
  },
  {
   "cell_type": "code",
   "execution_count": 42,
   "id": "f47f5023",
   "metadata": {
    "scrolled": true
   },
   "outputs": [
    {
     "data": {
      "text/plain": [
       "70"
      ]
     },
     "execution_count": 42,
     "metadata": {},
     "output_type": "execute_result"
    }
   ],
   "source": [
    "regression_tree.get_n_leaves()"
   ]
  },
  {
   "cell_type": "code",
   "execution_count": 43,
   "id": "d63cdd9c",
   "metadata": {},
   "outputs": [
    {
     "name": "stdout",
     "output_type": "stream",
     "text": [
      "Help on class Tree in module sklearn.tree._tree:\n",
      "\n",
      "class Tree(builtins.object)\n",
      " |  Array-based representation of a binary decision tree.\n",
      " |  \n",
      " |  The binary tree is represented as a number of parallel arrays. The i-th\n",
      " |  element of each array holds information about the node `i`. Node 0 is the\n",
      " |  tree's root. You can find a detailed description of all arrays in\n",
      " |  `_tree.pxd`. NOTE: Some of the arrays only apply to either leaves or split\n",
      " |  nodes, resp. In this case the values of nodes of the other type are\n",
      " |  arbitrary!\n",
      " |  \n",
      " |  Attributes\n",
      " |  ----------\n",
      " |  node_count : int\n",
      " |      The number of nodes (internal nodes + leaves) in the tree.\n",
      " |  \n",
      " |  capacity : int\n",
      " |      The current capacity (i.e., size) of the arrays, which is at least as\n",
      " |      great as `node_count`.\n",
      " |  \n",
      " |  max_depth : int\n",
      " |      The depth of the tree, i.e. the maximum depth of its leaves.\n",
      " |  \n",
      " |  children_left : array of int, shape [node_count]\n",
      " |      children_left[i] holds the node id of the left child of node i.\n",
      " |      For leaves, children_left[i] == TREE_LEAF. Otherwise,\n",
      " |      children_left[i] > i. This child handles the case where\n",
      " |      X[:, feature[i]] <= threshold[i].\n",
      " |  \n",
      " |  children_right : array of int, shape [node_count]\n",
      " |      children_right[i] holds the node id of the right child of node i.\n",
      " |      For leaves, children_right[i] == TREE_LEAF. Otherwise,\n",
      " |      children_right[i] > i. This child handles the case where\n",
      " |      X[:, feature[i]] > threshold[i].\n",
      " |  \n",
      " |  feature : array of int, shape [node_count]\n",
      " |      feature[i] holds the feature to split on, for the internal node i.\n",
      " |  \n",
      " |  threshold : array of double, shape [node_count]\n",
      " |      threshold[i] holds the threshold for the internal node i.\n",
      " |  \n",
      " |  value : array of double, shape [node_count, n_outputs, max_n_classes]\n",
      " |      Contains the constant prediction value of each node.\n",
      " |  \n",
      " |  impurity : array of double, shape [node_count]\n",
      " |      impurity[i] holds the impurity (i.e., the value of the splitting\n",
      " |      criterion) at node i.\n",
      " |  \n",
      " |  n_node_samples : array of int, shape [node_count]\n",
      " |      n_node_samples[i] holds the number of training samples reaching node i.\n",
      " |  \n",
      " |  weighted_n_node_samples : array of int, shape [node_count]\n",
      " |      weighted_n_node_samples[i] holds the weighted number of training samples\n",
      " |      reaching node i.\n",
      " |  \n",
      " |  Methods defined here:\n",
      " |  \n",
      " |  __getstate__(...)\n",
      " |      Getstate re-implementation, for pickling.\n",
      " |  \n",
      " |  __reduce__(...)\n",
      " |      Reduce re-implementation, for pickling.\n",
      " |  \n",
      " |  __setstate__(...)\n",
      " |      Setstate re-implementation, for unpickling.\n",
      " |  \n",
      " |  apply(...)\n",
      " |      Finds the terminal region (=leaf node) for each sample in X.\n",
      " |  \n",
      " |  compute_feature_importances(...)\n",
      " |      Computes the importance of each feature (aka variable).\n",
      " |  \n",
      " |  compute_partial_dependence(...)\n",
      " |      Partial dependence of the response on the ``target_feature`` set.\n",
      " |      \n",
      " |      For each sample in ``X`` a tree traversal is performed.\n",
      " |      Each traversal starts from the root with weight 1.0.\n",
      " |      \n",
      " |      At each non-leaf node that splits on a target feature, either\n",
      " |      the left child or the right child is visited based on the feature\n",
      " |      value of the current sample, and the weight is not modified.\n",
      " |      At each non-leaf node that splits on a complementary feature,\n",
      " |      both children are visited and the weight is multiplied by the fraction\n",
      " |      of training samples which went to each child.\n",
      " |      \n",
      " |      At each leaf, the value of the node is multiplied by the current\n",
      " |      weight (weights sum to 1 for all visited terminal nodes).\n",
      " |      \n",
      " |      Parameters\n",
      " |      ----------\n",
      " |      X : view on 2d ndarray, shape (n_samples, n_target_features)\n",
      " |          The grid points on which the partial dependence should be\n",
      " |          evaluated.\n",
      " |      target_features : view on 1d ndarray, shape (n_target_features)\n",
      " |          The set of target features for which the partial dependence\n",
      " |          should be evaluated.\n",
      " |      out : view on 1d ndarray, shape (n_samples)\n",
      " |          The value of the partial dependence function on each grid\n",
      " |          point.\n",
      " |  \n",
      " |  decision_path(...)\n",
      " |      Finds the decision path (=node) for each sample in X.\n",
      " |  \n",
      " |  predict(...)\n",
      " |      Predict target for X.\n",
      " |  \n",
      " |  ----------------------------------------------------------------------\n",
      " |  Static methods defined here:\n",
      " |  \n",
      " |  __new__(*args, **kwargs) from builtins.type\n",
      " |      Create and return a new object.  See help(type) for accurate signature.\n",
      " |  \n",
      " |  ----------------------------------------------------------------------\n",
      " |  Data descriptors defined here:\n",
      " |  \n",
      " |  capacity\n",
      " |  \n",
      " |  children_left\n",
      " |  \n",
      " |  children_right\n",
      " |  \n",
      " |  feature\n",
      " |  \n",
      " |  impurity\n",
      " |  \n",
      " |  max_depth\n",
      " |  \n",
      " |  max_n_classes\n",
      " |  \n",
      " |  n_classes\n",
      " |  \n",
      " |  n_features\n",
      " |  \n",
      " |  n_leaves\n",
      " |  \n",
      " |  n_node_samples\n",
      " |  \n",
      " |  n_outputs\n",
      " |  \n",
      " |  node_count\n",
      " |  \n",
      " |  threshold\n",
      " |  \n",
      " |  value\n",
      " |  \n",
      " |  weighted_n_node_samples\n",
      " |  \n",
      " |  ----------------------------------------------------------------------\n",
      " |  Data and other attributes defined here:\n",
      " |  \n",
      " |  __pyx_vtable__ = <capsule object NULL>\n",
      "\n"
     ]
    }
   ],
   "source": [
    "help(tree._tree.Tree)"
   ]
  },
  {
   "cell_type": "markdown",
   "id": "b26705b0",
   "metadata": {},
   "source": [
    "## Trees with One-Hot Encoding"
   ]
  },
  {
   "cell_type": "code",
   "execution_count": 44,
   "id": "25fa17db",
   "metadata": {},
   "outputs": [],
   "source": [
    "X_otrain, X_otest, y_otrain, y_otest = train_test_split(df_oh.loc[:, df_oh.columns != 'price'], df_oh.price, test_size=0.25)"
   ]
  },
  {
   "cell_type": "markdown",
   "id": "0abc6040",
   "metadata": {},
   "source": [
    "#### Regression Tree"
   ]
  },
  {
   "cell_type": "code",
   "execution_count": 45,
   "id": "c74c21f4",
   "metadata": {},
   "outputs": [
    {
     "name": "stderr",
     "output_type": "stream",
     "text": [
      "/Users/javiermazonechevarria/.pyenv/versions/3.8.9/envs/test1/lib/python3.8/site-packages/sklearn/utils/validation.py:1673: FutureWarning: Feature names only support names that are all strings. Got feature names with dtypes: ['str', 'tuple']. An error will be raised in 1.2.\n",
      "  warnings.warn(\n",
      "/Users/javiermazonechevarria/.pyenv/versions/3.8.9/envs/test1/lib/python3.8/site-packages/sklearn/utils/validation.py:616: UserWarning: pandas.DataFrame with sparse columns found.It will be converted to a dense numpy array.\n",
      "  warnings.warn(\n",
      "/Users/javiermazonechevarria/.pyenv/versions/3.8.9/envs/test1/lib/python3.8/site-packages/sklearn/utils/validation.py:1673: FutureWarning: Feature names only support names that are all strings. Got feature names with dtypes: ['str', 'tuple']. An error will be raised in 1.2.\n",
      "  warnings.warn(\n",
      "/Users/javiermazonechevarria/.pyenv/versions/3.8.9/envs/test1/lib/python3.8/site-packages/sklearn/utils/validation.py:616: UserWarning: pandas.DataFrame with sparse columns found.It will be converted to a dense numpy array.\n",
      "  warnings.warn(\n",
      "/Users/javiermazonechevarria/.pyenv/versions/3.8.9/envs/test1/lib/python3.8/site-packages/sklearn/utils/validation.py:1673: FutureWarning: Feature names only support names that are all strings. Got feature names with dtypes: ['str', 'tuple']. An error will be raised in 1.2.\n",
      "  warnings.warn(\n",
      "/Users/javiermazonechevarria/.pyenv/versions/3.8.9/envs/test1/lib/python3.8/site-packages/sklearn/utils/validation.py:616: UserWarning: pandas.DataFrame with sparse columns found.It will be converted to a dense numpy array.\n",
      "  warnings.warn(\n",
      "/Users/javiermazonechevarria/.pyenv/versions/3.8.9/envs/test1/lib/python3.8/site-packages/sklearn/utils/validation.py:1673: FutureWarning: Feature names only support names that are all strings. Got feature names with dtypes: ['str', 'tuple']. An error will be raised in 1.2.\n",
      "  warnings.warn(\n",
      "/Users/javiermazonechevarria/.pyenv/versions/3.8.9/envs/test1/lib/python3.8/site-packages/sklearn/utils/validation.py:616: UserWarning: pandas.DataFrame with sparse columns found.It will be converted to a dense numpy array.\n",
      "  warnings.warn(\n",
      "/Users/javiermazonechevarria/.pyenv/versions/3.8.9/envs/test1/lib/python3.8/site-packages/sklearn/utils/validation.py:1673: FutureWarning: Feature names only support names that are all strings. Got feature names with dtypes: ['str', 'tuple']. An error will be raised in 1.2.\n",
      "  warnings.warn(\n",
      "/Users/javiermazonechevarria/.pyenv/versions/3.8.9/envs/test1/lib/python3.8/site-packages/sklearn/utils/validation.py:616: UserWarning: pandas.DataFrame with sparse columns found.It will be converted to a dense numpy array.\n",
      "  warnings.warn(\n",
      "/Users/javiermazonechevarria/.pyenv/versions/3.8.9/envs/test1/lib/python3.8/site-packages/sklearn/utils/validation.py:1673: FutureWarning: Feature names only support names that are all strings. Got feature names with dtypes: ['str', 'tuple']. An error will be raised in 1.2.\n",
      "  warnings.warn(\n",
      "/Users/javiermazonechevarria/.pyenv/versions/3.8.9/envs/test1/lib/python3.8/site-packages/sklearn/utils/validation.py:616: UserWarning: pandas.DataFrame with sparse columns found.It will be converted to a dense numpy array.\n",
      "  warnings.warn(\n",
      "/Users/javiermazonechevarria/.pyenv/versions/3.8.9/envs/test1/lib/python3.8/site-packages/sklearn/utils/validation.py:1673: FutureWarning: Feature names only support names that are all strings. Got feature names with dtypes: ['str', 'tuple']. An error will be raised in 1.2.\n",
      "  warnings.warn(\n",
      "/Users/javiermazonechevarria/.pyenv/versions/3.8.9/envs/test1/lib/python3.8/site-packages/sklearn/utils/validation.py:616: UserWarning: pandas.DataFrame with sparse columns found.It will be converted to a dense numpy array.\n",
      "  warnings.warn(\n",
      "/Users/javiermazonechevarria/.pyenv/versions/3.8.9/envs/test1/lib/python3.8/site-packages/sklearn/utils/validation.py:1673: FutureWarning: Feature names only support names that are all strings. Got feature names with dtypes: ['str', 'tuple']. An error will be raised in 1.2.\n",
      "  warnings.warn(\n",
      "/Users/javiermazonechevarria/.pyenv/versions/3.8.9/envs/test1/lib/python3.8/site-packages/sklearn/utils/validation.py:616: UserWarning: pandas.DataFrame with sparse columns found.It will be converted to a dense numpy array.\n",
      "  warnings.warn(\n"
     ]
    },
    {
     "name": "stdout",
     "output_type": "stream",
     "text": [
      "scores: [0.46358452 0.44392179 0.44573342 0.51772633 0.47231153]\n",
      "average 0.4686555205422726\n",
      "std: 0.026773890342525385\n"
     ]
    },
    {
     "name": "stderr",
     "output_type": "stream",
     "text": [
      "/Users/javiermazonechevarria/.pyenv/versions/3.8.9/envs/test1/lib/python3.8/site-packages/sklearn/utils/validation.py:1673: FutureWarning: Feature names only support names that are all strings. Got feature names with dtypes: ['str', 'tuple']. An error will be raised in 1.2.\n",
      "  warnings.warn(\n",
      "/Users/javiermazonechevarria/.pyenv/versions/3.8.9/envs/test1/lib/python3.8/site-packages/sklearn/utils/validation.py:616: UserWarning: pandas.DataFrame with sparse columns found.It will be converted to a dense numpy array.\n",
      "  warnings.warn(\n",
      "/Users/javiermazonechevarria/.pyenv/versions/3.8.9/envs/test1/lib/python3.8/site-packages/sklearn/utils/validation.py:1673: FutureWarning: Feature names only support names that are all strings. Got feature names with dtypes: ['str', 'tuple']. An error will be raised in 1.2.\n",
      "  warnings.warn(\n",
      "/Users/javiermazonechevarria/.pyenv/versions/3.8.9/envs/test1/lib/python3.8/site-packages/sklearn/utils/validation.py:616: UserWarning: pandas.DataFrame with sparse columns found.It will be converted to a dense numpy array.\n",
      "  warnings.warn(\n"
     ]
    }
   ],
   "source": [
    "regression_tree_oh = DecisionTreeRegressor(random_state=0)\n",
    "reg_tree_oh_scores = cross_val_score(regression_tree_oh, df_oh.loc[:, df_oh.columns != 'price'], df_oh.price, cv=shuffle_5)\n",
    "\n",
    "print(f\"scores: {reg_tree_oh_scores}\",\n",
    "      f\"average {np.mean(reg_tree_oh_scores)}\",\n",
    "      f\"std: {np.std(reg_tree_oh_scores)}\",\n",
    "      sep='\\n') \n"
   ]
  },
  {
   "cell_type": "code",
   "execution_count": 46,
   "id": "28259d5a",
   "metadata": {},
   "outputs": [
    {
     "name": "stderr",
     "output_type": "stream",
     "text": [
      "/Users/javiermazonechevarria/.pyenv/versions/3.8.9/envs/test1/lib/python3.8/site-packages/sklearn/utils/validation.py:1673: FutureWarning: Feature names only support names that are all strings. Got feature names with dtypes: ['str', 'tuple']. An error will be raised in 1.2.\n",
      "  warnings.warn(\n",
      "/Users/javiermazonechevarria/.pyenv/versions/3.8.9/envs/test1/lib/python3.8/site-packages/sklearn/utils/validation.py:616: UserWarning: pandas.DataFrame with sparse columns found.It will be converted to a dense numpy array.\n",
      "  warnings.warn(\n",
      "/Users/javiermazonechevarria/.pyenv/versions/3.8.9/envs/test1/lib/python3.8/site-packages/sklearn/utils/validation.py:1673: FutureWarning: Feature names only support names that are all strings. Got feature names with dtypes: ['str', 'tuple']. An error will be raised in 1.2.\n",
      "  warnings.warn(\n",
      "/Users/javiermazonechevarria/.pyenv/versions/3.8.9/envs/test1/lib/python3.8/site-packages/sklearn/utils/validation.py:616: UserWarning: pandas.DataFrame with sparse columns found.It will be converted to a dense numpy array.\n",
      "  warnings.warn(\n"
     ]
    },
    {
     "data": {
      "text/plain": [
       "0.4912160072372155"
      ]
     },
     "execution_count": 46,
     "metadata": {},
     "output_type": "execute_result"
    }
   ],
   "source": [
    "regression_tree_oh = DecisionTreeRegressor(random_state=0)\n",
    "regression_tree_oh.fit(X_otrain, y_otrain)\n",
    "regression_tree_oh.score(X_otest, y_otest)"
   ]
  },
  {
   "cell_type": "markdown",
   "id": "80f3b35c",
   "metadata": {},
   "source": [
    "## Discretizing output variable price and ordering categories by prize"
   ]
  },
  {
   "cell_type": "code",
   "execution_count": 47,
   "id": "313f7d33",
   "metadata": {},
   "outputs": [
    {
     "data": {
      "text/plain": [
       "(180,)"
      ]
     },
     "execution_count": 47,
     "metadata": {},
     "output_type": "execute_result"
    }
   ],
   "source": [
    "df.brand_model.unique().shape"
   ]
  },
  {
   "cell_type": "markdown",
   "id": "24e47f13",
   "metadata": {},
   "source": [
    "Since we have 180 different categories, we'll reduce them to one variable with 10 categories, each corresponding to on decile of the price distribution"
   ]
  },
  {
   "cell_type": "code",
   "execution_count": 48,
   "id": "ba4a9c9a",
   "metadata": {},
   "outputs": [],
   "source": [
    "df['price_range'] = pd.qcut(df.price, 10, labels=False)"
   ]
  },
  {
   "cell_type": "code",
   "execution_count": 49,
   "id": "4eaaaad7",
   "metadata": {
    "scrolled": true
   },
   "outputs": [
    {
     "data": {
      "text/html": [
       "<div>\n",
       "<style scoped>\n",
       "    .dataframe tbody tr th:only-of-type {\n",
       "        vertical-align: middle;\n",
       "    }\n",
       "\n",
       "    .dataframe tbody tr th {\n",
       "        vertical-align: top;\n",
       "    }\n",
       "\n",
       "    .dataframe thead th {\n",
       "        text-align: right;\n",
       "    }\n",
       "</style>\n",
       "<table border=\"1\" class=\"dataframe\">\n",
       "  <thead>\n",
       "    <tr style=\"text-align: right;\">\n",
       "      <th>price_range</th>\n",
       "      <th>0</th>\n",
       "      <th>1</th>\n",
       "      <th>2</th>\n",
       "      <th>3</th>\n",
       "      <th>4</th>\n",
       "      <th>5</th>\n",
       "      <th>6</th>\n",
       "      <th>7</th>\n",
       "      <th>8</th>\n",
       "      <th>9</th>\n",
       "    </tr>\n",
       "  </thead>\n",
       "  <tbody>\n",
       "    <tr>\n",
       "      <th>number of obs</th>\n",
       "      <td>252</td>\n",
       "      <td>250</td>\n",
       "      <td>248</td>\n",
       "      <td>257</td>\n",
       "      <td>249</td>\n",
       "      <td>243</td>\n",
       "      <td>251</td>\n",
       "      <td>249</td>\n",
       "      <td>250</td>\n",
       "      <td>250</td>\n",
       "    </tr>\n",
       "  </tbody>\n",
       "</table>\n",
       "</div>"
      ],
      "text/plain": [
       "price_range      0    1    2    3    4    5    6    7    8    9\n",
       "number of obs  252  250  248  257  249  243  251  249  250  250"
      ]
     },
     "execution_count": 49,
     "metadata": {},
     "output_type": "execute_result"
    }
   ],
   "source": [
    "df.groupby('price_range').apply(lambda x: len(x)).to_frame(name='number of obs').T"
   ]
  },
  {
   "cell_type": "code",
   "execution_count": 50,
   "id": "b67b9213",
   "metadata": {},
   "outputs": [
    {
     "data": {
      "text/plain": [
       "price_range\n",
       "0    [54, [ford_se, ford_door, dodge_van, dodge_doo...\n",
       "1    [56, [toyota_cruiser, dodge_mpv, chevrolet_pk,...\n",
       "2    [59, [dodge_coupe, ford_door, ford_mpv, ford_f...\n",
       "3    [49, [gmc_door, chevrolet_malibu, gmc_mpv, bui...\n",
       "4    [42, [buick_encore, chevrolet_door, mercedes-b...\n",
       "5    [59, [infiniti_q70, chevrolet_1500, chevrolet_...\n",
       "6    [46, [ford_door, kia_sorento, chrysler_pacific...\n",
       "7    [38, [ford_door, buick_enclave, buick_door, bm...\n",
       "8    [39, [chevrolet_1500, chevrolet_camaro, chrysl...\n",
       "9    [38, [ford_door, ford_srw, dodge_challenger, b...\n",
       "Name: brand_model, dtype: object"
      ]
     },
     "execution_count": 50,
     "metadata": {},
     "output_type": "execute_result"
    }
   ],
   "source": [
    "brand_groups = df.groupby('price_range').brand_model.apply(lambda x: [len(x.unique()), x.unique()])\n",
    "brand_groups"
   ]
  },
  {
   "cell_type": "code",
   "execution_count": 51,
   "id": "86c9231b",
   "metadata": {},
   "outputs": [
    {
     "name": "stdout",
     "output_type": "stream",
     "text": [
      "intersection of group 0 with group 1. 30 intersections: ['bmw_door', 'honda_doors', 'ford_pk', 'nissan_door', 'ford_doors', 'hyundai_doors', 'gmc_mpv', 'nissan_sentra', 'chevrolet_door', 'dodge_mpv', 'chrysler_door', 'dodge_door', 'hyundai_door', 'chevrolet_coupe', 'jeep_door', 'ford_mpv', 'dodge_van', 'chevrolet_pickup', 'ford_wagon', 'heartland_country', 'ford_van', 'ford_pickup', 'nissan_doors', 'honda_door', 'ford_fiesta', 'gmc_door', 'ford_chassis', 'nissan_mpv', 'ford_door', 'chevrolet_van']\n",
      "intersection of group 0 with group 2. 21 intersections: ['nissan_door', 'ford_doors', 'gmc_mpv', 'nissan_sentra', 'chevrolet_door', 'dodge_mpv', 'dodge_door', 'hyundai_door', 'nissan_altima', 'ford_mpv', 'chevrolet_cruze', 'dodge_van', 'ford_van', 'nissan_doors', 'ford_fiesta', 'nissan_frontier', 'nissan_note', 'gmc_door', 'ford_door', 'chevrolet_van', 'chevrolet_sonic']\n",
      "intersection of group 0 with group 3. 15 intersections: ['kia_door', 'ford_van', 'nissan_door', 'gmc_door', 'dodge_door', 'ford_doors', 'nissan_doors', 'gmc_mpv', 'ford_chassis', 'nissan_sentra', 'nissan_altima', 'ford_door', 'chevrolet_van', 'buick_door', 'chevrolet_door']\n",
      "intersection of group 0 with group 4. 7 intersections: ['bmw_door', 'nissan_frontier', 'dodge_door', 'ford_doors', 'ford_door', 'nissan_altima', 'chevrolet_door']\n",
      "intersection of group 0 with group 5. 10 intersections: ['ford_wagon', 'nissan_frontier', 'ford_van', 'nissan_door', 'dodge_door', 'ford_doors', 'ford_door', 'nissan_altima', 'buick_door', 'chevrolet_door']\n",
      "intersection of group 0 with group 6. 11 intersections: ['ford_wagon', 'nissan_frontier', 'ford_van', 'nissan_door', 'dodge_door', 'ford_doors', 'ford_door', 'chevrolet_van', 'buick_door', 'chevrolet_door', 'dodge_van']\n",
      "intersection of group 0 with group 7. 10 intersections: ['bmw_door', 'ford_wagon', 'chevrolet_door', 'ford_van', 'ford_pickup', 'dodge_door', 'ford_doors', 'ford_door', 'buick_door', 'chrysler_van']\n",
      "intersection of group 0 with group 8. 6 intersections: ['ford_wagon', 'dodge_door', 'ford_doors', 'ford_door', 'buick_door', 'chevrolet_door']\n",
      "intersection of group 0 with group 9. 4 intersections: ['ford_door', 'ford_wagon', 'chevrolet_door', 'ford_doors']\n",
      "intersection of group 1 with group 2. 28 intersections: ['chevrolet_trax', 'jeep_mpv', 'nissan_door', 'ford_doors', 'gmc_mpv', 'dodge_pickup', 'dodge_journey', 'nissan_sentra', 'chevrolet_door', 'nissan_rogue', 'dodge_mpv', 'dodge_door', 'hyundai_door', 'ford_focus', 'ford_mpv', 'dodge_van', 'ford_van', 'nissan_doors', 'chevrolet_malibu', 'ford_f-150', 'nissan_versa', 'ford_fiesta', 'nissan_sedan', 'chevrolet_colorado', 'gmc_door', 'dodge_doors', 'ford_door', 'chevrolet_van']\n",
      "intersection of group 1 with group 3. 22 intersections: ['chevrolet_trax', 'nissan_door', 'ford_cutaway', 'ford_doors', 'gmc_mpv', 'dodge_pickup', 'dodge_journey', 'nissan_sentra', 'chevrolet_door', 'nissan_rogue', 'dodge_door', 'ford_focus', 'ford_van', 'nissan_doors', 'chevrolet_malibu', 'chevrolet_colorado', 'gmc_door', 'ford_chassis', 'dodge_doors', 'ford_door', 'chevrolet_van', 'ford_cab']\n",
      "intersection of group 1 with group 4. 14 intersections: ['bmw_door', 'chevrolet_colorado', 'chevrolet_trax', 'ford_cutaway', 'dodge_door', 'ford_doors', 'dodge_journey', 'dodge_doors', 'chevrolet_malibu', 'ford_door', 'ford_f-150', 'ford_cab', 'chevrolet_door', 'nissan_rogue']\n",
      "intersection of group 1 with group 5. 15 intersections: ['ford_wagon', 'ford_van', 'chevrolet_colorado', 'chevrolet_trax', 'nissan_door', 'ford_cutaway', 'dodge_door', 'ford_doors', 'dodge_journey', 'dodge_doors', 'chevrolet_malibu', 'ford_door', 'ford_f-150', 'chevrolet_door', 'nissan_rogue']\n",
      "intersection of group 1 with group 6. 14 intersections: ['ford_wagon', 'ford_van', 'chevrolet_colorado', 'chevrolet_van', 'chevrolet_trax', 'nissan_door', 'dodge_door', 'ford_doors', 'dodge_doors', 'dodge_van', 'ford_door', 'ford_f-150', 'chevrolet_door', 'nissan_rogue']\n",
      "intersection of group 1 with group 7. 13 intersections: ['bmw_door', 'ford_wagon', 'ford_van', 'chevrolet_colorado', 'ford_pickup', 'dodge_door', 'ford_doors', 'dodge_journey', 'dodge_doors', 'ford_door', 'ford_f-150', 'ford_cab', 'chevrolet_door']\n",
      "intersection of group 1 with group 8. 8 intersections: ['ford_wagon', 'chevrolet_colorado', 'dodge_door', 'ford_doors', 'ford_door', 'ford_f-150', 'chevrolet_cutaway', 'chevrolet_door']\n",
      "intersection of group 1 with group 9. 5 intersections: ['ford_wagon', 'ford_doors', 'ford_door', 'ford_f-150', 'chevrolet_door']\n",
      "intersection of group 2 with group 3. 31 intersections: ['chevrolet_trax', 'nissan_door', 'ford_doors', 'gmc_mpv', 'dodge_pickup', 'dodge_journey', 'nissan_sentra', 'chevrolet_1500', 'ford_bus', 'chevrolet_door', 'chevrolet_equinox', 'nissan_rogue', 'nissan_sport', 'ford_escape', 'dodge_door', 'dodge_caravan', 'nissan_altima', 'ford_focus', 'ford_van', 'ford_edge', 'nissan_doors', 'chevrolet_malibu', 'infiniti_mpv', 'chevrolet_impala', 'chevrolet_colorado', 'ford_fusion', 'gmc_door', 'ford_hybrid', 'dodge_doors', 'ford_door', 'chevrolet_van']\n",
      "intersection of group 2 with group 4. 21 intersections: ['chevrolet_trax', 'ford_doors', 'dodge_journey', 'chevrolet_equinox', 'chevrolet_door', 'nissan_rogue', 'nissan_sport', 'ford_escape', 'dodge_door', 'dodge_caravan', 'nissan_altima', 'chevrolet_malibu', 'ford_f-150', 'infiniti_mpv', 'chevrolet_impala', 'nissan_frontier', 'chevrolet_colorado', 'ford_fusion', 'ford_hybrid', 'dodge_doors', 'ford_door']\n",
      "intersection of group 2 with group 5. 26 intersections: ['chevrolet_trax', 'nissan_door', 'ford_doors', 'dodge_journey', 'chevrolet_1500', 'chevrolet_equinox', 'chevrolet_door', 'nissan_rogue', 'nissan_sport', 'ford_escape', 'dodge_door', 'dodge_caravan', 'nissan_altima', 'ford_drw', 'ford_van', 'ford_edge', 'chevrolet_malibu', 'ford_f-150', 'chevrolet_impala', 'nissan_frontier', 'honda_van', 'chevrolet_colorado', 'ford_fusion', 'ford_hybrid', 'dodge_doors', 'ford_door']\n",
      "intersection of group 2 with group 6. 18 intersections: ['nissan_frontier', 'ford_van', 'chevrolet_colorado', 'chevrolet_van', 'chevrolet_trax', 'ford_edge', 'nissan_door', 'ford_fusion', 'dodge_door', 'ford_doors', 'dodge_doors', 'dodge_caravan', 'chevrolet_1500', 'dodge_van', 'ford_f-150', 'ford_door', 'chevrolet_door', 'nissan_rogue']\n",
      "intersection of group 2 with group 7. 13 intersections: ['ford_escape', 'chevrolet_impala', 'ford_van', 'chevrolet_colorado', 'ford_edge', 'dodge_door', 'ford_doors', 'dodge_journey', 'dodge_doors', 'ford_door', 'chevrolet_1500', 'ford_f-150', 'chevrolet_door']\n",
      "intersection of group 2 with group 8. 8 intersections: ['chevrolet_colorado', 'ford_edge', 'dodge_door', 'ford_doors', 'ford_door', 'chevrolet_1500', 'ford_f-150', 'chevrolet_door']\n",
      "intersection of group 2 with group 9. 7 intersections: ['chevrolet_3500', 'ford_doors', 'ford_door', 'chevrolet_1500', 'ford_f-150', 'ford_drw', 'chevrolet_door']\n",
      "intersection of group 3 with group 4. 27 intersections: ['chevrolet_trax', 'ford_cutaway', 'ford_doors', 'dodge_journey', 'chevrolet_equinox', 'chevrolet_door', 'nissan_rogue', 'nissan_sport', 'ford_escape', 'kia_sorento', 'dodge_door', 'dodge_caravan', 'nissan_altima', 'dodge_charger', 'nissan_pathfinder', 'chevrolet_malibu', 'ford_taurus', 'infiniti_mpv', 'chevrolet_impala', 'buick_encore', 'chevrolet_colorado', 'ford_fusion', 'ford_hybrid', 'dodge_doors', 'ford_door', 'ford_cab', 'ford_ecosport']\n",
      "intersection of group 3 with group 5. 29 intersections: ['chevrolet_trax', 'nissan_door', 'ford_cutaway', 'ford_doors', 'dodge_journey', 'chevrolet_1500', 'chevrolet_door', 'chevrolet_equinox', 'nissan_rogue', 'nissan_sport', 'ford_escape', 'dodge_door', 'dodge_caravan', 'nissan_altima', 'ford_explorer', 'buick_door', 'ford_van', 'dodge_charger', 'ford_edge', 'nissan_maxima', 'nissan_pathfinder', 'chevrolet_malibu', 'ford_taurus', 'chevrolet_impala', 'chevrolet_colorado', 'ford_fusion', 'ford_hybrid', 'dodge_doors', 'ford_door']\n",
      "intersection of group 3 with group 6. 21 intersections: ['chevrolet_trax', 'nissan_door', 'ford_doors', 'chevrolet_1500', 'chevrolet_door', 'nissan_rogue', 'kia_sorento', 'dodge_door', 'dodge_caravan', 'ford_explorer', 'buick_door', 'ford_van', 'dodge_charger', 'ford_edge', 'nissan_pathfinder', 'ford_taurus', 'chevrolet_colorado', 'ford_fusion', 'dodge_doors', 'ford_door', 'chevrolet_van']\n",
      "intersection of group 3 with group 7. 17 intersections: ['ford_escape', 'chevrolet_impala', 'ford_van', 'dodge_charger', 'chevrolet_colorado', 'ford_edge', 'chevrolet_traverse', 'dodge_door', 'ford_doors', 'dodge_journey', 'dodge_doors', 'ford_door', 'chevrolet_1500', 'ford_explorer', 'ford_cab', 'buick_door', 'chevrolet_door']\n",
      "intersection of group 3 with group 8. 13 intersections: ['bmw_series', 'dodge_charger', 'chevrolet_colorado', 'ford_edge', 'chevrolet_traverse', 'dodge_door', 'ford_doors', 'nissan_pathfinder', 'ford_door', 'chevrolet_1500', 'ford_explorer', 'buick_door', 'chevrolet_door']\n",
      "intersection of group 3 with group 9. 8 intersections: ['bmw_series', 'dodge_charger', 'chevrolet_traverse', 'ford_doors', 'ford_door', 'chevrolet_1500', 'ford_explorer', 'chevrolet_door']\n",
      "intersection of group 4 with group 5. 30 intersections: ['chevrolet_trax', 'ford_cutaway', 'ford_doors', 'dodge_journey', 'ford_flex', 'ford_mustang', 'chevrolet_equinox', 'chevrolet_door', 'nissan_rogue', 'nissan_sport', 'ford_escape', 'nissan_murano', 'dodge_door', 'dodge_caravan', 'ford_expedition', 'nissan_altima', 'dodge_charger', 'nissan_pathfinder', 'chevrolet_malibu', 'ford_f-150', 'ford_taurus', 'chevrolet_impala', 'nissan_frontier', 'chevrolet_colorado', 'ford_fusion', 'ford_hybrid', 'dodge_doors', 'ford_door', 'ford_transit', 'jeep_compass']\n",
      "intersection of group 4 with group 6. 22 intersections: ['chevrolet_trax', 'ford_doors', 'ford_flex', 'ford_mustang', 'chevrolet_door', 'nissan_rogue', 'kia_sorento', 'nissan_murano', 'dodge_door', 'dodge_caravan', 'ford_expedition', 'dodge_charger', 'nissan_pathfinder', 'ford_f-150', 'ford_taurus', 'ford_srw', 'nissan_frontier', 'chevrolet_colorado', 'ford_fusion', 'dodge_doors', 'ford_door', 'ford_transit']\n",
      "intersection of group 4 with group 7. 17 intersections: ['bmw_door', 'ford_escape', 'chevrolet_impala', 'nissan_murano', 'dodge_charger', 'chevrolet_colorado', 'dodge_door', 'ford_doors', 'dodge_journey', 'dodge_doors', 'ford_flex', 'ford_door', 'ford_transit', 'ford_f-150', 'ford_mustang', 'ford_cab', 'chevrolet_door']\n",
      "intersection of group 4 with group 8. 12 intersections: ['ford_srw', 'dodge_charger', 'chevrolet_colorado', 'dodge_door', 'ford_doors', 'nissan_pathfinder', 'ford_transit', 'ford_flex', 'ford_door', 'ford_f-150', 'ford_mustang', 'chevrolet_door']\n",
      "intersection of group 4 with group 9. 9 intersections: ['ford_srw', 'dodge_charger', 'ford_doors', 'ford_transit', 'ford_expedition', 'ford_door', 'ford_f-150', 'ford_mustang', 'chevrolet_door']\n",
      "intersection of group 5 with group 6. 33 intersections: ['nissan_titan', 'dodge_durango', 'chevrolet_trax', 'nissan_door', 'ford_doors', 'ford_flex', 'chevrolet_1500', 'ford_mustang', 'chevrolet_door', 'chevrolet_camaro', 'nissan_rogue', 'jeep_cherokee', 'nissan_murano', 'cadillac_door', 'dodge_door', 'dodge_caravan', 'ford_expedition', 'ford_explorer', 'buick_door', 'ford_wagon', 'ford_van', 'dodge_charger', 'ford_edge', 'dodge_challenger', 'nissan_pathfinder', 'ford_f-150', 'ford_taurus', 'nissan_frontier', 'chevrolet_colorado', 'ford_fusion', 'dodge_doors', 'ford_door', 'ford_transit']\n",
      "intersection of group 5 with group 7. 27 intersections: ['nissan_titan', 'dodge_durango', 'ford_doors', 'dodge_journey', 'ford_flex', 'chevrolet_1500', 'ford_mustang', 'chevrolet_door', 'chevrolet_camaro', 'ford_escape', 'nissan_murano', 'cadillac_door', 'dodge_door', 'ford_explorer', 'buick_door', 'ford_wagon', 'ford_van', 'dodge_charger', 'ford_edge', 'dodge_challenger', 'ford_f-150', 'nissan_armada', 'chevrolet_impala', 'chevrolet_colorado', 'dodge_doors', 'ford_door', 'ford_transit']\n",
      "intersection of group 5 with group 8. 23 intersections: ['nissan_titan', 'dodge_durango', 'ford_doors', 'ford_flex', 'chevrolet_1500', 'ford_mustang', 'chevrolet_door', 'chevrolet_camaro', 'dodge_door', 'bmw_x3', 'ford_explorer', 'buick_door', 'ford_wagon', 'dodge_charger', 'ford_edge', 'dodge_challenger', 'nissan_pathfinder', 'ford_f-150', 'nissan_armada', 'chevrolet_2500', 'chevrolet_colorado', 'ford_transit', 'ford_door']\n",
      "intersection of group 5 with group 9. 17 intersections: ['ford_max', 'ford_wagon', 'dodge_durango', 'chevrolet_2500', 'cadillac_door', 'dodge_charger', 'dodge_challenger', 'ford_doors', 'ford_transit', 'ford_expedition', 'chevrolet_1500', 'ford_explorer', 'ford_f-150', 'ford_door', 'ford_mustang', 'ford_drw', 'chevrolet_door']\n",
      "intersection of group 6 with group 7. 25 intersections: ['nissan_titan', 'dodge_durango', 'ford_doors', 'ford_flex', 'chevrolet_1500', 'ford_mustang', 'chevrolet_door', 'chevrolet_camaro', 'nissan_murano', 'cadillac_door', 'chevrolet_ld', 'dodge_door', 'ford_explorer', 'buick_door', 'ford_wagon', 'chrysler_pacifica', 'dodge_charger', 'ford_van', 'ford_edge', 'dodge_challenger', 'ford_f-150', 'chevrolet_colorado', 'dodge_doors', 'ford_door', 'ford_transit']\n",
      "intersection of group 6 with group 8. 26 intersections: ['nissan_titan', 'dodge_durango', 'ford_doors', 'ford_el', 'ford_flex', 'chevrolet_1500', 'ford_mustang', 'chevrolet_door', 'chevrolet_camaro', 'chevrolet_ld', 'dodge_door', 'ford_explorer', 'buick_door', 'ford_wagon', 'chevrolet_tahoe', 'chrysler_pacifica', 'dodge_charger', 'ford_edge', 'dodge_challenger', 'nissan_pathfinder', 'ford_f-150', 'ford_srw', 'chevrolet_colorado', 'ford_ranger', 'ford_transit', 'ford_door']\n",
      "intersection of group 6 with group 9. 17 intersections: ['ford_wagon', 'ford_srw', 'dodge_durango', 'chevrolet_tahoe', 'cadillac_door', 'dodge_charger', 'ford_ranger', 'dodge_challenger', 'ford_doors', 'ford_transit', 'ford_expedition', 'chevrolet_1500', 'ford_explorer', 'ford_f-150', 'ford_door', 'ford_mustang', 'chevrolet_door']\n",
      "intersection of group 7 with group 8. 24 intersections: ['nissan_titan', 'dodge_durango', 'ford_doors', 'ford_flex', 'chevrolet_1500', 'ford_mustang', 'chevrolet_door', 'chevrolet_camaro', 'chevrolet_ld', 'dodge_door', 'ford_explorer', 'buick_door', 'ford_wagon', 'chrysler_pacifica', 'dodge_charger', 'ford_edge', 'dodge_challenger', 'chevrolet_traverse', 'ford_f-150', 'nissan_armada', 'chevrolet_colorado', 'ford_transit', 'ford_door', 'ford_f-650']\n",
      "intersection of group 7 with group 9. 16 intersections: ['ford_wagon', 'dodge_durango', 'cadillac_door', 'dodge_charger', 'dodge_challenger', 'chevrolet_traverse', 'ford_doors', 'buick_enclave', 'ford_transit', 'ford_door', 'chevrolet_1500', 'ford_explorer', 'ford_f-150', 'ford_mustang', 'ford_f-650', 'chevrolet_door']\n",
      "intersection of group 8 with group 9. 21 intersections: ['dodge_durango', 'ford_doors', 'chevrolet_1500', 'ford_mustang', 'chevrolet_door', 'mercedes-benz_gle', 'ford_explorer', 'bmw_series', 'ford_wagon', 'chevrolet_tahoe', 'dodge_charger', 'dodge_challenger', 'chevrolet_traverse', 'chevrolet_suburban', 'ford_f-150', 'ford_srw', 'chevrolet_2500', 'ford_ranger', 'ford_transit', 'ford_door', 'ford_f-650']\n"
     ]
    }
   ],
   "source": [
    "for i, e in enumerate(brand_groups):\n",
    "    n = i\n",
    "    while n < (len(brand_groups)-1):\n",
    "        n += 1\n",
    "        intersect = list(set(e[1]).intersection(set(brand_groups[n][1])))\n",
    "        print(f'intersection of group {i} with group {n}. {len(intersect)} intersections: {intersect}')"
   ]
  },
  {
   "cell_type": "markdown",
   "id": "6f902c29",
   "metadata": {},
   "source": [
    "there are intersections among groups, but the further away from each other the less. By using the random forest we hope to get subgroups of brand_models that are better separated"
   ]
  },
  {
   "cell_type": "code",
   "execution_count": 52,
   "id": "c10efcc3",
   "metadata": {},
   "outputs": [
    {
     "data": {
      "text/html": [
       "<div>\n",
       "<style scoped>\n",
       "    .dataframe tbody tr th:only-of-type {\n",
       "        vertical-align: middle;\n",
       "    }\n",
       "\n",
       "    .dataframe tbody tr th {\n",
       "        vertical-align: top;\n",
       "    }\n",
       "\n",
       "    .dataframe thead th {\n",
       "        text-align: right;\n",
       "    }\n",
       "</style>\n",
       "<table border=\"1\" class=\"dataframe\">\n",
       "  <thead>\n",
       "    <tr style=\"text-align: right;\">\n",
       "      <th></th>\n",
       "      <th>Summary Statistics per Decile</th>\n",
       "    </tr>\n",
       "    <tr>\n",
       "      <th>price_range</th>\n",
       "      <th></th>\n",
       "    </tr>\n",
       "  </thead>\n",
       "  <tbody>\n",
       "    <tr>\n",
       "      <th>0</th>\n",
       "      <td>[0, 68.75, 2000.0, 3307.5, 4140, 1925.1, 1510.1]</td>\n",
       "    </tr>\n",
       "    <tr>\n",
       "      <th>1</th>\n",
       "      <td>[4150, 5100.0, 6220.0, 7300.0, 8000, 6192.7, 1199.9]</td>\n",
       "    </tr>\n",
       "    <tr>\n",
       "      <th>2</th>\n",
       "      <td>[8020, 9170.0, 10247.5, 10917.5, 11600, 10013.5, 1014.8]</td>\n",
       "    </tr>\n",
       "    <tr>\n",
       "      <th>3</th>\n",
       "      <td>[11621, 12780.0, 13500.0, 13995.0, 14700, 13378.4, 821.8]</td>\n",
       "    </tr>\n",
       "    <tr>\n",
       "      <th>4</th>\n",
       "      <td>[14750, 15322.0, 15800.0, 16500.0, 16900, 15843.9, 613.7]</td>\n",
       "    </tr>\n",
       "    <tr>\n",
       "      <th>5</th>\n",
       "      <td>[16995, 17700.0, 18500.0, 19300.0, 20159, 18501.5, 931.7]</td>\n",
       "    </tr>\n",
       "    <tr>\n",
       "      <th>6</th>\n",
       "      <td>[20200, 21500.0, 22500.0, 23100.0, 23800, 22261.9, 1034.5]</td>\n",
       "    </tr>\n",
       "    <tr>\n",
       "      <th>7</th>\n",
       "      <td>[23900, 24800.0, 25600.0, 26500.0, 27500, 25641.4, 1043.5]</td>\n",
       "    </tr>\n",
       "    <tr>\n",
       "      <th>8</th>\n",
       "      <td>[27502, 28800.0, 30000.0, 31767.5, 33700, 30268.8, 1740.8]</td>\n",
       "    </tr>\n",
       "    <tr>\n",
       "      <th>9</th>\n",
       "      <td>[33800, 36525.0, 42150.0, 49000.0, 84900, 43859.5, 8673.6]</td>\n",
       "    </tr>\n",
       "  </tbody>\n",
       "</table>\n",
       "</div>"
      ],
      "text/plain": [
       "                                          Summary Statistics per Decile\n",
       "price_range                                                            \n",
       "0                      [0, 68.75, 2000.0, 3307.5, 4140, 1925.1, 1510.1]\n",
       "1                  [4150, 5100.0, 6220.0, 7300.0, 8000, 6192.7, 1199.9]\n",
       "2              [8020, 9170.0, 10247.5, 10917.5, 11600, 10013.5, 1014.8]\n",
       "3             [11621, 12780.0, 13500.0, 13995.0, 14700, 13378.4, 821.8]\n",
       "4             [14750, 15322.0, 15800.0, 16500.0, 16900, 15843.9, 613.7]\n",
       "5             [16995, 17700.0, 18500.0, 19300.0, 20159, 18501.5, 931.7]\n",
       "6            [20200, 21500.0, 22500.0, 23100.0, 23800, 22261.9, 1034.5]\n",
       "7            [23900, 24800.0, 25600.0, 26500.0, 27500, 25641.4, 1043.5]\n",
       "8            [27502, 28800.0, 30000.0, 31767.5, 33700, 30268.8, 1740.8]\n",
       "9            [33800, 36525.0, 42150.0, 49000.0, 84900, 43859.5, 8673.6]"
      ]
     },
     "execution_count": 52,
     "metadata": {},
     "output_type": "execute_result"
    }
   ],
   "source": [
    "pd.set_option('display.max_colwidth', 60)\n",
    "df.groupby('price_range').price.apply(lambda x: [np.min(x), np.percentile(x, 25), np.median(x),\n",
    "                                                 np.percentile(x, 75), np.max(x),\n",
    "                                                 round(np.mean(x), 1), round(np.std(x), 1)]).to_frame(name='Summary Statistics per Decile')"
   ]
  },
  {
   "cell_type": "markdown",
   "id": "4b3b9a9b",
   "metadata": {},
   "source": [
    "Same procedure again of label encoding and one-hot encoding"
   ]
  },
  {
   "cell_type": "markdown",
   "id": "4a544db5",
   "metadata": {},
   "source": [
    "### Categorization Label Encoding"
   ]
  },
  {
   "cell_type": "code",
   "execution_count": 53,
   "id": "afdea2cc",
   "metadata": {
    "scrolled": true
   },
   "outputs": [],
   "source": [
    "df_cat_le = df.copy()\n",
    "df_cat_le.drop(columns='price', inplace=True)"
   ]
  },
  {
   "cell_type": "code",
   "execution_count": 54,
   "id": "1707fa2c",
   "metadata": {},
   "outputs": [],
   "source": [
    "le = preprocessing.LabelEncoder()\n",
    "\n",
    "df_cat_le.brand_model = le.fit_transform(df_cat_le.brand_model)\n",
    "df_cat_le.state = le.fit_transform(df_cat_le.state)\n",
    "df_cat_le.color = le.fit_transform(df_cat_le.color)"
   ]
  },
  {
   "cell_type": "markdown",
   "id": "52b25c25",
   "metadata": {},
   "source": [
    "### Categorization One-hot Encoding"
   ]
  },
  {
   "cell_type": "code",
   "execution_count": 55,
   "id": "60a11354",
   "metadata": {},
   "outputs": [],
   "source": [
    "df_cat_oh = df.copy()\n",
    "df_cat_oh.drop(columns='price', inplace=True)"
   ]
  },
  {
   "cell_type": "code",
   "execution_count": 56,
   "id": "325124ea",
   "metadata": {},
   "outputs": [],
   "source": [
    "ohe = preprocessing.OneHotEncoder()\n",
    "\n",
    "ohe.fit(df_cat_oh.brand_model.unique().reshape(-1, 1))\n",
    "df_cat_oh = df_cat_oh.join(pd.DataFrame.sparse.from_spmatrix(ohe.transform(np.asarray(df_cat_oh.brand_model).reshape(-1, 1)), columns=ohe.categories_), on=None, how='outer')\n",
    "df_cat_oh.drop(columns=['brand_model'], inplace=True)\n",
    "\n",
    "ohe.fit(df_cat_oh.state.unique().reshape(-1, 1))\n",
    "df_cat_oh = df_cat_oh.join(pd.DataFrame.sparse.from_spmatrix(ohe.transform(np.asarray(df_cat_oh.state).reshape(-1, 1)), columns=ohe.categories_), on=None, how='outer')\n",
    "df_cat_oh.drop(columns=['state'], inplace=True)\n",
    "\n",
    "ohe.fit(df_cat_oh.color.unique().reshape(-1, 1))\n",
    "df_cat_oh = df_cat_oh.join(pd.DataFrame.sparse.from_spmatrix(ohe.transform(np.asarray(df_cat_oh.color).reshape(-1, 1)), columns=ohe.categories_), on=None, how='outer')\n",
    "df_cat_oh.drop(columns=['color'], inplace=True)"
   ]
  },
  {
   "cell_type": "markdown",
   "id": "9417e623",
   "metadata": {},
   "source": [
    "## Tree Classifiers"
   ]
  },
  {
   "cell_type": "code",
   "execution_count": 57,
   "id": "07ce5f76",
   "metadata": {},
   "outputs": [],
   "source": [
    "from sklearn.tree import DecisionTreeClassifier"
   ]
  },
  {
   "cell_type": "code",
   "execution_count": 58,
   "id": "9c4d41df",
   "metadata": {},
   "outputs": [],
   "source": [
    "Xclf_test, Xclf_train, yclf_test, yclf_train = train_test_split(df_cat_le.loc[:, df_cat_le.columns != 'price_range'], df_cat_le.price_range, test_size=0.25)"
   ]
  },
  {
   "cell_type": "code",
   "execution_count": 59,
   "id": "e1597a59",
   "metadata": {},
   "outputs": [
    {
     "name": "stdout",
     "output_type": "stream",
     "text": [
      "scores: [0.442      0.4        0.46       0.432      0.41482966]\n",
      "average 0.4297659318637274\n",
      "std: 0.020870387140283324\n"
     ]
    }
   ],
   "source": [
    "classification_tree = DecisionTreeClassifier(random_state=0)\n",
    "clf_tree_scores = cross_val_score(classification_tree, df_cat_le.loc[:, df_cat_le.columns != 'price_range'], df_cat_le.price_range, cv=strat_shuffle_5)\n",
    "print(f\"scores: {clf_tree_scores}\",\n",
    "      f\"average {np.mean(clf_tree_scores)}\",\n",
    "      f\"std: {np.std(clf_tree_scores)}\",\n",
    "      sep='\\n') "
   ]
  },
  {
   "cell_type": "code",
   "execution_count": 60,
   "id": "2970b905",
   "metadata": {},
   "outputs": [
    {
     "data": {
      "text/plain": [
       "DecisionTreeClassifier(random_state=0)"
      ]
     },
     "execution_count": 60,
     "metadata": {},
     "output_type": "execute_result"
    }
   ],
   "source": [
    "classification_tree.fit(Xclf_train, yclf_train)"
   ]
  },
  {
   "cell_type": "code",
   "execution_count": 61,
   "id": "02055894",
   "metadata": {},
   "outputs": [
    {
     "data": {
      "text/plain": [
       "0.35699039487726786"
      ]
     },
     "execution_count": 61,
     "metadata": {},
     "output_type": "execute_result"
    }
   ],
   "source": [
    "classification_tree.score(Xclf_test, yclf_test)"
   ]
  },
  {
   "cell_type": "code",
   "execution_count": 62,
   "id": "5426ed6e",
   "metadata": {},
   "outputs": [
    {
     "data": {
      "text/plain": [
       "319"
      ]
     },
     "execution_count": 62,
     "metadata": {},
     "output_type": "execute_result"
    }
   ],
   "source": [
    "classification_tree.get_n_leaves()"
   ]
  },
  {
   "cell_type": "code",
   "execution_count": 63,
   "id": "d978b066",
   "metadata": {},
   "outputs": [
    {
     "name": "stdout",
     "output_type": "stream",
     "text": [
      "scores: [0.444      0.436      0.41       0.41       0.43687375]\n",
      "average 0.427374749498998\n",
      "std: 0.014455370653565591\n"
     ]
    }
   ],
   "source": [
    "clf_tree_scores = cross_val_score(classification_tree, df_cat_le.loc[:, df_cat_le.columns != 'price_range'], df_cat_le.price_range, cv=strat_shuffle_5)\n",
    "print(f\"scores: {clf_tree_scores}\",\n",
    "      f\"average {np.mean(clf_tree_scores)}\",\n",
    "      f\"std: {np.std(clf_tree_scores)}\",\n",
    "      sep='\\n') "
   ]
  },
  {
   "cell_type": "markdown",
   "id": "194cc605",
   "metadata": {},
   "source": [
    "## Lasso with Leaves Results"
   ]
  },
  {
   "cell_type": "code",
   "execution_count": 64,
   "id": "ce4bcc3a",
   "metadata": {},
   "outputs": [],
   "source": [
    "df_le['leaf'] = regression_tree.apply(df_le.loc[:, df_le.columns != 'price'])"
   ]
  },
  {
   "cell_type": "code",
   "execution_count": 65,
   "id": "4efee44b",
   "metadata": {},
   "outputs": [],
   "source": [
    "df_cat_le['leaf'] = classification_tree.predict(df_cat_le.loc[:, df_cat_le.columns != 'price_range'])"
   ]
  },
  {
   "cell_type": "markdown",
   "id": "3c2d763e",
   "metadata": {},
   "source": [
    "* The Regression tree outputted 73 different leaves, so we have one value for each leaf\n",
    "* The Classification tree outputted several leaves as well, but we'll use it's variable prediction instead"
   ]
  },
  {
   "cell_type": "markdown",
   "id": "2f176301",
   "metadata": {},
   "source": [
    "### Lasso with regression results"
   ]
  },
  {
   "cell_type": "code",
   "execution_count": 66,
   "id": "f65c708a",
   "metadata": {},
   "outputs": [],
   "source": [
    "from sklearn.linear_model import LassoCV"
   ]
  },
  {
   "cell_type": "code",
   "execution_count": 67,
   "id": "7863d6bb",
   "metadata": {},
   "outputs": [],
   "source": [
    "variables = [i for i in df_le.columns if i != 'price']"
   ]
  },
  {
   "cell_type": "code",
   "execution_count": 68,
   "id": "edd897d8",
   "metadata": {},
   "outputs": [],
   "source": [
    "X_train, X_test, y_train, y_test = train_test_split(df_le[variables], df_le.price, train_size=0.8)"
   ]
  },
  {
   "cell_type": "code",
   "execution_count": 69,
   "id": "a959e142",
   "metadata": {
    "scrolled": true
   },
   "outputs": [
    {
     "name": "stderr",
     "output_type": "stream",
     "text": [
      "/Users/javiermazonechevarria/.pyenv/versions/3.8.9/envs/test1/lib/python3.8/site-packages/sklearn/linear_model/_coordinate_descent.py:631: UserWarning: Coordinate descent with alpha=0 may lead to unexpected results and is discouraged.\n",
      "  model = cd_fast.enet_coordinate_descent_gram(\n",
      "/Users/javiermazonechevarria/.pyenv/versions/3.8.9/envs/test1/lib/python3.8/site-packages/sklearn/linear_model/_coordinate_descent.py:631: ConvergenceWarning: Objective did not converge. You might want to increase the number of iterations. Duality gap: 96266114923.35037, tolerance: 29292038.166340753\n",
      "  model = cd_fast.enet_coordinate_descent_gram(\n",
      "/Users/javiermazonechevarria/.pyenv/versions/3.8.9/envs/test1/lib/python3.8/site-packages/sklearn/linear_model/_coordinate_descent.py:631: UserWarning: Coordinate descent with alpha=0 may lead to unexpected results and is discouraged.\n",
      "  model = cd_fast.enet_coordinate_descent_gram(\n",
      "/Users/javiermazonechevarria/.pyenv/versions/3.8.9/envs/test1/lib/python3.8/site-packages/sklearn/linear_model/_coordinate_descent.py:631: ConvergenceWarning: Objective did not converge. You might want to increase the number of iterations. Duality gap: 95461344722.29355, tolerance: 29443200.033844214\n",
      "  model = cd_fast.enet_coordinate_descent_gram(\n",
      "/Users/javiermazonechevarria/.pyenv/versions/3.8.9/envs/test1/lib/python3.8/site-packages/sklearn/linear_model/_coordinate_descent.py:631: UserWarning: Coordinate descent with alpha=0 may lead to unexpected results and is discouraged.\n",
      "  model = cd_fast.enet_coordinate_descent_gram(\n",
      "/Users/javiermazonechevarria/.pyenv/versions/3.8.9/envs/test1/lib/python3.8/site-packages/sklearn/linear_model/_coordinate_descent.py:631: ConvergenceWarning: Objective did not converge. You might want to increase the number of iterations. Duality gap: 95290326358.79861, tolerance: 29187551.275281955\n",
      "  model = cd_fast.enet_coordinate_descent_gram(\n",
      "/Users/javiermazonechevarria/.pyenv/versions/3.8.9/envs/test1/lib/python3.8/site-packages/sklearn/linear_model/_coordinate_descent.py:631: UserWarning: Coordinate descent with alpha=0 may lead to unexpected results and is discouraged.\n",
      "  model = cd_fast.enet_coordinate_descent_gram(\n",
      "/Users/javiermazonechevarria/.pyenv/versions/3.8.9/envs/test1/lib/python3.8/site-packages/sklearn/linear_model/_coordinate_descent.py:631: ConvergenceWarning: Objective did not converge. You might want to increase the number of iterations. Duality gap: 92543941196.00278, tolerance: 29732735.949814618\n",
      "  model = cd_fast.enet_coordinate_descent_gram(\n",
      "/Users/javiermazonechevarria/.pyenv/versions/3.8.9/envs/test1/lib/python3.8/site-packages/sklearn/linear_model/_coordinate_descent.py:631: UserWarning: Coordinate descent with alpha=0 may lead to unexpected results and is discouraged.\n",
      "  model = cd_fast.enet_coordinate_descent_gram(\n",
      "/Users/javiermazonechevarria/.pyenv/versions/3.8.9/envs/test1/lib/python3.8/site-packages/sklearn/linear_model/_coordinate_descent.py:631: ConvergenceWarning: Objective did not converge. You might want to increase the number of iterations. Duality gap: 93197192289.31815, tolerance: 29017258.921367835\n",
      "  model = cd_fast.enet_coordinate_descent_gram(\n",
      "/Users/javiermazonechevarria/.pyenv/versions/3.8.9/envs/test1/lib/python3.8/site-packages/sklearn/linear_model/_coordinate_descent.py:1713: UserWarning: With alpha=0, this algorithm does not converge well. You are advised to use the LinearRegression estimator\n",
      "  model.fit(X, y)\n",
      "/Users/javiermazonechevarria/.pyenv/versions/3.8.9/envs/test1/lib/python3.8/site-packages/sklearn/linear_model/_coordinate_descent.py:645: UserWarning: Coordinate descent with no regularization may lead to unexpected results and is discouraged.\n",
      "  model = cd_fast.enet_coordinate_descent(\n"
     ]
    },
    {
     "name": "stdout",
     "output_type": "stream",
     "text": [
      "best penalization term: 0.0\n",
      "R^2: 0.3833502602746651\n",
      "MSE: 86620354.09343734\n",
      "MAE: 6701.684343688782\n"
     ]
    },
    {
     "name": "stderr",
     "output_type": "stream",
     "text": [
      "/Users/javiermazonechevarria/.pyenv/versions/3.8.9/envs/test1/lib/python3.8/site-packages/sklearn/linear_model/_coordinate_descent.py:645: ConvergenceWarning: Objective did not converge. You might want to increase the number of iterations, check the scale of the features or consider increasing regularisation. Duality gap: 1.183e+11, tolerance: 3.667e+07 Linear regression models with null weight for the l1 regularization term are more efficiently fitted using one of the solvers implemented in sklearn.linear_model.Ridge/RidgeCV instead.\n",
      "  model = cd_fast.enet_coordinate_descent(\n"
     ]
    }
   ],
   "source": [
    "lassocv_model = LassoCV(alphas=np.arange(0, 5, 0.2), max_iter=5000, tol=0.0001, cv=shuffle_5, random_state=0).fit(df_le[variables], df_le.price)\n",
    "print(f'best penalization term: {lassocv_model.alpha_}',\n",
    "      f'R^2: {lassocv_model.score(X_test, y_test)}',\n",
    "      f'MSE: {sum((lassocv_model.predict(X_test) - y_test)**2) / len(y_test)}',\n",
    "      f'MAE: {sum(abs(lassocv_model.predict(X_test) - y_test)) / len(y_test)}',\n",
    "      sep='\\n')"
   ]
  },
  {
   "cell_type": "code",
   "execution_count": 70,
   "id": "e1b543a6",
   "metadata": {
    "scrolled": true
   },
   "outputs": [
    {
     "name": "stdout",
     "output_type": "stream",
     "text": [
      "best penalization term: 0.0\n",
      "R^2: 0.3833502602746651\n",
      "MSE: 86620354.09343734\n",
      "MAE: 6701.684343688782\n"
     ]
    }
   ],
   "source": [
    "print(f'best penalization term: {lassocv_model.alpha_}',\n",
    "      f'R^2: {lassocv_model.score(X_test, y_test)}',\n",
    "      f'MSE: {sum((lassocv_model.predict(X_test) - y_test)**2) / len(y_test)}',\n",
    "      f'MAE: {sum(abs(lassocv_model.predict(X_test) - y_test)) / len(y_test)}',\n",
    "      sep='\\n')\n",
    "\n"
   ]
  },
  {
   "cell_type": "markdown",
   "id": "cc516a93",
   "metadata": {},
   "source": [
    "### Ridge with regression results"
   ]
  },
  {
   "cell_type": "code",
   "execution_count": 71,
   "id": "f4b53cde",
   "metadata": {},
   "outputs": [],
   "source": [
    "from sklearn.linear_model import RidgeCV"
   ]
  },
  {
   "cell_type": "code",
   "execution_count": 72,
   "id": "e8f67d9d",
   "metadata": {},
   "outputs": [],
   "source": [
    "ridgecv_model = RidgeCV(alphas=np.arange(0, 2, 0.1), cv=shuffle_5).fit(df_le[variables], df_le.price)"
   ]
  },
  {
   "cell_type": "code",
   "execution_count": 73,
   "id": "f93137fe",
   "metadata": {},
   "outputs": [
    {
     "name": "stdout",
     "output_type": "stream",
     "text": [
      "best penalization term: 0.0\n",
      "R^2: 0.3833502602746647\n",
      "MSE: 86620354.09343743\n",
      "MAE: 6701.684343688781\n"
     ]
    }
   ],
   "source": [
    "print(f'best penalization term: {ridgecv_model.alpha_}',\n",
    "      f'R^2: {ridgecv_model.score(X_test, y_test)}',\n",
    "      f'MSE: {sum((ridgecv_model.predict(X_test) - y_test)**2) / len(y_test)}',\n",
    "      f'MAE: {sum(abs(ridgecv_model.predict(X_test) - y_test)) / len(y_test)}',\n",
    "      sep='\\n')"
   ]
  },
  {
   "cell_type": "markdown",
   "id": "2c679dad",
   "metadata": {},
   "source": [
    "### Lasso with classification results"
   ]
  },
  {
   "cell_type": "code",
   "execution_count": 74,
   "id": "ef12163e",
   "metadata": {},
   "outputs": [],
   "source": [
    "df_cat_le.drop(columns=['price_range'], inplace=True)\n",
    "df_cat_le['price'] = df.price"
   ]
  },
  {
   "cell_type": "code",
   "execution_count": 75,
   "id": "fa94385c",
   "metadata": {},
   "outputs": [],
   "source": [
    "variables = [i for i in df_cat_le.columns if i != 'price']"
   ]
  },
  {
   "cell_type": "code",
   "execution_count": 76,
   "id": "b6855847",
   "metadata": {},
   "outputs": [],
   "source": [
    "X_train, X_test, y_train, y_test = train_test_split(df_cat_le[variables], df_cat_le.price, train_size=0.8)"
   ]
  },
  {
   "cell_type": "code",
   "execution_count": 77,
   "id": "e4b4bc45",
   "metadata": {},
   "outputs": [
    {
     "name": "stderr",
     "output_type": "stream",
     "text": [
      "/Users/javiermazonechevarria/.pyenv/versions/3.8.9/envs/test1/lib/python3.8/site-packages/sklearn/linear_model/_coordinate_descent.py:631: UserWarning: Coordinate descent with alpha=0 may lead to unexpected results and is discouraged.\n",
      "  model = cd_fast.enet_coordinate_descent_gram(\n",
      "/Users/javiermazonechevarria/.pyenv/versions/3.8.9/envs/test1/lib/python3.8/site-packages/sklearn/linear_model/_coordinate_descent.py:631: ConvergenceWarning: Objective did not converge. You might want to increase the number of iterations. Duality gap: 77381795771.09863, tolerance: 29639823.814210933\n",
      "  model = cd_fast.enet_coordinate_descent_gram(\n",
      "/Users/javiermazonechevarria/.pyenv/versions/3.8.9/envs/test1/lib/python3.8/site-packages/sklearn/linear_model/_coordinate_descent.py:631: UserWarning: Coordinate descent with alpha=0 may lead to unexpected results and is discouraged.\n",
      "  model = cd_fast.enet_coordinate_descent_gram(\n",
      "/Users/javiermazonechevarria/.pyenv/versions/3.8.9/envs/test1/lib/python3.8/site-packages/sklearn/linear_model/_coordinate_descent.py:631: ConvergenceWarning: Objective did not converge. You might want to increase the number of iterations. Duality gap: 74535477091.34933, tolerance: 29715673.652328372\n",
      "  model = cd_fast.enet_coordinate_descent_gram(\n",
      "/Users/javiermazonechevarria/.pyenv/versions/3.8.9/envs/test1/lib/python3.8/site-packages/sklearn/linear_model/_coordinate_descent.py:631: UserWarning: Coordinate descent with alpha=0 may lead to unexpected results and is discouraged.\n",
      "  model = cd_fast.enet_coordinate_descent_gram(\n",
      "/Users/javiermazonechevarria/.pyenv/versions/3.8.9/envs/test1/lib/python3.8/site-packages/sklearn/linear_model/_coordinate_descent.py:631: ConvergenceWarning: Objective did not converge. You might want to increase the number of iterations. Duality gap: 76760661546.84445, tolerance: 29423738.87669945\n",
      "  model = cd_fast.enet_coordinate_descent_gram(\n",
      "/Users/javiermazonechevarria/.pyenv/versions/3.8.9/envs/test1/lib/python3.8/site-packages/sklearn/linear_model/_coordinate_descent.py:631: UserWarning: Coordinate descent with alpha=0 may lead to unexpected results and is discouraged.\n",
      "  model = cd_fast.enet_coordinate_descent_gram(\n",
      "/Users/javiermazonechevarria/.pyenv/versions/3.8.9/envs/test1/lib/python3.8/site-packages/sklearn/linear_model/_coordinate_descent.py:631: ConvergenceWarning: Objective did not converge. You might want to increase the number of iterations. Duality gap: 73261305046.43988, tolerance: 29541913.43548362\n",
      "  model = cd_fast.enet_coordinate_descent_gram(\n",
      "/Users/javiermazonechevarria/.pyenv/versions/3.8.9/envs/test1/lib/python3.8/site-packages/sklearn/linear_model/_coordinate_descent.py:631: UserWarning: Coordinate descent with alpha=0 may lead to unexpected results and is discouraged.\n",
      "  model = cd_fast.enet_coordinate_descent_gram(\n",
      "/Users/javiermazonechevarria/.pyenv/versions/3.8.9/envs/test1/lib/python3.8/site-packages/sklearn/linear_model/_coordinate_descent.py:631: ConvergenceWarning: Objective did not converge. You might want to increase the number of iterations. Duality gap: 71507095156.65414, tolerance: 28339420.927735962\n",
      "  model = cd_fast.enet_coordinate_descent_gram(\n",
      "/Users/javiermazonechevarria/.pyenv/versions/3.8.9/envs/test1/lib/python3.8/site-packages/sklearn/linear_model/_coordinate_descent.py:1713: UserWarning: With alpha=0, this algorithm does not converge well. You are advised to use the LinearRegression estimator\n",
      "  model.fit(X, y)\n",
      "/Users/javiermazonechevarria/.pyenv/versions/3.8.9/envs/test1/lib/python3.8/site-packages/sklearn/linear_model/_coordinate_descent.py:645: UserWarning: Coordinate descent with no regularization may lead to unexpected results and is discouraged.\n",
      "  model = cd_fast.enet_coordinate_descent(\n",
      "/Users/javiermazonechevarria/.pyenv/versions/3.8.9/envs/test1/lib/python3.8/site-packages/sklearn/linear_model/_coordinate_descent.py:645: ConvergenceWarning: Objective did not converge. You might want to increase the number of iterations, check the scale of the features or consider increasing regularisation. Duality gap: 9.343e+10, tolerance: 3.667e+07 Linear regression models with null weight for the l1 regularization term are more efficiently fitted using one of the solvers implemented in sklearn.linear_model.Ridge/RidgeCV instead.\n",
      "  model = cd_fast.enet_coordinate_descent(\n"
     ]
    }
   ],
   "source": [
    "lassocv_model = LassoCV(alphas=np.arange(0, 5, 0.2), max_iter=5000, tol=0.0001, cv=shuffle_5, random_state=0).fit(df_cat_le[variables], df_cat_le.price)"
   ]
  },
  {
   "cell_type": "code",
   "execution_count": 78,
   "id": "dc2681bc",
   "metadata": {},
   "outputs": [
    {
     "name": "stdout",
     "output_type": "stream",
     "text": [
      "best penalization term: 0.0\n",
      "R^2: 0.49085667918956577\n",
      "MSE: 71043670.59033518\n",
      "MAE: 5556.094430405095\n"
     ]
    }
   ],
   "source": [
    "print(f'best penalization term: {lassocv_model.alpha_}',\n",
    "      f'R^2: {lassocv_model.score(X_test, y_test)}',\n",
    "      f'MSE: {sum((lassocv_model.predict(X_test) - y_test)**2) / len(y_test)}',\n",
    "      f'MAE: {sum(abs(lassocv_model.predict(X_test) - y_test)) / len(y_test)}',\n",
    "      sep='\\n')\n",
    "\n"
   ]
  },
  {
   "cell_type": "markdown",
   "id": "bd3a076f",
   "metadata": {},
   "source": [
    "### Ridge with classification results"
   ]
  },
  {
   "cell_type": "code",
   "execution_count": 79,
   "id": "99b8fca0",
   "metadata": {},
   "outputs": [],
   "source": [
    "ridgecv_model = RidgeCV(alphas=np.arange(0, 2, 0.1), cv=5).fit(df_cat_le[variables], df_cat_le.price)"
   ]
  },
  {
   "cell_type": "code",
   "execution_count": 80,
   "id": "c973ea84",
   "metadata": {},
   "outputs": [
    {
     "name": "stdout",
     "output_type": "stream",
     "text": [
      "best penalization term: 1.9000000000000001\n",
      "R^2: 0.4908294402864616\n",
      "MSE: 71047471.38979629\n",
      "MAE: 5556.584623248102\n"
     ]
    }
   ],
   "source": [
    "print(f'best penalization term: {ridgecv_model.alpha_}',\n",
    "      f'R^2: {ridgecv_model.score(X_test, y_test)}',\n",
    "      f'MSE: {sum((ridgecv_model.predict(X_test) - y_test)**2) / len(y_test)}',\n",
    "      f'MAE: {sum(abs(ridgecv_model.predict(X_test) - y_test)) / len(y_test)}',\n",
    "      sep='\\n')"
   ]
  },
  {
   "cell_type": "code",
   "execution_count": 81,
   "id": "d9ac36ce",
   "metadata": {},
   "outputs": [
    {
     "data": {
      "text/plain": [
       "Index(['year', 'title_status', 'mileage', 'color', 'state', 'condition',\n",
       "       'brand_model', 'leaf'],\n",
       "      dtype='object')"
      ]
     },
     "execution_count": 81,
     "metadata": {},
     "output_type": "execute_result"
    }
   ],
   "source": [
    "\n",
    "X_train.columns"
   ]
  },
  {
   "cell_type": "code",
   "execution_count": null,
   "id": "ecf706e5",
   "metadata": {},
   "outputs": [],
   "source": []
  },
  {
   "cell_type": "markdown",
   "id": "8420d4ed",
   "metadata": {},
   "source": [
    "## K-Means"
   ]
  },
  {
   "cell_type": "code",
   "execution_count": 82,
   "id": "4d91551d",
   "metadata": {},
   "outputs": [],
   "source": [
    "from sklearn.cluster import KMeans"
   ]
  },
  {
   "cell_type": "code",
   "execution_count": 83,
   "id": "41aaae32",
   "metadata": {},
   "outputs": [],
   "source": [
    "df_cluster = df_le.drop(columns=['leaf', 'brand_model'])\n",
    "df_cluster['brand_model'] = df.brand_model"
   ]
  },
  {
   "cell_type": "code",
   "execution_count": 84,
   "id": "34e7d4d6",
   "metadata": {},
   "outputs": [
    {
     "data": {
      "text/html": [
       "<div>\n",
       "<style scoped>\n",
       "    .dataframe tbody tr th:only-of-type {\n",
       "        vertical-align: middle;\n",
       "    }\n",
       "\n",
       "    .dataframe tbody tr th {\n",
       "        vertical-align: top;\n",
       "    }\n",
       "\n",
       "    .dataframe thead th {\n",
       "        text-align: right;\n",
       "    }\n",
       "</style>\n",
       "<table border=\"1\" class=\"dataframe\">\n",
       "  <thead>\n",
       "    <tr style=\"text-align: right;\">\n",
       "      <th></th>\n",
       "      <th>price</th>\n",
       "      <th>year</th>\n",
       "      <th>title_status</th>\n",
       "      <th>mileage</th>\n",
       "      <th>color</th>\n",
       "      <th>state</th>\n",
       "      <th>condition</th>\n",
       "      <th>brand_model</th>\n",
       "    </tr>\n",
       "  </thead>\n",
       "  <tbody>\n",
       "    <tr>\n",
       "      <th>0</th>\n",
       "      <td>6300</td>\n",
       "      <td>2008</td>\n",
       "      <td>1</td>\n",
       "      <td>274117.0</td>\n",
       "      <td>2</td>\n",
       "      <td>24</td>\n",
       "      <td>14400</td>\n",
       "      <td>toyota_cruiser</td>\n",
       "    </tr>\n",
       "    <tr>\n",
       "      <th>1</th>\n",
       "      <td>2899</td>\n",
       "      <td>2011</td>\n",
       "      <td>1</td>\n",
       "      <td>190552.0</td>\n",
       "      <td>39</td>\n",
       "      <td>35</td>\n",
       "      <td>8640</td>\n",
       "      <td>ford_se</td>\n",
       "    </tr>\n",
       "    <tr>\n",
       "      <th>2</th>\n",
       "      <td>5350</td>\n",
       "      <td>2018</td>\n",
       "      <td>1</td>\n",
       "      <td>39590.0</td>\n",
       "      <td>39</td>\n",
       "      <td>7</td>\n",
       "      <td>2880</td>\n",
       "      <td>dodge_mpv</td>\n",
       "    </tr>\n",
       "    <tr>\n",
       "      <th>3</th>\n",
       "      <td>25000</td>\n",
       "      <td>2014</td>\n",
       "      <td>1</td>\n",
       "      <td>64146.0</td>\n",
       "      <td>4</td>\n",
       "      <td>39</td>\n",
       "      <td>1320</td>\n",
       "      <td>ford_door</td>\n",
       "    </tr>\n",
       "    <tr>\n",
       "      <th>4</th>\n",
       "      <td>27700</td>\n",
       "      <td>2018</td>\n",
       "      <td>1</td>\n",
       "      <td>6654.0</td>\n",
       "      <td>34</td>\n",
       "      <td>6</td>\n",
       "      <td>1320</td>\n",
       "      <td>chevrolet_1500</td>\n",
       "    </tr>\n",
       "  </tbody>\n",
       "</table>\n",
       "</div>"
      ],
      "text/plain": [
       "   price  year  title_status   mileage  color  state  condition  \\\n",
       "0   6300  2008             1  274117.0      2     24      14400   \n",
       "1   2899  2011             1  190552.0     39     35       8640   \n",
       "2   5350  2018             1   39590.0     39      7       2880   \n",
       "3  25000  2014             1   64146.0      4     39       1320   \n",
       "4  27700  2018             1    6654.0     34      6       1320   \n",
       "\n",
       "      brand_model  \n",
       "0  toyota_cruiser  \n",
       "1         ford_se  \n",
       "2       dodge_mpv  \n",
       "3       ford_door  \n",
       "4  chevrolet_1500  "
      ]
     },
     "execution_count": 84,
     "metadata": {},
     "output_type": "execute_result"
    }
   ],
   "source": [
    "df_cluster.head()"
   ]
  },
  {
   "cell_type": "code",
   "execution_count": 85,
   "id": "8bb28777",
   "metadata": {},
   "outputs": [
    {
     "data": {
      "text/plain": [
       "Index(['price', 'year', 'title_status', 'mileage', 'color', 'state',\n",
       "       'condition', 'brand_model'],\n",
       "      dtype='object')"
      ]
     },
     "execution_count": 85,
     "metadata": {},
     "output_type": "execute_result"
    }
   ],
   "source": [
    "df_cluster.columns"
   ]
  },
  {
   "cell_type": "code",
   "execution_count": 86,
   "id": "132c7a8c",
   "metadata": {},
   "outputs": [
    {
     "data": {
      "text/html": [
       "<div>\n",
       "<style scoped>\n",
       "    .dataframe tbody tr th:only-of-type {\n",
       "        vertical-align: middle;\n",
       "    }\n",
       "\n",
       "    .dataframe tbody tr th {\n",
       "        vertical-align: top;\n",
       "    }\n",
       "\n",
       "    .dataframe thead th {\n",
       "        text-align: right;\n",
       "    }\n",
       "</style>\n",
       "<table border=\"1\" class=\"dataframe\">\n",
       "  <thead>\n",
       "    <tr style=\"text-align: right;\">\n",
       "      <th></th>\n",
       "      <th>price</th>\n",
       "      <th>year</th>\n",
       "      <th>title_status</th>\n",
       "      <th>mileage</th>\n",
       "      <th>color</th>\n",
       "      <th>state</th>\n",
       "      <th>condition</th>\n",
       "    </tr>\n",
       "  </thead>\n",
       "  <tbody>\n",
       "    <tr>\n",
       "      <th>0</th>\n",
       "      <td>6300</td>\n",
       "      <td>2008</td>\n",
       "      <td>1</td>\n",
       "      <td>274117.0</td>\n",
       "      <td>2</td>\n",
       "      <td>24</td>\n",
       "      <td>14400</td>\n",
       "    </tr>\n",
       "    <tr>\n",
       "      <th>1</th>\n",
       "      <td>2899</td>\n",
       "      <td>2011</td>\n",
       "      <td>1</td>\n",
       "      <td>190552.0</td>\n",
       "      <td>39</td>\n",
       "      <td>35</td>\n",
       "      <td>8640</td>\n",
       "    </tr>\n",
       "    <tr>\n",
       "      <th>2</th>\n",
       "      <td>5350</td>\n",
       "      <td>2018</td>\n",
       "      <td>1</td>\n",
       "      <td>39590.0</td>\n",
       "      <td>39</td>\n",
       "      <td>7</td>\n",
       "      <td>2880</td>\n",
       "    </tr>\n",
       "    <tr>\n",
       "      <th>3</th>\n",
       "      <td>25000</td>\n",
       "      <td>2014</td>\n",
       "      <td>1</td>\n",
       "      <td>64146.0</td>\n",
       "      <td>4</td>\n",
       "      <td>39</td>\n",
       "      <td>1320</td>\n",
       "    </tr>\n",
       "    <tr>\n",
       "      <th>4</th>\n",
       "      <td>27700</td>\n",
       "      <td>2018</td>\n",
       "      <td>1</td>\n",
       "      <td>6654.0</td>\n",
       "      <td>34</td>\n",
       "      <td>6</td>\n",
       "      <td>1320</td>\n",
       "    </tr>\n",
       "    <tr>\n",
       "      <th>...</th>\n",
       "      <td>...</td>\n",
       "      <td>...</td>\n",
       "      <td>...</td>\n",
       "      <td>...</td>\n",
       "      <td>...</td>\n",
       "      <td>...</td>\n",
       "      <td>...</td>\n",
       "    </tr>\n",
       "    <tr>\n",
       "      <th>2494</th>\n",
       "      <td>7800</td>\n",
       "      <td>2019</td>\n",
       "      <td>1</td>\n",
       "      <td>23609.0</td>\n",
       "      <td>34</td>\n",
       "      <td>3</td>\n",
       "      <td>1440</td>\n",
       "    </tr>\n",
       "    <tr>\n",
       "      <th>2495</th>\n",
       "      <td>9200</td>\n",
       "      <td>2018</td>\n",
       "      <td>1</td>\n",
       "      <td>34553.0</td>\n",
       "      <td>39</td>\n",
       "      <td>6</td>\n",
       "      <td>1260</td>\n",
       "    </tr>\n",
       "    <tr>\n",
       "      <th>2496</th>\n",
       "      <td>9200</td>\n",
       "      <td>2018</td>\n",
       "      <td>1</td>\n",
       "      <td>31594.0</td>\n",
       "      <td>39</td>\n",
       "      <td>6</td>\n",
       "      <td>1260</td>\n",
       "    </tr>\n",
       "    <tr>\n",
       "      <th>2497</th>\n",
       "      <td>9200</td>\n",
       "      <td>2018</td>\n",
       "      <td>1</td>\n",
       "      <td>32557.0</td>\n",
       "      <td>2</td>\n",
       "      <td>6</td>\n",
       "      <td>2880</td>\n",
       "    </tr>\n",
       "    <tr>\n",
       "      <th>2498</th>\n",
       "      <td>9200</td>\n",
       "      <td>2018</td>\n",
       "      <td>1</td>\n",
       "      <td>31371.0</td>\n",
       "      <td>39</td>\n",
       "      <td>6</td>\n",
       "      <td>1260</td>\n",
       "    </tr>\n",
       "  </tbody>\n",
       "</table>\n",
       "<p>2499 rows × 7 columns</p>\n",
       "</div>"
      ],
      "text/plain": [
       "      price  year  title_status   mileage  color  state  condition\n",
       "0      6300  2008             1  274117.0      2     24      14400\n",
       "1      2899  2011             1  190552.0     39     35       8640\n",
       "2      5350  2018             1   39590.0     39      7       2880\n",
       "3     25000  2014             1   64146.0      4     39       1320\n",
       "4     27700  2018             1    6654.0     34      6       1320\n",
       "...     ...   ...           ...       ...    ...    ...        ...\n",
       "2494   7800  2019             1   23609.0     34      3       1440\n",
       "2495   9200  2018             1   34553.0     39      6       1260\n",
       "2496   9200  2018             1   31594.0     39      6       1260\n",
       "2497   9200  2018             1   32557.0      2      6       2880\n",
       "2498   9200  2018             1   31371.0     39      6       1260\n",
       "\n",
       "[2499 rows x 7 columns]"
      ]
     },
     "execution_count": 86,
     "metadata": {},
     "output_type": "execute_result"
    }
   ],
   "source": [
    "df_cluster[['price', 'year', 'title_status', 'mileage', 'color', 'state', 'condition']]"
   ]
  },
  {
   "cell_type": "code",
   "execution_count": 87,
   "id": "33699c56",
   "metadata": {},
   "outputs": [
    {
     "data": {
      "text/plain": [
       "array([ 5,  3, 11, ..., 11, 11, 11], dtype=int32)"
      ]
     },
     "execution_count": 87,
     "metadata": {},
     "output_type": "execute_result"
    }
   ],
   "source": [
    "clusters = KMeans(n_clusters=15)\n",
    "clusters.fit_predict(df_cluster[['price', 'year', 'title_status', 'mileage', 'color', 'state', 'condition']])"
   ]
  },
  {
   "cell_type": "code",
   "execution_count": 88,
   "id": "f8a2674b",
   "metadata": {},
   "outputs": [],
   "source": [
    "df_cluster['cluster'] = clusters.fit_predict(df_cluster[['price', 'year', 'title_status', 'mileage', 'color', 'state', 'condition']])"
   ]
  },
  {
   "cell_type": "code",
   "execution_count": 89,
   "id": "12903f1e",
   "metadata": {},
   "outputs": [
    {
     "data": {
      "text/html": [
       "<div>\n",
       "<style scoped>\n",
       "    .dataframe tbody tr th:only-of-type {\n",
       "        vertical-align: middle;\n",
       "    }\n",
       "\n",
       "    .dataframe tbody tr th {\n",
       "        vertical-align: top;\n",
       "    }\n",
       "\n",
       "    .dataframe thead th {\n",
       "        text-align: right;\n",
       "    }\n",
       "</style>\n",
       "<table border=\"1\" class=\"dataframe\">\n",
       "  <thead>\n",
       "    <tr style=\"text-align: right;\">\n",
       "      <th></th>\n",
       "      <th>price</th>\n",
       "      <th>year</th>\n",
       "      <th>title_status</th>\n",
       "      <th>mileage</th>\n",
       "      <th>color</th>\n",
       "      <th>state</th>\n",
       "      <th>condition</th>\n",
       "      <th>brand_model</th>\n",
       "      <th>cluster</th>\n",
       "    </tr>\n",
       "  </thead>\n",
       "  <tbody>\n",
       "    <tr>\n",
       "      <th>0</th>\n",
       "      <td>6300</td>\n",
       "      <td>2008</td>\n",
       "      <td>1</td>\n",
       "      <td>274117.0</td>\n",
       "      <td>2</td>\n",
       "      <td>24</td>\n",
       "      <td>14400</td>\n",
       "      <td>toyota_cruiser</td>\n",
       "      <td>8</td>\n",
       "    </tr>\n",
       "    <tr>\n",
       "      <th>1</th>\n",
       "      <td>2899</td>\n",
       "      <td>2011</td>\n",
       "      <td>1</td>\n",
       "      <td>190552.0</td>\n",
       "      <td>39</td>\n",
       "      <td>35</td>\n",
       "      <td>8640</td>\n",
       "      <td>ford_se</td>\n",
       "      <td>10</td>\n",
       "    </tr>\n",
       "    <tr>\n",
       "      <th>2</th>\n",
       "      <td>5350</td>\n",
       "      <td>2018</td>\n",
       "      <td>1</td>\n",
       "      <td>39590.0</td>\n",
       "      <td>39</td>\n",
       "      <td>7</td>\n",
       "      <td>2880</td>\n",
       "      <td>dodge_mpv</td>\n",
       "      <td>0</td>\n",
       "    </tr>\n",
       "    <tr>\n",
       "      <th>3</th>\n",
       "      <td>25000</td>\n",
       "      <td>2014</td>\n",
       "      <td>1</td>\n",
       "      <td>64146.0</td>\n",
       "      <td>4</td>\n",
       "      <td>39</td>\n",
       "      <td>1320</td>\n",
       "      <td>ford_door</td>\n",
       "      <td>9</td>\n",
       "    </tr>\n",
       "    <tr>\n",
       "      <th>4</th>\n",
       "      <td>27700</td>\n",
       "      <td>2018</td>\n",
       "      <td>1</td>\n",
       "      <td>6654.0</td>\n",
       "      <td>34</td>\n",
       "      <td>6</td>\n",
       "      <td>1320</td>\n",
       "      <td>chevrolet_1500</td>\n",
       "      <td>5</td>\n",
       "    </tr>\n",
       "    <tr>\n",
       "      <th>...</th>\n",
       "      <td>...</td>\n",
       "      <td>...</td>\n",
       "      <td>...</td>\n",
       "      <td>...</td>\n",
       "      <td>...</td>\n",
       "      <td>...</td>\n",
       "      <td>...</td>\n",
       "      <td>...</td>\n",
       "      <td>...</td>\n",
       "    </tr>\n",
       "    <tr>\n",
       "      <th>2494</th>\n",
       "      <td>7800</td>\n",
       "      <td>2019</td>\n",
       "      <td>1</td>\n",
       "      <td>23609.0</td>\n",
       "      <td>34</td>\n",
       "      <td>3</td>\n",
       "      <td>1440</td>\n",
       "      <td>nissan_versa</td>\n",
       "      <td>12</td>\n",
       "    </tr>\n",
       "    <tr>\n",
       "      <th>2495</th>\n",
       "      <td>9200</td>\n",
       "      <td>2018</td>\n",
       "      <td>1</td>\n",
       "      <td>34553.0</td>\n",
       "      <td>39</td>\n",
       "      <td>6</td>\n",
       "      <td>1260</td>\n",
       "      <td>nissan_versa</td>\n",
       "      <td>0</td>\n",
       "    </tr>\n",
       "    <tr>\n",
       "      <th>2496</th>\n",
       "      <td>9200</td>\n",
       "      <td>2018</td>\n",
       "      <td>1</td>\n",
       "      <td>31594.0</td>\n",
       "      <td>39</td>\n",
       "      <td>6</td>\n",
       "      <td>1260</td>\n",
       "      <td>nissan_versa</td>\n",
       "      <td>0</td>\n",
       "    </tr>\n",
       "    <tr>\n",
       "      <th>2497</th>\n",
       "      <td>9200</td>\n",
       "      <td>2018</td>\n",
       "      <td>1</td>\n",
       "      <td>32557.0</td>\n",
       "      <td>2</td>\n",
       "      <td>6</td>\n",
       "      <td>2880</td>\n",
       "      <td>nissan_versa</td>\n",
       "      <td>0</td>\n",
       "    </tr>\n",
       "    <tr>\n",
       "      <th>2498</th>\n",
       "      <td>9200</td>\n",
       "      <td>2018</td>\n",
       "      <td>1</td>\n",
       "      <td>31371.0</td>\n",
       "      <td>39</td>\n",
       "      <td>6</td>\n",
       "      <td>1260</td>\n",
       "      <td>nissan_versa</td>\n",
       "      <td>0</td>\n",
       "    </tr>\n",
       "  </tbody>\n",
       "</table>\n",
       "<p>2499 rows × 9 columns</p>\n",
       "</div>"
      ],
      "text/plain": [
       "      price  year  title_status   mileage  color  state  condition  \\\n",
       "0      6300  2008             1  274117.0      2     24      14400   \n",
       "1      2899  2011             1  190552.0     39     35       8640   \n",
       "2      5350  2018             1   39590.0     39      7       2880   \n",
       "3     25000  2014             1   64146.0      4     39       1320   \n",
       "4     27700  2018             1    6654.0     34      6       1320   \n",
       "...     ...   ...           ...       ...    ...    ...        ...   \n",
       "2494   7800  2019             1   23609.0     34      3       1440   \n",
       "2495   9200  2018             1   34553.0     39      6       1260   \n",
       "2496   9200  2018             1   31594.0     39      6       1260   \n",
       "2497   9200  2018             1   32557.0      2      6       2880   \n",
       "2498   9200  2018             1   31371.0     39      6       1260   \n",
       "\n",
       "         brand_model  cluster  \n",
       "0     toyota_cruiser        8  \n",
       "1            ford_se       10  \n",
       "2          dodge_mpv        0  \n",
       "3          ford_door        9  \n",
       "4     chevrolet_1500        5  \n",
       "...              ...      ...  \n",
       "2494    nissan_versa       12  \n",
       "2495    nissan_versa        0  \n",
       "2496    nissan_versa        0  \n",
       "2497    nissan_versa        0  \n",
       "2498    nissan_versa        0  \n",
       "\n",
       "[2499 rows x 9 columns]"
      ]
     },
     "execution_count": 89,
     "metadata": {},
     "output_type": "execute_result"
    }
   ],
   "source": [
    "df_cluster"
   ]
  },
  {
   "cell_type": "code",
   "execution_count": 90,
   "id": "4f7e8a9e",
   "metadata": {},
   "outputs": [
    {
     "data": {
      "text/html": [
       "<div>\n",
       "<style scoped>\n",
       "    .dataframe tbody tr th:only-of-type {\n",
       "        vertical-align: middle;\n",
       "    }\n",
       "\n",
       "    .dataframe tbody tr th {\n",
       "        vertical-align: top;\n",
       "    }\n",
       "\n",
       "    .dataframe thead th {\n",
       "        text-align: right;\n",
       "    }\n",
       "</style>\n",
       "<table border=\"1\" class=\"dataframe\">\n",
       "  <thead>\n",
       "    <tr style=\"text-align: right;\">\n",
       "      <th></th>\n",
       "      <th>year</th>\n",
       "      <th>title_status</th>\n",
       "      <th>mileage</th>\n",
       "      <th>color</th>\n",
       "      <th>state</th>\n",
       "      <th>condition</th>\n",
       "      <th>cluster</th>\n",
       "    </tr>\n",
       "  </thead>\n",
       "  <tbody>\n",
       "    <tr>\n",
       "      <th>0</th>\n",
       "      <td>2008</td>\n",
       "      <td>1</td>\n",
       "      <td>274117.0</td>\n",
       "      <td>2</td>\n",
       "      <td>24</td>\n",
       "      <td>14400</td>\n",
       "      <td>8</td>\n",
       "    </tr>\n",
       "    <tr>\n",
       "      <th>1</th>\n",
       "      <td>2011</td>\n",
       "      <td>1</td>\n",
       "      <td>190552.0</td>\n",
       "      <td>39</td>\n",
       "      <td>35</td>\n",
       "      <td>8640</td>\n",
       "      <td>10</td>\n",
       "    </tr>\n",
       "    <tr>\n",
       "      <th>2</th>\n",
       "      <td>2018</td>\n",
       "      <td>1</td>\n",
       "      <td>39590.0</td>\n",
       "      <td>39</td>\n",
       "      <td>7</td>\n",
       "      <td>2880</td>\n",
       "      <td>0</td>\n",
       "    </tr>\n",
       "    <tr>\n",
       "      <th>3</th>\n",
       "      <td>2014</td>\n",
       "      <td>1</td>\n",
       "      <td>64146.0</td>\n",
       "      <td>4</td>\n",
       "      <td>39</td>\n",
       "      <td>1320</td>\n",
       "      <td>9</td>\n",
       "    </tr>\n",
       "    <tr>\n",
       "      <th>4</th>\n",
       "      <td>2018</td>\n",
       "      <td>1</td>\n",
       "      <td>6654.0</td>\n",
       "      <td>34</td>\n",
       "      <td>6</td>\n",
       "      <td>1320</td>\n",
       "      <td>5</td>\n",
       "    </tr>\n",
       "    <tr>\n",
       "      <th>...</th>\n",
       "      <td>...</td>\n",
       "      <td>...</td>\n",
       "      <td>...</td>\n",
       "      <td>...</td>\n",
       "      <td>...</td>\n",
       "      <td>...</td>\n",
       "      <td>...</td>\n",
       "    </tr>\n",
       "    <tr>\n",
       "      <th>2494</th>\n",
       "      <td>2019</td>\n",
       "      <td>1</td>\n",
       "      <td>23609.0</td>\n",
       "      <td>34</td>\n",
       "      <td>3</td>\n",
       "      <td>1440</td>\n",
       "      <td>12</td>\n",
       "    </tr>\n",
       "    <tr>\n",
       "      <th>2495</th>\n",
       "      <td>2018</td>\n",
       "      <td>1</td>\n",
       "      <td>34553.0</td>\n",
       "      <td>39</td>\n",
       "      <td>6</td>\n",
       "      <td>1260</td>\n",
       "      <td>0</td>\n",
       "    </tr>\n",
       "    <tr>\n",
       "      <th>2496</th>\n",
       "      <td>2018</td>\n",
       "      <td>1</td>\n",
       "      <td>31594.0</td>\n",
       "      <td>39</td>\n",
       "      <td>6</td>\n",
       "      <td>1260</td>\n",
       "      <td>0</td>\n",
       "    </tr>\n",
       "    <tr>\n",
       "      <th>2497</th>\n",
       "      <td>2018</td>\n",
       "      <td>1</td>\n",
       "      <td>32557.0</td>\n",
       "      <td>2</td>\n",
       "      <td>6</td>\n",
       "      <td>2880</td>\n",
       "      <td>0</td>\n",
       "    </tr>\n",
       "    <tr>\n",
       "      <th>2498</th>\n",
       "      <td>2018</td>\n",
       "      <td>1</td>\n",
       "      <td>31371.0</td>\n",
       "      <td>39</td>\n",
       "      <td>6</td>\n",
       "      <td>1260</td>\n",
       "      <td>0</td>\n",
       "    </tr>\n",
       "  </tbody>\n",
       "</table>\n",
       "<p>2499 rows × 7 columns</p>\n",
       "</div>"
      ],
      "text/plain": [
       "      year  title_status   mileage  color  state  condition  cluster\n",
       "0     2008             1  274117.0      2     24      14400        8\n",
       "1     2011             1  190552.0     39     35       8640       10\n",
       "2     2018             1   39590.0     39      7       2880        0\n",
       "3     2014             1   64146.0      4     39       1320        9\n",
       "4     2018             1    6654.0     34      6       1320        5\n",
       "...    ...           ...       ...    ...    ...        ...      ...\n",
       "2494  2019             1   23609.0     34      3       1440       12\n",
       "2495  2018             1   34553.0     39      6       1260        0\n",
       "2496  2018             1   31594.0     39      6       1260        0\n",
       "2497  2018             1   32557.0      2      6       2880        0\n",
       "2498  2018             1   31371.0     39      6       1260        0\n",
       "\n",
       "[2499 rows x 7 columns]"
      ]
     },
     "execution_count": 90,
     "metadata": {},
     "output_type": "execute_result"
    }
   ],
   "source": [
    "df_cluster.loc[:, (df_cluster.columns != 'price') & (df_cluster.columns != 'brand_model')]"
   ]
  },
  {
   "cell_type": "code",
   "execution_count": 91,
   "id": "62136df9",
   "metadata": {
    "scrolled": true
   },
   "outputs": [
    {
     "data": {
      "text/html": [
       "<div>\n",
       "<style scoped>\n",
       "    .dataframe tbody tr th:only-of-type {\n",
       "        vertical-align: middle;\n",
       "    }\n",
       "\n",
       "    .dataframe tbody tr th {\n",
       "        vertical-align: top;\n",
       "    }\n",
       "\n",
       "    .dataframe thead th {\n",
       "        text-align: right;\n",
       "    }\n",
       "</style>\n",
       "<table border=\"1\" class=\"dataframe\">\n",
       "  <thead>\n",
       "    <tr style=\"text-align: right;\">\n",
       "      <th></th>\n",
       "      <th>Summary Statistics per Decile</th>\n",
       "    </tr>\n",
       "    <tr>\n",
       "      <th>cluster</th>\n",
       "      <th></th>\n",
       "    </tr>\n",
       "  </thead>\n",
       "  <tbody>\n",
       "    <tr>\n",
       "      <th>0</th>\n",
       "      <td>[25, 10830.0, 14650.0, 16600.0, 22700, 13522.7, 4725.7]</td>\n",
       "    </tr>\n",
       "    <tr>\n",
       "      <th>1</th>\n",
       "      <td>[0, 1400.0, 6000.0, 12895.0, 34000, 8090.3, 8027.7]</td>\n",
       "    </tr>\n",
       "    <tr>\n",
       "      <th>2</th>\n",
       "      <td>[0, 356.25, 750.0, 1568.75, 3200, 1175.0, 1224.1]</td>\n",
       "    </tr>\n",
       "    <tr>\n",
       "      <th>3</th>\n",
       "      <td>[0, 6500.0, 10940.0, 17400.0, 50200, 12784.7, 8788.7]</td>\n",
       "    </tr>\n",
       "    <tr>\n",
       "      <th>4</th>\n",
       "      <td>[0, 18.75, 875.0, 6760.0, 13000, 3334.8, 3849.7]</td>\n",
       "    </tr>\n",
       "    <tr>\n",
       "      <th>5</th>\n",
       "      <td>[19000, 23500.0, 27000.0, 30000.0, 39950, 27451.0, 4378.9]</td>\n",
       "    </tr>\n",
       "    <tr>\n",
       "      <th>6</th>\n",
       "      <td>[0, 4000.0, 7000.0, 12125.0, 33800, 8866.8, 6846.8]</td>\n",
       "    </tr>\n",
       "    <tr>\n",
       "      <th>7</th>\n",
       "      <td>[38600, 45900.0, 49000.0, 55000.0, 84900, 51074.1, 7801.5]</td>\n",
       "    </tr>\n",
       "    <tr>\n",
       "      <th>8</th>\n",
       "      <td>[0, 0.0, 50.0, 3556.25, 15700, 2771.1, 4326.9]</td>\n",
       "    </tr>\n",
       "    <tr>\n",
       "      <th>9</th>\n",
       "      <td>[20000, 24400.0, 29250.0, 34775.0, 53500, 30211.5, 7324.0]</td>\n",
       "    </tr>\n",
       "    <tr>\n",
       "      <th>10</th>\n",
       "      <td>[0, 31.25, 2100.0, 5550.0, 25000, 4126.1, 5592.6]</td>\n",
       "    </tr>\n",
       "    <tr>\n",
       "      <th>11</th>\n",
       "      <td>[20500, 24502.0, 27100.0, 32500.0, 47400, 29199.4, 6136.7]</td>\n",
       "    </tr>\n",
       "    <tr>\n",
       "      <th>12</th>\n",
       "      <td>[0, 11100.0, 15500.0, 18300.0, 21900, 14255.6, 5265.2]</td>\n",
       "    </tr>\n",
       "    <tr>\n",
       "      <th>13</th>\n",
       "      <td>[125, 7480.0, 11545.0, 15000.0, 20500, 11283.2, 4879.2]</td>\n",
       "    </tr>\n",
       "    <tr>\n",
       "      <th>14</th>\n",
       "      <td>[2000, 2000.0, 2000.0, 2000.0, 2000, 2000.0, 0.0]</td>\n",
       "    </tr>\n",
       "  </tbody>\n",
       "</table>\n",
       "</div>"
      ],
      "text/plain": [
       "                                      Summary Statistics per Decile\n",
       "cluster                                                            \n",
       "0           [25, 10830.0, 14650.0, 16600.0, 22700, 13522.7, 4725.7]\n",
       "1               [0, 1400.0, 6000.0, 12895.0, 34000, 8090.3, 8027.7]\n",
       "2                 [0, 356.25, 750.0, 1568.75, 3200, 1175.0, 1224.1]\n",
       "3             [0, 6500.0, 10940.0, 17400.0, 50200, 12784.7, 8788.7]\n",
       "4                  [0, 18.75, 875.0, 6760.0, 13000, 3334.8, 3849.7]\n",
       "5        [19000, 23500.0, 27000.0, 30000.0, 39950, 27451.0, 4378.9]\n",
       "6               [0, 4000.0, 7000.0, 12125.0, 33800, 8866.8, 6846.8]\n",
       "7        [38600, 45900.0, 49000.0, 55000.0, 84900, 51074.1, 7801.5]\n",
       "8                    [0, 0.0, 50.0, 3556.25, 15700, 2771.1, 4326.9]\n",
       "9        [20000, 24400.0, 29250.0, 34775.0, 53500, 30211.5, 7324.0]\n",
       "10                [0, 31.25, 2100.0, 5550.0, 25000, 4126.1, 5592.6]\n",
       "11       [20500, 24502.0, 27100.0, 32500.0, 47400, 29199.4, 6136.7]\n",
       "12           [0, 11100.0, 15500.0, 18300.0, 21900, 14255.6, 5265.2]\n",
       "13          [125, 7480.0, 11545.0, 15000.0, 20500, 11283.2, 4879.2]\n",
       "14                [2000, 2000.0, 2000.0, 2000.0, 2000, 2000.0, 0.0]"
      ]
     },
     "execution_count": 91,
     "metadata": {},
     "output_type": "execute_result"
    }
   ],
   "source": [
    "df_cluster.groupby('cluster').price.apply(lambda x: [np.min(x), np.percentile(x, 25), np.median(x),\n",
    "                                                 np.percentile(x, 75), np.max(x),\n",
    "                                                 round(np.mean(x), 1), round(np.std(x), 1)]).to_frame(name='Summary Statistics per Decile')"
   ]
  },
  {
   "cell_type": "code",
   "execution_count": 92,
   "id": "0bf28aa0",
   "metadata": {},
   "outputs": [
    {
     "data": {
      "text/plain": [
       "{'whiskers': [<matplotlib.lines.Line2D at 0x1352e4580>,\n",
       "  <matplotlib.lines.Line2D at 0x1352e4850>,\n",
       "  <matplotlib.lines.Line2D at 0x1352f1e20>,\n",
       "  <matplotlib.lines.Line2D at 0x1352fe1f0>,\n",
       "  <matplotlib.lines.Line2D at 0x135307790>,\n",
       "  <matplotlib.lines.Line2D at 0x135307b20>,\n",
       "  <matplotlib.lines.Line2D at 0x13531c100>,\n",
       "  <matplotlib.lines.Line2D at 0x13531c490>,\n",
       "  <matplotlib.lines.Line2D at 0x135327a30>,\n",
       "  <matplotlib.lines.Line2D at 0x135327dc0>,\n",
       "  <matplotlib.lines.Line2D at 0x13533c3a0>,\n",
       "  <matplotlib.lines.Line2D at 0x13533c730>,\n",
       "  <matplotlib.lines.Line2D at 0x135345cd0>,\n",
       "  <matplotlib.lines.Line2D at 0x1353510a0>,\n",
       "  <matplotlib.lines.Line2D at 0x13535a640>,\n",
       "  <matplotlib.lines.Line2D at 0x13535a9d0>,\n",
       "  <matplotlib.lines.Line2D at 0x135367f70>,\n",
       "  <matplotlib.lines.Line2D at 0x135371340>,\n",
       "  <matplotlib.lines.Line2D at 0x13537d8e0>,\n",
       "  <matplotlib.lines.Line2D at 0x13537dc70>,\n",
       "  <matplotlib.lines.Line2D at 0x135392250>,\n",
       "  <matplotlib.lines.Line2D at 0x1353925e0>,\n",
       "  <matplotlib.lines.Line2D at 0x13539cb80>,\n",
       "  <matplotlib.lines.Line2D at 0x13539cf10>,\n",
       "  <matplotlib.lines.Line2D at 0x1353b24f0>,\n",
       "  <matplotlib.lines.Line2D at 0x1353b2880>,\n",
       "  <matplotlib.lines.Line2D at 0x1353bbe20>,\n",
       "  <matplotlib.lines.Line2D at 0x1353c71f0>,\n",
       "  <matplotlib.lines.Line2D at 0x1353d1790>,\n",
       "  <matplotlib.lines.Line2D at 0x1353d1b20>],\n",
       " 'caps': [<matplotlib.lines.Line2D at 0x1352e4be0>,\n",
       "  <matplotlib.lines.Line2D at 0x1352e4f70>,\n",
       "  <matplotlib.lines.Line2D at 0x1352fe580>,\n",
       "  <matplotlib.lines.Line2D at 0x1352fe910>,\n",
       "  <matplotlib.lines.Line2D at 0x135307eb0>,\n",
       "  <matplotlib.lines.Line2D at 0x135311280>,\n",
       "  <matplotlib.lines.Line2D at 0x13531c820>,\n",
       "  <matplotlib.lines.Line2D at 0x13531cbb0>,\n",
       "  <matplotlib.lines.Line2D at 0x135332190>,\n",
       "  <matplotlib.lines.Line2D at 0x135332520>,\n",
       "  <matplotlib.lines.Line2D at 0x13533cac0>,\n",
       "  <matplotlib.lines.Line2D at 0x13533ce50>,\n",
       "  <matplotlib.lines.Line2D at 0x135351430>,\n",
       "  <matplotlib.lines.Line2D at 0x1353517c0>,\n",
       "  <matplotlib.lines.Line2D at 0x13535ad60>,\n",
       "  <matplotlib.lines.Line2D at 0x135367130>,\n",
       "  <matplotlib.lines.Line2D at 0x1353716d0>,\n",
       "  <matplotlib.lines.Line2D at 0x135371a60>,\n",
       "  <matplotlib.lines.Line2D at 0x135387040>,\n",
       "  <matplotlib.lines.Line2D at 0x1353873d0>,\n",
       "  <matplotlib.lines.Line2D at 0x135392970>,\n",
       "  <matplotlib.lines.Line2D at 0x135392d00>,\n",
       "  <matplotlib.lines.Line2D at 0x1353a52e0>,\n",
       "  <matplotlib.lines.Line2D at 0x1353a5670>,\n",
       "  <matplotlib.lines.Line2D at 0x1353b2c10>,\n",
       "  <matplotlib.lines.Line2D at 0x1353b2fa0>,\n",
       "  <matplotlib.lines.Line2D at 0x1353c7580>,\n",
       "  <matplotlib.lines.Line2D at 0x1353c7910>,\n",
       "  <matplotlib.lines.Line2D at 0x1353d1eb0>,\n",
       "  <matplotlib.lines.Line2D at 0x1353dc280>],\n",
       " 'boxes': [<matplotlib.lines.Line2D at 0x1352e4130>,\n",
       "  <matplotlib.lines.Line2D at 0x1352f1a90>,\n",
       "  <matplotlib.lines.Line2D at 0x135307400>,\n",
       "  <matplotlib.lines.Line2D at 0x135311d30>,\n",
       "  <matplotlib.lines.Line2D at 0x1353276a0>,\n",
       "  <matplotlib.lines.Line2D at 0x135332fd0>,\n",
       "  <matplotlib.lines.Line2D at 0x135345940>,\n",
       "  <matplotlib.lines.Line2D at 0x13535a2b0>,\n",
       "  <matplotlib.lines.Line2D at 0x135367be0>,\n",
       "  <matplotlib.lines.Line2D at 0x13537d550>,\n",
       "  <matplotlib.lines.Line2D at 0x135387e80>,\n",
       "  <matplotlib.lines.Line2D at 0x13539c7f0>,\n",
       "  <matplotlib.lines.Line2D at 0x1353b2160>,\n",
       "  <matplotlib.lines.Line2D at 0x1353bba90>,\n",
       "  <matplotlib.lines.Line2D at 0x1353d1400>],\n",
       " 'medians': [<matplotlib.lines.Line2D at 0x1352f1340>,\n",
       "  <matplotlib.lines.Line2D at 0x1352feca0>,\n",
       "  <matplotlib.lines.Line2D at 0x135311610>,\n",
       "  <matplotlib.lines.Line2D at 0x13531cf40>,\n",
       "  <matplotlib.lines.Line2D at 0x1353328b0>,\n",
       "  <matplotlib.lines.Line2D at 0x135345220>,\n",
       "  <matplotlib.lines.Line2D at 0x135351b50>,\n",
       "  <matplotlib.lines.Line2D at 0x1353674c0>,\n",
       "  <matplotlib.lines.Line2D at 0x135371df0>,\n",
       "  <matplotlib.lines.Line2D at 0x135387760>,\n",
       "  <matplotlib.lines.Line2D at 0x13539c0d0>,\n",
       "  <matplotlib.lines.Line2D at 0x1353a5a00>,\n",
       "  <matplotlib.lines.Line2D at 0x1353bb370>,\n",
       "  <matplotlib.lines.Line2D at 0x1353c7ca0>,\n",
       "  <matplotlib.lines.Line2D at 0x1353dc610>],\n",
       " 'fliers': [<matplotlib.lines.Line2D at 0x1352f16d0>,\n",
       "  <matplotlib.lines.Line2D at 0x135307070>,\n",
       "  <matplotlib.lines.Line2D at 0x1353119a0>,\n",
       "  <matplotlib.lines.Line2D at 0x135327310>,\n",
       "  <matplotlib.lines.Line2D at 0x135332c40>,\n",
       "  <matplotlib.lines.Line2D at 0x1353455b0>,\n",
       "  <matplotlib.lines.Line2D at 0x135351ee0>,\n",
       "  <matplotlib.lines.Line2D at 0x135367850>,\n",
       "  <matplotlib.lines.Line2D at 0x13537d1c0>,\n",
       "  <matplotlib.lines.Line2D at 0x135387af0>,\n",
       "  <matplotlib.lines.Line2D at 0x13539c460>,\n",
       "  <matplotlib.lines.Line2D at 0x1353a5d90>,\n",
       "  <matplotlib.lines.Line2D at 0x1353bb700>,\n",
       "  <matplotlib.lines.Line2D at 0x1353d1070>,\n",
       "  <matplotlib.lines.Line2D at 0x1353dc9a0>],\n",
       " 'means': []}"
      ]
     },
     "execution_count": 92,
     "metadata": {},
     "output_type": "execute_result"
    },
    {
     "data": {
      "image/png": "[encoded data removed]",
      "text/plain": [
       "<Figure size 432x288 with 1 Axes>"
      ]
     },
     "metadata": {
      "needs_background": "light"
     },
     "output_type": "display_data"
    }
   ],
   "source": [
    "plt.boxplot(df_cluster.groupby('cluster').price.apply(lambda x: [np.min(x), np.percentile(x, 25), np.median(x),\n",
    "                                                 np.percentile(x, 75), np.max(x),\n",
    "                                                 round(np.mean(x), 1), round(np.std(x), 1)]).to_frame(name='Summary Statistics per Decile')['Summary Statistics per Decile'])"
   ]
  },
  {
   "cell_type": "code",
   "execution_count": 93,
   "id": "4111fc4c",
   "metadata": {},
   "outputs": [
    {
     "data": {
      "text/plain": [
       "cluster\n",
       "0        [25, 9]\n",
       "1         [0, 9]\n",
       "2         [0, 9]\n",
       "3         [0, 9]\n",
       "4         [0, 9]\n",
       "5     [19000, 9]\n",
       "6         [0, 9]\n",
       "7     [38600, 9]\n",
       "8         [0, 9]\n",
       "9     [20000, 9]\n",
       "10        [0, 9]\n",
       "11    [20500, 9]\n",
       "12        [0, 9]\n",
       "13      [125, 9]\n",
       "14     [2000, 9]\n",
       "Name: price, dtype: object"
      ]
     },
     "execution_count": 93,
     "metadata": {},
     "output_type": "execute_result"
    }
   ],
   "source": [
    "df_cluster.groupby('cluster').price.apply(lambda x: [min(x), n])"
   ]
  },
  {
   "cell_type": "code",
   "execution_count": 94,
   "id": "b62b0590",
   "metadata": {},
   "outputs": [
    {
     "data": {
      "text/plain": [
       "<AxesSubplot:xlabel='cluster'>"
      ]
     },
     "execution_count": 94,
     "metadata": {},
     "output_type": "execute_result"
    },
    {
     "data": {
      "image/png": "[encoded data removed]",
      "text/plain": [
       "<Figure size 432x288 with 1 Axes>"
      ]
     },
     "metadata": {
      "needs_background": "light"
     },
     "output_type": "display_data"
    }
   ],
   "source": [
    "df_cluster.plot.bar(x='cluster', y='price')"
   ]
  },
  {
   "cell_type": "code",
   "execution_count": null,
   "id": "0690a36c",
   "metadata": {},
   "outputs": [],
   "source": []
  },
  {
   "cell_type": "code",
   "execution_count": 95,
   "id": "4fde020c",
   "metadata": {
    "scrolled": true
   },
   "outputs": [
    {
     "data": {
      "text/plain": [
       "0        6300\n",
       "1        2899\n",
       "2        5350\n",
       "3       25000\n",
       "4       27700\n",
       "        ...  \n",
       "2494     7800\n",
       "2495     9200\n",
       "2496     9200\n",
       "2497     9200\n",
       "2498     9200\n",
       "Name: price, Length: 2499, dtype: int64"
      ]
     },
     "execution_count": 95,
     "metadata": {},
     "output_type": "execute_result"
    }
   ],
   "source": [
    "df_cluster.price"
   ]
  },
  {
   "cell_type": "code",
   "execution_count": 96,
   "id": "ad97c0f2",
   "metadata": {},
   "outputs": [
    {
     "name": "stderr",
     "output_type": "stream",
     "text": [
      "/Users/javiermazonechevarria/.pyenv/versions/3.8.9/envs/test1/lib/python3.8/site-packages/sklearn/linear_model/_coordinate_descent.py:631: UserWarning: Coordinate descent with alpha=0 may lead to unexpected results and is discouraged.\n",
      "  model = cd_fast.enet_coordinate_descent_gram(\n",
      "/Users/javiermazonechevarria/.pyenv/versions/3.8.9/envs/test1/lib/python3.8/site-packages/sklearn/linear_model/_coordinate_descent.py:631: ConvergenceWarning: Objective did not converge. You might want to increase the number of iterations. Duality gap: 106393112451.26503, tolerance: 28369497.275229037\n",
      "  model = cd_fast.enet_coordinate_descent_gram(\n",
      "/Users/javiermazonechevarria/.pyenv/versions/3.8.9/envs/test1/lib/python3.8/site-packages/sklearn/linear_model/_coordinate_descent.py:631: UserWarning: Coordinate descent with alpha=0 may lead to unexpected results and is discouraged.\n",
      "  model = cd_fast.enet_coordinate_descent_gram(\n",
      "/Users/javiermazonechevarria/.pyenv/versions/3.8.9/envs/test1/lib/python3.8/site-packages/sklearn/linear_model/_coordinate_descent.py:631: ConvergenceWarning: Objective did not converge. You might want to increase the number of iterations. Duality gap: 108451436437.3146, tolerance: 28885755.36407326\n",
      "  model = cd_fast.enet_coordinate_descent_gram(\n",
      "/Users/javiermazonechevarria/.pyenv/versions/3.8.9/envs/test1/lib/python3.8/site-packages/sklearn/linear_model/_coordinate_descent.py:631: UserWarning: Coordinate descent with alpha=0 may lead to unexpected results and is discouraged.\n",
      "  model = cd_fast.enet_coordinate_descent_gram(\n",
      "/Users/javiermazonechevarria/.pyenv/versions/3.8.9/envs/test1/lib/python3.8/site-packages/sklearn/linear_model/_coordinate_descent.py:631: ConvergenceWarning: Objective did not converge. You might want to increase the number of iterations. Duality gap: 109604839322.6127, tolerance: 29437786.58183079\n",
      "  model = cd_fast.enet_coordinate_descent_gram(\n",
      "/Users/javiermazonechevarria/.pyenv/versions/3.8.9/envs/test1/lib/python3.8/site-packages/sklearn/linear_model/_coordinate_descent.py:631: UserWarning: Coordinate descent with alpha=0 may lead to unexpected results and is discouraged.\n",
      "  model = cd_fast.enet_coordinate_descent_gram(\n",
      "/Users/javiermazonechevarria/.pyenv/versions/3.8.9/envs/test1/lib/python3.8/site-packages/sklearn/linear_model/_coordinate_descent.py:631: ConvergenceWarning: Objective did not converge. You might want to increase the number of iterations. Duality gap: 110617027952.56192, tolerance: 29772102.40058789\n",
      "  model = cd_fast.enet_coordinate_descent_gram(\n",
      "/Users/javiermazonechevarria/.pyenv/versions/3.8.9/envs/test1/lib/python3.8/site-packages/sklearn/linear_model/_coordinate_descent.py:631: UserWarning: Coordinate descent with alpha=0 may lead to unexpected results and is discouraged.\n",
      "  model = cd_fast.enet_coordinate_descent_gram(\n",
      "/Users/javiermazonechevarria/.pyenv/versions/3.8.9/envs/test1/lib/python3.8/site-packages/sklearn/linear_model/_coordinate_descent.py:1713: UserWarning: With alpha=0, this algorithm does not converge well. You are advised to use the LinearRegression estimator\n",
      "  model.fit(X, y)\n",
      "/Users/javiermazonechevarria/.pyenv/versions/3.8.9/envs/test1/lib/python3.8/site-packages/sklearn/linear_model/_coordinate_descent.py:645: UserWarning: Coordinate descent with no regularization may lead to unexpected results and is discouraged.\n",
      "  model = cd_fast.enet_coordinate_descent(\n",
      "/Users/javiermazonechevarria/.pyenv/versions/3.8.9/envs/test1/lib/python3.8/site-packages/sklearn/linear_model/_coordinate_descent.py:645: ConvergenceWarning: Objective did not converge. You might want to increase the number of iterations, check the scale of the features or consider increasing regularisation. Duality gap: 1.370e+11, tolerance: 3.667e+07 Linear regression models with null weight for the l1 regularization term are more efficiently fitted using one of the solvers implemented in sklearn.linear_model.Ridge/RidgeCV instead.\n",
      "  model = cd_fast.enet_coordinate_descent(\n"
     ]
    }
   ],
   "source": [
    "lassocv_model = LassoCV(alphas=np.arange(0, 5, 0.2), max_iter=5000, tol=0.0001, cv=shuffle_5, random_state=0).fit(df_cluster.loc[:, (df_cluster.columns != 'price') & (df_cluster.columns != 'brand_model')], df_cluster.price)"
   ]
  },
  {
   "cell_type": "code",
   "execution_count": 97,
   "id": "b6130d68",
   "metadata": {},
   "outputs": [],
   "source": [
    "X_train, X_test, y_train, y_test = train_test_split(df_cluster.loc[:, (df_cluster.columns != 'price') & (df_cluster.columns != 'brand_model')], df_cluster.price, train_size=0.8)"
   ]
  },
  {
   "cell_type": "code",
   "execution_count": 98,
   "id": "ce752852",
   "metadata": {},
   "outputs": [
    {
     "name": "stderr",
     "output_type": "stream",
     "text": [
      "/Users/javiermazonechevarria/.pyenv/versions/3.8.9/envs/test1/lib/python3.8/site-packages/sklearn/linear_model/_coordinate_descent.py:631: UserWarning: Coordinate descent with alpha=0 may lead to unexpected results and is discouraged.\n",
      "  model = cd_fast.enet_coordinate_descent_gram(\n",
      "/Users/javiermazonechevarria/.pyenv/versions/3.8.9/envs/test1/lib/python3.8/site-packages/sklearn/linear_model/_coordinate_descent.py:631: ConvergenceWarning: Objective did not converge. You might want to increase the number of iterations. Duality gap: 108773580587.04213, tolerance: 29421280.990250837\n",
      "  model = cd_fast.enet_coordinate_descent_gram(\n",
      "/Users/javiermazonechevarria/.pyenv/versions/3.8.9/envs/test1/lib/python3.8/site-packages/sklearn/linear_model/_coordinate_descent.py:631: UserWarning: Coordinate descent with alpha=0 may lead to unexpected results and is discouraged.\n",
      "  model = cd_fast.enet_coordinate_descent_gram(\n",
      "/Users/javiermazonechevarria/.pyenv/versions/3.8.9/envs/test1/lib/python3.8/site-packages/sklearn/linear_model/_coordinate_descent.py:631: ConvergenceWarning: Objective did not converge. You might want to increase the number of iterations. Duality gap: 110988314822.89192, tolerance: 30046258.599867444\n",
      "  model = cd_fast.enet_coordinate_descent_gram(\n",
      "/Users/javiermazonechevarria/.pyenv/versions/3.8.9/envs/test1/lib/python3.8/site-packages/sklearn/linear_model/_coordinate_descent.py:631: UserWarning: Coordinate descent with alpha=0 may lead to unexpected results and is discouraged.\n",
      "  model = cd_fast.enet_coordinate_descent_gram(\n",
      "/Users/javiermazonechevarria/.pyenv/versions/3.8.9/envs/test1/lib/python3.8/site-packages/sklearn/linear_model/_coordinate_descent.py:631: ConvergenceWarning: Objective did not converge. You might want to increase the number of iterations. Duality gap: 110744453941.44739, tolerance: 29236982.3177591\n",
      "  model = cd_fast.enet_coordinate_descent_gram(\n",
      "/Users/javiermazonechevarria/.pyenv/versions/3.8.9/envs/test1/lib/python3.8/site-packages/sklearn/linear_model/_coordinate_descent.py:631: UserWarning: Coordinate descent with alpha=0 may lead to unexpected results and is discouraged.\n",
      "  model = cd_fast.enet_coordinate_descent_gram(\n",
      "/Users/javiermazonechevarria/.pyenv/versions/3.8.9/envs/test1/lib/python3.8/site-packages/sklearn/linear_model/_coordinate_descent.py:631: UserWarning: Coordinate descent with alpha=0 may lead to unexpected results and is discouraged.\n",
      "  model = cd_fast.enet_coordinate_descent_gram(\n",
      "/Users/javiermazonechevarria/.pyenv/versions/3.8.9/envs/test1/lib/python3.8/site-packages/sklearn/linear_model/_coordinate_descent.py:631: ConvergenceWarning: Objective did not converge. You might want to increase the number of iterations. Duality gap: 110317264343.18669, tolerance: 29537829.06665956\n",
      "  model = cd_fast.enet_coordinate_descent_gram(\n",
      "/Users/javiermazonechevarria/.pyenv/versions/3.8.9/envs/test1/lib/python3.8/site-packages/sklearn/linear_model/_coordinate_descent.py:1713: UserWarning: With alpha=0, this algorithm does not converge well. You are advised to use the LinearRegression estimator\n",
      "  model.fit(X, y)\n",
      "/Users/javiermazonechevarria/.pyenv/versions/3.8.9/envs/test1/lib/python3.8/site-packages/sklearn/linear_model/_coordinate_descent.py:645: UserWarning: Coordinate descent with no regularization may lead to unexpected results and is discouraged.\n",
      "  model = cd_fast.enet_coordinate_descent(\n"
     ]
    },
    {
     "name": "stdout",
     "output_type": "stream",
     "text": [
      "best penalization term: 0.0\n",
      "R^2: 0.2296110542151164\n",
      "MSE: 109453005.06298922\n",
      "MAE: 8065.376010727436\n"
     ]
    },
    {
     "name": "stderr",
     "output_type": "stream",
     "text": [
      "/Users/javiermazonechevarria/.pyenv/versions/3.8.9/envs/test1/lib/python3.8/site-packages/sklearn/linear_model/_coordinate_descent.py:645: ConvergenceWarning: Objective did not converge. You might want to increase the number of iterations, check the scale of the features or consider increasing regularisation. Duality gap: 1.370e+11, tolerance: 3.667e+07 Linear regression models with null weight for the l1 regularization term are more efficiently fitted using one of the solvers implemented in sklearn.linear_model.Ridge/RidgeCV instead.\n",
      "  model = cd_fast.enet_coordinate_descent(\n"
     ]
    }
   ],
   "source": [
    "lassocv_model = LassoCV(alphas=np.arange(0, 5, 0.2), max_iter=5000, tol=0.0001, cv=shuffle_5, random_state=0).fit(df_cluster.loc[:, (df_cluster.columns != 'price') & (df_cluster.columns != 'brand_model')], df_cluster.price)\n",
    "print(f'best penalization term: {lassocv_model.alpha_}',\n",
    "      f'R^2: {lassocv_model.score(X_test, y_test)}',\n",
    "      f'MSE: {sum((lassocv_model.predict(X_test) - y_test)**2) / len(y_test)}',\n",
    "      f'MAE: {sum(abs(lassocv_model.predict(X_test) - y_test)) / len(y_test)}',\n",
    "      sep='\\n')"
   ]
  },
  {
   "cell_type": "markdown",
   "id": "ade39afc",
   "metadata": {},
   "source": [
    "## Polynomial Regression and Splines"
   ]
  },
  {
   "cell_type": "code",
   "execution_count": 99,
   "id": "09fb7e03",
   "metadata": {},
   "outputs": [],
   "source": [
    "from sklearn.preprocessing import PolynomialFeatures"
   ]
  },
  {
   "cell_type": "code",
   "execution_count": 100,
   "id": "6778da45",
   "metadata": {},
   "outputs": [
    {
     "data": {
      "text/plain": [
       "(2499, 7)"
      ]
     },
     "execution_count": 100,
     "metadata": {},
     "output_type": "execute_result"
    }
   ],
   "source": [
    "df_cluster.loc[:, (df_cluster.columns != 'price') & (df_cluster.columns != 'brand_model')].shape"
   ]
  },
  {
   "cell_type": "code",
   "execution_count": 101,
   "id": "caf0e760",
   "metadata": {
    "scrolled": true
   },
   "outputs": [
    {
     "data": {
      "text/html": [
       "<div>\n",
       "<style scoped>\n",
       "    .dataframe tbody tr th:only-of-type {\n",
       "        vertical-align: middle;\n",
       "    }\n",
       "\n",
       "    .dataframe tbody tr th {\n",
       "        vertical-align: top;\n",
       "    }\n",
       "\n",
       "    .dataframe thead th {\n",
       "        text-align: right;\n",
       "    }\n",
       "</style>\n",
       "<table border=\"1\" class=\"dataframe\">\n",
       "  <thead>\n",
       "    <tr style=\"text-align: right;\">\n",
       "      <th></th>\n",
       "      <th>year</th>\n",
       "      <th>title_status</th>\n",
       "      <th>mileage</th>\n",
       "      <th>color</th>\n",
       "      <th>state</th>\n",
       "      <th>condition</th>\n",
       "      <th>cluster</th>\n",
       "    </tr>\n",
       "  </thead>\n",
       "  <tbody>\n",
       "    <tr>\n",
       "      <th>0</th>\n",
       "      <td>2008</td>\n",
       "      <td>1</td>\n",
       "      <td>274117.0</td>\n",
       "      <td>2</td>\n",
       "      <td>24</td>\n",
       "      <td>14400</td>\n",
       "      <td>8</td>\n",
       "    </tr>\n",
       "    <tr>\n",
       "      <th>1</th>\n",
       "      <td>2011</td>\n",
       "      <td>1</td>\n",
       "      <td>190552.0</td>\n",
       "      <td>39</td>\n",
       "      <td>35</td>\n",
       "      <td>8640</td>\n",
       "      <td>10</td>\n",
       "    </tr>\n",
       "    <tr>\n",
       "      <th>2</th>\n",
       "      <td>2018</td>\n",
       "      <td>1</td>\n",
       "      <td>39590.0</td>\n",
       "      <td>39</td>\n",
       "      <td>7</td>\n",
       "      <td>2880</td>\n",
       "      <td>0</td>\n",
       "    </tr>\n",
       "    <tr>\n",
       "      <th>3</th>\n",
       "      <td>2014</td>\n",
       "      <td>1</td>\n",
       "      <td>64146.0</td>\n",
       "      <td>4</td>\n",
       "      <td>39</td>\n",
       "      <td>1320</td>\n",
       "      <td>9</td>\n",
       "    </tr>\n",
       "    <tr>\n",
       "      <th>4</th>\n",
       "      <td>2018</td>\n",
       "      <td>1</td>\n",
       "      <td>6654.0</td>\n",
       "      <td>34</td>\n",
       "      <td>6</td>\n",
       "      <td>1320</td>\n",
       "      <td>5</td>\n",
       "    </tr>\n",
       "    <tr>\n",
       "      <th>...</th>\n",
       "      <td>...</td>\n",
       "      <td>...</td>\n",
       "      <td>...</td>\n",
       "      <td>...</td>\n",
       "      <td>...</td>\n",
       "      <td>...</td>\n",
       "      <td>...</td>\n",
       "    </tr>\n",
       "    <tr>\n",
       "      <th>2494</th>\n",
       "      <td>2019</td>\n",
       "      <td>1</td>\n",
       "      <td>23609.0</td>\n",
       "      <td>34</td>\n",
       "      <td>3</td>\n",
       "      <td>1440</td>\n",
       "      <td>12</td>\n",
       "    </tr>\n",
       "    <tr>\n",
       "      <th>2495</th>\n",
       "      <td>2018</td>\n",
       "      <td>1</td>\n",
       "      <td>34553.0</td>\n",
       "      <td>39</td>\n",
       "      <td>6</td>\n",
       "      <td>1260</td>\n",
       "      <td>0</td>\n",
       "    </tr>\n",
       "    <tr>\n",
       "      <th>2496</th>\n",
       "      <td>2018</td>\n",
       "      <td>1</td>\n",
       "      <td>31594.0</td>\n",
       "      <td>39</td>\n",
       "      <td>6</td>\n",
       "      <td>1260</td>\n",
       "      <td>0</td>\n",
       "    </tr>\n",
       "    <tr>\n",
       "      <th>2497</th>\n",
       "      <td>2018</td>\n",
       "      <td>1</td>\n",
       "      <td>32557.0</td>\n",
       "      <td>2</td>\n",
       "      <td>6</td>\n",
       "      <td>2880</td>\n",
       "      <td>0</td>\n",
       "    </tr>\n",
       "    <tr>\n",
       "      <th>2498</th>\n",
       "      <td>2018</td>\n",
       "      <td>1</td>\n",
       "      <td>31371.0</td>\n",
       "      <td>39</td>\n",
       "      <td>6</td>\n",
       "      <td>1260</td>\n",
       "      <td>0</td>\n",
       "    </tr>\n",
       "  </tbody>\n",
       "</table>\n",
       "<p>2499 rows × 7 columns</p>\n",
       "</div>"
      ],
      "text/plain": [
       "      year  title_status   mileage  color  state  condition  cluster\n",
       "0     2008             1  274117.0      2     24      14400        8\n",
       "1     2011             1  190552.0     39     35       8640       10\n",
       "2     2018             1   39590.0     39      7       2880        0\n",
       "3     2014             1   64146.0      4     39       1320        9\n",
       "4     2018             1    6654.0     34      6       1320        5\n",
       "...    ...           ...       ...    ...    ...        ...      ...\n",
       "2494  2019             1   23609.0     34      3       1440       12\n",
       "2495  2018             1   34553.0     39      6       1260        0\n",
       "2496  2018             1   31594.0     39      6       1260        0\n",
       "2497  2018             1   32557.0      2      6       2880        0\n",
       "2498  2018             1   31371.0     39      6       1260        0\n",
       "\n",
       "[2499 rows x 7 columns]"
      ]
     },
     "execution_count": 101,
     "metadata": {},
     "output_type": "execute_result"
    }
   ],
   "source": [
    "df_cluster.loc[:, (df_cluster.columns != 'price') & (df_cluster.columns != 'brand_model')]"
   ]
  },
  {
   "cell_type": "code",
   "execution_count": 102,
   "id": "b482a8d6",
   "metadata": {},
   "outputs": [
    {
     "data": {
      "text/plain": [
       "(2499, 120)"
      ]
     },
     "execution_count": 102,
     "metadata": {},
     "output_type": "execute_result"
    }
   ],
   "source": [
    "poly = PolynomialFeatures(3)\n",
    "poly.fit_transform(df_cluster.loc[:, (df_cluster.columns != 'price') & (df_cluster.columns != 'brand_model')]).shape\n",
    "\n"
   ]
  },
  {
   "cell_type": "code",
   "execution_count": 103,
   "id": "b6493ba1",
   "metadata": {},
   "outputs": [],
   "source": [
    "from sklearn.preprocessing import SplineTransformer\n",
    "from sklearn.pipeline import make_pipeline"
   ]
  },
  {
   "cell_type": "code",
   "execution_count": 105,
   "id": "75b875c6",
   "metadata": {},
   "outputs": [
    {
     "data": {
      "text/plain": [
       "KFold(n_splits=5, random_state=None, shuffle=True)"
      ]
     },
     "execution_count": 105,
     "metadata": {},
     "output_type": "execute_result"
    }
   ],
   "source": [
    "shuffle_5"
   ]
  },
  {
   "cell_type": "code",
   "execution_count": 106,
   "id": "209aec61",
   "metadata": {},
   "outputs": [
    {
     "data": {
      "text/plain": [
       "Pipeline(steps=[('splinetransformer', SplineTransformer(n_knots=4)),\n",
       "                ('ridgecv',\n",
       "                 RidgeCV(alphas=array([0. , 0.1, 0.2, 0.3, 0.4, 0.5, 0.6, 0.7, 0.8, 0.9, 1. , 1.1, 1.2,\n",
       "       1.3, 1.4, 1.5, 1.6, 1.7, 1.8, 1.9]),\n",
       "                         cv=KFold(n_splits=5, random_state=None, shuffle=True)))])"
      ]
     },
     "execution_count": 106,
     "metadata": {},
     "output_type": "execute_result"
    }
   ],
   "source": [
    "model = make_pipeline(SplineTransformer(n_knots=4, degree=3),\n",
    "                      RidgeCV(alphas=np.arange(0, 2, 0.1), cv=shuffle_5))\n",
    "model.fit(df_cluster.loc[:, (df_cluster.columns != 'price') & (df_cluster.columns != 'brand_model')], df_cluster.price)\n"
   ]
  },
  {
   "cell_type": "code",
   "execution_count": 110,
   "id": "5913179d",
   "metadata": {},
   "outputs": [
    {
     "data": {
      "text/plain": [
       "0.6537900776878136"
      ]
     },
     "execution_count": 110,
     "metadata": {},
     "output_type": "execute_result"
    }
   ],
   "source": [
    "model.score(X_train, y_train)"
   ]
  },
  {
   "cell_type": "markdown",
   "id": "d7f2eb26",
   "metadata": {},
   "source": [
    "### Lasso Splines"
   ]
  },
  {
   "cell_type": "code",
   "execution_count": 111,
   "id": "16d07a24",
   "metadata": {},
   "outputs": [
    {
     "name": "stderr",
     "output_type": "stream",
     "text": [
      "/Users/javiermazonechevarria/.pyenv/versions/3.8.9/envs/test1/lib/python3.8/site-packages/sklearn/linear_model/_coordinate_descent.py:631: UserWarning: Coordinate descent with alpha=0 may lead to unexpected results and is discouraged.\n",
      "  model = cd_fast.enet_coordinate_descent_gram(\n",
      "/Users/javiermazonechevarria/.pyenv/versions/3.8.9/envs/test1/lib/python3.8/site-packages/sklearn/linear_model/_coordinate_descent.py:631: ConvergenceWarning: Objective did not converge. You might want to increase the number of iterations. Duality gap: 48327570823.76523, tolerance: 28890846.569023542\n",
      "  model = cd_fast.enet_coordinate_descent_gram(\n",
      "/Users/javiermazonechevarria/.pyenv/versions/3.8.9/envs/test1/lib/python3.8/site-packages/sklearn/linear_model/_coordinate_descent.py:631: UserWarning: Coordinate descent with alpha=0 may lead to unexpected results and is discouraged.\n",
      "  model = cd_fast.enet_coordinate_descent_gram(\n",
      "/Users/javiermazonechevarria/.pyenv/versions/3.8.9/envs/test1/lib/python3.8/site-packages/sklearn/linear_model/_coordinate_descent.py:631: ConvergenceWarning: Objective did not converge. You might want to increase the number of iterations. Duality gap: 50046560051.544556, tolerance: 29552588.497279815\n",
      "  model = cd_fast.enet_coordinate_descent_gram(\n",
      "/Users/javiermazonechevarria/.pyenv/versions/3.8.9/envs/test1/lib/python3.8/site-packages/sklearn/linear_model/_coordinate_descent.py:631: UserWarning: Coordinate descent with alpha=0 may lead to unexpected results and is discouraged.\n",
      "  model = cd_fast.enet_coordinate_descent_gram(\n",
      "/Users/javiermazonechevarria/.pyenv/versions/3.8.9/envs/test1/lib/python3.8/site-packages/sklearn/linear_model/_coordinate_descent.py:631: ConvergenceWarning: Objective did not converge. You might want to increase the number of iterations. Duality gap: 47972338406.37933, tolerance: 28861522.73377978\n",
      "  model = cd_fast.enet_coordinate_descent_gram(\n",
      "/Users/javiermazonechevarria/.pyenv/versions/3.8.9/envs/test1/lib/python3.8/site-packages/sklearn/linear_model/_coordinate_descent.py:631: UserWarning: Coordinate descent with alpha=0 may lead to unexpected results and is discouraged.\n",
      "  model = cd_fast.enet_coordinate_descent_gram(\n",
      "/Users/javiermazonechevarria/.pyenv/versions/3.8.9/envs/test1/lib/python3.8/site-packages/sklearn/linear_model/_coordinate_descent.py:631: ConvergenceWarning: Objective did not converge. You might want to increase the number of iterations. Duality gap: 50366714681.677795, tolerance: 29490926.785380397\n",
      "  model = cd_fast.enet_coordinate_descent_gram(\n",
      "/Users/javiermazonechevarria/.pyenv/versions/3.8.9/envs/test1/lib/python3.8/site-packages/sklearn/linear_model/_coordinate_descent.py:631: UserWarning: Coordinate descent with alpha=0 may lead to unexpected results and is discouraged.\n",
      "  model = cd_fast.enet_coordinate_descent_gram(\n",
      "/Users/javiermazonechevarria/.pyenv/versions/3.8.9/envs/test1/lib/python3.8/site-packages/sklearn/linear_model/_coordinate_descent.py:631: ConvergenceWarning: Objective did not converge. You might want to increase the number of iterations. Duality gap: 49810869275.092316, tolerance: 29878774.625954974\n",
      "  model = cd_fast.enet_coordinate_descent_gram(\n"
     ]
    },
    {
     "data": {
      "text/plain": [
       "Pipeline(steps=[('splinetransformer', SplineTransformer(n_knots=4)),\n",
       "                ('lassocv',\n",
       "                 LassoCV(alphas=array([0. , 0.1, 0.2, 0.3, 0.4, 0.5, 0.6, 0.7, 0.8, 0.9, 1. , 1.1, 1.2,\n",
       "       1.3, 1.4, 1.5, 1.6, 1.7, 1.8, 1.9]),\n",
       "                         cv=KFold(n_splits=5, random_state=None, shuffle=True)))])"
      ]
     },
     "execution_count": 111,
     "metadata": {},
     "output_type": "execute_result"
    }
   ],
   "source": [
    "model = make_pipeline(SplineTransformer(n_knots=4, degree=3),\n",
    "                      LassoCV(alphas=np.arange(0, 2, 0.1), cv=shuffle_5))\n",
    "model.fit(df_cluster.loc[:, (df_cluster.columns != 'price') & (df_cluster.columns != 'brand_model')], df_cluster.price)\n",
    "\n"
   ]
  },
  {
   "cell_type": "code",
   "execution_count": 112,
   "id": "55727a47",
   "metadata": {},
   "outputs": [
    {
     "data": {
      "text/plain": [
       "0.6672303796601098"
      ]
     },
     "execution_count": 112,
     "metadata": {},
     "output_type": "execute_result"
    }
   ],
   "source": [
    "model.score(X_train, y_train)"
   ]
  },
  {
   "cell_type": "code",
   "execution_count": 113,
   "id": "b052cb45",
   "metadata": {},
   "outputs": [
    {
     "ename": "AttributeError",
     "evalue": "'Pipeline' object has no attribute 'alpha_'",
     "output_type": "error",
     "traceback": [
      "\u001b[0;31m---------------------------------------------------------------------------\u001b[0m",
      "\u001b[0;31mAttributeError\u001b[0m                            Traceback (most recent call last)",
      "\u001b[0;32m/var/folders/d7/yfvx_qgn57dch5dhs851htmh0000gn/T/ipykernel_9559/300576962.py\u001b[0m in \u001b[0;36m<module>\u001b[0;34m\u001b[0m\n\u001b[0;32m----> 1\u001b[0;31m \u001b[0mmodel\u001b[0m\u001b[0;34m.\u001b[0m\u001b[0malpha_\u001b[0m\u001b[0;34m\u001b[0m\u001b[0;34m\u001b[0m\u001b[0m\n\u001b[0m",
      "\u001b[0;31mAttributeError\u001b[0m: 'Pipeline' object has no attribute 'alpha_'"
     ]
    }
   ],
   "source": [
    "model.alpha_"
   ]
  },
  {
   "cell_type": "code",
   "execution_count": null,
   "id": "b6437fcc",
   "metadata": {},
   "outputs": [],
   "source": []
  }
 ],
 "metadata": {
  "kernelspec": {
   "display_name": "Python 3 (ipykernel)",
   "language": "python",
   "name": "python3"
  },
  "language_info": {
   "codemirror_mode": {
    "name": "ipython",
    "version": 3
   },
   "file_extension": ".py",
   "mimetype": "text/x-python",
   "name": "python",
   "nbconvert_exporter": "python",
   "pygments_lexer": "ipython3",
   "version": "3.8.9"
  }
 },
 "nbformat": 4,
 "nbformat_minor": 5
}
